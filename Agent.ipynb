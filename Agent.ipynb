{
 "cells": [
  {
   "cell_type": "code",
   "execution_count": 2,
   "metadata": {},
   "outputs": [
    {
     "data": {
      "text/plain": [
       "True"
      ]
     },
     "execution_count": 2,
     "metadata": {},
     "output_type": "execute_result"
    }
   ],
   "source": [
    "from agent.dspy_agent import OpenBBAgentChroma\n",
    "from agent.database import load_database, build_database, build_docs_metadata, build_graph\n",
    "from dotenv import load_dotenv,find_dotenv\n",
    "import os\n",
    "load_dotenv(find_dotenv(),override=True)"
   ]
  },
  {
   "cell_type": "code",
   "execution_count": 3,
   "metadata": {},
   "outputs": [],
   "source": [
    "openbb_graph,router_names = build_graph()\n",
    "docs,metadata = build_docs_metadata(openbb_graph)"
   ]
  },
  {
   "cell_type": "code",
   "execution_count": 4,
   "metadata": {},
   "outputs": [
    {
     "data": {
      "text/plain": [
       "(337, 337)"
      ]
     },
     "execution_count": 4,
     "metadata": {},
     "output_type": "execute_result"
    }
   ],
   "source": [
    "len(docs),len(metadata)"
   ]
  },
  {
   "cell_type": "code",
   "execution_count": 5,
   "metadata": {},
   "outputs": [],
   "source": [
    "# build_database(docs,metadata,os.environ['OPENAI_API_KEY'])"
   ]
  },
  {
   "cell_type": "code",
   "execution_count": 6,
   "metadata": {},
   "outputs": [],
   "source": [
    "openbb_collection = load_database(os.environ['OPENAI_API_KEY'])"
   ]
  },
  {
   "cell_type": "code",
   "execution_count": 7,
   "metadata": {},
   "outputs": [],
   "source": [
    "obb_chroma = OpenBBAgentChroma(openbb_collection)"
   ]
  },
  {
   "cell_type": "code",
   "execution_count": 10,
   "metadata": {},
   "outputs": [
    {
     "name": "stdout",
     "output_type": "stream",
     "text": [
      "\u001b[92mFirst level string: crypto: Get historical price data for cryptocurrency pair(s) within a provider. Search available cryptocurrency pairs within a provider. \n",
      "\n",
      "currency: Currency Historical Price. Currency historical data.  Currency historical prices refer to the past exchange rates of one currency against another over a specific period. This data provides insight into the fluctuations and trends in the foreign exchange market, helping analysts, traders, and economists understand currency performance, evaluate economic health, and make predictions about future movements. Currency Search.  Search available currency pairs. Currency pairs are the national currencies from two countries coupled for trading on the foreign exchange (FX) marketplace. Both currencies will have exchange rates on which the trade will have its position basis. All trading within the forex market, whether selling, buying, or trading, will take place through currency pairs. (ref: Investopedia) Major currency pairs include pairs such as EUR/USD, USD/JPY, GBP/USD, etc. Snapshots of currency exchange rates from an indirect or direct perspective of a base currency. \n",
      "\n",
      "derivatives: Get the complete options chain for a ticker. Historical futures prices. Futures Term Structure, current or historical. \n",
      "\n",
      "equity: Get historical and upcoming initial public offerings (IPOs). Get historical and upcoming dividend payments. Includes dividend amount, ex-dividend and payment dates. Get historical and upcoming stock split operations. Get historical and upcoming company earnings releases. Includes earnings per share (EPS) and revenue data. Get the closest peers for a given company.  Peers consist of companies trading on the same exchange, operating within the same sector and with comparable market capitalizations. Get analyst price targets by company. Get historical analyst estimates for earnings and revenue. Get consensus price target and recommendation. Search for specific analysts and get their forecast track record. Get forward sales estimates. Get forward EPS estimates. Get the top price gainers in the stock market. Get the top price losers in the stock market. Get the most actively traded stocks based on volume. Get potentially undervalued large cap stocks. Get potentially undervalued growth stocks. Get top small cap stocks based on earnings growth. Get top tech stocks based on revenue and earnings growth. Get the URLs to SEC filings reported to EDGAR database, such as 10-K, 10-Q, 8-K, and more.  SEC filings include Form 10-K, Form 10-Q, Form 8-K, the proxy statement, Forms 3, 4, and 5, Schedule 13, Form 114, Foreign Investment Disclosures and others. The annual 10-K report is required to be filed annually and includes the company's financial statements, management discussion and analysis, and audited financial statements. Get equity valuation multiples for a given company. Get the balance sheet for a given company. Get the growth of a company's balance sheet items over time. Get the cash flow statement for a given company. Get financial statements as reported by the company. Get the growth of a company's cash flow statement items over time. Get historical dividend data for a given company. Get historical earnings per share data for a given company. Get historical employee count data for a given company. Search Intrinio data tags to search in latest or historical attributes. Get the latest value of a data tag from Intrinio. Get the historical values of a data tag from Intrinio. Get the income statement for a given company. Get the growth of a company's income statement items over time. Get fundamental metrics for a given company. Get executive management team data for a given company. Get executive management team compensation for a given company over time. Get an extensive set of financial and accounting ratios for a given company over time. Get the revenue geographic breakdown for a given company over time. Get the revenue breakdown by business segment for a given company over time. Get historical stock splits for a given company. Get earnings call transcripts for a given company. Get the 1 year trailing dividend yield for a given company over time. Get data about major holders for a given company over time. Get data about institutional ownership for a given company over time. Get data about trading by a company's management team and board of directors. \n",
      "\n",
      "etf: Search for ETFs.  An empty query returns the full list of ETFs from the provider. ETF Historical Market Price. ETF Information Overview. ETF Sector weighting. ETF Country weighting. Price performance as a return, over different periods. Get the holdings for an individual ETF. Use this function to get the holdings dates, if available. Get the recent price performance of each ticker held in the ETF. Get the exposure to ETFs for a specific stock. \n",
      "\n",
      "\u001b[0m\n",
      "\u001b[92mFirst level answer: crypto\u001b[0m\n",
      "\u001b[93mCurrent Trail: ['crypto'] and level: 2\u001b[0m\n",
      "\u001b[91mSubsequent level 2 string to LLM: search: Search available cryptocurrency pairs within a provider. \n",
      "\n",
      "price: Get historical price data for cryptocurrency pair(s) within a provider. \n",
      "\n",
      "\u001b[0m\n",
      "\u001b[94mLLM Answer: Prediction(\n",
      "    rationale='produce the output. We are looking for information about a specific cryptocurrency pair, which falls under the category of searching for available cryptocurrency pairs.',\n",
      "    output='search'\n",
      ")\u001b[0m\n",
      "\u001b[93mCurrent Trail: ['crypto-->search'] and level: 3\u001b[0m\n"
     ]
    }
   ],
   "source": [
    "funcs,prompts = obb_chroma(\"What is the cryptocurrency pair of Ethereum\")"
   ]
  },
  {
   "cell_type": "code",
   "execution_count": 11,
   "metadata": {},
   "outputs": [
    {
     "data": {
      "text/plain": [
       "[{'ids': ['id152'],\n",
       "  'embeddings': None,\n",
       "  'metadatas': [{'function_call': '{\\'name\\': \\'obb-crypto-search_fmp\\', \\'description\\': \\'Search available cryptocurrency pairs within a provider.\\', \\'parameters\\': {\\'type\\': \\'object\\', \\'properties\\': {\\'query\\': {\\'type\\': \\'string\\', \\'description\\': \\'Search query.\\', \\'default\\': None}, \\'provider\\': {\\'description\\': \"The provider to use for the query, by default None. If None, the provider specified in defaults is selected or \\'fmp\\' if there is no default.\", \\'default\\': \\'fmp\\', \\'type\\': \\'string\\', \\'enum\\': [\\'fmp\\']}}, \\'required\\': [\\'provider\\']}}',\n",
       "    'node_name': 'obb-crypto-search_fmp',\n",
       "    'provider_source': 'fmp',\n",
       "    'trail': 'crypto-->search',\n",
       "    'type': 'provider_function'}],\n",
       "  'documents': ['empty'],\n",
       "  'uris': None,\n",
       "  'data': None}]"
      ]
     },
     "execution_count": 11,
     "metadata": {},
     "output_type": "execute_result"
    }
   ],
   "source": [
    "funcs"
   ]
  },
  {
   "cell_type": "code",
   "execution_count": 8,
   "metadata": {},
   "outputs": [],
   "source": [
    "from openbb import obb\n",
    "obb.account.login(pat=os.environ['OBB_PAT'])"
   ]
  },
  {
   "cell_type": "code",
   "execution_count": 14,
   "metadata": {},
   "outputs": [],
   "source": [
    "from typing import List\n",
    "from agent.function_call import run_function_calling, format_function\n",
    "def run_main_function_callinng(question:str,provider_list:List[str]=[]):\n",
    "    funcs,prompts = obb_chroma(question)\n",
    "    print(funcs)\n",
    "    provider_sources = [fn['provider_source'] for fn in funcs[0]['metadatas']]\n",
    "    if provider_list != []:\n",
    "        valid_providers = [sources for sources in provider_sources if sources in provider_list]\n",
    "    else:\n",
    "        valid_providers = provider_sources\n",
    "    \n",
    "    return funcs,valid_providers\n",
    "    # resp = run_function_calling(funcs,valid_providers[0],question)\n",
    "    # print(resp)\n",
    "    # final_func = format_function(resp)\n",
    "    # return final_func"
   ]
  },
  {
   "cell_type": "code",
   "execution_count": 15,
   "metadata": {},
   "outputs": [
    {
     "name": "stdout",
     "output_type": "stream",
     "text": [
      "\u001b[92mFirst level string: derivatives: Get the complete options chain for a ticker. Historical futures prices. Futures Term Structure, current or historical. \n",
      "\n",
      "economy: Get Forecasted GDP Data. Get Nominal GDP Data. Get Real GDP Data. Get the upcoming, or historical, economic calendar of global events. Get Consumer Price Index (CPI).  Returns either the rescaled index value, or a rate of change (inflation). Get Market Risk Premium by country. Search for FRED series or economic releases by ID or string.  This does not return the observation values, only the metadata. Use this function to find series IDs for `fred_series()`. Get data by series ID from FRED. Get Money Measures (M1/M2 and components).  The Federal Reserve publishes as part of the H.6 Release. Get global unemployment data. Use the composite leading indicator (CLI).  It is designed to provide early signals of turning points in business cycles showing fluctuation of the economic activity around its long term potential level.  CLIs show short-term economic movements in qualitative rather than quantitative terms. Get Short-term interest rates.  They are the rates at which short-term borrowings are effected between financial institutions or the rate at which short-term government paper is issued or traded in the market.  Short-term interest rates are generally averages of daily rates, measured as a percentage. Short-term interest rates are based on three-month money market rates where available. Typical standardised names are \"money market rate\" and \"treasury bill rate\". Get Long-term interest rates that refer to government bonds maturing in ten years.  Rates are mainly determined by the price charged by the lender, the risk from the borrower and the fall in the capital value. Long-term interest rates are generally averages of daily rates, measured as a percentage. These interest rates are implied by the prices at which the government bonds are traded on financial markets, not the interest rates at which the loans were issued. In all cases, they refer to bonds whose capital repayment is guaranteed by governments. Long-term interest rates are one of the determinants of business investment. Low long-term interest rates encourage investment in new equipment and high interest rates discourage it. Investment is, in turn, a major source of economic growth. Query the Geo Fred API for regional economic data by series group.  The series group ID is found by using `fred_search` and the `series_id` parameter. \n",
      "\n",
      "currency: Currency Historical Price. Currency historical data.  Currency historical prices refer to the past exchange rates of one currency against another over a specific period. This data provides insight into the fluctuations and trends in the foreign exchange market, helping analysts, traders, and economists understand currency performance, evaluate economic health, and make predictions about future movements. Currency Search.  Search available currency pairs. Currency pairs are the national currencies from two countries coupled for trading on the foreign exchange (FX) marketplace. Both currencies will have exchange rates on which the trade will have its position basis. All trading within the forex market, whether selling, buying, or trading, will take place through currency pairs. (ref: Investopedia) Major currency pairs include pairs such as EUR/USD, USD/JPY, GBP/USD, etc. Snapshots of currency exchange rates from an indirect or direct perspective of a base currency. \n",
      "\n",
      "crypto: Get historical price data for cryptocurrency pair(s) within a provider. Search available cryptocurrency pairs within a provider. \n",
      "\n",
      "fixedincome: Treasury Constant Maturity.  Get data for 10-Year Treasury Constant Maturity Minus Selected Treasury Constant Maturity. Constant maturity is the theoretical value of a U.S. Treasury that is based on recent values of auctioned U.S. Treasuries. The value is obtained by the U.S. Treasury on a daily basis through interpolation of the Treasury yield curve which, in turn, is based on closing bid-yields of actively-traded Treasury securities.Select Treasury Constant Maturity.  Get data for Selected Treasury Constant Maturity Minus Federal Funds Rate Constant maturity is the theoretical value of a U.S. Treasury that is based on recent values of auctioned U.S. Treasuries. The value is obtained by the U.S. Treasury on a daily basis through interpolation of the Treasury yield curve which, in turn, is based on closing bid-yields of actively-traded Treasury securities. Select Treasury Bill.  Get Selected Treasury Bill Minus Federal Funds Rate. Constant maturity is the theoretical value of a U.S. Treasury that is based on recent values of auctioned U.S. Treasuries. The value is obtained by the U.S. Treasury on a daily basis through interpolation of the Treasury yield curve which, in turn, is based on closing bid-yields of actively-traded Treasury securities. US Yield Curve. Get United States yield curve. Government Treasury Rates. ICE BofA US Corporate Bond Indices.  The ICE BofA US Corporate Index tracks the performance of US dollar denominated investment grade corporate debt publicly issued in the US domestic market. Qualifying securities must have an investment grade rating (based on an average of Moody’s, S&P and Fitch), at least 18 months to final maturity at the time of issuance, at least one year remaining term to final maturity as of the rebalance date, a fixed coupon schedule and a minimum amount outstanding of $250 million. The ICE BofA US Corporate Index is a component of the US Corporate Master Index. Moody Corporate Bond Index.  Moody's Aaa and Baa are investment bonds that acts as an index of the performance of all bonds given an Aaa or Baa rating by Moody's Investors Service respectively. These corporate bonds often are used in macroeconomics as an alternative to the federal ten-year Treasury Bill as an indicator of the interest rate. High Quality Market Corporate Bond.  The HQM yield curve represents the high quality corporate bond market, i.e., corporate bonds rated AAA, AA, or A.  The HQM curve contains two regression terms. These terms are adjustment factors that blend AAA, AA, and A bonds into a single HQM yield curve that is the market-weighted average (MWA) quality of high quality bonds. Spot Rates.  The spot rates for any maturity is the yield on a bond that provides a single payment at that maturity. This is a zero coupon bond. Because each spot rate pertains to a single cashflow, it is the relevant interest rate concept for discounting a pension liability at the same maturity. \n",
      "\n",
      "\u001b[0m\n",
      "\u001b[92mFirst level answer: derivatives\u001b[0m\n",
      "\u001b[93mCurrent Trail: ['derivatives'] and level: 2\u001b[0m\n",
      "\u001b[91mSubsequent level 2 string to LLM: futures: Historical futures prices. Futures Term Structure, current or historical. \n",
      "\n",
      "options: Get the complete options chain for a ticker. \n",
      "\n",
      "\u001b[0m\n",
      "\u001b[94mLLM Answer: Prediction(\n",
      "    rationale='produce the output. We can see that the query is asking for the futures prices of Gold. The key \"futures\" is directly related to historical futures prices, so it is the relevant key in this case.',\n",
      "    output='futures'\n",
      ")\u001b[0m\n",
      "\u001b[93mCurrent Trail: ['derivatives-->futures'] and level: 3\u001b[0m\n",
      "\u001b[91mSubsequent level 3 string to LLM: historical: Historical futures prices. \n",
      "\n",
      "curve: Futures Term Structure, current or historical. \n",
      "\n",
      "\u001b[0m\n",
      "\u001b[94mLLM Answer: Prediction(\n",
      "    rationale='produce the output. We can see that the query is asking for the future prices of Gold, which falls under the category of futures prices.',\n",
      "    output='historical; curve'\n",
      ")\u001b[0m\n",
      "\u001b[93mCurrent Trail: ['derivatives-->futures-->curve', 'derivatives-->futures-->historical'] and level: 4\u001b[0m\n",
      "[{'ids': ['id163'], 'embeddings': None, 'metadatas': [{'function_call': '{\\'name\\': \\'obb-derivatives-futures-historical_yfinance\\', \\'description\\': \\'Historical futures prices.\\', \\'parameters\\': {\\'type\\': \\'object\\', \\'properties\\': {\\'symbol\\': {\\'type\\': \\'string\\', \\'description\\': \\'Symbol to get data for. Multiple items allowed for provider(s): yfinance.\\', \\'default\\': \\'\\'}, \\'start_date\\': {\\'type\\': \\'string\\', \\'description\\': \\'Start date of the data, in YYYY-MM-DD format.\\', \\'default\\': None}, \\'end_date\\': {\\'type\\': \\'string\\', \\'description\\': \\'End date of the data, in YYYY-MM-DD format.\\', \\'default\\': None}, \\'expiration\\': {\\'type\\': \\'string\\', \\'description\\': \\'Future expiry date with format YYYY-MM\\', \\'default\\': None}, \\'provider\\': {\\'description\\': \"The provider to use for the query, by default None. If None, the provider specified in defaults is selected or \\'yfinance\\' if there is no default.\", \\'default\\': \\'yfinance\\', \\'type\\': \\'string\\', \\'enum\\': [\\'yfinance\\']}, \\'interval\\': {\\'description\\': \\'Time interval of the data to return.\\', \\'default\\': \\'1d\\', \\'type\\': \\'string\\', \\'enum\\': [\\'1m\\', \\'2m\\', \\'5m\\', \\'15m\\', \\'30m\\', \\'60m\\', \\'90m\\', \\'1h\\', \\'1d\\', \\'5d\\', \\'1W\\', \\'1M\\', \\'1Q\\']}}, \\'required\\': [\\'symbol\\', \\'provider\\']}}', 'node_name': 'obb-derivatives-futures-historical_yfinance', 'provider_source': 'yfinance', 'trail': 'derivatives-->futures-->historical', 'type': 'provider_function'}], 'documents': ['empty'], 'uris': None, 'data': None}]\n"
     ]
    }
   ],
   "source": [
    "funcs,valid_providers = run_main_function_callinng(\"I want the futures Gold prices\")"
   ]
  },
  {
   "cell_type": "code",
   "execution_count": 37,
   "metadata": {},
   "outputs": [
    {
     "data": {
      "text/plain": [
       "[{'ids': ['id163'],\n",
       "  'embeddings': None,\n",
       "  'metadatas': [{'function_call': '{\\'name\\': \\'obb-derivatives-futures-historical_yfinance\\', \\'description\\': \\'Historical futures prices.\\', \\'parameters\\': {\\'type\\': \\'object\\', \\'properties\\': {\\'symbol\\': {\\'type\\': \\'string\\', \\'description\\': \\'Symbol to get data for. Multiple items allowed for provider(s): yfinance.\\', \\'default\\': \\'\\'}, \\'start_date\\': {\\'type\\': \\'string\\', \\'description\\': \\'Start date of the data, in YYYY-MM-DD format.\\', \\'default\\': None}, \\'end_date\\': {\\'type\\': \\'string\\', \\'description\\': \\'End date of the data, in YYYY-MM-DD format.\\', \\'default\\': None}, \\'expiration\\': {\\'type\\': \\'string\\', \\'description\\': \\'Future expiry date with format YYYY-MM\\', \\'default\\': None}, \\'provider\\': {\\'description\\': \"The provider to use for the query, by default None. If None, the provider specified in defaults is selected or \\'yfinance\\' if there is no default.\", \\'default\\': \\'yfinance\\', \\'type\\': \\'string\\', \\'enum\\': [\\'yfinance\\']}, \\'interval\\': {\\'description\\': \\'Time interval of the data to return.\\', \\'default\\': \\'1d\\', \\'type\\': \\'string\\', \\'enum\\': [\\'1m\\', \\'2m\\', \\'5m\\', \\'15m\\', \\'30m\\', \\'60m\\', \\'90m\\', \\'1h\\', \\'1d\\', \\'5d\\', \\'1W\\', \\'1M\\', \\'1Q\\']}}, \\'required\\': [\\'symbol\\', \\'provider\\']}}',\n",
       "    'node_name': 'obb-derivatives-futures-historical_yfinance',\n",
       "    'provider_source': 'yfinance',\n",
       "    'trail': 'derivatives-->futures-->historical',\n",
       "    'type': 'provider_function'}],\n",
       "  'documents': ['empty'],\n",
       "  'uris': None,\n",
       "  'data': None}]"
      ]
     },
     "execution_count": 37,
     "metadata": {},
     "output_type": "execute_result"
    }
   ],
   "source": [
    "funcs"
   ]
  },
  {
   "cell_type": "code",
   "execution_count": 38,
   "metadata": {},
   "outputs": [],
   "source": [
    "import ast\n",
    "for func in funcs:\n",
    "    if func != []:\n",
    "        for meta in func[\"metadatas\"]:\n",
    "            if meta[\"provider_source\"] == valid_providers[0]:\n",
    "                function_call = ast.literal_eval(meta[\"function_call\"])\n",
    "                function_call[\"name\"] = function_call[\"name\"].rpartition(\"_\")[0]\n",
    "                break"
   ]
  },
  {
   "cell_type": "code",
   "execution_count": 39,
   "metadata": {},
   "outputs": [
    {
     "data": {
      "text/plain": [
       "{'name': 'obb-derivatives-futures-historical',\n",
       " 'description': 'Historical futures prices.',\n",
       " 'parameters': {'type': 'object',\n",
       "  'properties': {'symbol': {'type': 'string',\n",
       "    'description': 'Symbol to get data for. Multiple items allowed for provider(s): yfinance.',\n",
       "    'default': ''},\n",
       "   'start_date': {'type': 'string',\n",
       "    'description': 'Start date of the data, in YYYY-MM-DD format.',\n",
       "    'default': None},\n",
       "   'end_date': {'type': 'string',\n",
       "    'description': 'End date of the data, in YYYY-MM-DD format.',\n",
       "    'default': None},\n",
       "   'expiration': {'type': 'string',\n",
       "    'description': 'Future expiry date with format YYYY-MM',\n",
       "    'default': None},\n",
       "   'provider': {'description': \"The provider to use for the query, by default None. If None, the provider specified in defaults is selected or 'yfinance' if there is no default.\",\n",
       "    'default': 'yfinance',\n",
       "    'type': 'string',\n",
       "    'enum': ['yfinance']},\n",
       "   'interval': {'description': 'Time interval of the data to return.',\n",
       "    'default': '1d',\n",
       "    'type': 'string',\n",
       "    'enum': ['1m',\n",
       "     '2m',\n",
       "     '5m',\n",
       "     '15m',\n",
       "     '30m',\n",
       "     '60m',\n",
       "     '90m',\n",
       "     '1h',\n",
       "     '1d',\n",
       "     '5d',\n",
       "     '1W',\n",
       "     '1M',\n",
       "     '1Q']}},\n",
       "  'required': ['symbol', 'provider']}}"
      ]
     },
     "execution_count": 39,
     "metadata": {},
     "output_type": "execute_result"
    }
   ],
   "source": [
    "function_call"
   ]
  },
  {
   "cell_type": "code",
   "execution_count": 62,
   "metadata": {},
   "outputs": [],
   "source": [
    "from langchain_openai import ChatOpenAI\n",
    "from langchain.prompts import ChatPromptTemplate\n",
    "\n",
    "prompt = ChatPromptTemplate.from_messages([(\"human\", \"{input}\"),(\"system\",\"You can write functions from the given tool. Double check your response with correct parameter names and values. Also, check for any invalid parameter values. Also, write a python function to save the output of the code.\")])\n",
    "\n",
    "model = ChatOpenAI(temperature=0,model=\"gpt-3.5-turbo\").bind(\n",
    "    functions=[function_call], function_call={\"name\": function_call[\"name\"]}\n",
    ")\n",
    "runnable = prompt | model\n",
    "resp = runnable.invoke({\"input\": \"I want the futures Gold prices\"})"
   ]
  },
  {
   "cell_type": "code",
   "execution_count": 63,
   "metadata": {},
   "outputs": [
    {
     "data": {
      "text/plain": [
       "AIMessage(content='', additional_kwargs={'function_call': {'arguments': '{\"symbol\":\"GC=F\",\"provider\":\"yfinance\"}', 'name': 'obb-derivatives-futures-historical'}}, response_metadata={'token_usage': {'completion_tokens': 11, 'prompt_tokens': 333, 'total_tokens': 344}, 'model_name': 'gpt-3.5-turbo', 'system_fingerprint': None, 'finish_reason': 'stop', 'logprobs': None}, id='run-c9fd82c0-8877-43a7-aa22-ad8567f8db71-0')"
      ]
     },
     "execution_count": 63,
     "metadata": {},
     "output_type": "execute_result"
    }
   ],
   "source": [
    "resp"
   ]
  },
  {
   "cell_type": "code",
   "execution_count": 43,
   "metadata": {},
   "outputs": [],
   "source": [
    "def format_function(function_response):\n",
    "    obb_func = function_response.additional_kwargs[\"function_call\"]\n",
    "    obb_func_name = obb_func[\"name\"]\n",
    "    obb_func_name = \".\".join(obb_func_name.split(\"-\")) + \"(\"\n",
    "    args_dict = ast.literal_eval(obb_func[\"arguments\"])\n",
    "    for arg, val in args_dict.items():\n",
    "        if isinstance(val,str):\n",
    "            val = f\"'{val}'\"\n",
    "        obb_func_name += f\"{arg}={val},\"\n",
    "    obb_func_name = obb_func_name[:-1] + \")\"\n",
    "    final_func = \"from openbb import obb\\n\" + obb_func_name\n",
    "    return final_func\n",
    "\n",
    "obb_func = format_function(resp)"
   ]
  },
  {
   "cell_type": "code",
   "execution_count": 45,
   "metadata": {},
   "outputs": [
    {
     "name": "stdout",
     "output_type": "stream",
     "text": [
      "\n",
      "```python\n",
      "from openbb import obb\n",
      "obb.derivatives.futures.historical(symbol='GC=F',provider='yfinance')\n",
      "```\n",
      "\n"
     ]
    }
   ],
   "source": [
    "python_func = f\"\"\"\n",
    "```python\n",
    "{obb_func}\n",
    "```\n",
    "\"\"\"\n",
    "print(python_func)"
   ]
  },
  {
   "cell_type": "code",
   "execution_count": 49,
   "metadata": {},
   "outputs": [],
   "source": [
    "obb_func = \"from openbb import obb\\nobb.derivatives.futures.historical(symbol='GC',provider='yfinance')\""
   ]
  },
  {
   "cell_type": "code",
   "execution_count": 50,
   "metadata": {},
   "outputs": [
    {
     "name": "stdout",
     "output_type": "stream",
     "text": [
      "exit_code=0 output='' code_file='/home/athekunal/Function Calling/hierarchical-openbb-agent/coding/tmp_code_6e9cc7fb0efbd8f982215483c4db8195.py'\n"
     ]
    }
   ],
   "source": [
    "from pathlib import Path\n",
    "\n",
    "from autogen.coding import CodeBlock, LocalCommandLineCodeExecutor\n",
    "obb.user.preferences.output_type = \"dataframe\"\n",
    "\n",
    "work_dir = Path(\"coding\")\n",
    "work_dir.mkdir(exist_ok=True)\n",
    "\n",
    "executor = LocalCommandLineCodeExecutor(work_dir=work_dir)\n",
    "print(\n",
    "    executor.execute_code_blocks(\n",
    "        code_blocks=[\n",
    "            CodeBlock(language=\"python\", code=obb_func),\n",
    "        ]\n",
    "    )\n",
    ")"
   ]
  },
  {
   "cell_type": "code",
   "execution_count": 48,
   "metadata": {},
   "outputs": [
    {
     "data": {
      "text/html": [
       "<div>\n",
       "<style scoped>\n",
       "    .dataframe tbody tr th:only-of-type {\n",
       "        vertical-align: middle;\n",
       "    }\n",
       "\n",
       "    .dataframe tbody tr th {\n",
       "        vertical-align: top;\n",
       "    }\n",
       "\n",
       "    .dataframe thead th {\n",
       "        text-align: right;\n",
       "    }\n",
       "</style>\n",
       "<table border=\"1\" class=\"dataframe\">\n",
       "  <thead>\n",
       "    <tr style=\"text-align: right;\">\n",
       "      <th></th>\n",
       "      <th>open</th>\n",
       "      <th>high</th>\n",
       "      <th>low</th>\n",
       "      <th>close</th>\n",
       "      <th>volume</th>\n",
       "    </tr>\n",
       "    <tr>\n",
       "      <th>date</th>\n",
       "      <th></th>\n",
       "      <th></th>\n",
       "      <th></th>\n",
       "      <th></th>\n",
       "      <th></th>\n",
       "    </tr>\n",
       "  </thead>\n",
       "  <tbody>\n",
       "    <tr>\n",
       "      <th>2000-08-30</th>\n",
       "      <td>273.899994</td>\n",
       "      <td>273.899994</td>\n",
       "      <td>273.899994</td>\n",
       "      <td>273.899994</td>\n",
       "      <td>0.0</td>\n",
       "    </tr>\n",
       "    <tr>\n",
       "      <th>2000-08-31</th>\n",
       "      <td>274.799988</td>\n",
       "      <td>278.299988</td>\n",
       "      <td>274.799988</td>\n",
       "      <td>278.299988</td>\n",
       "      <td>0.0</td>\n",
       "    </tr>\n",
       "    <tr>\n",
       "      <th>2000-09-01</th>\n",
       "      <td>277.000000</td>\n",
       "      <td>277.000000</td>\n",
       "      <td>277.000000</td>\n",
       "      <td>277.000000</td>\n",
       "      <td>0.0</td>\n",
       "    </tr>\n",
       "    <tr>\n",
       "      <th>2000-09-05</th>\n",
       "      <td>275.799988</td>\n",
       "      <td>275.799988</td>\n",
       "      <td>275.799988</td>\n",
       "      <td>275.799988</td>\n",
       "      <td>2.0</td>\n",
       "    </tr>\n",
       "    <tr>\n",
       "      <th>2000-09-06</th>\n",
       "      <td>274.200012</td>\n",
       "      <td>274.200012</td>\n",
       "      <td>274.200012</td>\n",
       "      <td>274.200012</td>\n",
       "      <td>0.0</td>\n",
       "    </tr>\n",
       "    <tr>\n",
       "      <th>...</th>\n",
       "      <td>...</td>\n",
       "      <td>...</td>\n",
       "      <td>...</td>\n",
       "      <td>...</td>\n",
       "      <td>...</td>\n",
       "    </tr>\n",
       "    <tr>\n",
       "      <th>2024-05-29</th>\n",
       "      <td>2340.300049</td>\n",
       "      <td>2340.300049</td>\n",
       "      <td>2340.300049</td>\n",
       "      <td>2340.300049</td>\n",
       "      <td>119317.0</td>\n",
       "    </tr>\n",
       "    <tr>\n",
       "      <th>2024-05-30</th>\n",
       "      <td>2336.899902</td>\n",
       "      <td>2349.500000</td>\n",
       "      <td>2320.800049</td>\n",
       "      <td>2342.899902</td>\n",
       "      <td>32587.0</td>\n",
       "    </tr>\n",
       "    <tr>\n",
       "      <th>2024-05-31</th>\n",
       "      <td>2344.100098</td>\n",
       "      <td>2354.000000</td>\n",
       "      <td>2319.000000</td>\n",
       "      <td>2322.899902</td>\n",
       "      <td>941.0</td>\n",
       "    </tr>\n",
       "    <tr>\n",
       "      <th>2024-06-03</th>\n",
       "      <td>2322.600098</td>\n",
       "      <td>2347.500000</td>\n",
       "      <td>2312.000000</td>\n",
       "      <td>2346.600098</td>\n",
       "      <td>941.0</td>\n",
       "    </tr>\n",
       "    <tr>\n",
       "      <th>2024-06-04</th>\n",
       "      <td>2371.300049</td>\n",
       "      <td>2373.100098</td>\n",
       "      <td>2335.100098</td>\n",
       "      <td>2346.500000</td>\n",
       "      <td>165506.0</td>\n",
       "    </tr>\n",
       "  </tbody>\n",
       "</table>\n",
       "<p>5962 rows × 5 columns</p>\n",
       "</div>"
      ],
      "text/plain": [
       "                   open         high          low        close    volume\n",
       "date                                                                    \n",
       "2000-08-30   273.899994   273.899994   273.899994   273.899994       0.0\n",
       "2000-08-31   274.799988   278.299988   274.799988   278.299988       0.0\n",
       "2000-09-01   277.000000   277.000000   277.000000   277.000000       0.0\n",
       "2000-09-05   275.799988   275.799988   275.799988   275.799988       2.0\n",
       "2000-09-06   274.200012   274.200012   274.200012   274.200012       0.0\n",
       "...                 ...          ...          ...          ...       ...\n",
       "2024-05-29  2340.300049  2340.300049  2340.300049  2340.300049  119317.0\n",
       "2024-05-30  2336.899902  2349.500000  2320.800049  2342.899902   32587.0\n",
       "2024-05-31  2344.100098  2354.000000  2319.000000  2322.899902     941.0\n",
       "2024-06-03  2322.600098  2347.500000  2312.000000  2346.600098     941.0\n",
       "2024-06-04  2371.300049  2373.100098  2335.100098  2346.500000  165506.0\n",
       "\n",
       "[5962 rows x 5 columns]"
      ]
     },
     "execution_count": 48,
     "metadata": {},
     "output_type": "execute_result"
    }
   ],
   "source": [
    "obb.user.preferences.output_type = \"dataframe\"\n"
   ]
  },
  {
   "cell_type": "code",
   "execution_count": 59,
   "metadata": {},
   "outputs": [],
   "source": [
    "code_block = CodeBlock(language=\"python\", code=obb_func)"
   ]
  },
  {
   "cell_type": "code",
   "execution_count": 60,
   "metadata": {},
   "outputs": [],
   "source": [
    "from autogen.coding import CodeBlock, CodeExecutor, CodeExtractor, CodeResult, MarkdownCodeExtractor\n",
    "from typing import List\n",
    "\n",
    "from IPython import get_ipython\n",
    "\n",
    "class NotebookExecutor(CodeExecutor):\n",
    "\n",
    "    @property\n",
    "    def code_extractor(self) -> CodeExtractor:\n",
    "        # Extact code from markdown blocks.\n",
    "        return MarkdownCodeExtractor()\n",
    "\n",
    "    def __init__(self) -> None:\n",
    "        # Get the current IPython instance running in this notebook.\n",
    "        self._ipython = get_ipython()\n",
    "\n",
    "    def execute_code_blocks(self, code_blocks: List[CodeBlock]) -> CodeResult:\n",
    "        log = \"\"\n",
    "        for code_block in code_blocks:\n",
    "            result = self._ipython.run_cell(\"%%capture --no-display cap\\n\" + code_block.code)\n",
    "            log += self._ipython.ev(\"cap.stdout\")\n",
    "            log += self._ipython.ev(\"cap.stderr\")\n",
    "            if result.result is not None:\n",
    "                log += str(result.result)\n",
    "            exitcode = 0 if result.success else 1\n",
    "            if result.error_before_exec is not None:\n",
    "                log += f\"\\n{result.error_before_exec}\"\n",
    "                exitcode = 1\n",
    "            if result.error_in_exec is not None:\n",
    "                log += f\"\\n{result.error_in_exec}\"\n",
    "                exitcode = 1\n",
    "            if exitcode != 0:\n",
    "                break\n",
    "        return CodeResult(exit_code=exitcode, output=log)\n"
   ]
  },
  {
   "cell_type": "code",
   "execution_count": 61,
   "metadata": {},
   "outputs": [
    {
     "data": {
      "text/html": [
       "<div>\n",
       "<style scoped>\n",
       "    .dataframe tbody tr th:only-of-type {\n",
       "        vertical-align: middle;\n",
       "    }\n",
       "\n",
       "    .dataframe tbody tr th {\n",
       "        vertical-align: top;\n",
       "    }\n",
       "\n",
       "    .dataframe thead th {\n",
       "        text-align: right;\n",
       "    }\n",
       "</style>\n",
       "<table border=\"1\" class=\"dataframe\">\n",
       "  <thead>\n",
       "    <tr style=\"text-align: right;\">\n",
       "      <th></th>\n",
       "      <th>open</th>\n",
       "      <th>high</th>\n",
       "      <th>low</th>\n",
       "      <th>close</th>\n",
       "      <th>volume</th>\n",
       "    </tr>\n",
       "    <tr>\n",
       "      <th>date</th>\n",
       "      <th></th>\n",
       "      <th></th>\n",
       "      <th></th>\n",
       "      <th></th>\n",
       "      <th></th>\n",
       "    </tr>\n",
       "  </thead>\n",
       "  <tbody>\n",
       "    <tr>\n",
       "      <th>2000-08-30</th>\n",
       "      <td>273.899994</td>\n",
       "      <td>273.899994</td>\n",
       "      <td>273.899994</td>\n",
       "      <td>273.899994</td>\n",
       "      <td>0.0</td>\n",
       "    </tr>\n",
       "    <tr>\n",
       "      <th>2000-08-31</th>\n",
       "      <td>274.799988</td>\n",
       "      <td>278.299988</td>\n",
       "      <td>274.799988</td>\n",
       "      <td>278.299988</td>\n",
       "      <td>0.0</td>\n",
       "    </tr>\n",
       "    <tr>\n",
       "      <th>2000-09-01</th>\n",
       "      <td>277.000000</td>\n",
       "      <td>277.000000</td>\n",
       "      <td>277.000000</td>\n",
       "      <td>277.000000</td>\n",
       "      <td>0.0</td>\n",
       "    </tr>\n",
       "    <tr>\n",
       "      <th>2000-09-05</th>\n",
       "      <td>275.799988</td>\n",
       "      <td>275.799988</td>\n",
       "      <td>275.799988</td>\n",
       "      <td>275.799988</td>\n",
       "      <td>2.0</td>\n",
       "    </tr>\n",
       "    <tr>\n",
       "      <th>2000-09-06</th>\n",
       "      <td>274.200012</td>\n",
       "      <td>274.200012</td>\n",
       "      <td>274.200012</td>\n",
       "      <td>274.200012</td>\n",
       "      <td>0.0</td>\n",
       "    </tr>\n",
       "    <tr>\n",
       "      <th>...</th>\n",
       "      <td>...</td>\n",
       "      <td>...</td>\n",
       "      <td>...</td>\n",
       "      <td>...</td>\n",
       "      <td>...</td>\n",
       "    </tr>\n",
       "    <tr>\n",
       "      <th>2024-05-29</th>\n",
       "      <td>2340.300049</td>\n",
       "      <td>2340.300049</td>\n",
       "      <td>2340.300049</td>\n",
       "      <td>2340.300049</td>\n",
       "      <td>119317.0</td>\n",
       "    </tr>\n",
       "    <tr>\n",
       "      <th>2024-05-30</th>\n",
       "      <td>2336.899902</td>\n",
       "      <td>2349.500000</td>\n",
       "      <td>2320.800049</td>\n",
       "      <td>2342.899902</td>\n",
       "      <td>32587.0</td>\n",
       "    </tr>\n",
       "    <tr>\n",
       "      <th>2024-05-31</th>\n",
       "      <td>2344.100098</td>\n",
       "      <td>2354.000000</td>\n",
       "      <td>2319.000000</td>\n",
       "      <td>2322.899902</td>\n",
       "      <td>941.0</td>\n",
       "    </tr>\n",
       "    <tr>\n",
       "      <th>2024-06-03</th>\n",
       "      <td>2322.600098</td>\n",
       "      <td>2347.500000</td>\n",
       "      <td>2312.000000</td>\n",
       "      <td>2346.600098</td>\n",
       "      <td>941.0</td>\n",
       "    </tr>\n",
       "    <tr>\n",
       "      <th>2024-06-04</th>\n",
       "      <td>2371.300049</td>\n",
       "      <td>2373.100098</td>\n",
       "      <td>2335.100098</td>\n",
       "      <td>2346.399902</td>\n",
       "      <td>165859.0</td>\n",
       "    </tr>\n",
       "  </tbody>\n",
       "</table>\n",
       "<p>5962 rows × 5 columns</p>\n",
       "</div>"
      ],
      "text/plain": [
       "                   open         high          low        close    volume\n",
       "date                                                                    \n",
       "2000-08-30   273.899994   273.899994   273.899994   273.899994       0.0\n",
       "2000-08-31   274.799988   278.299988   274.799988   278.299988       0.0\n",
       "2000-09-01   277.000000   277.000000   277.000000   277.000000       0.0\n",
       "2000-09-05   275.799988   275.799988   275.799988   275.799988       2.0\n",
       "2000-09-06   274.200012   274.200012   274.200012   274.200012       0.0\n",
       "...                 ...          ...          ...          ...       ...\n",
       "2024-05-29  2340.300049  2340.300049  2340.300049  2340.300049  119317.0\n",
       "2024-05-30  2336.899902  2349.500000  2320.800049  2342.899902   32587.0\n",
       "2024-05-31  2344.100098  2354.000000  2319.000000  2322.899902     941.0\n",
       "2024-06-03  2322.600098  2347.500000  2312.000000  2346.600098     941.0\n",
       "2024-06-04  2371.300049  2373.100098  2335.100098  2346.399902  165859.0\n",
       "\n",
       "[5962 rows x 5 columns]"
      ]
     },
     "execution_count": 61,
     "metadata": {},
     "output_type": "execute_result"
    },
    {
     "data": {
      "text/plain": [
       "CodeResult(exit_code=0, output='')"
      ]
     },
     "execution_count": 61,
     "metadata": {},
     "output_type": "execute_result"
    }
   ],
   "source": [
    "notebook_executor = NotebookExecutor()\n",
    "\n",
    "notebook_executor.execute_code_blocks([code_block])"
   ]
  },
  {
   "cell_type": "code",
   "execution_count": null,
   "metadata": {},
   "outputs": [],
   "source": [
    "import ast\n",
    "from langchain_openai import ChatOpenAI\n",
    "from langchain.prompts import ChatPromptTemplate\n",
    "\n",
    "def format_function(function_response):\n",
    "    obb_func = function_response.additional_kwargs[\"function_call\"]\n",
    "    obb_func_name = obb_func[\"name\"]\n",
    "    obb_func_name = \".\".join(obb_func_name.split(\"-\")) + \"(\"\n",
    "    args_dict = ast.literal_eval(obb_func[\"arguments\"])\n",
    "    for arg, val in args_dict.items():\n",
    "        if isinstance(val,str):\n",
    "            val = f\"'{val}'\"\n",
    "        obb_func_name += f\"{arg}={val},\"\n",
    "    obb_func_name = obb_func_name[:-1] + \")\"\n",
    "    final_func = \"from openbb import obb\\n\" + obb_func_name\n",
    "    return final_func\n",
    "\n",
    "def main_function_calling(question:str,provider_list:List[str]=[]):\n",
    "    funcs,prompts = obb_chroma(question)\n",
    "    print(funcs)\n",
    "    provider_sources = [fn['provider_source'] for fn in funcs[0]['metadatas']]\n",
    "    if provider_list != []:\n",
    "        valid_providers = [sources for sources in provider_sources if sources in provider_list]\n",
    "    else:\n",
    "        valid_providers = provider_sources\n",
    "    for func in funcs:\n",
    "        if func != []:\n",
    "            for meta in func[\"metadatas\"]:\n",
    "                if meta[\"provider_source\"] == valid_providers[0]:\n",
    "                    function_call = ast.literal_eval(meta[\"function_call\"])\n",
    "                    function_call[\"name\"] = function_call[\"name\"].rpartition(\"_\")[0]\n",
    "                    break\n",
    "    \n",
    "    prompt = ChatPromptTemplate.from_messages([(\"human\", \"{input}\"),(\"system\",\"You can write functions from the given tool. Double check your response with correct parameter names and values. Also, check for any invalid parameter values\")])\n",
    "\n",
    "    model = ChatOpenAI(temperature=0,model=\"gpt-3.5-turbo\").bind(\n",
    "        functions=[function_call], function_call={\"name\": function_call[\"name\"]}\n",
    "    )\n",
    "    runnable = prompt | model\n",
    "    resp = runnable.invoke({\"input\": question})\n",
    "\n",
    "    obb_func = format_function(resp)\n",
    "    code_block = CodeBlock(language=\"python\", code=obb_func)\n",
    "    return code_block\n",
    "\n",
    "\n",
    "\n",
    "notebook_executor = NotebookExecutor()\n",
    "\n",
    "notebook_executor.execute_code_blocks([code_block])\n"
   ]
  }
 ],
 "metadata": {
  "kernelspec": {
   "display_name": "openbb-env",
   "language": "python",
   "name": "python3"
  },
  "language_info": {
   "codemirror_mode": {
    "name": "ipython",
    "version": 3
   },
   "file_extension": ".py",
   "mimetype": "text/x-python",
   "name": "python",
   "nbconvert_exporter": "python",
   "pygments_lexer": "ipython3",
   "version": "3.10.12"
  }
 },
 "nbformat": 4,
 "nbformat_minor": 2
}
