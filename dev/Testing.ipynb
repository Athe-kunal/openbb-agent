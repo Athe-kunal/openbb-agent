{
 "cells": [
  {
   "cell_type": "code",
   "execution_count": 4,
   "metadata": {},
   "outputs": [],
   "source": [
    "import pandas as pd\n",
    "\n",
    "testing_df = pd.read_csv(\"openbb_question.csv\")"
   ]
  },
  {
   "cell_type": "code",
   "execution_count": 8,
   "metadata": {},
   "outputs": [
    {
     "data": {
      "text/plain": [
       "array(['Give me the historical price data for Bitcoin cryptocurrency from yahoo finance',\n",
       "       'Give me the historical price data for Ethereum cryptocurrency from fmp',\n",
       "       'Give me the minute level price data for Bitcoin from January 2024 to April 2024',\n",
       "       'Give me the quarter level price data for Solana from 2021 till now',\n",
       "       'I want the data hourly price data for Solana for the current year from polygon',\n",
       "       'I want the daily price data for Ethereum and Bitcoin for the current year from tiingo provider and POLONIEX exchange',\n",
       "       'I want the dataframe for the daily price data Ethereum, Solana, Bitcoin from yahoo finance',\n",
       "       'I want the minute level data for Ethereum from yahoo finance in dictionary format',\n",
       "       'I want the minute level data in 2023 for Solana from fmp in numpy array',\n",
       "       'I want the cryptocurrency pair for Bitcoin',\n",
       "       'I want the dataframe for the minute level price data Ethereum, Solana, Bitcoin from yahoo finance',\n",
       "       'Give me the currency historical price data for Euro in terms of USD for the year 2023',\n",
       "       'Give me the currency historical price data for Japanese yen in terms of USD for the current year from polygon at 15 minute interval',\n",
       "       \"Search for 'EURUSD' currency pair using 'intrinio' as provider.\",\n",
       "       \"Search for actively traded currency pairs on the queried date using 'polygon' as provider.\",\n",
       "       \"Search for terms  using 'polygon' as provider.\",\n",
       "       \"Search for 'EURUSD' currency pair using 'intrinio' as provider.\",\n",
       "       \"Get exchange rates from USD and XAU to EUR, JPY, and GBP using 'fmp' as provider.\",\n",
       "       'Get the options  chain end-of-day-data for 2024-04-16 for Apple Company from intrino provider',\n",
       "       'Get the options chain for GOOGL for the year 2024',\n",
       "       'Get the bullish sentiment with trade type sweep option chains data for AAPL for the year 2022',\n",
       "       'Get the bearish sentiment with trade type large foption chains realtime data for MSFT for the current year ',\n",
       "       'I want historical future prices for ES and NQ for expiration in 2025',\n",
       "       'I want historical future 30 minutes level prices for ES and NQ ',\n",
       "       'I want the current futures term structure for NG for 14 April 2024 ',\n",
       "       'Give me the forecasted nominal gdp data for bulgaria',\n",
       "       'Give me the forecasted real quarterly gdp data for Israel',\n",
       "       'Give me the nominal GDP data for India capped to USD',\n",
       "       'Give me the nominal GDP data for Estonia in units of USD',\n",
       "       'Give me the real GDP data for Belgiumyear over year for the year 2023',\n",
       "       'I want the economy calendar for the year 2023 from fmp provider',\n",
       "       'I want to get the consumer price index or CPI for japan, chine and turkey',\n",
       "       'I want the CPI of United states and United kingdom compared to the previous year',\n",
       "       'I want the quarterly CPI of US for the year 2023',\n",
       "       'I want to get the growth in CPI for Japan',\n",
       "       'I want the market risk premium by country',\n",
       "       'I want to get the FRED series or economic releases',\n",
       "       'I want the FRED series data for the symbol NFCI and STLFSI4',\n",
       "       'I want the FRED series data for CBBTCUSD with average aggregation with percentage change from year ago ',\n",
       "       'I want the money measures (M1/M2 components) without adjustment',\n",
       "       'I want the monthly unemployment data for Male in Colombia ',\n",
       "       'I want the quarterly unemployment data for female who are between 15-24 of age in Australia with seasonal adjustment',\n",
       "       'I want the composite leading indicator (CLI) from oecd',\n",
       "       'I want the composite leading indicator (CLI) for US',\n",
       "       'I want the short term interest rates from January to April 2024',\n",
       "       'I want the monthly short term interest rates for New Zealand',\n",
       "       'I want the long term interest rates from January to April 2024 for all countries',\n",
       "       'I want the quarterly long term interest rates for Mexico',\n",
       "       'I want the FRED regional data for NYICLAIMS for the year 2021 and limit the results to 10 ',\n",
       "       'I want to find the upcoming IPOs with minimum value of 1000000.',\n",
       "       'I want to find the upcoming dividend payments',\n",
       "       'I want to find all the stock splits for the year 2023',\n",
       "       'I want the closest peer for Microsoft',\n",
       "       'I want the estimates of the target price for the current year',\n",
       "       'I want the estimates of the target price for the current year with grade',\n",
       "       'I want historical equity estimates of Apple and Google',\n",
       "       'I want historical quarterly equity estimates of Amazon ',\n",
       "       'I want the consensus price target and recommendation for Nvidia',\n",
       "       'I want the consensus price target and recommendation for Apple and Microsoft',\n",
       "       'I want the equity estimates from Wedbsh firm',\n",
       "       'I want the forward sales estimates for Apple for the fiscal period q1',\n",
       "       'I want the forward earnings per share (EPS) of Apple for the fiscal period q2',\n",
       "       'I want the top price gainers sorted by descending order',\n",
       "       'I want the top price loser sorted by ascending order',\n",
       "       'I want undervalued large cap stocks',\n",
       "       'I want undervalued growth stocks from yahoo finance sorted by ascending order',\n",
       "       'I want top small cap stocks based on earnings growth from yahoo finance sorted by ascending order',\n",
       "       'I want top tech stocks based on revenye and earnings growth sorted by descending order',\n",
       "       'I want a 10-K report from fmp',\n",
       "       'I want the equity valuation multiples for Apple (AAPL)',\n",
       "       'I want last 5 annual balance sheets of Microsoft (MSFT) with filing date less than equal to 2024 April',\n",
       "       'I want the growth in the last 5 balance sheet of Google (GOOGL) ',\n",
       "       'I want the last 10 annual cashflow statement for Apple for the fiscal year 2023 from fmp provider',\n",
       "       'I want the last 3 annual cashflow statement for AAPL for the fiscal year 04/2023 to 04/2024 from polygon provider and include the source ',\n",
       "       'I want the last 5 annual cashflow statement for MSFT sorted by period_of_report_date in descending order',\n",
       "       'I want the last annual cashflow statement for AAPL from intrino provider',\n",
       "       'I want the last 10 financial statements of statement_type balance for NVDA for the fiscal year 2024',\n",
       "       'I want the last 10 growth of NKE cash flow statement from fmp',\n",
       "       'I want the last 5 dividends by AMZN from 01/2024 to 04/2024',\n",
       "       'I want the last 5 historical Earnings Per Share or EPS for DIS',\n",
       "       'I want the employee count of GOOGL',\n",
       "       'I want the last 3 EBITDA data from the provider intrino ',\n",
       "       'I want the current CEO of Disney (DIS)',\n",
       "       'I want the daily historical EBITDA of AAPL from intrino provider from 01/2024 to 04/2024',\n",
       "       'I want last 5 annual income statements of Microsoft (MSFT) with filing date less than equal to 2024 April and greater than January 2024 from polygon provider',\n",
       "       'I want the annual income statement of DIS for the fiscal year 2024 from intrino',\n",
       "       'I want the annual income statement of NVDA from yahoo finance',\n",
       "       'I want the last 5 annual income growth of DIS from fmp provider',\n",
       "       'I want last 10 annual fundamental metrics of AAPL from intrino provider',\n",
       "       'I want the executive management team data for GOOGL',\n",
       "       'I want the executive management team compensation for DIS and GOOGL',\n",
       "       'I want the executive management team compensation data for AMZN and MSFT',\n",
       "       'I want the last 12 annual fundamental ratios of AAPL from intrino provider for the fiscal year 2024',\n",
       "       'I want the last 2 annual fundamental ratios of AMZN from fmp provider ',\n",
       "       'I want the revenue greographic breakdown for MSFT in flat structure',\n",
       "       'I want the revenue greographic breakdown for AMZN in hierarchical structure',\n",
       "       'I want the last 2 10-K URLs to the SEC filings of NVDA from fmp provider',\n",
       "       'I want the last 5 10-Q URLs to the SEC filings of AAPL from intrino provider from 01/2022 to 04/2024',\n",
       "       'I want the 10-K URL of MSFT with cik number 1237890 from sec provider',\n",
       "       'I want the historical stock splits of AAPL from fmp provider',\n",
       "       'I want the earnings call transcripts of MSFT for the year 2023',\n",
       "       'I want the data about top major share holders of DIS from fmp provider',\n",
       "       'I want the institutional investors in NVDA including the current quarter',\n",
       "       'I want the institutional investors in MSFT including the current quarter for the date 1st April 2024',\n",
       "       'I want the data about the last 5 trading data by META management team and board of directors from intrino provider',\n",
       "       'I want the data about last 500 insider trading data by MSFT management team and board from provider fmp ',\n",
       "       'I want the dividend ownership type insider trading of AAPL from 01/2024 to 04/2024 from intrino provider sorted by filing date',\n",
       "       'I want the last 10 gift transaction type insider trading of GOOGL from fmp provider',\n",
       "       'I want the float of DIS from fmp provider',\n",
       "       'I want the float of GS from yfinance provider',\n",
       "       'I want the float of TSLA from intrino provider',\n",
       "       'I want the last 2 13F form of TSLA from sec provider',\n",
       "       \"I want the CIK of Michael Burry's Scion Asset Management 13F filings\",\n",
       "       'I want the last 3 13F forms of the CIK 128909 and convert it into dataframe',\n",
       "       'I want the 13F form of BRK-A as of 01/2024',\n",
       "       'I want the latest quote of AAPL from fmp provider',\n",
       "       'I want the latest quote of TSLA from yahoo finance provider',\n",
       "       'I want the latest quote of MSFT from iex source from intrino provider',\n",
       "       'I want the last 5 national best bid and offer for AAPL from 01/2023 to 12/2023 from polygon provider',\n",
       "       'I want the 1 day interval historical price of GS from fmp provider',\n",
       "       'I want the 1 day interval historical price of DIS from intrino provider',\n",
       "       'I want the unadjusted histocial price data of GOOGL including the extended hours from polygon provider',\n",
       "       'I want the historical price of GS including the stocks splits and dividends including the extended hours from yfinance provider',\n",
       "       'I want the 1 day interval historical price of TSLA from tiingo provider',\n",
       "       'I want the price performance data for TSLA and AAPL from fmp provider',\n",
       "       'I want the last 5 fail to deliver data of AAPL by skipping the recent report',\n",
       "       'I want the symbol and CIK of the company Tesla from intrino provider',\n",
       "       'I want to search the equity VTSAX mutual fund from sec provider',\n",
       "       'I want the equity screener of companies that have minimum market of 1000,000,000 with minimum price of 100.0',\n",
       "       'I want the equity screener of companies that have minimum market of 1000,000 with minimum beta of 1.1 and minimum volume of 1000000',\n",
       "       'I want equity screener of companies that are in Energy sector in US with minimum dividend of 2',\n",
       "       'I want information regarding AAPL from fmp provider',\n",
       "       'I want information regarding MSFT from fmp provider',\n",
       "       'I want the market snapshot from intrino provider for the date 2024-01-12',\n",
       "       'I want the market snapshot from for the market ams from fmp provider',\n",
       "       'I want the market snapshot from polygon provider',\n",
       "       'I want active ETFs from NYSE exchange from fmp provider',\n",
       "       'I want commerical estate ETFs from arcx exchange from intrino provider',\n",
       "       'I want the historical market price of ETFs SPY, IWM, QQQ, DJIA from yahoo finance',\n",
       "       'I want historical daily realtime market prices of ETFs SPY, DJIA from intrino provider',\n",
       "       'I want the historical market prices of ETF QQQ from 01/2024 to 05/2024 from fmp provider',\n",
       "       'I want the historical unadjusted market prices of ETF VTI including the extended hours from polygon provider',\n",
       "       'I want the historical prices of ETFs EEM and AGG adjusted for both split and dividends from yahoo finance',\n",
       "       'I want the information about the ETFs SPY, IWM, QQQ, DJIA from provider fmp',\n",
       "       'I want the information about the ETFs SPY, IWM, QQQ, DJIA from provider polygon',\n",
       "       'I want the country wise weighting of the ETF VT from fmp provider',\n",
       "       'I want the weighting by sectors of the ETF SPY from fmp provider',\n",
       "       'I want the country weightings of the ETFs SPY,QQQ,IWM from fmp provider',\n",
       "       'I want the price performance about the ETFs SPY, IWM, QQQ, DJIA from provider fmp',\n",
       "       'I want the calendar return type price performance of the ETFs SPY,QQQ adjusted by splits and dividends from intrino provider',\n",
       "       'I want the holdings of ETF XLK from fmp provider',\n",
       "       'I want the holdings of SPY on the date 2022-03-31 from fmp provider',\n",
       "       'I want the holdings of QQQ on the date 2023-10-31 from sec provider',\n",
       "       'I want the holdings of SPY on the date 2022-03-31 from intrino provider',\n",
       "       'I want the holdings of the ETF with CIK 1289094 on the date 2024-01-31 from fmp provider',\n",
       "       'I want the holdings date of ETF XLK from fmp provider',\n",
       "       'I want the holdings performance the ETFs SPY and QQQ from fmp provider',\n",
       "       'I want the holdings performance the ETFs SPY, QQQ,XLK and IWM from fmp provider',\n",
       "       'I want the exposure MSFT and AAPL for the ETFs from fmp provider',\n",
       "       'I want the exposure GS and TSLA for the ETFs from fmp provider',\n",
       "       'I want the fixed income ameribor rate from provider fred',\n",
       "       'I want the overnight ameribor rate from fred provider',\n",
       "       'I want the 1 week term structure ameribor rate from 2023-01-1 to 2023-08-30 ',\n",
       "       'I want the 10th percentile sterling overnight index average (SONIA) from provider fred',\n",
       "       'I want the total nominal valued SONIA rate from 2023-01-1 to 2023-08-30 ',\n",
       "       'I want the interest on reserve balances (IORB) rate from provider fred',\n",
       "       'I want the IORB rate from 2023-01-1 to 2023-08-30 ',\n",
       "       'I want the monthly fed funds rate from 2022-1-1 to 2023-12-31 from fred provider',\n",
       "       'I want the federal funds rate from federal reserve provider',\n",
       "       'I want the euro short term rate based on the number of transactions from fred provider',\n",
       "       'I want the fed funds rate forecast for the long run',\n",
       "       'I want the fed funds rate projects in the short run from fred provider',\n",
       "       'I want the euro short term rate from 2023-01-01 to 2023-12-31 based on number of active banks from fred provider',\n",
       "       'I want the European Central Bank Interest Rates based on the refinancing interest rate type',\n",
       "       'I want the ECB interest rate from 2023-01-01 to 2023-12-31 based on number of active banks from fred provider',\n",
       "       'I want the discount window primary credit rate from 2023-02-1 to 2023-05-01 from fred provider',\n",
       "       'I want the weekly discount window credit rate from fred provider',\n",
       "       'I want the treasury constant maturity rate with 2 year maturity from fred provider ',\n",
       "       'I want the treasury constant maturity rate with 3 months maturity from 2023-02-1 to 2023-05-01 from fred provider ',\n",
       "       'I want the treasury constant maturity minus the federal funds rate bearing maturity of 10 years from fred provider',\n",
       "       'I want the treasury constant maturity minus the federal funds rate bearing maturity of 3 months from 2023-02-1 to 2023-05-01 from fred provider',\n",
       "       'I wanted treasury bill rate for 6 months maturity from fred provider',\n",
       "       'I want US Yield curve adjusted by inflation for 2023-07-08 from fred provider',\n",
       "       'I want government treasury rates from fred provider',\n",
       "       'I want government treasury rates from 2022-06-02 to 2024-03-10 from fmp provider',\n",
       "       'I want the Bofa US corporate bond indices with index type yield to worst from fred provider',\n",
       "       'I want AAA Bofa US corporate bonds from area asia including the options ',\n",
       "       'I want crossover ICE Bofa US corporate bonds in USD category ',\n",
       "       'I want Moody corporate Bond Index with BAA index type from fred provider',\n",
       "       'I want Moody corporate Bond Index with AAA index type and treasury spread from 2023-06-02 to 2024-03-12 from fred provider',\n",
       "       'I want High quality market corporate bond with par yield curve from fred provider',\n",
       "       'I want HQM corporate bond for the date 2023-08-01 ',\n",
       "       'I want spot rates with maturity 10, 20, 30 and 50 years from fred provider',\n",
       "       'I want spot rates with par yield category and maturity 10, 20, 30 and 50 years from fred provider',\n",
       "       'I want the commercial paper with overnight maturity from fred provider',\n",
       "       'I want the asset backed category commerical papers with maturity of 15 days from fred provider',\n",
       "       'I want the nonfinancial commercial papers from 2023-06-02 to 2024-03-12 from fred provider',\n",
       "       'I want AA grade commerical papers with 90 days maturity ',\n",
       "       'I want secure overnight financing rate (SOFR) from 2023-08-09 to 2024-02-01 ',\n",
       "       'I want SOFR with a period of 180 days from fred provider',\n",
       "       'I want historical price of the index ^GSPC from fmp provider',\n",
       "       'I want the last 5000 daily historical price of SPX from intrino',\n",
       "       'I want the historical price of ^DJI from 2021-03-10 to 2023-04-04 from polygon provider ',\n",
       "       'I want historical price of the index ^N225 from yahoo finance provider',\n",
       "       'I want the index constituents for dowjones from fmp provider',\n",
       "       'I want the available indices from fmp provider',\n",
       "       'I want global news data for financial topics from benzinga provider',\n",
       "       'I want the last 100 global news and their full articles from benzinga provider',\n",
       "       'I want global news data from the source bloomberg from the tiingo provider',\n",
       "       'I want the news related to AAPL, GOOGL, MSFT and TSLA from benzinga provider',\n",
       "       'I want the news related to AAPL from 2024-02-01 to 2024-02-07 from intrino provider',\n",
       "       'I want the headlines of news related to AAPL from benzinga provider',\n",
       "       'I want news related to GS and DIS from fmp provider',\n",
       "       'I want the news related to NVDA with ISIN number US0378331005 from benzinga provider',\n",
       "       'I want the CIK of MSFT from sec provider',\n",
       "       'I want information regarding blackstone real estate from sec provider',\n",
       "       'I want the ticker symbol of the CIK 0000789019 from sec provider',\n",
       "       'I want litigation releases from sec provider',\n",
       "       'I want to do SIC search of real estate investment trusts from sec provider'],\n",
       "      dtype=object)"
      ]
     },
     "execution_count": 8,
     "metadata": {},
     "output_type": "execute_result"
    }
   ],
   "source": [
    "testing_df['QUESTION'].values"
   ]
  },
  {
   "cell_type": "code",
   "execution_count": 9,
   "metadata": {},
   "outputs": [],
   "source": [
    "from agent.database import load_database\n",
    "from dotenv import load_dotenv,find_dotenv\n",
    "import os\n",
    "load_dotenv(find_dotenv(),override=True)\n",
    "openbb_collection = load_database(os.environ['OPENAI_API_KEY'])"
   ]
  },
  {
   "cell_type": "code",
   "execution_count": 11,
   "metadata": {},
   "outputs": [],
   "source": [
    "from agent.dspy_agent import OpenBBAgentChroma\n",
    "\n",
    "obb_chroma = OpenBBAgentChroma(openbb_collection)"
   ]
  },
  {
   "cell_type": "code",
   "execution_count": 23,
   "metadata": {},
   "outputs": [
    {
     "name": "stdout",
     "output_type": "stream",
     "text": [
      "\u001b[92mFirst level answer: crypto\u001b[0m\n",
      "\u001b[93mCurrent Trail: ['crypto'] and level: 2\u001b[0m\n",
      "\u001b[91mSubsequent level 2 string to LLM: price: Get historical price data for cryptocurrency pair(s) within a provider.\n",
      "\n",
      "search: Search available cryptocurrency pairs within a provider.\n",
      "\n",
      "\u001b[0m\n",
      "\u001b[94mLLM Answer: Prediction(\n",
      "    rationale='produce the output. We need to find the key that provides historical price data for a specific cryptocurrency from a specific source.',\n",
      "    output='price'\n",
      ")\u001b[0m\n",
      "\u001b[93mCurrent Trail: ['crypto-->price'] and level: 3\u001b[0m\n"
     ]
    }
   ],
   "source": [
    "funcs = obb_chroma('Give me the historical price data for Bitcoin cryptocurrency from yahoo finance')"
   ]
  },
  {
   "cell_type": "code",
   "execution_count": 25,
   "metadata": {},
   "outputs": [
    {
     "data": {
      "text/plain": [
       "[{'function_call': '{\\'name\\': \\'obb_crypto_price_historical_fmp\\', \\'description\\': \\'Get historical price data for cryptocurrency pair(s) within a provider. Get it from provider fmp\\', \\'parameters\\': {\\'type\\': \\'object\\', \\'properties\\': {\\'symbol\\': {\\'type\\': \\'string\\', \\'description\\': \\'Symbol to get data for. Can use CURR1-CURR2 or CURR1CURR2 format. Multiple items allowed for provider(s): fmp, polygon, tiingo, yfinance.\\', \\'default\\': \\'\\'}, \\'start_date\\': {\\'type\\': \\'string\\', \\'description\\': \\'Start date of the data, in YYYY-MM-DD format.\\', \\'default\\': None}, \\'end_date\\': {\\'type\\': \\'string\\', \\'description\\': \\'End date of the data, in YYYY-MM-DD format.\\', \\'default\\': None}, \\'provider\\': {\\'description\\': \"The provider to use for the query, by default None. If None, the provider specified in defaults is selected or \\'fmp\\' if there is no default.\", \\'default\\': \\'fmp\\', \\'type\\': \\'string\\', \\'enum\\': [\\'fmp\\']}, \\'interval\\': {\\'name\\': \\'interval\\', \\'description\\': \\'Time interval of the data to return.\\', \\'default\\': \\'1d\\', \\'optional\\': True, \\'type\\': \\'string\\', \\'enum\\': [\\'1m\\', \\'5m\\', \\'15m\\', \\'30m\\', \\'1h\\', \\'4h\\', \\'1d\\']}}, \\'required\\': [\\'symbol\\', \\'provider\\']}}',\n",
       "  'node_name': 'obb_crypto_price_historical_fmp',\n",
       "  'provider_source': 'fmp',\n",
       "  'trail': 'crypto-->price-->historical',\n",
       "  'type': 'provider_function'},\n",
       " {'function_call': '{\\'name\\': \\'obb_crypto_price_historical_polygon\\', \\'description\\': \\'Get historical price data for cryptocurrency pair(s) within a provider. Get it from provider polygon\\', \\'parameters\\': {\\'type\\': \\'object\\', \\'properties\\': {\\'symbol\\': {\\'type\\': \\'string\\', \\'description\\': \\'Symbol to get data for. Can use CURR1-CURR2 or CURR1CURR2 format. Multiple items allowed for provider(s): fmp, polygon, tiingo, yfinance.\\', \\'default\\': \\'\\'}, \\'start_date\\': {\\'type\\': \\'string\\', \\'description\\': \\'Start date of the data, in YYYY-MM-DD format.\\', \\'default\\': None}, \\'end_date\\': {\\'type\\': \\'string\\', \\'description\\': \\'End date of the data, in YYYY-MM-DD format.\\', \\'default\\': None}, \\'provider\\': {\\'description\\': \"The provider to use for the query, by default None. If None, the provider specified in defaults is selected or \\'fmp\\' if there is no default.\", \\'default\\': \\'fmp\\', \\'type\\': \\'string\\', \\'enum\\': [\\'polygon\\']}, \\'interval\\': {\\'name\\': \\'interval\\', \\'type\\': \\'string\\', \\'description\\': \\'Time interval of the data to return. The numeric portion of the interval can be any positive integer. The letter portion can be one of the following: s, m, h, d, W, M, Q, Y\\', \\'default\\': \\'1d\\', \\'optional\\': True}, \\'sort\\': {\\'name\\': \\'sort\\', \\'description\\': \"Sort order of the data. This impacts the results in combination with the \\'limit\\' parameter. The results are always returned in ascending order by date.\", \\'default\\': \\'asc\\', \\'optional\\': True, \\'type\\': \\'string\\', \\'enum\\': [\\'asc\\', \\'desc\\']}, \\'limit\\': {\\'name\\': \\'limit\\', \\'type\\': \\'integer\\', \\'description\\': \\'The number of data entries to return.\\', \\'default\\': 49999, \\'optional\\': True}}, \\'required\\': [\\'symbol\\', \\'provider\\']}}',\n",
       "  'node_name': 'obb_crypto_price_historical_polygon',\n",
       "  'provider_source': 'polygon',\n",
       "  'trail': 'crypto-->price-->historical',\n",
       "  'type': 'provider_function'},\n",
       " {'function_call': '{\\'name\\': \\'obb_crypto_price_historical_tiingo\\', \\'description\\': \\'Get historical price data for cryptocurrency pair(s) within a provider. Get it from provider tiingo\\', \\'parameters\\': {\\'type\\': \\'object\\', \\'properties\\': {\\'symbol\\': {\\'type\\': \\'string\\', \\'description\\': \\'Symbol to get data for. Can use CURR1-CURR2 or CURR1CURR2 format. Multiple items allowed for provider(s): fmp, polygon, tiingo, yfinance.\\', \\'default\\': \\'\\'}, \\'start_date\\': {\\'type\\': \\'string\\', \\'description\\': \\'Start date of the data, in YYYY-MM-DD format.\\', \\'default\\': None}, \\'end_date\\': {\\'type\\': \\'string\\', \\'description\\': \\'End date of the data, in YYYY-MM-DD format.\\', \\'default\\': None}, \\'provider\\': {\\'description\\': \"The provider to use for the query, by default None. If None, the provider specified in defaults is selected or \\'fmp\\' if there is no default.\", \\'default\\': \\'fmp\\', \\'type\\': \\'string\\', \\'enum\\': [\\'tiingo\\']}, \\'interval\\': {\\'name\\': \\'interval\\', \\'description\\': \\'Time interval of the data to return.\\', \\'default\\': \\'1d\\', \\'optional\\': True, \\'type\\': \\'string\\', \\'enum\\': [\\'1m\\', \\'5m\\', \\'15m\\', \\'30m\\', \\'1h\\', \\'4h\\', \\'1d\\']}, \\'exchanges\\': {\\'name\\': \\'exchanges\\', \\'type\\': \\'string\\', \\'description\\': \"To limit the query to a subset of exchanges e.g. [\\'POLONIEX\\', \\'GDAX\\']\", \\'default\\': None, \\'optional\\': True}}, \\'required\\': [\\'symbol\\', \\'provider\\']}}',\n",
       "  'node_name': 'obb_crypto_price_historical_tiingo',\n",
       "  'provider_source': 'tiingo',\n",
       "  'trail': 'crypto-->price-->historical',\n",
       "  'type': 'provider_function'},\n",
       " {'function_call': '{\\'name\\': \\'obb_crypto_price_historical_yfinance\\', \\'description\\': \\'Get historical price data for cryptocurrency pair(s) within a provider. Get it from provider yfinance\\', \\'parameters\\': {\\'type\\': \\'object\\', \\'properties\\': {\\'symbol\\': {\\'type\\': \\'string\\', \\'description\\': \\'Symbol to get data for. Can use CURR1-CURR2 or CURR1CURR2 format. Multiple items allowed for provider(s): fmp, polygon, tiingo, yfinance.\\', \\'default\\': \\'\\'}, \\'start_date\\': {\\'type\\': \\'string\\', \\'description\\': \\'Start date of the data, in YYYY-MM-DD format.\\', \\'default\\': None}, \\'end_date\\': {\\'type\\': \\'string\\', \\'description\\': \\'End date of the data, in YYYY-MM-DD format.\\', \\'default\\': None}, \\'provider\\': {\\'description\\': \"The provider to use for the query, by default None. If None, the provider specified in defaults is selected or \\'fmp\\' if there is no default.\", \\'default\\': \\'fmp\\', \\'type\\': \\'string\\', \\'enum\\': [\\'yfinance\\']}, \\'interval\\': {\\'name\\': \\'interval\\', \\'description\\': \\'Time interval of the data to return.\\', \\'default\\': \\'1d\\', \\'optional\\': True, \\'type\\': \\'string\\', \\'enum\\': [\\'1m\\', \\'2m\\', \\'5m\\', \\'15m\\', \\'30m\\', \\'60m\\', \\'90m\\', \\'1h\\', \\'1d\\', \\'5d\\', \\'1W\\', \\'1M\\', \\'1Q\\']}}, \\'required\\': [\\'symbol\\', \\'provider\\']}}',\n",
       "  'node_name': 'obb_crypto_price_historical_yfinance',\n",
       "  'provider_source': 'yfinance',\n",
       "  'trail': 'crypto-->price-->historical',\n",
       "  'type': 'provider_function'}]"
      ]
     },
     "execution_count": 25,
     "metadata": {},
     "output_type": "execute_result"
    }
   ],
   "source": [
    "funcs[0]['metadatas']"
   ]
  },
  {
   "cell_type": "code",
   "execution_count": 32,
   "metadata": {},
   "outputs": [
    {
     "name": "stdout",
     "output_type": "stream",
     "text": [
      "\u001b[92mFirst level answer: equity; derivatives\u001b[0m\n",
      "\u001b[93mCurrent Trail: ['equity', 'derivatives'] and level: 2\u001b[0m\n",
      "\u001b[91mSubsequent level 2 string to LLM: options: Get the complete options chain for a ticker.\n",
      "\n",
      "discovery: Get the top price gainers in the stock market. Get the top price losers in the stock market. Get the most actively traded stocks based on volume. Get potentially undervalued large cap stocks. Get potentially undervalued growth stocks. Get top small cap stocks based on earnings growth. Get top tech stocks based on revenue and earnings growth. Get the URLs to SEC filings reported to EDGAR database, such as 10-K, 10-Q, 8-K, and more.SEC filings include Form 10-K, Form 10-Q, Form 8-K, the proxy statement, Forms 3, 4, and 5, Schedule 13, Form 114,Foreign Investment Disclosures and others. The annual 10-K report is required to befiled annually and includes the company's financial statements, management discussion and analysis,and audited financial statements.\n",
      "\n",
      "market_snapshots: Get an updated equity market snapshot. This includes price data for thousands of stocks.\n",
      "\n",
      "profile: Get general information about a company. This includes company name, industry, sector and price data.\n",
      "\n",
      "estimates: Get analyst price targets by company. Get historical analyst estimates for earnings and revenue. Get consensus price target and recommendation. Search for specific analysts and get their forecast track record. Get forward sales estimates. Get forward EPS estimates.\n",
      "\n",
      "\u001b[0m\n",
      "\u001b[94mLLM Answer: Prediction(\n",
      "    rationale='produce the output. We need to find the key that allows us to get the options chain for a specific ticker and year.',\n",
      "    output='options'\n",
      ")\u001b[0m\n",
      "\u001b[93mCurrent Trail: ['equity-->options', 'derivatives-->options'] and level: 3\u001b[0m\n",
      "\u001b[91mSubsequent level 3 string to LLM: unusual: Get the complete options chain for a ticker.\n",
      "\n",
      "chains: Get the complete options chain for a ticker.\n",
      "\n",
      "\u001b[0m\n",
      "\u001b[94mLLM Answer: Prediction(\n",
      "    rationale='produce the output. We need to find the key that specifically mentions getting the options chain for a specific ticker and year.',\n",
      "    output='chains'\n",
      ")\u001b[0m\n",
      "\u001b[93mCurrent Trail: ['equity-->options-->chains', 'derivatives-->options-->chains'] and level: 4\u001b[0m\n"
     ]
    },
    {
     "data": {
      "text/plain": [
       "[{'function_call': '{\\'name\\': \\'obb_derivatives_options_chains_intrinio\\', \\'description\\': \\'Get the complete options chain for a ticker.\\', \\'parameters\\': {\\'type\\': \\'object\\', \\'properties\\': {\\'symbol\\': {\\'type\\': \\'string\\', \\'description\\': \\'Symbol to get data for.\\', \\'default\\': \\'\\'}, \\'provider\\': {\\'description\\': \"The provider to use for the query, by default None. If None, the provider specified in defaults is selected or \\'intrinio\\' if there is no default.\", \\'default\\': \\'intrinio\\', \\'type\\': \\'string\\', \\'enum\\': [\\'intrinio\\']}, \\'date\\': {\\'type\\': \\'string\\', \\'description\\': \\'The end-of-day date for options chains data.\\', \\'default\\': None}}, \\'required\\': [\\'symbol\\', \\'provider\\']}}',\n",
       "  'node_name': 'obb_derivatives_options_chains_intrinio',\n",
       "  'provider_source': 'intrinio',\n",
       "  'trail': 'derivatives-->options-->chains',\n",
       "  'type': 'provider_function'}]"
      ]
     },
     "execution_count": 32,
     "metadata": {},
     "output_type": "execute_result"
    }
   ],
   "source": [
    "funcs = obb_chroma('Get the options chain for GOOGL for the year 2024')\n",
    "funcs[0]['metadatas']"
   ]
  },
  {
   "cell_type": "code",
   "execution_count": 33,
   "metadata": {},
   "outputs": [
    {
     "name": "stdout",
     "output_type": "stream",
     "text": [
      "obb_derivatives_options_chains\n"
     ]
    }
   ],
   "source": [
    "for fn in funcs[0]['metadatas']:\n",
    "    print(fn['node_name'].rpartition('_')[0])"
   ]
  },
  {
   "cell_type": "code",
   "execution_count": 49,
   "metadata": {},
   "outputs": [
    {
     "data": {
      "text/plain": [
       "'obb_crypto_price_historical'"
      ]
     },
     "execution_count": 49,
     "metadata": {},
     "output_type": "execute_result"
    }
   ],
   "source": [
    "path = testing_df['PATHS'][0]\n",
    "path = path.replace(\"\\n\",\"\").split(\"/\")\n",
    "path[0] = \"obb\"\n",
    "\"_\".join(path)"
   ]
  },
  {
   "cell_type": "code",
   "execution_count": 44,
   "metadata": {},
   "outputs": [
    {
     "data": {
      "text/plain": [
       "'/crypto/price/historical'"
      ]
     },
     "execution_count": 44,
     "metadata": {},
     "output_type": "execute_result"
    }
   ],
   "source": [
    "'/crypto/price/historical\\n'.replace(\"\\n\",\"\")"
   ]
  },
  {
   "cell_type": "code",
   "execution_count": 64,
   "metadata": {},
   "outputs": [
    {
     "name": "stderr",
     "output_type": "stream",
     "text": [
      "Hierarchical Answers LLM: 100%|██████████| 219/219 [00:28<00:00,  7.59it/s]\n"
     ]
    },
    {
     "name": "stdout",
     "output_type": "stream",
     "text": [
      "Already done for 0\n",
      "Already done for 1\n",
      "Already done for 2\n",
      "\u001b[92mFirst level answer: crypto\u001b[0m\n",
      "\u001b[93mCurrent Trail: ['crypto'] and level: 2\u001b[0m\n",
      "\u001b[91mSubsequent level 2 string to LLM: price: Get historical price data for cryptocurrency pair(s) within a provider.\n",
      "\n",
      "search: Search available cryptocurrency pairs within a provider.\n",
      "\n",
      "\u001b[0m\n"
     ]
    },
    {
     "name": "stderr",
     "output_type": "stream",
     "text": []
    },
    {
     "name": "stdout",
     "output_type": "stream",
     "text": [
      "\u001b[94mLLM Answer: Prediction(\n",
      "    rationale='produce the output. We need to find historical price data for a specific cryptocurrency, Solana, from 2021 till now.',\n",
      "    output='price'\n",
      ")\u001b[0m\n",
      "\u001b[93mCurrent Trail: ['crypto-->price'] and level: 3\u001b[0m\n",
      "{'QUESTION': ['Give me the quarter level price data for Solana from 2021 till now'], 'TIME': [2.30118727684021], 'ANSWER': ['obb_crypto_price_historical'], 'LLM_ANSWER': ['obb_crypto_price_historical']}\n",
      "\u001b[92mFirst level answer: crypto\u001b[0m\n",
      "\u001b[93mCurrent Trail: ['crypto'] and level: 2\u001b[0m\n",
      "\u001b[91mSubsequent level 2 string to LLM: price: Get historical price data for cryptocurrency pair(s) within a provider.\n",
      "\n",
      "search: Search available cryptocurrency pairs within a provider.\n",
      "\n",
      "\u001b[0m\n"
     ]
    },
    {
     "name": "stderr",
     "output_type": "stream",
     "text": []
    },
    {
     "name": "stdout",
     "output_type": "stream",
     "text": [
      "\u001b[94mLLM Answer: Prediction(\n",
      "    rationale='produce the output. We need to find the key that provides historical price data for a specific cryptocurrency, in this case Solana, for the current year from the provider Polygon.',\n",
      "    output='price'\n",
      ")\u001b[0m\n",
      "\u001b[93mCurrent Trail: ['crypto-->price'] and level: 3\u001b[0m\n",
      "{'QUESTION': ['I want the data hourly price data for Solana for the current year from polygon'], 'TIME': [2.4780735969543457], 'ANSWER': ['obb_crypto_price_historical'], 'LLM_ANSWER': ['obb_crypto_price_historical']}\n",
      "\u001b[92mFirst level answer: crypto\u001b[0m\n",
      "\u001b[93mCurrent Trail: ['crypto'] and level: 2\u001b[0m\n",
      "\u001b[91mSubsequent level 2 string to LLM: price: Get historical price data for cryptocurrency pair(s) within a provider.\n",
      "\n",
      "search: Search available cryptocurrency pairs within a provider.\n",
      "\n",
      "\u001b[0m\n"
     ]
    },
    {
     "name": "stderr",
     "output_type": "stream",
     "text": []
    },
    {
     "name": "stdout",
     "output_type": "stream",
     "text": [
      "\u001b[94mLLM Answer: Prediction(\n",
      "    rationale='produce the output. We need to find the key that allows us to get historical price data for cryptocurrency pairs from a specific provider and exchange.',\n",
      "    output='price'\n",
      ")\u001b[0m\n",
      "\u001b[93mCurrent Trail: ['crypto-->price'] and level: 3\u001b[0m\n",
      "{'QUESTION': ['I want the daily price data for Ethereum and Bitcoin for the current year from tiingo provider and POLONIEX exchange'], 'TIME': [1.7774412631988525], 'ANSWER': ['obb_crypto_price_historical'], 'LLM_ANSWER': ['obb_crypto_price_historical']}\n"
     ]
    },
    {
     "name": "stderr",
     "output_type": "stream",
     "text": []
    },
    {
     "name": "stdout",
     "output_type": "stream",
     "text": [
      "{'QUESTION': ['I want the dataframe for the daily price data Ethereum, Solana, Bitcoin from yahoo finance'], 'TIME': [0], 'ANSWER': ['obb_crypto_price_historical'], 'LLM_ANSWER': ['']}\n"
     ]
    }
   ],
   "source": [
    "import time \n",
    "from tqdm import tqdm\n",
    "import pandas as pd\n",
    "import os\n",
    "\n",
    "def is_file_empty(file_path):\n",
    "    return os.path.getsize(file_path) == 0\n",
    "\n",
    "testing_df = pd.read_csv(\"openbb_question.csv\")\n",
    "columns = [\"QUESTION\",\"TIME\",\"ANSWER\",\"LLM_ANSWER\"]\n",
    "if not os.path.exists(f\"hierarchical_answers.csv\"):\n",
    "    df = pd.DataFrame(columns=columns,index=None)\n",
    "    df.to_csv(f\"hierarchical_answers.csv\",index=False,header=True)\n",
    "else:\n",
    "    df = pd.read_csv(f\"hierarchical_answers.csv\",index_col=False)\n",
    "\n",
    "pbar = tqdm(total=len(testing_df),desc=\"Hierarchical Answers LLM\")\n",
    "if not os.path.exists(f\"done.txt\"):\n",
    "    os.mknod(f\"done.txt\")\n",
    "done_idxs = 0\n",
    "for row in testing_df.iterrows():\n",
    "    if not is_file_empty(f\"done.txt\"):\n",
    "        with open(f\"done.txt\",\"r\") as f:\n",
    "            done_pids = [int(x) for x in f.read().splitlines()]\n",
    "        # print(done_pids)\n",
    "        if done_idxs in done_pids: \n",
    "            print(f\"Already done for {done_idxs}\")\n",
    "            pbar.update(1)\n",
    "            done_idxs += 1\n",
    "            continue\n",
    "    path = row[1]['PATHS']\n",
    "    path = path.replace(\"\\n\",\"\").split(\"/\")\n",
    "    path[0] = \"obb\"\n",
    "    answer = \"_\".join(path)\n",
    "\n",
    "    question  = row[1]['QUESTION']\n",
    "    try:\n",
    "        start = time.time()\n",
    "        functions = obb_chroma(question)\n",
    "        end = time.time()\n",
    "        time_taken = end - start\n",
    "\n",
    "        llm_answers = []\n",
    "        for fn in functions[0]['metadatas']:\n",
    "            llm_answers.append(fn['node_name'].rpartition('_')[0])\n",
    "        llm_answers = list(set(llm_answers))\n",
    "        llm_answer = \", \".join(llm_answers)\n",
    "        with open(f\"done.txt\",\"a\") as f:\n",
    "            f.write(f\"{done_idxs}\\n\")\n",
    "        done_idxs+=1\n",
    "    except:\n",
    "        llm_answer = \"\"\n",
    "        time_taken = 0\n",
    "        done_idxs+=1\n",
    "\n",
    "    df_dict = {\n",
    "        \"QUESTION\":[question],\n",
    "        \"TIME\":[time_taken],\n",
    "        \"ANSWER\":[answer],\n",
    "        \"LLM_ANSWER\":[llm_answer],\n",
    "    }\n",
    "    print(df_dict)\n",
    "    curr_df = pd.DataFrame(df_dict)\n",
    "    curr_df.to_csv(f\"hierarchical_answers.csv\", mode='a',index=False,header=False)\n",
    "    pbar.update(1)"
   ]
  },
  {
   "cell_type": "code",
   "execution_count": 52,
   "metadata": {},
   "outputs": [
    {
     "data": {
      "text/plain": [
       "'1'"
      ]
     },
     "execution_count": 52,
     "metadata": {},
     "output_type": "execute_result"
    }
   ],
   "source": [
    "\",\".join([\"1\"])"
   ]
  },
  {
   "cell_type": "markdown",
   "metadata": {},
   "source": [
    "## V2 DATABASE"
   ]
  },
  {
   "cell_type": "code",
   "execution_count": 2,
   "metadata": {},
   "outputs": [],
   "source": [
    "from agent.database import build_graph\n",
    "\n",
    "openbb_graph,router_names = build_graph()"
   ]
  },
  {
   "cell_type": "code",
   "execution_count": 16,
   "metadata": {},
   "outputs": [],
   "source": [
    "# import networkx as nx\n",
    "# for _, graph in openbb_graph.items():\n",
    "#     # Parent embedding docs adding child texts\n",
    "#     for node,attr in graph.nodes(data=True):\n",
    "#         if attr['type'].startswith('level'):\n",
    "#             curr_level_text_list = []\n",
    "#             for n,a in graph.nodes(data=True):\n",
    "#                 if 'trail' in a and a['type']!=\"provider_function\" and n!=node:\n",
    "#                     if node in a['trail']:\n",
    "#                         if a['description'] in curr_level_text_list: continue\n",
    "#                         else: curr_level_text_list.append(a['description'])\n",
    "#             if curr_level_text_list == []:\n",
    "#                 curr_level_text_list = [attr['description']]\n",
    "#             # else:\n",
    "#                 # curr_level_text = \" \".join(curr_level_text_list)\n",
    "#             attr.update({\"child_text\":curr_level_text_list})\n",
    "#             nx.set_node_attributes(graph,attr,name=node)"
   ]
  },
  {
   "cell_type": "code",
   "execution_count": 17,
   "metadata": {},
   "outputs": [
    {
     "data": {
      "text/plain": [
       "NodeView(('crypto', 'price', 'historical', 'obb_crypto_price_historical_fmp', 'obb_crypto_price_historical_polygon', 'obb_crypto_price_historical_tiingo', 'obb_crypto_price_historical_yfinance', 'search', 'obb_crypto_search_fmp'))"
      ]
     },
     "execution_count": 17,
     "metadata": {},
     "output_type": "execute_result"
    }
   ],
   "source": [
    "openbb_graph['crypto'].nodes"
   ]
  },
  {
   "cell_type": "code",
   "execution_count": 3,
   "metadata": {},
   "outputs": [],
   "source": [
    "from agent.database import build_docs_metadata\n",
    "docs,metadata = build_docs_metadata(openbb_graph,MAX_WORDS=25)"
   ]
  },
  {
   "cell_type": "code",
   "execution_count": 4,
   "metadata": {},
   "outputs": [
    {
     "data": {
      "text/plain": [
       "{'type': 'level_1',\n",
       " 'description': 'Cryptocurrency market data.',\n",
       " 'node_name': 'crypto'}"
      ]
     },
     "execution_count": 4,
     "metadata": {},
     "output_type": "execute_result"
    }
   ],
   "source": [
    "metadata[0]"
   ]
  },
  {
   "cell_type": "code",
   "execution_count": 5,
   "metadata": {},
   "outputs": [
    {
     "name": "stdout",
     "output_type": "stream",
     "text": [
      "{'type': 'level_2', 'description': 'Get historical price data for cryptocurrency pair(s) within a provider.', 'trail': 'crypto', 'peanultimate_node': False, 'node_name': 'price'}\n",
      "{'type': 'level_2', 'description': 'Search available cryptocurrency pairs within a provider.', 'trail': 'crypto', 'peanultimate_node': True, 'node_name': 'search'}\n"
     ]
    }
   ],
   "source": [
    "for meta in metadata:\n",
    "    if 'trail' in meta:\n",
    "        if meta['trail'] == 'crypto':\n",
    "            print(meta)"
   ]
  },
  {
   "cell_type": "code",
   "execution_count": 6,
   "metadata": {},
   "outputs": [
    {
     "data": {
      "text/plain": [
       "(428, 428)"
      ]
     },
     "execution_count": 6,
     "metadata": {},
     "output_type": "execute_result"
    }
   ],
   "source": [
    "len(docs),len(metadata)"
   ]
  },
  {
   "cell_type": "code",
   "execution_count": 8,
   "metadata": {},
   "outputs": [
    {
     "data": {
      "text/plain": [
       "Collection(name=obb_docsv2)"
      ]
     },
     "execution_count": 8,
     "metadata": {},
     "output_type": "execute_result"
    }
   ],
   "source": [
    "from agent.database import build_database\n",
    "from dotenv import load_dotenv,find_dotenv\n",
    "import os\n",
    "\n",
    "load_dotenv(find_dotenv(),override=True)\n",
    "build_database(docs,metadata,os.environ['OPENAI_API_KEY'])"
   ]
  },
  {
   "cell_type": "code",
   "execution_count": 9,
   "metadata": {},
   "outputs": [],
   "source": [
    "from agent.database import load_database\n",
    "import os\n",
    "openbb_collection = load_database(os.environ['OPENAI_API_KEY'])"
   ]
  },
  {
   "cell_type": "code",
   "execution_count": 15,
   "metadata": {},
   "outputs": [
    {
     "name": "stdout",
     "output_type": "stream",
     "text": [
      "The autoreload extension is already loaded. To reload it, use:\n",
      "  %reload_ext autoreload\n"
     ]
    }
   ],
   "source": [
    "from agent.dspy_agent import OpenBBAgentChroma\n",
    "%load_ext autoreload\n",
    "%autoreload 2\n",
    "obb_chroma = OpenBBAgentChroma(openbb_collection)"
   ]
  },
  {
   "cell_type": "code",
   "execution_count": 17,
   "metadata": {},
   "outputs": [
    {
     "name": "stdout",
     "output_type": "stream",
     "text": [
      "\u001b[92mFirst level string: economy: Get Long-term interest rates that refer to government bonds maturing in ten years.  Rates are mainly determined by the price charged by the lender, the risk from the borrower and the fall in the capital value. Long-term interest rates are generally averages of daily rates, measured as a percentage. These interest rates are implied by the prices at which the government bonds are traded on financial markets, not the interest rates at which the loans were issued. In all cases, they refer to bonds whose capital repayment is guaranteed by governments. Long-term interest rates are one of the determinants of business investment. Low long-term interest rates encourage investment in new equipment and high interest rates discourage it. Investment is, in turn, a major source of economic growth.\n",
      "\n",
      "economy: Get Short-term interest rates.  They are the rates at which short-term borrowings are effected between financial institutions or the rate at which short-term government paper is issued or traded in the market.  Short-term interest rates are generally averages of daily rates, measured as a percentage. Short-term interest rates are based on three-month money market rates where available. Typical standardised names are \"money market rate\" and \"treasury bill rate\".\n",
      "\n",
      "fixedincome: US Yield Curve. Get United States yield curve.Government Treasury Rates. \n",
      "\n",
      "fixedincome: Interest on Reserve Balances.  Get Interest Rate on Reserve Balances data A bank rate is the interest rate a nation's central bank charges to its domestic banks to borrow money. The rates central banks charge are set to stabilize the economy. In the United States, the Federal Reserve System's Board of Governors set the bank rate, also known as the discount rate.\n",
      "\n",
      "fixedincome: European Central Bank Interest Rates.  The Governing Council of the ECB sets the key interest rates for the euro area:  - The interest rate on the main refinancing operations (MRO), which provide the bulk of liquidity to the banking system. - The rate on the deposit facility, which banks may use to make overnight deposits with the Eurosystem. - The rate on the marginal lending facility, which offers overnight credit to banks from the Eurosystem.\n",
      "\n",
      "\u001b[0m\n",
      "\u001b[92mFirst level answer: economy\u001b[0m\n",
      "\u001b[93mCurrent Trail: ['economy'] and level: 2\u001b[0m\n",
      "\u001b[91mSubsequent level 2 string to LLM: long_term_interest_rate: Get Long-term interest rates that refer to government bonds maturing in ten years.  Rates are mainly determined by the price charged by the lender, the risk from the borrower and the fall in the capital value. Long-term interest rates are generally averages of daily rates, measured as a percentage. These interest rates are implied by the prices at which the government bonds are traded on financial markets, not the interest rates at which the loans were issued. In all cases, they refer to bonds whose capital repayment is guaranteed by governments. Long-term interest rates are one of the determinants of business investment. Low long-term interest rates encourage investment in new equipment and high interest rates discourage it. Investment is, in turn, a major source of economic growth.\n",
      "\n",
      "short_term_interest_rate: Get Short-term interest rates.  They are the rates at which short-term borrowings are effected between financial institutions or the rate at which short-term government paper is issued or traded in the market.  Short-term interest rates are generally averages of daily rates, measured as a percentage. Short-term interest rates are based on three-month money market rates where available. Typical standardised names are \"money market rate\" and \"treasury bill rate\".\n",
      "\n",
      "risk_premium: Get Market Risk Premium by country. \n",
      "\n",
      "unemployment: Get global unemployment data. \n",
      "\n",
      "gdp: Get Forecasted GDP Data. Get Nominal GDP Data. Get Real GDP Data. \n",
      "\n",
      "\u001b[0m\n",
      "\u001b[94mLLM Answer: Prediction(\n",
      "    rationale='produce the output. We are looking for interest rates specifically related to long-term rates for all countries. The key that is relevant to this query is:',\n",
      "    output='long_term_interest_rate'\n",
      ")\u001b[0m\n",
      "\u001b[93mCurrent Trail: ['economy-->long_term_interest_rate'] and level: 3\u001b[0m\n"
     ]
    }
   ],
   "source": [
    "# questions = questions_df['QUESTION'].values[2]\n",
    "funcs,prompts = obb_chroma('I want the long term interest rates for all countries')"
   ]
  },
  {
   "cell_type": "code",
   "execution_count": 12,
   "metadata": {},
   "outputs": [
    {
     "data": {
      "text/plain": [
       "{'ids': ['id2'],\n",
       " 'embeddings': None,\n",
       " 'metadatas': [{'description': 'Get historical price data for cryptocurrency pair(s) within a provider.',\n",
       "   'node_name': 'historical',\n",
       "   'peanultimate_node': True,\n",
       "   'trail': 'crypto-->price',\n",
       "   'type': 'level_3'}],\n",
       " 'documents': ['Get historical price data for cryptocurrency pair(s) within a provider. '],\n",
       " 'uris': None,\n",
       " 'data': None}"
      ]
     },
     "execution_count": 12,
     "metadata": {},
     "output_type": "execute_result"
    }
   ],
   "source": [
    "openbb_collection.get(\n",
    "    where={\"trail\":{\"$eq\":\"crypto-->price\"}}\n",
    ")"
   ]
  },
  {
   "cell_type": "code",
   "execution_count": 24,
   "metadata": {},
   "outputs": [],
   "source": [
    "# import ast\n",
    "\n",
    "# ast.literal_eval(funcs[0]['metadatas'][0]['function_call'])"
   ]
  },
  {
   "cell_type": "code",
   "execution_count": 50,
   "metadata": {},
   "outputs": [],
   "source": [
    "completion_tokens = 0\n",
    "prompt_tokens = 0\n",
    "total_tokens = 0\n",
    "for prompt in prompts:\n",
    "    # {'completion_tokens': 35, 'prompt_tokens': 298, 'total_tokens': 333}\n",
    "    completion_tokens += prompt[0]['response']['usage']['completion_tokens']\n",
    "    prompt_tokens += prompt[0]['response']['usage']['prompt_tokens']\n",
    "    total_tokens += prompt[0]['response']['usage']['total_tokens']"
   ]
  },
  {
   "cell_type": "code",
   "execution_count": 51,
   "metadata": {},
   "outputs": [
    {
     "data": {
      "text/plain": [
       "(714, 658, 56)"
      ]
     },
     "execution_count": 51,
     "metadata": {},
     "output_type": "execute_result"
    }
   ],
   "source": [
    "total_tokens,prompt_tokens,completion_tokens"
   ]
  },
  {
   "cell_type": "code",
   "execution_count": 38,
   "metadata": {},
   "outputs": [
    {
     "name": "stdout",
     "output_type": "stream",
     "text": [
      "COMPLETION_TOKENS\n",
      "PROMPT_TOKENS\n",
      "TOTAL_TOKENS\n"
     ]
    }
   ],
   "source": [
    "s = prompts[1][0]['response']['usage']\n",
    "for i in s:\n",
    "    print(i.upper())"
   ]
  },
  {
   "cell_type": "code",
   "execution_count": 18,
   "metadata": {},
   "outputs": [],
   "source": [
    "import pandas as pd\n",
    "\n",
    "results_df = pd.read_csv(\"hierarchical_answers.csv\")"
   ]
  },
  {
   "cell_type": "code",
   "execution_count": 22,
   "metadata": {},
   "outputs": [],
   "source": [
    "import matplotlib as plt\n",
    "import seaborn as sns\n",
    "\n",
    "plt.style.use('ggplot')\n",
    "\n",
    "times = list(results_df['TIME'].values)\n",
    "times = [t for t in times if t!=0.0]"
   ]
  },
  {
   "cell_type": "code",
   "execution_count": 37,
   "metadata": {},
   "outputs": [],
   "source": [
    "time_list = []\n",
    "for time in results_df['TIME'].values:\n",
    "    if time=='0':\n",
    "        continue\n",
    "    else:\n",
    "        try:\n",
    "            time_list.append(float(time))\n",
    "        except:\n",
    "            continue"
   ]
  },
  {
   "cell_type": "code",
   "execution_count": 43,
   "metadata": {},
   "outputs": [
    {
     "data": {
      "image/png": "[encoded data removed]",
      "text/plain": [
       "<Figure size 640x480 with 1 Axes>"
      ]
     },
     "metadata": {},
     "output_type": "display_data"
    }
   ],
   "source": [
    "sns.kdeplot(time_list, fill=True);"
   ]
  },
  {
   "cell_type": "code",
   "execution_count": 44,
   "metadata": {},
   "outputs": [
    {
     "data": {
      "text/html": [
       "<div>\n",
       "<style scoped>\n",
       "    .dataframe tbody tr th:only-of-type {\n",
       "        vertical-align: middle;\n",
       "    }\n",
       "\n",
       "    .dataframe tbody tr th {\n",
       "        vertical-align: top;\n",
       "    }\n",
       "\n",
       "    .dataframe thead th {\n",
       "        text-align: right;\n",
       "    }\n",
       "</style>\n",
       "<table border=\"1\" class=\"dataframe\">\n",
       "  <thead>\n",
       "    <tr style=\"text-align: right;\">\n",
       "      <th></th>\n",
       "      <th>QUESTION</th>\n",
       "      <th>TIME</th>\n",
       "      <th>ANSWER</th>\n",
       "      <th>LLM_ANSWER</th>\n",
       "    </tr>\n",
       "  </thead>\n",
       "  <tbody>\n",
       "    <tr>\n",
       "      <th>count</th>\n",
       "      <td>225</td>\n",
       "      <td>236</td>\n",
       "      <td>225</td>\n",
       "      <td>179</td>\n",
       "    </tr>\n",
       "    <tr>\n",
       "      <th>unique</th>\n",
       "      <td>218</td>\n",
       "      <td>197</td>\n",
       "      <td>115</td>\n",
       "      <td>81</td>\n",
       "    </tr>\n",
       "    <tr>\n",
       "      <th>top</th>\n",
       "      <td>I want the long term interest rates from Janua...</td>\n",
       "      <td>0</td>\n",
       "      <td>obb_crypto_price_historical</td>\n",
       "      <td>obb_crypto_price_historical</td>\n",
       "    </tr>\n",
       "    <tr>\n",
       "      <th>freq</th>\n",
       "      <td>2</td>\n",
       "      <td>35</td>\n",
       "      <td>10</td>\n",
       "      <td>11</td>\n",
       "    </tr>\n",
       "  </tbody>\n",
       "</table>\n",
       "</div>"
      ],
      "text/plain": [
       "                                                 QUESTION TIME  \\\n",
       "count                                                 225  236   \n",
       "unique                                                218  197   \n",
       "top     I want the long term interest rates from Janua...    0   \n",
       "freq                                                    2   35   \n",
       "\n",
       "                             ANSWER                   LLM_ANSWER  \n",
       "count                           225                          179  \n",
       "unique                          115                           81  \n",
       "top     obb_crypto_price_historical  obb_crypto_price_historical  \n",
       "freq                             10                           11  "
      ]
     },
     "execution_count": 44,
     "metadata": {},
     "output_type": "execute_result"
    }
   ],
   "source": [
    "results_df.describe()"
   ]
  },
  {
   "cell_type": "code",
   "execution_count": 50,
   "metadata": {},
   "outputs": [],
   "source": [
    "answers_list = [ans for ans in results_df['ANSWER'].values if ans is not pd.NA]\n",
    "llm_answer_list = [llm_ans for llm_ans in results_df['LLM_ANSWER'].values if llm_ans is not pd.NA]"
   ]
  },
  {
   "cell_type": "code",
   "execution_count": 55,
   "metadata": {},
   "outputs": [
    {
     "name": "stdout",
     "output_type": "stream",
     "text": [
      "0.5570776255707762\n"
     ]
    }
   ],
   "source": [
    "# Iterate over both the list and find how many common elements between them\n",
    "from collections import Counter\n",
    "from itertools import chain\n",
    "\n",
    "correct = 0\n",
    "for al,lml in zip(answers_list,llm_answer_list):\n",
    "    if al == lml:\n",
    "        correct+=1\n",
    "\n",
    "print(correct/219)"
   ]
  },
  {
   "cell_type": "code",
   "execution_count": 71,
   "metadata": {},
   "outputs": [],
   "source": [
    "import pandas as pd\n",
    "\n",
    "results_df2 = pd.read_csv(\"hierarchical_answersv2.csv\")"
   ]
  },
  {
   "cell_type": "code",
   "execution_count": 72,
   "metadata": {},
   "outputs": [],
   "source": [
    "results_df2.dropna(subset=[\"QUESTION\"],inplace=True)"
   ]
  },
  {
   "cell_type": "code",
   "execution_count": 73,
   "metadata": {},
   "outputs": [
    {
     "data": {
      "text/plain": [
       "253"
      ]
     },
     "execution_count": 73,
     "metadata": {},
     "output_type": "execute_result"
    }
   ],
   "source": [
    "len(results_df2)"
   ]
  },
  {
   "cell_type": "code",
   "execution_count": 83,
   "metadata": {},
   "outputs": [
    {
     "name": "stdout",
     "output_type": "stream",
     "text": [
      "('I want the annual income statement of NVDA from yahoo finance', Empty DataFrame\n",
      "Columns: [QUESTION, TIME, ANSWER, LLM_ANSWER, COMPLETION_TOKENS, PROMPT_TOKENS, TOTAL_TOKENS]\n",
      "Index: [])\n",
      "('I want the interest on reserve balances (IORB) rate from provider fred', Empty DataFrame\n",
      "Columns: [QUESTION, TIME, ANSWER, LLM_ANSWER, COMPLETION_TOKENS, PROMPT_TOKENS, TOTAL_TOKENS]\n",
      "Index: [])\n",
      "(\"Search for 'EURUSD' currency pair using 'intrinio' as provider.\", Empty DataFrame\n",
      "Columns: [QUESTION, TIME, ANSWER, LLM_ANSWER, COMPLETION_TOKENS, PROMPT_TOKENS, TOTAL_TOKENS]\n",
      "Index: [])\n"
     ]
    }
   ],
   "source": [
    "corrects = 0\n",
    "prompt_tokens = []\n",
    "time_taken = []\n",
    "for question_df in results_df2.groupby('QUESTION'):\n",
    "    if len(question_df[1])>1:\n",
    "        question_df[1].dropna(inplace=True)\n",
    "    try:\n",
    "        if question_df[1]['ANSWER'].values[0] == question_df[1]['LLM_ANSWER'].values[0]:\n",
    "            corrects+=1\n",
    "        prompt_tokens.append(question_df[1]['PROMPT_TOKENS'].values[0])\n",
    "        time_taken.append(question_df[1]['TIME'].values[0])\n",
    "    except:\n",
    "        print(question_df)"
   ]
  },
  {
   "cell_type": "code",
   "execution_count": 84,
   "metadata": {},
   "outputs": [
    {
     "data": {
      "text/plain": [
       "0.6666666666666666"
      ]
     },
     "execution_count": 84,
     "metadata": {},
     "output_type": "execute_result"
    }
   ],
   "source": [
    "corrects/219"
   ]
  },
  {
   "cell_type": "code",
   "execution_count": 89,
   "metadata": {},
   "outputs": [
    {
     "data": {
      "image/png": "[encoded data removed]",
      "text/plain": [
       "<Figure size 640x480 with 1 Axes>"
      ]
     },
     "metadata": {},
     "output_type": "display_data"
    }
   ],
   "source": [
    "import matplotlib as plt\n",
    "import seaborn as sns\n",
    "\n",
    "plt.style.use('ggplot')\n",
    "time_taken = [float(x) for x in time_taken]\n",
    "sns.kdeplot(time_taken, fill=True);"
   ]
  },
  {
   "cell_type": "code",
   "execution_count": 90,
   "metadata": {},
   "outputs": [
    {
     "data": {
      "image/png": "[encoded data removed]",
      "text/plain": [
       "<Figure size 640x480 with 1 Axes>"
      ]
     },
     "metadata": {},
     "output_type": "display_data"
    }
   ],
   "source": [
    "prompt_tokens = [float(x) for x in prompt_tokens]\n",
    "sns.kdeplot(prompt_tokens, fill=True);"
   ]
  },
  {
   "cell_type": "markdown",
   "metadata": {},
   "source": [
    "## METRICS"
   ]
  },
  {
   "cell_type": "markdown",
   "metadata": {},
   "source": [
    "## CHROMA VECTORDB"
   ]
  },
  {
   "cell_type": "code",
   "execution_count": 2,
   "metadata": {},
   "outputs": [
    {
     "name": "stdout",
     "output_type": "stream",
     "text": [
      "(\"Search for 'EURUSD' currency pair using 'intrinio' as provider.\", Empty DataFrame\n",
      "Columns: [QUESTION, TIME, ANSWER, LLM_ANSWER, COMPLETION_TOKENS, PROMPT_TOKENS, TOTAL_TOKENS]\n",
      "Index: [])\n"
     ]
    }
   ],
   "source": [
    "import pandas as pd\n",
    "\n",
    "results_df2 = pd.read_csv(\"../benchmarking/hierarchical_answersv2chroma.csv\")\n",
    "\n",
    "results_df2.dropna(subset=[\"QUESTION\"],inplace=True)\n",
    "corrects = 0\n",
    "prompt_tokens = []\n",
    "time_taken = []\n",
    "for question_df in results_df2.groupby('QUESTION'):\n",
    "    if len(question_df[1])>1:\n",
    "        question_df[1].dropna(inplace=True)\n",
    "    try:\n",
    "        if question_df[1]['ANSWER'].values[0] == question_df[1]['LLM_ANSWER'].values[0]:\n",
    "            corrects+=1\n",
    "        prompt_tokens.append(question_df[1]['PROMPT_TOKENS'].values[0])\n",
    "        time_taken.append(question_df[1]['TIME'].values[0])\n",
    "    except:\n",
    "        print(question_df)\n"
   ]
  },
  {
   "cell_type": "code",
   "execution_count": 3,
   "metadata": {},
   "outputs": [
    {
     "data": {
      "text/plain": [
       "0.7123287671232876"
      ]
     },
     "execution_count": 3,
     "metadata": {},
     "output_type": "execute_result"
    }
   ],
   "source": [
    "corrects/219"
   ]
  },
  {
   "cell_type": "code",
   "execution_count": 4,
   "metadata": {},
   "outputs": [
    {
     "data": {
      "image/png": "[encoded data removed]",
      "text/plain": [
       "<Figure size 640x480 with 1 Axes>"
      ]
     },
     "metadata": {},
     "output_type": "display_data"
    }
   ],
   "source": [
    "import matplotlib as plt\n",
    "import seaborn as sns\n",
    "\n",
    "plt.style.use('ggplot')\n",
    "time_taken = [float(x) for x in time_taken]\n",
    "sns.histplot(time_taken, fill=True,);"
   ]
  },
  {
   "cell_type": "code",
   "execution_count": 5,
   "metadata": {},
   "outputs": [
    {
     "data": {
      "image/png": "[encoded data removed]",
      "text/plain": [
       "<Figure size 640x480 with 1 Axes>"
      ]
     },
     "metadata": {},
     "output_type": "display_data"
    }
   ],
   "source": [
    "prompt_tokens = [float(x) for x in prompt_tokens]\n",
    "sns.histplot(prompt_tokens, fill=True);"
   ]
  },
  {
   "cell_type": "markdown",
   "metadata": {},
   "source": [
    "## BM25 METRICS"
   ]
  },
  {
   "cell_type": "code",
   "execution_count": 6,
   "metadata": {},
   "outputs": [
    {
     "name": "stdout",
     "output_type": "stream",
     "text": [
      "(\"Search for 'EURUSD' currency pair using 'intrinio' as provider.\", Empty DataFrame\n",
      "Columns: [QUESTION, TIME, ANSWER, LLM_ANSWER, COMPLETION_TOKENS, PROMPT_TOKENS, TOTAL_TOKENS]\n",
      "Index: [])\n"
     ]
    }
   ],
   "source": [
    "import pandas as pd\n",
    "\n",
    "results_df2 = pd.read_csv(\"../benchmarking/hierarchical_answersv2bm25.csv\")\n",
    "\n",
    "results_df2.dropna(subset=[\"QUESTION\"],inplace=True)\n",
    "corrects = 0\n",
    "prompt_tokens = []\n",
    "time_taken = []\n",
    "for question_df in results_df2.groupby('QUESTION'):\n",
    "    if len(question_df[1])>1:\n",
    "        question_df[1].dropna(inplace=True)\n",
    "    try:\n",
    "        if question_df[1]['ANSWER'].values[0] == question_df[1]['LLM_ANSWER'].values[0]:\n",
    "            corrects+=1\n",
    "        prompt_tokens.append(question_df[1]['PROMPT_TOKENS'].values[0])\n",
    "        time_taken.append(question_df[1]['TIME'].values[0])\n",
    "    except:\n",
    "        print(question_df)\n"
   ]
  },
  {
   "cell_type": "code",
   "execution_count": 7,
   "metadata": {},
   "outputs": [
    {
     "data": {
      "text/plain": [
       "0.136986301369863"
      ]
     },
     "execution_count": 7,
     "metadata": {},
     "output_type": "execute_result"
    }
   ],
   "source": [
    "corrects/219"
   ]
  },
  {
   "cell_type": "code",
   "execution_count": 9,
   "metadata": {},
   "outputs": [
    {
     "data": {
      "image/png": "[encoded data removed]",
      "text/plain": [
       "<Figure size 640x480 with 1 Axes>"
      ]
     },
     "metadata": {},
     "output_type": "display_data"
    }
   ],
   "source": [
    "import matplotlib as plt\n",
    "import seaborn as sns\n",
    "\n",
    "plt.style.use('ggplot')\n",
    "time_taken = [float(x) for x in time_taken]\n",
    "sns.histplot(time_taken, fill=True);"
   ]
  },
  {
   "cell_type": "code",
   "execution_count": 10,
   "metadata": {},
   "outputs": [
    {
     "data": {
      "image/png": "[encoded data removed]",
      "text/plain": [
       "<Figure size 640x480 with 1 Axes>"
      ]
     },
     "metadata": {},
     "output_type": "display_data"
    }
   ],
   "source": [
    "prompt_tokens = [float(x) for x in prompt_tokens]\n",
    "sns.histplot(prompt_tokens, fill=True);"
   ]
  },
  {
   "cell_type": "markdown",
   "metadata": {},
   "source": [
    "## BM25 TESTING"
   ]
  },
  {
   "cell_type": "code",
   "execution_count": 1,
   "metadata": {},
   "outputs": [
    {
     "data": {
      "text/plain": [
       "True"
      ]
     },
     "execution_count": 1,
     "metadata": {},
     "output_type": "execute_result"
    }
   ],
   "source": [
    "from dotenv import load_dotenv, find_dotenv\n",
    "\n",
    "load_dotenv(find_dotenv(),override=True)"
   ]
  },
  {
   "cell_type": "code",
   "execution_count": 3,
   "metadata": {},
   "outputs": [],
   "source": [
    "from agent import load_database\n",
    "import os\n",
    "openbb_collection = load_database(os.environ['OPENAI_API_KEY'])"
   ]
  },
  {
   "cell_type": "code",
   "execution_count": 23,
   "metadata": {},
   "outputs": [
    {
     "name": "stdout",
     "output_type": "stream",
     "text": [
      "The autoreload extension is already loaded. To reload it, use:\n",
      "  %reload_ext autoreload\n"
     ]
    }
   ],
   "source": [
    "from agent.dspy_agent import OpenBBAgentBM25\n",
    "%load_ext autoreload\n",
    "%autoreload 2\n",
    "obb_bm25 = OpenBBAgentBM25(openbb_collection)"
   ]
  },
  {
   "cell_type": "code",
   "execution_count": 21,
   "metadata": {},
   "outputs": [
    {
     "name": "stdout",
     "output_type": "stream",
     "text": [
      "\u001b[93mFirst level str: currency: Currency Search.  Search available currency pairs. Currency pairs are the national currencies from two countries coupled for trading on the foreign exchange (FX) marketplace. Both currencies will have exchange rates on which the trade will have its position basis. All trading within the forex market, whether selling, buying, or trading, will take place through currency pairs. (ref: Investopedia) Major currency pairs include pairs such as EUR/USD, USD/JPY, GBP/USD, etc.\n",
      "\n",
      "fixedincome: European Central Bank Interest Rates.  The Governing Council of the ECB sets the key interest rates for the euro area:  - The interest rate on the main refinancing operations (MRO), which provide the bulk of liquidity to the banking system. - The rate on the deposit facility, which banks may use to make overnight deposits with the Eurosystem. - The rate on the marginal lending facility, which offers overnight credit to banks from the Eurosystem.\n",
      "\n",
      "economy: Get Long-term interest rates that refer to government bonds maturing in ten years.  Rates are mainly determined by the price charged by the lender, the risk from the borrower and the fall in the capital value. Long-term interest rates are generally averages of daily rates, measured as a percentage. These interest rates are implied by the prices at which the government bonds are traded on financial markets, not the interest rates at which the loans were issued. In all cases, they refer to bonds whose capital repayment is guaranteed by governments. Long-term interest rates are one of the determinants of business investment. Low long-term interest rates encourage investment in new equipment and high interest rates discourage it. Investment is, in turn, a major source of economic growth.\n",
      "\n",
      "equity: Get the form 13F.  The Securities and Exchange Commission's (SEC) Form 13F is a quarterly report that is required to be filed by all institutional investment managers with at least $100 million in assets under management. Managers are required to file Form 13F within 45 days after the last day of the calendar quarter. Most funds wait until the end of this period in order to conceal their investment strategy from competitors and the public.\n",
      "\n",
      "fixedincome: Euro Short-Term Rate.  The euro short-term rate (€STR) reflects the wholesale euro unsecured overnight borrowing costs of banks located in the euro area. The €STR is published on each TARGET2 business day based on transactions conducted and settled on the previous TARGET2 business day (the reporting date “T”) with a maturity date of T+1 which are deemed to have been executed at arm’s length and thus reflect market rates in an unbiased way.\n",
      "\n",
      "\u001b[0m\n",
      "\u001b[92mFirst level answer: currency\u001b[0m\n",
      "\u001b[93Current Trail: ['currency'] and level: 2\u001b[0m\n",
      "\u001b[93mSubsequent level 2 string to LLM: snapshots: Snapshots of currency exchange rates from an indirect or direct perspective of a base currency. \n",
      "\n",
      "\u001b[0m\n",
      "\u001b[93mSubsequent level 2 string to LLM: snapshots: Snapshots of currency exchange rates from an indirect or direct perspective of a base currency. \n",
      "\n",
      "search: Currency Search.  Search available currency pairs. Currency pairs are the national currencies from two countries coupled for trading on the foreign exchange (FX) marketplace. Both currencies will have exchange rates on which the trade will have its position basis. All trading within the forex market, whether selling, buying, or trading, will take place through currency pairs. (ref: Investopedia) Major currency pairs include pairs such as EUR/USD, USD/JPY, GBP/USD, etc.\n",
      "\n",
      "\u001b[0m\n",
      "\u001b[93mSubsequent level 2 string to LLM: snapshots: Snapshots of currency exchange rates from an indirect or direct perspective of a base currency. \n",
      "\n",
      "search: Currency Search.  Search available currency pairs. Currency pairs are the national currencies from two countries coupled for trading on the foreign exchange (FX) marketplace. Both currencies will have exchange rates on which the trade will have its position basis. All trading within the forex market, whether selling, buying, or trading, will take place through currency pairs. (ref: Investopedia) Major currency pairs include pairs such as EUR/USD, USD/JPY, GBP/USD, etc.\n",
      "\n",
      "price: Currency Historical Price. Currency historical data.  Currency historical prices refer to the past exchange rates of one currency against another over a specific period. This data provides insight into the fluctuations and trends in the foreign exchange market, helping analysts, traders, and economists understand currency performance, evaluate economic health, and make predictions about future movements.\n",
      "\n",
      "\u001b[0m\n",
      "\u001b[94mLLM Answer: Prediction(\n",
      "    rationale='produce the output. We are looking for the historical price of Ethereum, which falls under the category of Currency Historical Price.',\n",
      "    output='price'\n",
      ")\u001b[0m\n",
      "\u001b[93Current Trail: ['currency-->price'] and level: 3\u001b[0m\n"
     ]
    },
    {
     "data": {
      "text/plain": [
       "[[{'function_call': '{\\'name\\': \\'obb_currency_price_historical_fmp\\', \\'description\\': \\'Currency Historical Price. Currency historical data.\\\\n\\\\nCurrency historical prices refer to the past exchange rates of one currency against\\\\nanother over a specific period.\\\\nThis data provides insight into the fluctuations and trends in the foreign exchange market,\\\\nhelping analysts, traders, and economists understand currency performance,\\\\nevaluate economic health, and make predictions about future movements. Get it from provider fmp\\', \\'parameters\\': {\\'type\\': \\'object\\', \\'properties\\': {\\'symbol\\': {\\'type\\': \\'string\\', \\'description\\': \\'Symbol to get data for. Can use CURR1-CURR2 or CURR1CURR2 format. Multiple items allowed for provider(s): fmp, polygon, tiingo, yfinance.\\', \\'default\\': \\'\\'}, \\'start_date\\': {\\'type\\': \\'string\\', \\'description\\': \\'Start date of the data, in YYYY-MM-DD format.\\', \\'default\\': None}, \\'end_date\\': {\\'type\\': \\'string\\', \\'description\\': \\'End date of the data, in YYYY-MM-DD format.\\', \\'default\\': None}, \\'provider\\': {\\'description\\': \"The provider to use for the query, by default None. If None, the provider specified in defaults is selected or \\'fmp\\' if there is no default.\", \\'default\\': \\'fmp\\', \\'type\\': \\'string\\', \\'enum\\': [\\'fmp\\']}, \\'interval\\': {\\'name\\': \\'interval\\', \\'description\\': \\'Time interval of the data to return.\\', \\'default\\': \\'1d\\', \\'optional\\': True, \\'type\\': \\'string\\', \\'enum\\': [\\'1m\\', \\'5m\\', \\'15m\\', \\'30m\\', \\'1h\\', \\'4h\\', \\'1d\\']}}, \\'required\\': [\\'symbol\\', \\'provider\\']}}',\n",
       "   'node_name': 'obb_currency_price_historical_fmp',\n",
       "   'provider_source': 'fmp',\n",
       "   'trail': 'currency-->price-->historical',\n",
       "   'type': 'provider_function'},\n",
       "  {'function_call': '{\\'name\\': \\'obb_currency_price_historical_polygon\\', \\'description\\': \\'Currency Historical Price. Currency historical data.\\\\n\\\\nCurrency historical prices refer to the past exchange rates of one currency against\\\\nanother over a specific period.\\\\nThis data provides insight into the fluctuations and trends in the foreign exchange market,\\\\nhelping analysts, traders, and economists understand currency performance,\\\\nevaluate economic health, and make predictions about future movements. Get it from provider polygon\\', \\'parameters\\': {\\'type\\': \\'object\\', \\'properties\\': {\\'symbol\\': {\\'type\\': \\'string\\', \\'description\\': \\'Symbol to get data for. Can use CURR1-CURR2 or CURR1CURR2 format. Multiple items allowed for provider(s): fmp, polygon, tiingo, yfinance.\\', \\'default\\': \\'\\'}, \\'start_date\\': {\\'type\\': \\'string\\', \\'description\\': \\'Start date of the data, in YYYY-MM-DD format.\\', \\'default\\': None}, \\'end_date\\': {\\'type\\': \\'string\\', \\'description\\': \\'End date of the data, in YYYY-MM-DD format.\\', \\'default\\': None}, \\'provider\\': {\\'description\\': \"The provider to use for the query, by default None. If None, the provider specified in defaults is selected or \\'fmp\\' if there is no default.\", \\'default\\': \\'fmp\\', \\'type\\': \\'string\\', \\'enum\\': [\\'polygon\\']}, \\'interval\\': {\\'name\\': \\'interval\\', \\'type\\': \\'string\\', \\'description\\': \\'Time interval of the data to return. The numeric portion of the interval can be any positive integer. The letter portion can be one of the following: s, m, h, d, W, M, Q, Y\\', \\'default\\': \\'1d\\', \\'optional\\': True}, \\'sort\\': {\\'name\\': \\'sort\\', \\'description\\': \"Sort order of the data. This impacts the results in combination with the \\'limit\\' parameter. The results are always returned in ascending order by date.\", \\'default\\': \\'asc\\', \\'optional\\': True, \\'type\\': \\'string\\', \\'enum\\': [\\'asc\\', \\'desc\\']}, \\'limit\\': {\\'name\\': \\'limit\\', \\'type\\': \\'integer\\', \\'description\\': \\'The number of data entries to return.\\', \\'default\\': 49999, \\'optional\\': True}}, \\'required\\': [\\'symbol\\', \\'provider\\']}}',\n",
       "   'node_name': 'obb_currency_price_historical_polygon',\n",
       "   'provider_source': 'polygon',\n",
       "   'trail': 'currency-->price-->historical',\n",
       "   'type': 'provider_function'},\n",
       "  {'function_call': '{\\'name\\': \\'obb_currency_price_historical_tiingo\\', \\'description\\': \\'Currency Historical Price. Currency historical data.\\\\n\\\\nCurrency historical prices refer to the past exchange rates of one currency against\\\\nanother over a specific period.\\\\nThis data provides insight into the fluctuations and trends in the foreign exchange market,\\\\nhelping analysts, traders, and economists understand currency performance,\\\\nevaluate economic health, and make predictions about future movements. Get it from provider tiingo\\', \\'parameters\\': {\\'type\\': \\'object\\', \\'properties\\': {\\'symbol\\': {\\'type\\': \\'string\\', \\'description\\': \\'Symbol to get data for. Can use CURR1-CURR2 or CURR1CURR2 format. Multiple items allowed for provider(s): fmp, polygon, tiingo, yfinance.\\', \\'default\\': \\'\\'}, \\'start_date\\': {\\'type\\': \\'string\\', \\'description\\': \\'Start date of the data, in YYYY-MM-DD format.\\', \\'default\\': None}, \\'end_date\\': {\\'type\\': \\'string\\', \\'description\\': \\'End date of the data, in YYYY-MM-DD format.\\', \\'default\\': None}, \\'provider\\': {\\'description\\': \"The provider to use for the query, by default None. If None, the provider specified in defaults is selected or \\'fmp\\' if there is no default.\", \\'default\\': \\'fmp\\', \\'type\\': \\'string\\', \\'enum\\': [\\'tiingo\\']}, \\'interval\\': {\\'name\\': \\'interval\\', \\'description\\': \\'Time interval of the data to return.\\', \\'default\\': \\'1d\\', \\'optional\\': True, \\'type\\': \\'string\\', \\'enum\\': [\\'1m\\', \\'5m\\', \\'15m\\', \\'30m\\', \\'1h\\', \\'4h\\', \\'1d\\']}}, \\'required\\': [\\'symbol\\', \\'provider\\']}}',\n",
       "   'node_name': 'obb_currency_price_historical_tiingo',\n",
       "   'provider_source': 'tiingo',\n",
       "   'trail': 'currency-->price-->historical',\n",
       "   'type': 'provider_function'},\n",
       "  {'function_call': '{\\'name\\': \\'obb_currency_price_historical_yfinance\\', \\'description\\': \\'Currency Historical Price. Currency historical data.\\\\n\\\\nCurrency historical prices refer to the past exchange rates of one currency against\\\\nanother over a specific period.\\\\nThis data provides insight into the fluctuations and trends in the foreign exchange market,\\\\nhelping analysts, traders, and economists understand currency performance,\\\\nevaluate economic health, and make predictions about future movements. Get it from provider yfinance\\', \\'parameters\\': {\\'type\\': \\'object\\', \\'properties\\': {\\'symbol\\': {\\'type\\': \\'string\\', \\'description\\': \\'Symbol to get data for. Can use CURR1-CURR2 or CURR1CURR2 format. Multiple items allowed for provider(s): fmp, polygon, tiingo, yfinance.\\', \\'default\\': \\'\\'}, \\'start_date\\': {\\'type\\': \\'string\\', \\'description\\': \\'Start date of the data, in YYYY-MM-DD format.\\', \\'default\\': None}, \\'end_date\\': {\\'type\\': \\'string\\', \\'description\\': \\'End date of the data, in YYYY-MM-DD format.\\', \\'default\\': None}, \\'provider\\': {\\'description\\': \"The provider to use for the query, by default None. If None, the provider specified in defaults is selected or \\'fmp\\' if there is no default.\", \\'default\\': \\'fmp\\', \\'type\\': \\'string\\', \\'enum\\': [\\'yfinance\\']}, \\'interval\\': {\\'name\\': \\'interval\\', \\'description\\': \\'Time interval of the data to return.\\', \\'default\\': \\'1d\\', \\'optional\\': True, \\'type\\': \\'string\\', \\'enum\\': [\\'1m\\', \\'2m\\', \\'5m\\', \\'15m\\', \\'30m\\', \\'60m\\', \\'90m\\', \\'1h\\', \\'1d\\', \\'5d\\', \\'1W\\', \\'1M\\', \\'1Q\\']}}, \\'required\\': [\\'symbol\\', \\'provider\\']}}',\n",
       "   'node_name': 'obb_currency_price_historical_yfinance',\n",
       "   'provider_source': 'yfinance',\n",
       "   'trail': 'currency-->price-->historical',\n",
       "   'type': 'provider_function'}]]"
      ]
     },
     "execution_count": 21,
     "metadata": {},
     "output_type": "execute_result"
    }
   ],
   "source": [
    "obb_bm25(\"What is the historical price of Ethereum?\")"
   ]
  },
  {
   "cell_type": "code",
   "execution_count": 33,
   "metadata": {},
   "outputs": [
    {
     "name": "stdout",
     "output_type": "stream",
     "text": [
      "\u001b[93mFirst level str: equity: Get the form 13F.  The Securities and Exchange Commission's (SEC) Form 13F is a quarterly report that is required to be filed by all institutional investment managers with at least $100 million in assets under management. Managers are required to file Form 13F within 45 days after the last day of the calendar quarter. Most funds wait until the end of this period in order to conceal their investment strategy from competitors and the public.\n",
      "\n",
      "economy: Get Long-term interest rates that refer to government bonds maturing in ten years.  Rates are mainly determined by the price charged by the lender, the risk from the borrower and the fall in the capital value. Long-term interest rates are generally averages of daily rates, measured as a percentage. These interest rates are implied by the prices at which the government bonds are traded on financial markets, not the interest rates at which the loans were issued. In all cases, they refer to bonds whose capital repayment is guaranteed by governments. Long-term interest rates are one of the determinants of business investment. Low long-term interest rates encourage investment in new equipment and high interest rates discourage it. Investment is, in turn, a major source of economic growth.\n",
      "\n",
      "fixedincome: European Central Bank Interest Rates.  The Governing Council of the ECB sets the key interest rates for the euro area:  - The interest rate on the main refinancing operations (MRO), which provide the bulk of liquidity to the banking system. - The rate on the deposit facility, which banks may use to make overnight deposits with the Eurosystem. - The rate on the marginal lending facility, which offers overnight credit to banks from the Eurosystem.\n",
      "\n",
      "fixedincome: ICE BofA US Corporate Bond Indices.  The ICE BofA US Corporate Index tracks the performance of US dollar denominated investment grade corporate debt publicly issued in the US domestic market. Qualifying securities must have an investment grade rating (based on an average of Moody’s, S&P and Fitch), at least 18 months to final maturity at the time of issuance, at least one year remaining term to final maturity as of the rebalance date, a fixed coupon schedule and a minimum amount outstanding of $250 million. The ICE BofA US Corporate Index is a component of the US Corporate Master Index.\n",
      "\n",
      "currency: Currency Historical Price. Currency historical data.  Currency historical prices refer to the past exchange rates of one currency against another over a specific period. This data provides insight into the fluctuations and trends in the foreign exchange market, helping analysts, traders, and economists understand currency performance, evaluate economic health, and make predictions about future movements.\n",
      "\n",
      "\u001b[0m\n",
      "\u001b[92mFirst level answer: equity\u001b[0m\n",
      "\u001b[93Current Trail: ['equity'] and level: 2\u001b[0m\n",
      "\u001b[93mSubsequent level 2 string to LLM: shorts: Get reported Fail-to-deliver (FTD) data. \n",
      "\n",
      "\u001b[0m\n",
      "\u001b[93mSubsequent level 2 string to LLM: shorts: Get reported Fail-to-deliver (FTD) data. \n",
      "\n",
      "discovery: Get the top price gainers in the stock market. Get the top price losers in the stock market. \n",
      "\n",
      "\u001b[0m\n",
      "\u001b[93mSubsequent level 2 string to LLM: shorts: Get reported Fail-to-deliver (FTD) data. \n",
      "\n",
      "discovery: Get the top price gainers in the stock market. Get the top price losers in the stock market. \n",
      "\n",
      "search: Search for stock symbol, CIK, LEI, or company name. \n",
      "\n",
      "\u001b[0m\n",
      "\u001b[93mSubsequent level 2 string to LLM: shorts: Get reported Fail-to-deliver (FTD) data. \n",
      "\n",
      "discovery: Get the top price gainers in the stock market. Get the top price losers in the stock market. \n",
      "\n",
      "search: Search for stock symbol, CIK, LEI, or company name. \n",
      "\n",
      "discovery: Get top small cap stocks based on earnings growth.Get top tech stocks based on revenue and earnings growth. \n",
      "\n",
      "\u001b[0m\n",
      "\u001b[93mSubsequent level 2 string to LLM: shorts: Get reported Fail-to-deliver (FTD) data. \n",
      "\n",
      "discovery: Get the top price gainers in the stock market. Get the top price losers in the stock market. \n",
      "\n",
      "search: Search for stock symbol, CIK, LEI, or company name. \n",
      "\n",
      "discovery: Get top small cap stocks based on earnings growth.Get top tech stocks based on revenue and earnings growth. \n",
      "\n",
      "price: Get the National Best Bid and Offer for a given stock.\n",
      "\n",
      "\u001b[0m\n",
      "\u001b[94mLLM Answer: Prediction(\n",
      "    rationale='produce the output. We need minute level data for Ethereum from Yahoo Finance, which falls under the category of price data.',\n",
      "    output='price'\n",
      ")\u001b[0m\n",
      "\u001b[93Current Trail: ['equity-->price'] and level: 3\u001b[0m\n",
      "\u001b[93mSubsequent level 3 string to LLM: nbbo: Get the National Best Bid and Offer for a given stock. \n",
      "\n",
      "\u001b[0m\n",
      "\u001b[93mSubsequent level 3 string to LLM: nbbo: Get the National Best Bid and Offer for a given stock. \n",
      "\n",
      "quote: Get the latest quote for a given stock. Quote includes price, volume, and other data. \n",
      "\n",
      "\u001b[0m\n",
      "\u001b[93mSubsequent level 3 string to LLM: nbbo: Get the National Best Bid and Offer for a given stock. \n",
      "\n",
      "quote: Get the latest quote for a given stock. Quote includes price, volume, and other data. \n",
      "\n",
      "performance: Get price performance data for a given stock. This includes price changes for different time periods. \n",
      "\n",
      "\u001b[0m\n",
      "\u001b[94mLLM Answer: Prediction(\n",
      "    rationale='produce the output. We are looking for minute level data for Ethereum from Yahoo Finance, which falls under the category of getting the latest quote for a given stock.',\n",
      "    output='quote'\n",
      ")\u001b[0m\n",
      "\u001b[93Current Trail: ['equity-->price-->quote'] and level: 4\u001b[0m\n"
     ]
    }
   ],
   "source": [
    "funcs,prompts = obb_bm25(\"I want the minute level data for Ethereum from yahoo finance in dictionary format\")"
   ]
  },
  {
   "cell_type": "code",
   "execution_count": 34,
   "metadata": {},
   "outputs": [
    {
     "data": {
      "text/plain": [
       "[[{'prompt': \"You are given a list of keys and their corresponding description separated by semicolon in the format keys: description.\\n    Based on the query, you have to classify the question to one of the key or keys that is relevant to the question.\\n    Be precise and output only the relevant key or keys and don't output their descriptions.\\n    Don't include any other information and DON'T answer None or N/A\\n\\n---\\n\\nFollow the following format.\\n\\nQuery which you need to classify: ${query}\\n\\nKeys and Descriptions: ${keys_values}\\n\\nReasoning: Let's think step by step in order to ${produce the output}. We ...\\n\\nRelevant Key(s): relevant keys separated by ;\\n\\n---\\n\\nQuery which you need to classify: I want the minute level data for Ethereum from yahoo finance in dictionary format\\n\\nKeys and Descriptions:\\nequity: Get the form 13F.  The Securities and Exchange Commission's (SEC) Form 13F is a quarterly report that is required to be filed by all institutional investment managers with at least $100 million in assets under management. Managers are required to file Form 13F within 45 days after the last day of the calendar quarter. Most funds wait until the end of this period in order to conceal their investment strategy from competitors and the public.\\n\\neconomy: Get Long-term interest rates that refer to government bonds maturing in ten years.  Rates are mainly determined by the price charged by the lender, the risk from the borrower and the fall in the capital value. Long-term interest rates are generally averages of daily rates, measured as a percentage. These interest rates are implied by the prices at which the government bonds are traded on financial markets, not the interest rates at which the loans were issued. In all cases, they refer to bonds whose capital repayment is guaranteed by governments. Long-term interest rates are one of the determinants of business investment. Low long-term interest rates encourage investment in new equipment and high interest rates discourage it. Investment is, in turn, a major source of economic growth.\\n\\nfixedincome: European Central Bank Interest Rates.  The Governing Council of the ECB sets the key interest rates for the euro area:  - The interest rate on the main refinancing operations (MRO), which provide the bulk of liquidity to the banking system. - The rate on the deposit facility, which banks may use to make overnight deposits with the Eurosystem. - The rate on the marginal lending facility, which offers overnight credit to banks from the Eurosystem.\\n\\nfixedincome: ICE BofA US Corporate Bond Indices.  The ICE BofA US Corporate Index tracks the performance of US dollar denominated investment grade corporate debt publicly issued in the US domestic market. Qualifying securities must have an investment grade rating (based on an average of Moody’s, S&P and Fitch), at least 18 months to final maturity at the time of issuance, at least one year remaining term to final maturity as of the rebalance date, a fixed coupon schedule and a minimum amount outstanding of $250 million. The ICE BofA US Corporate Index is a component of the US Corporate Master Index.\\n\\ncurrency: Currency Historical Price. Currency historical data.  Currency historical prices refer to the past exchange rates of one currency against another over a specific period. This data provides insight into the fluctuations and trends in the foreign exchange market, helping analysts, traders, and economists understand currency performance, evaluate economic health, and make predictions about future movements.\\n\\n\\n\\nReasoning: Let's think step by step in order to\",\n",
       "   'response': {'id': 'chatcmpl-9V2BNrMGuTTjQFcV4aKN7Hcne9yQB',\n",
       "    'choices': [{'finish_reason': 'stop',\n",
       "      'index': 0,\n",
       "      'logprobs': None,\n",
       "      'message': {'content': 'produce the output. We need minute level data for Ethereum from Yahoo Finance, which falls under the category of equity data.\\n\\nRelevant Key(s): equity',\n",
       "       'role': 'assistant',\n",
       "       'function_call': None,\n",
       "       'tool_calls': None}}],\n",
       "    'created': 1717183585,\n",
       "    'model': 'gpt-3.5-turbo-0125',\n",
       "    'object': 'chat.completion',\n",
       "    'system_fingerprint': None,\n",
       "    'usage': {'completion_tokens': 30,\n",
       "     'prompt_tokens': 716,\n",
       "     'total_tokens': 746}},\n",
       "   'kwargs': {'stringify_request': '{\"temperature\": 0.0, \"max_tokens\": 1024, \"top_p\": 1, \"frequency_penalty\": 0, \"presence_penalty\": 0, \"n\": 1, \"model\": \"gpt-3.5-turbo-0125\", \"messages\": [{\"role\": \"user\", \"content\": \"You are given a list of keys and their corresponding description separated by semicolon in the format keys: description.\\\\n    Based on the query, you have to classify the question to one of the key or keys that is relevant to the question.\\\\n    Be precise and output only the relevant key or keys and don\\'t output their descriptions.\\\\n    Don\\'t include any other information and DON\\'T answer None or N/A\\\\n\\\\n---\\\\n\\\\nFollow the following format.\\\\n\\\\nQuery which you need to classify: ${query}\\\\n\\\\nKeys and Descriptions: ${keys_values}\\\\n\\\\nReasoning: Let\\'s think step by step in order to ${produce the output}. We ...\\\\n\\\\nRelevant Key(s): relevant keys separated by ;\\\\n\\\\n---\\\\n\\\\nQuery which you need to classify: I want the minute level data for Ethereum from yahoo finance in dictionary format\\\\n\\\\nKeys and Descriptions:\\\\nequity: Get the form 13F.  The Securities and Exchange Commission\\'s (SEC) Form 13F is a quarterly report that is required to be filed by all institutional investment managers with at least $100 million in assets under management. Managers are required to file Form 13F within 45 days after the last day of the calendar quarter. Most funds wait until the end of this period in order to conceal their investment strategy from competitors and the public.\\\\n\\\\neconomy: Get Long-term interest rates that refer to government bonds maturing in ten years.  Rates are mainly determined by the price charged by the lender, the risk from the borrower and the fall in the capital value. Long-term interest rates are generally averages of daily rates, measured as a percentage. These interest rates are implied by the prices at which the government bonds are traded on financial markets, not the interest rates at which the loans were issued. In all cases, they refer to bonds whose capital repayment is guaranteed by governments. Long-term interest rates are one of the determinants of business investment. Low long-term interest rates encourage investment in new equipment and high interest rates discourage it. Investment is, in turn, a major source of economic growth.\\\\n\\\\nfixedincome: European Central Bank Interest Rates.  The Governing Council of the ECB sets the key interest rates for the euro area:  - The interest rate on the main refinancing operations (MRO), which provide the bulk of liquidity to the banking system. - The rate on the deposit facility, which banks may use to make overnight deposits with the Eurosystem. - The rate on the marginal lending facility, which offers overnight credit to banks from the Eurosystem.\\\\n\\\\nfixedincome: ICE BofA US Corporate Bond Indices.  The ICE BofA US Corporate Index tracks the performance of US dollar denominated investment grade corporate debt publicly issued in the US domestic market. Qualifying securities must have an investment grade rating (based on an average of Moody\\\\u2019s, S&P and Fitch), at least 18 months to final maturity at the time of issuance, at least one year remaining term to final maturity as of the rebalance date, a fixed coupon schedule and a minimum amount outstanding of $250 million. The ICE BofA US Corporate Index is a component of the US Corporate Master Index.\\\\n\\\\ncurrency: Currency Historical Price. Currency historical data.  Currency historical prices refer to the past exchange rates of one currency against another over a specific period. This data provides insight into the fluctuations and trends in the foreign exchange market, helping analysts, traders, and economists understand currency performance, evaluate economic health, and make predictions about future movements.\\\\n\\\\n\\\\n\\\\nReasoning: Let\\'s think step by step in order to\"}]}'},\n",
       "   'raw_kwargs': {}},\n",
       "  {'prompt': \"You are given a list of keys and their corresponding description separated by semicolon in the format keys: description.\\n    Based on the query, you have to classify the question to one of the key or keys that is relevant to the question.\\n    Be precise and output only the relevant key or keys and don't output their descriptions.\\n    Don't include any other information and DON'T answer None or N/A\\n\\n---\\n\\nFollow the following format.\\n\\nQuery which you need to classify: ${query}\\n\\nKeys and Descriptions: ${keys_values}\\n\\nReasoning: Let's think step by step in order to ${produce the output}. We ...\\n\\nRelevant Key(s): relevant keys separated by ;\\n\\n---\\n\\nQuery which you need to classify: I want the minute level data for Ethereum from yahoo finance in dictionary format\\n\\nKeys and Descriptions:\\nshorts: Get reported Fail-to-deliver (FTD) data. \\n\\ndiscovery: Get the top price gainers in the stock market. Get the top price losers in the stock market. \\n\\nsearch: Search for stock symbol, CIK, LEI, or company name. \\n\\ndiscovery: Get top small cap stocks based on earnings growth.Get top tech stocks based on revenue and earnings growth. \\n\\nprice: Get the National Best Bid and Offer for a given stock.\\n\\n\\n\\nReasoning: Let's think step by step in order to\",\n",
       "   'response': {'id': 'chatcmpl-9V2BOtg5LI1l6nF23dYJpFSNgbsgE',\n",
       "    'choices': [{'finish_reason': 'stop',\n",
       "      'index': 0,\n",
       "      'logprobs': None,\n",
       "      'message': {'content': ' produce the output. We need minute level data for Ethereum from Yahoo Finance, which falls under the category of price data. \\n\\nRelevant Key(s): price',\n",
       "       'role': 'assistant',\n",
       "       'function_call': None,\n",
       "       'tool_calls': None}}],\n",
       "    'created': 1717183586,\n",
       "    'model': 'gpt-3.5-turbo-0125',\n",
       "    'object': 'chat.completion',\n",
       "    'system_fingerprint': None,\n",
       "    'usage': {'completion_tokens': 31,\n",
       "     'prompt_tokens': 280,\n",
       "     'total_tokens': 311}},\n",
       "   'kwargs': {'stringify_request': '{\"temperature\": 0.0, \"max_tokens\": 1024, \"top_p\": 1, \"frequency_penalty\": 0, \"presence_penalty\": 0, \"n\": 1, \"model\": \"gpt-3.5-turbo-0125\", \"messages\": [{\"role\": \"user\", \"content\": \"You are given a list of keys and their corresponding description separated by semicolon in the format keys: description.\\\\n    Based on the query, you have to classify the question to one of the key or keys that is relevant to the question.\\\\n    Be precise and output only the relevant key or keys and don\\'t output their descriptions.\\\\n    Don\\'t include any other information and DON\\'T answer None or N/A\\\\n\\\\n---\\\\n\\\\nFollow the following format.\\\\n\\\\nQuery which you need to classify: ${query}\\\\n\\\\nKeys and Descriptions: ${keys_values}\\\\n\\\\nReasoning: Let\\'s think step by step in order to ${produce the output}. We ...\\\\n\\\\nRelevant Key(s): relevant keys separated by ;\\\\n\\\\n---\\\\n\\\\nQuery which you need to classify: I want the minute level data for Ethereum from yahoo finance in dictionary format\\\\n\\\\nKeys and Descriptions:\\\\nshorts: Get reported Fail-to-deliver (FTD) data. \\\\n\\\\ndiscovery: Get the top price gainers in the stock market. Get the top price losers in the stock market. \\\\n\\\\nsearch: Search for stock symbol, CIK, LEI, or company name. \\\\n\\\\ndiscovery: Get top small cap stocks based on earnings growth.Get top tech stocks based on revenue and earnings growth. \\\\n\\\\nprice: Get the National Best Bid and Offer for a given stock.\\\\n\\\\n\\\\n\\\\nReasoning: Let\\'s think step by step in order to\"}]}'},\n",
       "   'raw_kwargs': {}},\n",
       "  {'prompt': \"You are given a list of keys and their corresponding description separated by semicolon in the format keys: description.\\n    Based on the query, you have to classify the question to one of the key or keys that is relevant to the question.\\n    Be precise and output only the relevant key or keys and don't output their descriptions.\\n    Don't include any other information and DON'T answer None or N/A\\n\\n---\\n\\nFollow the following format.\\n\\nQuery which you need to classify: ${query}\\n\\nKeys and Descriptions: ${keys_values}\\n\\nReasoning: Let's think step by step in order to ${produce the output}. We ...\\n\\nRelevant Key(s): relevant keys separated by ;\\n\\n---\\n\\nQuery which you need to classify: I want the minute level data for Ethereum from yahoo finance in dictionary format\\n\\nKeys and Descriptions:\\nnbbo: Get the National Best Bid and Offer for a given stock. \\n\\nquote: Get the latest quote for a given stock. Quote includes price, volume, and other data. \\n\\nperformance: Get price performance data for a given stock. This includes price changes for different time periods. \\n\\n\\n\\nReasoning: Let's think step by step in order to\",\n",
       "   'response': {'id': 'chatcmpl-9V2BPtZLEON2nU5ojuYOvuZQ9Z0UK',\n",
       "    'choices': [{'finish_reason': 'stop',\n",
       "      'index': 0,\n",
       "      'logprobs': None,\n",
       "      'message': {'content': ' produce the output. We are looking for minute level data for Ethereum from Yahoo Finance, which falls under the category of getting the latest quote for a given stock.\\n\\nRelevant Key(s): quote',\n",
       "       'role': 'assistant',\n",
       "       'function_call': None,\n",
       "       'tool_calls': None}}],\n",
       "    'created': 1717183587,\n",
       "    'model': 'gpt-3.5-turbo-0125',\n",
       "    'object': 'chat.completion',\n",
       "    'system_fingerprint': None,\n",
       "    'usage': {'completion_tokens': 38,\n",
       "     'prompt_tokens': 242,\n",
       "     'total_tokens': 280}},\n",
       "   'kwargs': {'stringify_request': '{\"temperature\": 0.0, \"max_tokens\": 1024, \"top_p\": 1, \"frequency_penalty\": 0, \"presence_penalty\": 0, \"n\": 1, \"model\": \"gpt-3.5-turbo-0125\", \"messages\": [{\"role\": \"user\", \"content\": \"You are given a list of keys and their corresponding description separated by semicolon in the format keys: description.\\\\n    Based on the query, you have to classify the question to one of the key or keys that is relevant to the question.\\\\n    Be precise and output only the relevant key or keys and don\\'t output their descriptions.\\\\n    Don\\'t include any other information and DON\\'T answer None or N/A\\\\n\\\\n---\\\\n\\\\nFollow the following format.\\\\n\\\\nQuery which you need to classify: ${query}\\\\n\\\\nKeys and Descriptions: ${keys_values}\\\\n\\\\nReasoning: Let\\'s think step by step in order to ${produce the output}. We ...\\\\n\\\\nRelevant Key(s): relevant keys separated by ;\\\\n\\\\n---\\\\n\\\\nQuery which you need to classify: I want the minute level data for Ethereum from yahoo finance in dictionary format\\\\n\\\\nKeys and Descriptions:\\\\nnbbo: Get the National Best Bid and Offer for a given stock. \\\\n\\\\nquote: Get the latest quote for a given stock. Quote includes price, volume, and other data. \\\\n\\\\nperformance: Get price performance data for a given stock. This includes price changes for different time periods. \\\\n\\\\n\\\\n\\\\nReasoning: Let\\'s think step by step in order to\"}]}'},\n",
       "   'raw_kwargs': {}}],\n",
       " [{'prompt': \"You are given a list of keys and their corresponding description separated by semicolon in the format keys: description.\\n    Based on the query, you have to classify the question to one of the key or keys that is relevant to the question.\\n    Be precise and output only the relevant key or keys and don't output their descriptions.\\n    Don't include any other information and DON'T answer None or N/A\\n\\n---\\n\\nFollow the following format.\\n\\nQuery which you need to classify: ${query}\\n\\nKeys and Descriptions: ${keys_values}\\n\\nReasoning: Let's think step by step in order to ${produce the output}. We ...\\n\\nRelevant Key(s): relevant keys separated by ;\\n\\n---\\n\\nQuery which you need to classify: I want the minute level data for Ethereum from yahoo finance in dictionary format\\n\\nKeys and Descriptions:\\nequity: Get the form 13F.  The Securities and Exchange Commission's (SEC) Form 13F is a quarterly report that is required to be filed by all institutional investment managers with at least $100 million in assets under management. Managers are required to file Form 13F within 45 days after the last day of the calendar quarter. Most funds wait until the end of this period in order to conceal their investment strategy from competitors and the public.\\n\\neconomy: Get Long-term interest rates that refer to government bonds maturing in ten years.  Rates are mainly determined by the price charged by the lender, the risk from the borrower and the fall in the capital value. Long-term interest rates are generally averages of daily rates, measured as a percentage. These interest rates are implied by the prices at which the government bonds are traded on financial markets, not the interest rates at which the loans were issued. In all cases, they refer to bonds whose capital repayment is guaranteed by governments. Long-term interest rates are one of the determinants of business investment. Low long-term interest rates encourage investment in new equipment and high interest rates discourage it. Investment is, in turn, a major source of economic growth.\\n\\nfixedincome: European Central Bank Interest Rates.  The Governing Council of the ECB sets the key interest rates for the euro area:  - The interest rate on the main refinancing operations (MRO), which provide the bulk of liquidity to the banking system. - The rate on the deposit facility, which banks may use to make overnight deposits with the Eurosystem. - The rate on the marginal lending facility, which offers overnight credit to banks from the Eurosystem.\\n\\nfixedincome: ICE BofA US Corporate Bond Indices.  The ICE BofA US Corporate Index tracks the performance of US dollar denominated investment grade corporate debt publicly issued in the US domestic market. Qualifying securities must have an investment grade rating (based on an average of Moody’s, S&P and Fitch), at least 18 months to final maturity at the time of issuance, at least one year remaining term to final maturity as of the rebalance date, a fixed coupon schedule and a minimum amount outstanding of $250 million. The ICE BofA US Corporate Index is a component of the US Corporate Master Index.\\n\\ncurrency: Currency Historical Price. Currency historical data.  Currency historical prices refer to the past exchange rates of one currency against another over a specific period. This data provides insight into the fluctuations and trends in the foreign exchange market, helping analysts, traders, and economists understand currency performance, evaluate economic health, and make predictions about future movements.\\n\\n\\n\\nReasoning: Let's think step by step in order to\",\n",
       "   'response': {'id': 'chatcmpl-9V2BNrMGuTTjQFcV4aKN7Hcne9yQB',\n",
       "    'choices': [{'finish_reason': 'stop',\n",
       "      'index': 0,\n",
       "      'logprobs': None,\n",
       "      'message': {'content': 'produce the output. We need minute level data for Ethereum from Yahoo Finance, which falls under the category of equity data.\\n\\nRelevant Key(s): equity',\n",
       "       'role': 'assistant',\n",
       "       'function_call': None,\n",
       "       'tool_calls': None}}],\n",
       "    'created': 1717183585,\n",
       "    'model': 'gpt-3.5-turbo-0125',\n",
       "    'object': 'chat.completion',\n",
       "    'system_fingerprint': None,\n",
       "    'usage': {'completion_tokens': 30,\n",
       "     'prompt_tokens': 716,\n",
       "     'total_tokens': 746}},\n",
       "   'kwargs': {'stringify_request': '{\"temperature\": 0.0, \"max_tokens\": 1024, \"top_p\": 1, \"frequency_penalty\": 0, \"presence_penalty\": 0, \"n\": 1, \"model\": \"gpt-3.5-turbo-0125\", \"messages\": [{\"role\": \"user\", \"content\": \"You are given a list of keys and their corresponding description separated by semicolon in the format keys: description.\\\\n    Based on the query, you have to classify the question to one of the key or keys that is relevant to the question.\\\\n    Be precise and output only the relevant key or keys and don\\'t output their descriptions.\\\\n    Don\\'t include any other information and DON\\'T answer None or N/A\\\\n\\\\n---\\\\n\\\\nFollow the following format.\\\\n\\\\nQuery which you need to classify: ${query}\\\\n\\\\nKeys and Descriptions: ${keys_values}\\\\n\\\\nReasoning: Let\\'s think step by step in order to ${produce the output}. We ...\\\\n\\\\nRelevant Key(s): relevant keys separated by ;\\\\n\\\\n---\\\\n\\\\nQuery which you need to classify: I want the minute level data for Ethereum from yahoo finance in dictionary format\\\\n\\\\nKeys and Descriptions:\\\\nequity: Get the form 13F.  The Securities and Exchange Commission\\'s (SEC) Form 13F is a quarterly report that is required to be filed by all institutional investment managers with at least $100 million in assets under management. Managers are required to file Form 13F within 45 days after the last day of the calendar quarter. Most funds wait until the end of this period in order to conceal their investment strategy from competitors and the public.\\\\n\\\\neconomy: Get Long-term interest rates that refer to government bonds maturing in ten years.  Rates are mainly determined by the price charged by the lender, the risk from the borrower and the fall in the capital value. Long-term interest rates are generally averages of daily rates, measured as a percentage. These interest rates are implied by the prices at which the government bonds are traded on financial markets, not the interest rates at which the loans were issued. In all cases, they refer to bonds whose capital repayment is guaranteed by governments. Long-term interest rates are one of the determinants of business investment. Low long-term interest rates encourage investment in new equipment and high interest rates discourage it. Investment is, in turn, a major source of economic growth.\\\\n\\\\nfixedincome: European Central Bank Interest Rates.  The Governing Council of the ECB sets the key interest rates for the euro area:  - The interest rate on the main refinancing operations (MRO), which provide the bulk of liquidity to the banking system. - The rate on the deposit facility, which banks may use to make overnight deposits with the Eurosystem. - The rate on the marginal lending facility, which offers overnight credit to banks from the Eurosystem.\\\\n\\\\nfixedincome: ICE BofA US Corporate Bond Indices.  The ICE BofA US Corporate Index tracks the performance of US dollar denominated investment grade corporate debt publicly issued in the US domestic market. Qualifying securities must have an investment grade rating (based on an average of Moody\\\\u2019s, S&P and Fitch), at least 18 months to final maturity at the time of issuance, at least one year remaining term to final maturity as of the rebalance date, a fixed coupon schedule and a minimum amount outstanding of $250 million. The ICE BofA US Corporate Index is a component of the US Corporate Master Index.\\\\n\\\\ncurrency: Currency Historical Price. Currency historical data.  Currency historical prices refer to the past exchange rates of one currency against another over a specific period. This data provides insight into the fluctuations and trends in the foreign exchange market, helping analysts, traders, and economists understand currency performance, evaluate economic health, and make predictions about future movements.\\\\n\\\\n\\\\n\\\\nReasoning: Let\\'s think step by step in order to\"}]}'},\n",
       "   'raw_kwargs': {}},\n",
       "  {'prompt': \"You are given a list of keys and their corresponding description separated by semicolon in the format keys: description.\\n    Based on the query, you have to classify the question to one of the key or keys that is relevant to the question.\\n    Be precise and output only the relevant key or keys and don't output their descriptions.\\n    Don't include any other information and DON'T answer None or N/A\\n\\n---\\n\\nFollow the following format.\\n\\nQuery which you need to classify: ${query}\\n\\nKeys and Descriptions: ${keys_values}\\n\\nReasoning: Let's think step by step in order to ${produce the output}. We ...\\n\\nRelevant Key(s): relevant keys separated by ;\\n\\n---\\n\\nQuery which you need to classify: I want the minute level data for Ethereum from yahoo finance in dictionary format\\n\\nKeys and Descriptions:\\nshorts: Get reported Fail-to-deliver (FTD) data. \\n\\ndiscovery: Get the top price gainers in the stock market. Get the top price losers in the stock market. \\n\\nsearch: Search for stock symbol, CIK, LEI, or company name. \\n\\ndiscovery: Get top small cap stocks based on earnings growth.Get top tech stocks based on revenue and earnings growth. \\n\\nprice: Get the National Best Bid and Offer for a given stock.\\n\\n\\n\\nReasoning: Let's think step by step in order to\",\n",
       "   'response': {'id': 'chatcmpl-9V2BOtg5LI1l6nF23dYJpFSNgbsgE',\n",
       "    'choices': [{'finish_reason': 'stop',\n",
       "      'index': 0,\n",
       "      'logprobs': None,\n",
       "      'message': {'content': ' produce the output. We need minute level data for Ethereum from Yahoo Finance, which falls under the category of price data. \\n\\nRelevant Key(s): price',\n",
       "       'role': 'assistant',\n",
       "       'function_call': None,\n",
       "       'tool_calls': None}}],\n",
       "    'created': 1717183586,\n",
       "    'model': 'gpt-3.5-turbo-0125',\n",
       "    'object': 'chat.completion',\n",
       "    'system_fingerprint': None,\n",
       "    'usage': {'completion_tokens': 31,\n",
       "     'prompt_tokens': 280,\n",
       "     'total_tokens': 311}},\n",
       "   'kwargs': {'stringify_request': '{\"temperature\": 0.0, \"max_tokens\": 1024, \"top_p\": 1, \"frequency_penalty\": 0, \"presence_penalty\": 0, \"n\": 1, \"model\": \"gpt-3.5-turbo-0125\", \"messages\": [{\"role\": \"user\", \"content\": \"You are given a list of keys and their corresponding description separated by semicolon in the format keys: description.\\\\n    Based on the query, you have to classify the question to one of the key or keys that is relevant to the question.\\\\n    Be precise and output only the relevant key or keys and don\\'t output their descriptions.\\\\n    Don\\'t include any other information and DON\\'T answer None or N/A\\\\n\\\\n---\\\\n\\\\nFollow the following format.\\\\n\\\\nQuery which you need to classify: ${query}\\\\n\\\\nKeys and Descriptions: ${keys_values}\\\\n\\\\nReasoning: Let\\'s think step by step in order to ${produce the output}. We ...\\\\n\\\\nRelevant Key(s): relevant keys separated by ;\\\\n\\\\n---\\\\n\\\\nQuery which you need to classify: I want the minute level data for Ethereum from yahoo finance in dictionary format\\\\n\\\\nKeys and Descriptions:\\\\nshorts: Get reported Fail-to-deliver (FTD) data. \\\\n\\\\ndiscovery: Get the top price gainers in the stock market. Get the top price losers in the stock market. \\\\n\\\\nsearch: Search for stock symbol, CIK, LEI, or company name. \\\\n\\\\ndiscovery: Get top small cap stocks based on earnings growth.Get top tech stocks based on revenue and earnings growth. \\\\n\\\\nprice: Get the National Best Bid and Offer for a given stock.\\\\n\\\\n\\\\n\\\\nReasoning: Let\\'s think step by step in order to\"}]}'},\n",
       "   'raw_kwargs': {}},\n",
       "  {'prompt': \"You are given a list of keys and their corresponding description separated by semicolon in the format keys: description.\\n    Based on the query, you have to classify the question to one of the key or keys that is relevant to the question.\\n    Be precise and output only the relevant key or keys and don't output their descriptions.\\n    Don't include any other information and DON'T answer None or N/A\\n\\n---\\n\\nFollow the following format.\\n\\nQuery which you need to classify: ${query}\\n\\nKeys and Descriptions: ${keys_values}\\n\\nReasoning: Let's think step by step in order to ${produce the output}. We ...\\n\\nRelevant Key(s): relevant keys separated by ;\\n\\n---\\n\\nQuery which you need to classify: I want the minute level data for Ethereum from yahoo finance in dictionary format\\n\\nKeys and Descriptions:\\nnbbo: Get the National Best Bid and Offer for a given stock. \\n\\nquote: Get the latest quote for a given stock. Quote includes price, volume, and other data. \\n\\nperformance: Get price performance data for a given stock. This includes price changes for different time periods. \\n\\n\\n\\nReasoning: Let's think step by step in order to\",\n",
       "   'response': {'id': 'chatcmpl-9V2BPtZLEON2nU5ojuYOvuZQ9Z0UK',\n",
       "    'choices': [{'finish_reason': 'stop',\n",
       "      'index': 0,\n",
       "      'logprobs': None,\n",
       "      'message': {'content': ' produce the output. We are looking for minute level data for Ethereum from Yahoo Finance, which falls under the category of getting the latest quote for a given stock.\\n\\nRelevant Key(s): quote',\n",
       "       'role': 'assistant',\n",
       "       'function_call': None,\n",
       "       'tool_calls': None}}],\n",
       "    'created': 1717183587,\n",
       "    'model': 'gpt-3.5-turbo-0125',\n",
       "    'object': 'chat.completion',\n",
       "    'system_fingerprint': None,\n",
       "    'usage': {'completion_tokens': 38,\n",
       "     'prompt_tokens': 242,\n",
       "     'total_tokens': 280}},\n",
       "   'kwargs': {'stringify_request': '{\"temperature\": 0.0, \"max_tokens\": 1024, \"top_p\": 1, \"frequency_penalty\": 0, \"presence_penalty\": 0, \"n\": 1, \"model\": \"gpt-3.5-turbo-0125\", \"messages\": [{\"role\": \"user\", \"content\": \"You are given a list of keys and their corresponding description separated by semicolon in the format keys: description.\\\\n    Based on the query, you have to classify the question to one of the key or keys that is relevant to the question.\\\\n    Be precise and output only the relevant key or keys and don\\'t output their descriptions.\\\\n    Don\\'t include any other information and DON\\'T answer None or N/A\\\\n\\\\n---\\\\n\\\\nFollow the following format.\\\\n\\\\nQuery which you need to classify: ${query}\\\\n\\\\nKeys and Descriptions: ${keys_values}\\\\n\\\\nReasoning: Let\\'s think step by step in order to ${produce the output}. We ...\\\\n\\\\nRelevant Key(s): relevant keys separated by ;\\\\n\\\\n---\\\\n\\\\nQuery which you need to classify: I want the minute level data for Ethereum from yahoo finance in dictionary format\\\\n\\\\nKeys and Descriptions:\\\\nnbbo: Get the National Best Bid and Offer for a given stock. \\\\n\\\\nquote: Get the latest quote for a given stock. Quote includes price, volume, and other data. \\\\n\\\\nperformance: Get price performance data for a given stock. This includes price changes for different time periods. \\\\n\\\\n\\\\n\\\\nReasoning: Let\\'s think step by step in order to\"}]}'},\n",
       "   'raw_kwargs': {}}],\n",
       " [{'prompt': \"You are given a list of keys and their corresponding description separated by semicolon in the format keys: description.\\n    Based on the query, you have to classify the question to one of the key or keys that is relevant to the question.\\n    Be precise and output only the relevant key or keys and don't output their descriptions.\\n    Don't include any other information and DON'T answer None or N/A\\n\\n---\\n\\nFollow the following format.\\n\\nQuery which you need to classify: ${query}\\n\\nKeys and Descriptions: ${keys_values}\\n\\nReasoning: Let's think step by step in order to ${produce the output}. We ...\\n\\nRelevant Key(s): relevant keys separated by ;\\n\\n---\\n\\nQuery which you need to classify: I want the minute level data for Ethereum from yahoo finance in dictionary format\\n\\nKeys and Descriptions:\\nequity: Get the form 13F.  The Securities and Exchange Commission's (SEC) Form 13F is a quarterly report that is required to be filed by all institutional investment managers with at least $100 million in assets under management. Managers are required to file Form 13F within 45 days after the last day of the calendar quarter. Most funds wait until the end of this period in order to conceal their investment strategy from competitors and the public.\\n\\neconomy: Get Long-term interest rates that refer to government bonds maturing in ten years.  Rates are mainly determined by the price charged by the lender, the risk from the borrower and the fall in the capital value. Long-term interest rates are generally averages of daily rates, measured as a percentage. These interest rates are implied by the prices at which the government bonds are traded on financial markets, not the interest rates at which the loans were issued. In all cases, they refer to bonds whose capital repayment is guaranteed by governments. Long-term interest rates are one of the determinants of business investment. Low long-term interest rates encourage investment in new equipment and high interest rates discourage it. Investment is, in turn, a major source of economic growth.\\n\\nfixedincome: European Central Bank Interest Rates.  The Governing Council of the ECB sets the key interest rates for the euro area:  - The interest rate on the main refinancing operations (MRO), which provide the bulk of liquidity to the banking system. - The rate on the deposit facility, which banks may use to make overnight deposits with the Eurosystem. - The rate on the marginal lending facility, which offers overnight credit to banks from the Eurosystem.\\n\\nfixedincome: ICE BofA US Corporate Bond Indices.  The ICE BofA US Corporate Index tracks the performance of US dollar denominated investment grade corporate debt publicly issued in the US domestic market. Qualifying securities must have an investment grade rating (based on an average of Moody’s, S&P and Fitch), at least 18 months to final maturity at the time of issuance, at least one year remaining term to final maturity as of the rebalance date, a fixed coupon schedule and a minimum amount outstanding of $250 million. The ICE BofA US Corporate Index is a component of the US Corporate Master Index.\\n\\ncurrency: Currency Historical Price. Currency historical data.  Currency historical prices refer to the past exchange rates of one currency against another over a specific period. This data provides insight into the fluctuations and trends in the foreign exchange market, helping analysts, traders, and economists understand currency performance, evaluate economic health, and make predictions about future movements.\\n\\n\\n\\nReasoning: Let's think step by step in order to\",\n",
       "   'response': {'id': 'chatcmpl-9V2BNrMGuTTjQFcV4aKN7Hcne9yQB',\n",
       "    'choices': [{'finish_reason': 'stop',\n",
       "      'index': 0,\n",
       "      'logprobs': None,\n",
       "      'message': {'content': 'produce the output. We need minute level data for Ethereum from Yahoo Finance, which falls under the category of equity data.\\n\\nRelevant Key(s): equity',\n",
       "       'role': 'assistant',\n",
       "       'function_call': None,\n",
       "       'tool_calls': None}}],\n",
       "    'created': 1717183585,\n",
       "    'model': 'gpt-3.5-turbo-0125',\n",
       "    'object': 'chat.completion',\n",
       "    'system_fingerprint': None,\n",
       "    'usage': {'completion_tokens': 30,\n",
       "     'prompt_tokens': 716,\n",
       "     'total_tokens': 746}},\n",
       "   'kwargs': {'stringify_request': '{\"temperature\": 0.0, \"max_tokens\": 1024, \"top_p\": 1, \"frequency_penalty\": 0, \"presence_penalty\": 0, \"n\": 1, \"model\": \"gpt-3.5-turbo-0125\", \"messages\": [{\"role\": \"user\", \"content\": \"You are given a list of keys and their corresponding description separated by semicolon in the format keys: description.\\\\n    Based on the query, you have to classify the question to one of the key or keys that is relevant to the question.\\\\n    Be precise and output only the relevant key or keys and don\\'t output their descriptions.\\\\n    Don\\'t include any other information and DON\\'T answer None or N/A\\\\n\\\\n---\\\\n\\\\nFollow the following format.\\\\n\\\\nQuery which you need to classify: ${query}\\\\n\\\\nKeys and Descriptions: ${keys_values}\\\\n\\\\nReasoning: Let\\'s think step by step in order to ${produce the output}. We ...\\\\n\\\\nRelevant Key(s): relevant keys separated by ;\\\\n\\\\n---\\\\n\\\\nQuery which you need to classify: I want the minute level data for Ethereum from yahoo finance in dictionary format\\\\n\\\\nKeys and Descriptions:\\\\nequity: Get the form 13F.  The Securities and Exchange Commission\\'s (SEC) Form 13F is a quarterly report that is required to be filed by all institutional investment managers with at least $100 million in assets under management. Managers are required to file Form 13F within 45 days after the last day of the calendar quarter. Most funds wait until the end of this period in order to conceal their investment strategy from competitors and the public.\\\\n\\\\neconomy: Get Long-term interest rates that refer to government bonds maturing in ten years.  Rates are mainly determined by the price charged by the lender, the risk from the borrower and the fall in the capital value. Long-term interest rates are generally averages of daily rates, measured as a percentage. These interest rates are implied by the prices at which the government bonds are traded on financial markets, not the interest rates at which the loans were issued. In all cases, they refer to bonds whose capital repayment is guaranteed by governments. Long-term interest rates are one of the determinants of business investment. Low long-term interest rates encourage investment in new equipment and high interest rates discourage it. Investment is, in turn, a major source of economic growth.\\\\n\\\\nfixedincome: European Central Bank Interest Rates.  The Governing Council of the ECB sets the key interest rates for the euro area:  - The interest rate on the main refinancing operations (MRO), which provide the bulk of liquidity to the banking system. - The rate on the deposit facility, which banks may use to make overnight deposits with the Eurosystem. - The rate on the marginal lending facility, which offers overnight credit to banks from the Eurosystem.\\\\n\\\\nfixedincome: ICE BofA US Corporate Bond Indices.  The ICE BofA US Corporate Index tracks the performance of US dollar denominated investment grade corporate debt publicly issued in the US domestic market. Qualifying securities must have an investment grade rating (based on an average of Moody\\\\u2019s, S&P and Fitch), at least 18 months to final maturity at the time of issuance, at least one year remaining term to final maturity as of the rebalance date, a fixed coupon schedule and a minimum amount outstanding of $250 million. The ICE BofA US Corporate Index is a component of the US Corporate Master Index.\\\\n\\\\ncurrency: Currency Historical Price. Currency historical data.  Currency historical prices refer to the past exchange rates of one currency against another over a specific period. This data provides insight into the fluctuations and trends in the foreign exchange market, helping analysts, traders, and economists understand currency performance, evaluate economic health, and make predictions about future movements.\\\\n\\\\n\\\\n\\\\nReasoning: Let\\'s think step by step in order to\"}]}'},\n",
       "   'raw_kwargs': {}},\n",
       "  {'prompt': \"You are given a list of keys and their corresponding description separated by semicolon in the format keys: description.\\n    Based on the query, you have to classify the question to one of the key or keys that is relevant to the question.\\n    Be precise and output only the relevant key or keys and don't output their descriptions.\\n    Don't include any other information and DON'T answer None or N/A\\n\\n---\\n\\nFollow the following format.\\n\\nQuery which you need to classify: ${query}\\n\\nKeys and Descriptions: ${keys_values}\\n\\nReasoning: Let's think step by step in order to ${produce the output}. We ...\\n\\nRelevant Key(s): relevant keys separated by ;\\n\\n---\\n\\nQuery which you need to classify: I want the minute level data for Ethereum from yahoo finance in dictionary format\\n\\nKeys and Descriptions:\\nshorts: Get reported Fail-to-deliver (FTD) data. \\n\\ndiscovery: Get the top price gainers in the stock market. Get the top price losers in the stock market. \\n\\nsearch: Search for stock symbol, CIK, LEI, or company name. \\n\\ndiscovery: Get top small cap stocks based on earnings growth.Get top tech stocks based on revenue and earnings growth. \\n\\nprice: Get the National Best Bid and Offer for a given stock.\\n\\n\\n\\nReasoning: Let's think step by step in order to\",\n",
       "   'response': {'id': 'chatcmpl-9V2BOtg5LI1l6nF23dYJpFSNgbsgE',\n",
       "    'choices': [{'finish_reason': 'stop',\n",
       "      'index': 0,\n",
       "      'logprobs': None,\n",
       "      'message': {'content': ' produce the output. We need minute level data for Ethereum from Yahoo Finance, which falls under the category of price data. \\n\\nRelevant Key(s): price',\n",
       "       'role': 'assistant',\n",
       "       'function_call': None,\n",
       "       'tool_calls': None}}],\n",
       "    'created': 1717183586,\n",
       "    'model': 'gpt-3.5-turbo-0125',\n",
       "    'object': 'chat.completion',\n",
       "    'system_fingerprint': None,\n",
       "    'usage': {'completion_tokens': 31,\n",
       "     'prompt_tokens': 280,\n",
       "     'total_tokens': 311}},\n",
       "   'kwargs': {'stringify_request': '{\"temperature\": 0.0, \"max_tokens\": 1024, \"top_p\": 1, \"frequency_penalty\": 0, \"presence_penalty\": 0, \"n\": 1, \"model\": \"gpt-3.5-turbo-0125\", \"messages\": [{\"role\": \"user\", \"content\": \"You are given a list of keys and their corresponding description separated by semicolon in the format keys: description.\\\\n    Based on the query, you have to classify the question to one of the key or keys that is relevant to the question.\\\\n    Be precise and output only the relevant key or keys and don\\'t output their descriptions.\\\\n    Don\\'t include any other information and DON\\'T answer None or N/A\\\\n\\\\n---\\\\n\\\\nFollow the following format.\\\\n\\\\nQuery which you need to classify: ${query}\\\\n\\\\nKeys and Descriptions: ${keys_values}\\\\n\\\\nReasoning: Let\\'s think step by step in order to ${produce the output}. We ...\\\\n\\\\nRelevant Key(s): relevant keys separated by ;\\\\n\\\\n---\\\\n\\\\nQuery which you need to classify: I want the minute level data for Ethereum from yahoo finance in dictionary format\\\\n\\\\nKeys and Descriptions:\\\\nshorts: Get reported Fail-to-deliver (FTD) data. \\\\n\\\\ndiscovery: Get the top price gainers in the stock market. Get the top price losers in the stock market. \\\\n\\\\nsearch: Search for stock symbol, CIK, LEI, or company name. \\\\n\\\\ndiscovery: Get top small cap stocks based on earnings growth.Get top tech stocks based on revenue and earnings growth. \\\\n\\\\nprice: Get the National Best Bid and Offer for a given stock.\\\\n\\\\n\\\\n\\\\nReasoning: Let\\'s think step by step in order to\"}]}'},\n",
       "   'raw_kwargs': {}},\n",
       "  {'prompt': \"You are given a list of keys and their corresponding description separated by semicolon in the format keys: description.\\n    Based on the query, you have to classify the question to one of the key or keys that is relevant to the question.\\n    Be precise and output only the relevant key or keys and don't output their descriptions.\\n    Don't include any other information and DON'T answer None or N/A\\n\\n---\\n\\nFollow the following format.\\n\\nQuery which you need to classify: ${query}\\n\\nKeys and Descriptions: ${keys_values}\\n\\nReasoning: Let's think step by step in order to ${produce the output}. We ...\\n\\nRelevant Key(s): relevant keys separated by ;\\n\\n---\\n\\nQuery which you need to classify: I want the minute level data for Ethereum from yahoo finance in dictionary format\\n\\nKeys and Descriptions:\\nnbbo: Get the National Best Bid and Offer for a given stock. \\n\\nquote: Get the latest quote for a given stock. Quote includes price, volume, and other data. \\n\\nperformance: Get price performance data for a given stock. This includes price changes for different time periods. \\n\\n\\n\\nReasoning: Let's think step by step in order to\",\n",
       "   'response': {'id': 'chatcmpl-9V2BPtZLEON2nU5ojuYOvuZQ9Z0UK',\n",
       "    'choices': [{'finish_reason': 'stop',\n",
       "      'index': 0,\n",
       "      'logprobs': None,\n",
       "      'message': {'content': ' produce the output. We are looking for minute level data for Ethereum from Yahoo Finance, which falls under the category of getting the latest quote for a given stock.\\n\\nRelevant Key(s): quote',\n",
       "       'role': 'assistant',\n",
       "       'function_call': None,\n",
       "       'tool_calls': None}}],\n",
       "    'created': 1717183587,\n",
       "    'model': 'gpt-3.5-turbo-0125',\n",
       "    'object': 'chat.completion',\n",
       "    'system_fingerprint': None,\n",
       "    'usage': {'completion_tokens': 38,\n",
       "     'prompt_tokens': 242,\n",
       "     'total_tokens': 280}},\n",
       "   'kwargs': {'stringify_request': '{\"temperature\": 0.0, \"max_tokens\": 1024, \"top_p\": 1, \"frequency_penalty\": 0, \"presence_penalty\": 0, \"n\": 1, \"model\": \"gpt-3.5-turbo-0125\", \"messages\": [{\"role\": \"user\", \"content\": \"You are given a list of keys and their corresponding description separated by semicolon in the format keys: description.\\\\n    Based on the query, you have to classify the question to one of the key or keys that is relevant to the question.\\\\n    Be precise and output only the relevant key or keys and don\\'t output their descriptions.\\\\n    Don\\'t include any other information and DON\\'T answer None or N/A\\\\n\\\\n---\\\\n\\\\nFollow the following format.\\\\n\\\\nQuery which you need to classify: ${query}\\\\n\\\\nKeys and Descriptions: ${keys_values}\\\\n\\\\nReasoning: Let\\'s think step by step in order to ${produce the output}. We ...\\\\n\\\\nRelevant Key(s): relevant keys separated by ;\\\\n\\\\n---\\\\n\\\\nQuery which you need to classify: I want the minute level data for Ethereum from yahoo finance in dictionary format\\\\n\\\\nKeys and Descriptions:\\\\nnbbo: Get the National Best Bid and Offer for a given stock. \\\\n\\\\nquote: Get the latest quote for a given stock. Quote includes price, volume, and other data. \\\\n\\\\nperformance: Get price performance data for a given stock. This includes price changes for different time periods. \\\\n\\\\n\\\\n\\\\nReasoning: Let\\'s think step by step in order to\"}]}'},\n",
       "   'raw_kwargs': {}}]]"
      ]
     },
     "execution_count": 34,
     "metadata": {},
     "output_type": "execute_result"
    }
   ],
   "source": [
    "prompts"
   ]
  },
  {
   "cell_type": "code",
   "execution_count": 36,
   "metadata": {},
   "outputs": [
    {
     "name": "stdout",
     "output_type": "stream",
     "text": [
      "obb_equity_price_quote_fmp\n",
      "obb_equity_price_quote_intrinio\n",
      "obb_equity_price_quote_yfinance\n"
     ]
    }
   ],
   "source": [
    "llm_answers = []\n",
    "# for fn in funcs[0][\"metadatas\"]:\n",
    "    # llm_answers.append(fn[\"node_name\"].rpartition(\"_\")[0])\n",
    "for fn in funcs[0]:\n",
    "    print(fn['node_name'])\n",
    "    # break"
   ]
  },
  {
   "cell_type": "code",
   "execution_count": 28,
   "metadata": {},
   "outputs": [
    {
     "data": {
      "text/plain": [
       "[{'function_call': '{\\'name\\': \\'obb_equity_price_quote_fmp\\', \\'description\\': \\'Get the latest quote for a given stock. Quote includes price, volume, and other data. Get it from provider fmp\\', \\'parameters\\': {\\'type\\': \\'object\\', \\'properties\\': {\\'symbol\\': {\\'type\\': \\'string\\', \\'description\\': \\'Symbol to get data for. Multiple items allowed for provider(s): fmp, intrinio, yfinance.\\', \\'default\\': \\'\\'}, \\'provider\\': {\\'description\\': \"The provider to use for the query, by default None. If None, the provider specified in defaults is selected or \\'fmp\\' if there is no default.\", \\'default\\': \\'fmp\\', \\'type\\': \\'string\\', \\'enum\\': [\\'fmp\\']}}, \\'required\\': [\\'symbol\\', \\'provider\\']}}',\n",
       "  'node_name': 'obb_equity_price_quote_fmp',\n",
       "  'provider_source': 'fmp',\n",
       "  'trail': 'equity-->price-->quote',\n",
       "  'type': 'provider_function'},\n",
       " {'function_call': '{\\'name\\': \\'obb_equity_price_quote_intrinio\\', \\'description\\': \\'Get the latest quote for a given stock. Quote includes price, volume, and other data. Get it from provider intrinio\\', \\'parameters\\': {\\'type\\': \\'object\\', \\'properties\\': {\\'symbol\\': {\\'type\\': \\'string\\', \\'description\\': \\'Symbol to get data for. Multiple items allowed for provider(s): fmp, intrinio, yfinance.\\', \\'default\\': \\'\\'}, \\'provider\\': {\\'description\\': \"The provider to use for the query, by default None. If None, the provider specified in defaults is selected or \\'fmp\\' if there is no default.\", \\'default\\': \\'fmp\\', \\'type\\': \\'string\\', \\'enum\\': [\\'intrinio\\']}, \\'source\\': {\\'name\\': \\'source\\', \\'description\\': \\'Source of the data.\\', \\'default\\': \\'iex\\', \\'optional\\': True, \\'type\\': \\'string\\', \\'enum\\': [\\'iex\\', \\'bats\\', \\'bats_delayed\\', \\'utp_delayed\\', \\'cta_a_delayed\\', \\'cta_b_delayed\\', \\'intrinio_mx\\', \\'intrinio_mx_plus\\', \\'delayed_sip\\']}}, \\'required\\': [\\'symbol\\', \\'provider\\']}}',\n",
       "  'node_name': 'obb_equity_price_quote_intrinio',\n",
       "  'provider_source': 'intrinio',\n",
       "  'trail': 'equity-->price-->quote',\n",
       "  'type': 'provider_function'},\n",
       " {'function_call': '{\\'name\\': \\'obb_equity_price_quote_yfinance\\', \\'description\\': \\'Get the latest quote for a given stock. Quote includes price, volume, and other data. Get it from provider yfinance\\', \\'parameters\\': {\\'type\\': \\'object\\', \\'properties\\': {\\'symbol\\': {\\'type\\': \\'string\\', \\'description\\': \\'Symbol to get data for. Multiple items allowed for provider(s): fmp, intrinio, yfinance.\\', \\'default\\': \\'\\'}, \\'provider\\': {\\'description\\': \"The provider to use for the query, by default None. If None, the provider specified in defaults is selected or \\'fmp\\' if there is no default.\", \\'default\\': \\'fmp\\', \\'type\\': \\'string\\', \\'enum\\': [\\'yfinance\\']}}, \\'required\\': [\\'symbol\\', \\'provider\\']}}',\n",
       "  'node_name': 'obb_equity_price_quote_yfinance',\n",
       "  'provider_source': 'yfinance',\n",
       "  'trail': 'equity-->price-->quote',\n",
       "  'type': 'provider_function'}]"
      ]
     },
     "execution_count": 28,
     "metadata": {},
     "output_type": "execute_result"
    }
   ],
   "source": [
    "funcs[0]"
   ]
  },
  {
   "cell_type": "code",
   "execution_count": 30,
   "metadata": {},
   "outputs": [
    {
     "name": "stdout",
     "output_type": "stream",
     "text": [
      "\u001b[92mFirst level string: equity: Get data about share float for a given company.\n",
      "\n",
      "equity: Get the 1 year trailing dividend yield for a given company over time.Get data about major holders for a given company over time. \n",
      "\n",
      "equity: Get historical dividend data for a given company.Get historical earnings per share data for a given company. \n",
      "\n",
      "crypto: Get historical price data for cryptocurrency pair(s) within a provider. Search available cryptocurrency pairs within a provider. \n",
      "\n",
      "equity: Get an extensive set of financial and accounting ratios for a given company over time.\n",
      "\n",
      "\u001b[0m\n",
      "\u001b[92mFirst level answer: crypto\u001b[0m\n",
      "\u001b[93mCurrent Trail: ['crypto'] and level: 2\u001b[0m\n",
      "\u001b[91mSubsequent level 2 string to LLM: price: Get historical price data for cryptocurrency pair(s) within a provider. \n",
      "\n",
      "search: Search available cryptocurrency pairs within a provider. \n",
      "\n",
      "\u001b[0m\n",
      "\u001b[94mLLM Answer: Prediction(\n",
      "    rationale='produce the output. We need minute level data for Ethereum from Yahoo Finance, which falls under historical price data for a cryptocurrency pair.',\n",
      "    output='price'\n",
      ")\u001b[0m\n",
      "\u001b[93mCurrent Trail: ['crypto-->price'] and level: 3\u001b[0m\n"
     ]
    }
   ],
   "source": [
    "from agent import OpenBBAgentChroma\n",
    "\n",
    "obb_chroma = OpenBBAgentChroma(openbb_collection)\n",
    "funcs,prompts = obb_chroma(\"I want the minute level data for Ethereum from yahoo finance in dictionary format\")"
   ]
  },
  {
   "cell_type": "code",
   "execution_count": 31,
   "metadata": {},
   "outputs": [
    {
     "data": {
      "text/plain": [
       "[{'ids': ['id239', 'id240', 'id241', 'id242'],\n",
       "  'embeddings': None,\n",
       "  'metadatas': [{'function_call': '{\\'name\\': \\'obb_crypto_price_historical_fmp\\', \\'description\\': \\'Get historical price data for cryptocurrency pair(s) within a provider. Get it from provider fmp\\', \\'parameters\\': {\\'type\\': \\'object\\', \\'properties\\': {\\'symbol\\': {\\'type\\': \\'string\\', \\'description\\': \\'Symbol to get data for. Can use CURR1-CURR2 or CURR1CURR2 format. Multiple items allowed for provider(s): fmp, polygon, tiingo, yfinance.\\', \\'default\\': \\'\\'}, \\'start_date\\': {\\'type\\': \\'string\\', \\'description\\': \\'Start date of the data, in YYYY-MM-DD format.\\', \\'default\\': None}, \\'end_date\\': {\\'type\\': \\'string\\', \\'description\\': \\'End date of the data, in YYYY-MM-DD format.\\', \\'default\\': None}, \\'provider\\': {\\'description\\': \"The provider to use for the query, by default None. If None, the provider specified in defaults is selected or \\'fmp\\' if there is no default.\", \\'default\\': \\'fmp\\', \\'type\\': \\'string\\', \\'enum\\': [\\'fmp\\']}, \\'interval\\': {\\'name\\': \\'interval\\', \\'description\\': \\'Time interval of the data to return.\\', \\'default\\': \\'1d\\', \\'optional\\': True, \\'type\\': \\'string\\', \\'enum\\': [\\'1m\\', \\'5m\\', \\'15m\\', \\'30m\\', \\'1h\\', \\'4h\\', \\'1d\\']}}, \\'required\\': [\\'symbol\\', \\'provider\\']}}',\n",
       "    'node_name': 'obb_crypto_price_historical_fmp',\n",
       "    'provider_source': 'fmp',\n",
       "    'trail': 'crypto-->price-->historical',\n",
       "    'type': 'provider_function'},\n",
       "   {'function_call': '{\\'name\\': \\'obb_crypto_price_historical_polygon\\', \\'description\\': \\'Get historical price data for cryptocurrency pair(s) within a provider. Get it from provider polygon\\', \\'parameters\\': {\\'type\\': \\'object\\', \\'properties\\': {\\'symbol\\': {\\'type\\': \\'string\\', \\'description\\': \\'Symbol to get data for. Can use CURR1-CURR2 or CURR1CURR2 format. Multiple items allowed for provider(s): fmp, polygon, tiingo, yfinance.\\', \\'default\\': \\'\\'}, \\'start_date\\': {\\'type\\': \\'string\\', \\'description\\': \\'Start date of the data, in YYYY-MM-DD format.\\', \\'default\\': None}, \\'end_date\\': {\\'type\\': \\'string\\', \\'description\\': \\'End date of the data, in YYYY-MM-DD format.\\', \\'default\\': None}, \\'provider\\': {\\'description\\': \"The provider to use for the query, by default None. If None, the provider specified in defaults is selected or \\'fmp\\' if there is no default.\", \\'default\\': \\'fmp\\', \\'type\\': \\'string\\', \\'enum\\': [\\'polygon\\']}, \\'interval\\': {\\'name\\': \\'interval\\', \\'type\\': \\'string\\', \\'description\\': \\'Time interval of the data to return. The numeric portion of the interval can be any positive integer. The letter portion can be one of the following: s, m, h, d, W, M, Q, Y\\', \\'default\\': \\'1d\\', \\'optional\\': True}, \\'sort\\': {\\'name\\': \\'sort\\', \\'description\\': \"Sort order of the data. This impacts the results in combination with the \\'limit\\' parameter. The results are always returned in ascending order by date.\", \\'default\\': \\'asc\\', \\'optional\\': True, \\'type\\': \\'string\\', \\'enum\\': [\\'asc\\', \\'desc\\']}, \\'limit\\': {\\'name\\': \\'limit\\', \\'type\\': \\'integer\\', \\'description\\': \\'The number of data entries to return.\\', \\'default\\': 49999, \\'optional\\': True}}, \\'required\\': [\\'symbol\\', \\'provider\\']}}',\n",
       "    'node_name': 'obb_crypto_price_historical_polygon',\n",
       "    'provider_source': 'polygon',\n",
       "    'trail': 'crypto-->price-->historical',\n",
       "    'type': 'provider_function'},\n",
       "   {'function_call': '{\\'name\\': \\'obb_crypto_price_historical_tiingo\\', \\'description\\': \\'Get historical price data for cryptocurrency pair(s) within a provider. Get it from provider tiingo\\', \\'parameters\\': {\\'type\\': \\'object\\', \\'properties\\': {\\'symbol\\': {\\'type\\': \\'string\\', \\'description\\': \\'Symbol to get data for. Can use CURR1-CURR2 or CURR1CURR2 format. Multiple items allowed for provider(s): fmp, polygon, tiingo, yfinance.\\', \\'default\\': \\'\\'}, \\'start_date\\': {\\'type\\': \\'string\\', \\'description\\': \\'Start date of the data, in YYYY-MM-DD format.\\', \\'default\\': None}, \\'end_date\\': {\\'type\\': \\'string\\', \\'description\\': \\'End date of the data, in YYYY-MM-DD format.\\', \\'default\\': None}, \\'provider\\': {\\'description\\': \"The provider to use for the query, by default None. If None, the provider specified in defaults is selected or \\'fmp\\' if there is no default.\", \\'default\\': \\'fmp\\', \\'type\\': \\'string\\', \\'enum\\': [\\'tiingo\\']}, \\'interval\\': {\\'name\\': \\'interval\\', \\'description\\': \\'Time interval of the data to return.\\', \\'default\\': \\'1d\\', \\'optional\\': True, \\'type\\': \\'string\\', \\'enum\\': [\\'1m\\', \\'5m\\', \\'15m\\', \\'30m\\', \\'1h\\', \\'4h\\', \\'1d\\']}, \\'exchanges\\': {\\'name\\': \\'exchanges\\', \\'type\\': \\'string\\', \\'description\\': \"To limit the query to a subset of exchanges e.g. [\\'POLONIEX\\', \\'GDAX\\']\", \\'default\\': None, \\'optional\\': True}}, \\'required\\': [\\'symbol\\', \\'provider\\']}}',\n",
       "    'node_name': 'obb_crypto_price_historical_tiingo',\n",
       "    'provider_source': 'tiingo',\n",
       "    'trail': 'crypto-->price-->historical',\n",
       "    'type': 'provider_function'},\n",
       "   {'function_call': '{\\'name\\': \\'obb_crypto_price_historical_yfinance\\', \\'description\\': \\'Get historical price data for cryptocurrency pair(s) within a provider. Get it from provider yfinance\\', \\'parameters\\': {\\'type\\': \\'object\\', \\'properties\\': {\\'symbol\\': {\\'type\\': \\'string\\', \\'description\\': \\'Symbol to get data for. Can use CURR1-CURR2 or CURR1CURR2 format. Multiple items allowed for provider(s): fmp, polygon, tiingo, yfinance.\\', \\'default\\': \\'\\'}, \\'start_date\\': {\\'type\\': \\'string\\', \\'description\\': \\'Start date of the data, in YYYY-MM-DD format.\\', \\'default\\': None}, \\'end_date\\': {\\'type\\': \\'string\\', \\'description\\': \\'End date of the data, in YYYY-MM-DD format.\\', \\'default\\': None}, \\'provider\\': {\\'description\\': \"The provider to use for the query, by default None. If None, the provider specified in defaults is selected or \\'fmp\\' if there is no default.\", \\'default\\': \\'fmp\\', \\'type\\': \\'string\\', \\'enum\\': [\\'yfinance\\']}, \\'interval\\': {\\'name\\': \\'interval\\', \\'description\\': \\'Time interval of the data to return.\\', \\'default\\': \\'1d\\', \\'optional\\': True, \\'type\\': \\'string\\', \\'enum\\': [\\'1m\\', \\'2m\\', \\'5m\\', \\'15m\\', \\'30m\\', \\'60m\\', \\'90m\\', \\'1h\\', \\'1d\\', \\'5d\\', \\'1W\\', \\'1M\\', \\'1Q\\']}}, \\'required\\': [\\'symbol\\', \\'provider\\']}}',\n",
       "    'node_name': 'obb_crypto_price_historical_yfinance',\n",
       "    'provider_source': 'yfinance',\n",
       "    'trail': 'crypto-->price-->historical',\n",
       "    'type': 'provider_function'}],\n",
       "  'documents': ['empty', 'empty', 'empty', 'empty'],\n",
       "  'uris': None,\n",
       "  'data': None}]"
      ]
     },
     "execution_count": 31,
     "metadata": {},
     "output_type": "execute_result"
    }
   ],
   "source": [
    "funcs"
   ]
  },
  {
   "cell_type": "code",
   "execution_count": null,
   "metadata": {},
   "outputs": [],
   "source": []
  }
 ],
 "metadata": {
  "kernelspec": {
   "display_name": "openbb-env",
   "language": "python",
   "name": "python3"
  },
  "language_info": {
   "codemirror_mode": {
    "name": "ipython",
    "version": 3
   },
   "file_extension": ".py",
   "mimetype": "text/x-python",
   "name": "python",
   "nbconvert_exporter": "python",
   "pygments_lexer": "ipython3",
   "version": "3.10.12"
  }
 },
 "nbformat": 4,
 "nbformat_minor": 2
}
