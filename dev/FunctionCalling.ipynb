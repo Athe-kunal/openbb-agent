{
 "cells": [
  {
   "cell_type": "code",
   "execution_count": 1,
   "metadata": {},
   "outputs": [
    {
     "data": {
      "text/plain": [
       "True"
      ]
     },
     "execution_count": 1,
     "metadata": {},
     "output_type": "execute_result"
    }
   ],
   "source": [
    "from dotenv import load_dotenv,find_dotenv\n",
    "import os\n",
    "load_dotenv(find_dotenv(),override=True)"
   ]
  },
  {
   "cell_type": "code",
   "execution_count": 3,
   "metadata": {},
   "outputs": [],
   "source": [
    "from agent.database import load_database\n",
    "openbb_collection = load_database(os.environ['OPENAI_API_KEY'])"
   ]
  },
  {
   "cell_type": "code",
   "execution_count": 4,
   "metadata": {},
   "outputs": [],
   "source": [
    "from agent.dspy_agent import OpenBBAgentBM25, OpenBBAgentChroma\n",
    "\n",
    "obb_chroma = OpenBBAgentChroma(openbb_collection)\n",
    "obb_bm25 = OpenBBAgentBM25(openbb_collection)"
   ]
  },
  {
   "cell_type": "code",
   "execution_count": 5,
   "metadata": {},
   "outputs": [
    {
     "name": "stdout",
     "output_type": "stream",
     "text": [
      "\u001b[92mFirst level string: equity: Get historical and upcoming initial public offerings (IPOs). Get historical and upcoming dividend payments. Includes dividend amount, ex-dividend and payment dates. Get historical and upcoming stock split operations. Get historical and upcoming company earnings releases. Includes earnings per share (EPS) and revenue data. Get the closest peers for a given company.  Peers consist of companies trading on the same exchange, operating within the same sector and with comparable market capitalizations. Get analyst price targets by company. Get historical analyst estimates for earnings and revenue. Get consensus price target and recommendation. Search for specific analysts and get their forecast track record. Get forward sales estimates. Get forward EPS estimates. Get the top price gainers in the stock market. Get the top price losers in the stock market. Get the most actively traded stocks based on volume. Get potentially undervalued large cap stocks. Get potentially undervalued growth stocks. Get top small cap stocks based on earnings growth. Get top tech stocks based on revenue and earnings growth. Get the URLs to SEC filings reported to EDGAR database, such as 10-K, 10-Q, 8-K, and more.  SEC filings include Form 10-K, Form 10-Q, Form 8-K, the proxy statement, Forms 3, 4, and 5, Schedule 13, Form 114, Foreign Investment Disclosures and others. The annual 10-K report is required to be filed annually and includes the company's financial statements, management discussion and analysis, and audited financial statements. Get equity valuation multiples for a given company. Get the balance sheet for a given company. Get the growth of a company's balance sheet items over time. Get the cash flow statement for a given company. Get financial statements as reported by the company. Get the growth of a company's cash flow statement items over time. Get historical dividend data for a given company. Get historical earnings per share data for a given company. Get historical employee count data for a given company. Search Intrinio data tags to search in latest or historical attributes. Get the latest value of a data tag from Intrinio. Get the historical values of a data tag from Intrinio. Get the income statement for a given company. Get the growth of a company's income statement items over time. Get fundamental metrics for a given company. Get executive management team data for a given company. Get executive management team compensation for a given company over time. Get an extensive set of financial and accounting ratios for a given company over time. Get the revenue geographic breakdown for a given company over time. Get the revenue breakdown by business segment for a given company over time. Get historical stock splits for a given company. Get earnings call transcripts for a given company. Get the 1 year trailing dividend yield for a given company over time. Get data about major holders for a given company over time. Get data about institutional ownership for a given company over time. Get data about trading by a company's management team and board of directors. \n",
      "\n",
      "etf: Search for ETFs.  An empty query returns the full list of ETFs from the provider. ETF Historical Market Price. ETF Information Overview. ETF Sector weighting. ETF Country weighting. Price performance as a return, over different periods. Get the holdings for an individual ETF. Use this function to get the holdings dates, if available. Get the recent price performance of each ticker held in the ETF. Get the exposure to ETFs for a specific stock. \n",
      "\n",
      "fixedincome: Treasury Constant Maturity.  Get data for 10-Year Treasury Constant Maturity Minus Selected Treasury Constant Maturity. Constant maturity is the theoretical value of a U.S. Treasury that is based on recent values of auctioned U.S. Treasuries. The value is obtained by the U.S. Treasury on a daily basis through interpolation of the Treasury yield curve which, in turn, is based on closing bid-yields of actively-traded Treasury securities.Select Treasury Constant Maturity.  Get data for Selected Treasury Constant Maturity Minus Federal Funds Rate Constant maturity is the theoretical value of a U.S. Treasury that is based on recent values of auctioned U.S. Treasuries. The value is obtained by the U.S. Treasury on a daily basis through interpolation of the Treasury yield curve which, in turn, is based on closing bid-yields of actively-traded Treasury securities. Select Treasury Bill.  Get Selected Treasury Bill Minus Federal Funds Rate. Constant maturity is the theoretical value of a U.S. Treasury that is based on recent values of auctioned U.S. Treasuries. The value is obtained by the U.S. Treasury on a daily basis through interpolation of the Treasury yield curve which, in turn, is based on closing bid-yields of actively-traded Treasury securities. US Yield Curve. Get United States yield curve. Government Treasury Rates. ICE BofA US Corporate Bond Indices.  The ICE BofA US Corporate Index tracks the performance of US dollar denominated investment grade corporate debt publicly issued in the US domestic market. Qualifying securities must have an investment grade rating (based on an average of Moody’s, S&P and Fitch), at least 18 months to final maturity at the time of issuance, at least one year remaining term to final maturity as of the rebalance date, a fixed coupon schedule and a minimum amount outstanding of $250 million. The ICE BofA US Corporate Index is a component of the US Corporate Master Index. Moody Corporate Bond Index.  Moody's Aaa and Baa are investment bonds that acts as an index of the performance of all bonds given an Aaa or Baa rating by Moody's Investors Service respectively. These corporate bonds often are used in macroeconomics as an alternative to the federal ten-year Treasury Bill as an indicator of the interest rate. High Quality Market Corporate Bond.  The HQM yield curve represents the high quality corporate bond market, i.e., corporate bonds rated AAA, AA, or A.  The HQM curve contains two regression terms. These terms are adjustment factors that blend AAA, AA, and A bonds into a single HQM yield curve that is the market-weighted average (MWA) quality of high quality bonds. Spot Rates.  The spot rates for any maturity is the yield on a bond that provides a single payment at that maturity. This is a zero coupon bond. Because each spot rate pertains to a single cashflow, it is the relevant interest rate concept for discounting a pension liability at the same maturity. \n",
      "\n",
      "derivatives: Get the complete options chain for a ticker. Historical futures prices. Futures Term Structure, current or historical. \n",
      "\n",
      "index: Historical Index Levels. Get Index Constituents. All indices available from a given provider. \n",
      "\n",
      "\u001b[0m\n",
      "\u001b[92mFirst level answer: equity\u001b[0m\n",
      "\u001b[93mCurrent Trail: ['equity'] and level: 2\u001b[0m\n",
      "\u001b[91mSubsequent level 2 string to LLM: market_snapshots: Get an updated equity market snapshot. This includes price data for thousands of stocks. \n",
      "\n",
      "ownership: Get data about major holders for a given company over time. Get data about institutional ownership for a given company over time. Get data about trading by a company's management team and board of directors. Get data about share float for a given company. Get the form 13F.  The Securities and Exchange Commission's (SEC) Form 13F is a quarterly report that is required to be filed by all institutional investment managers with at least $100 million in assets under management. Managers are required to file Form 13F within 45 days after the last day of the calendar quarter. Most funds wait until the end of this period in order to conceal their investment strategy from competitors and the public. \n",
      "\n",
      "discovery: Get the top price gainers in the stock market. Get the top price losers in the stock market. Get the most actively traded stocks based on volume. Get potentially undervalued large cap stocks. Get potentially undervalued growth stocks. Get top small cap stocks based on earnings growth. Get top tech stocks based on revenue and earnings growth. Get the URLs to SEC filings reported to EDGAR database, such as 10-K, 10-Q, 8-K, and more.  SEC filings include Form 10-K, Form 10-Q, Form 8-K, the proxy statement, Forms 3, 4, and 5, Schedule 13, Form 114, Foreign Investment Disclosures and others. The annual 10-K report is required to be filed annually and includes the company's financial statements, management discussion and analysis, and audited financial statements. \n",
      "\n",
      "fundamental: Get equity valuation multiples for a given company. Get the balance sheet for a given company. Get the growth of a company's balance sheet items over time. Get the cash flow statement for a given company. Get financial statements as reported by the company. Get the growth of a company's cash flow statement items over time. Get historical dividend data for a given company. Get historical earnings per share data for a given company. Get historical employee count data for a given company. Search Intrinio data tags to search in latest or historical attributes. Get the latest value of a data tag from Intrinio. Get the historical values of a data tag from Intrinio. Get the income statement for a given company. Get the growth of a company's income statement items over time. Get fundamental metrics for a given company. Get executive management team data for a given company. Get executive management team compensation for a given company over time. Get an extensive set of financial and accounting ratios for a given company over time. Get the revenue geographic breakdown for a given company over time. Get the revenue breakdown by business segment for a given company over time. Get historical stock splits for a given company. Get earnings call transcripts for a given company. Get the 1 year trailing dividend yield for a given company over time. \n",
      "\n",
      "price: Get the latest quote for a given stock. Quote includes price, volume, and other data. Get the National Best Bid and Offer for a given stock. Get price performance data for a given stock. This includes price changes for different time periods. \n",
      "\n",
      "\u001b[0m\n",
      "\u001b[94mLLM Answer: Prediction(\n",
      "    rationale='produce the output. We are looking for the value of a portfolio, which falls under the fundamental key as it involves equity valuation multiples, balance sheet, cash flow statement, financial statements, and other fundamental metrics.',\n",
      "    output='fundamental'\n",
      ")\u001b[0m\n",
      "\u001b[93mCurrent Trail: ['equity-->fundamental'] and level: 3\u001b[0m\n",
      "\u001b[91mSubsequent level 3 string to LLM: multiples: Get equity valuation multiples for a given company. \n",
      "\n",
      "balance_growth: Get the growth of a company's balance sheet items over time. \n",
      "\n",
      "metrics: Get fundamental metrics for a given company. \n",
      "\n",
      "balance: Get the balance sheet for a given company. \n",
      "\n",
      "latest_attributes: Get the latest value of a data tag from Intrinio. \n",
      "\n",
      "\u001b[0m\n",
      "\u001b[94mLLM Answer: Prediction(\n",
      "    rationale='produce the output. We are looking for the value of a portfolio, which falls under the category of metrics.',\n",
      "    output='metrics'\n",
      ")\u001b[0m\n",
      "\u001b[93mCurrent Trail: ['equity-->fundamental-->metrics'] and level: 4\u001b[0m\n"
     ]
    }
   ],
   "source": [
    "funcs,prompts = obb_chroma(\"I want the portfolio value of momentum portfolio?\")"
   ]
  },
  {
   "cell_type": "code",
   "execution_count": 6,
   "metadata": {},
   "outputs": [
    {
     "data": {
      "text/plain": [
       "'{\\'name\\': \\'obb-equity-fundamental-metrics_fmp\\', \\'description\\': \\'Get fundamental metrics for a given company. Get it from provider fmp\\', \\'parameters\\': {\\'type\\': \\'object\\', \\'properties\\': {\\'symbol\\': {\\'type\\': \\'string\\', \\'description\\': \\'Symbol to get data for. Multiple items allowed for provider(s): fmp, intrinio, yfinance.\\', \\'default\\': \\'\\'}, \\'period\\': {\\'description\\': \\'Time period of the data to return.\\', \\'default\\': \\'annual\\', \\'type\\': \\'string\\', \\'enum\\': [\\'annual\\', \\'quarter\\']}, \\'limit\\': {\\'type\\': \\'integer\\', \\'description\\': \\'The number of data entries to return.\\', \\'default\\': 100}, \\'provider\\': {\\'description\\': \"The provider to use for the query, by default None. If None, the provider specified in defaults is selected or \\'fmp\\' if there is no default.\", \\'default\\': \\'fmp\\', \\'type\\': \\'string\\', \\'enum\\': [\\'fmp\\']}, \\'with_ttm\\': {\\'name\\': \\'with_ttm\\', \\'type\\': \\'boolean\\', \\'description\\': \\'Include trailing twelve months (TTM) data.\\', \\'default\\': False, \\'optional\\': True, \\'enum\\': [\\'True\\', \\'False\\']}}, \\'required\\': [\\'symbol\\', \\'provider\\']}}'"
      ]
     },
     "execution_count": 6,
     "metadata": {},
     "output_type": "execute_result"
    }
   ],
   "source": [
    "funcs[0]['metadatas'][0]['function_call']"
   ]
  },
  {
   "cell_type": "code",
   "execution_count": 7,
   "metadata": {},
   "outputs": [
    {
     "data": {
      "text/plain": [
       "[{'ids': ['id229', 'id230', 'id231'],\n",
       "  'embeddings': None,\n",
       "  'metadatas': [{'function_call': '{\\'name\\': \\'obb-equity-fundamental-metrics_fmp\\', \\'description\\': \\'Get fundamental metrics for a given company. Get it from provider fmp\\', \\'parameters\\': {\\'type\\': \\'object\\', \\'properties\\': {\\'symbol\\': {\\'type\\': \\'string\\', \\'description\\': \\'Symbol to get data for. Multiple items allowed for provider(s): fmp, intrinio, yfinance.\\', \\'default\\': \\'\\'}, \\'period\\': {\\'description\\': \\'Time period of the data to return.\\', \\'default\\': \\'annual\\', \\'type\\': \\'string\\', \\'enum\\': [\\'annual\\', \\'quarter\\']}, \\'limit\\': {\\'type\\': \\'integer\\', \\'description\\': \\'The number of data entries to return.\\', \\'default\\': 100}, \\'provider\\': {\\'description\\': \"The provider to use for the query, by default None. If None, the provider specified in defaults is selected or \\'fmp\\' if there is no default.\", \\'default\\': \\'fmp\\', \\'type\\': \\'string\\', \\'enum\\': [\\'fmp\\']}, \\'with_ttm\\': {\\'name\\': \\'with_ttm\\', \\'type\\': \\'boolean\\', \\'description\\': \\'Include trailing twelve months (TTM) data.\\', \\'default\\': False, \\'optional\\': True, \\'enum\\': [\\'True\\', \\'False\\']}}, \\'required\\': [\\'symbol\\', \\'provider\\']}}',\n",
       "    'node_name': 'obb-equity-fundamental-metrics_fmp',\n",
       "    'provider_source': 'fmp',\n",
       "    'trail': 'equity-->fundamental-->metrics',\n",
       "    'type': 'provider_function'},\n",
       "   {'function_call': '{\\'name\\': \\'obb-equity-fundamental-metrics_intrinio\\', \\'description\\': \\'Get fundamental metrics for a given company. Get it from provider intrinio\\', \\'parameters\\': {\\'type\\': \\'object\\', \\'properties\\': {\\'symbol\\': {\\'type\\': \\'string\\', \\'description\\': \\'Symbol to get data for. Multiple items allowed for provider(s): fmp, intrinio, yfinance.\\', \\'default\\': \\'\\'}, \\'period\\': {\\'description\\': \\'Time period of the data to return.\\', \\'default\\': \\'annual\\', \\'type\\': \\'string\\', \\'enum\\': [\\'annual\\', \\'quarter\\']}, \\'limit\\': {\\'type\\': \\'integer\\', \\'description\\': \\'The number of data entries to return.\\', \\'default\\': 100}, \\'provider\\': {\\'description\\': \"The provider to use for the query, by default None. If None, the provider specified in defaults is selected or \\'fmp\\' if there is no default.\", \\'default\\': \\'fmp\\', \\'type\\': \\'string\\', \\'enum\\': [\\'intrinio\\']}}, \\'required\\': [\\'symbol\\', \\'provider\\']}}',\n",
       "    'node_name': 'obb-equity-fundamental-metrics_intrinio',\n",
       "    'provider_source': 'intrinio',\n",
       "    'trail': 'equity-->fundamental-->metrics',\n",
       "    'type': 'provider_function'},\n",
       "   {'function_call': '{\\'name\\': \\'obb-equity-fundamental-metrics_yfinance\\', \\'description\\': \\'Get fundamental metrics for a given company. Get it from provider yfinance\\', \\'parameters\\': {\\'type\\': \\'object\\', \\'properties\\': {\\'symbol\\': {\\'type\\': \\'string\\', \\'description\\': \\'Symbol to get data for. Multiple items allowed for provider(s): fmp, intrinio, yfinance.\\', \\'default\\': \\'\\'}, \\'period\\': {\\'description\\': \\'Time period of the data to return.\\', \\'default\\': \\'annual\\', \\'type\\': \\'string\\', \\'enum\\': [\\'annual\\', \\'quarter\\']}, \\'limit\\': {\\'type\\': \\'integer\\', \\'description\\': \\'The number of data entries to return.\\', \\'default\\': 100}, \\'provider\\': {\\'description\\': \"The provider to use for the query, by default None. If None, the provider specified in defaults is selected or \\'fmp\\' if there is no default.\", \\'default\\': \\'fmp\\', \\'type\\': \\'string\\', \\'enum\\': [\\'yfinance\\']}}, \\'required\\': [\\'symbol\\', \\'provider\\']}}',\n",
       "    'node_name': 'obb-equity-fundamental-metrics_yfinance',\n",
       "    'provider_source': 'yfinance',\n",
       "    'trail': 'equity-->fundamental-->metrics',\n",
       "    'type': 'provider_function'}],\n",
       "  'documents': ['empty', 'empty', 'empty'],\n",
       "  'uris': None,\n",
       "  'data': None}]"
      ]
     },
     "execution_count": 7,
     "metadata": {},
     "output_type": "execute_result"
    }
   ],
   "source": [
    "funcs"
   ]
  },
  {
   "cell_type": "code",
   "execution_count": 5,
   "metadata": {},
   "outputs": [
    {
     "name": "stdout",
     "output_type": "stream",
     "text": [
      "\u001b[92mFirst level string: etf: Use this function to get the holdings dates, if available.Get the recent price performance of each ticker held in the ETF. \n",
      "\n",
      "etf: ETF Sector weighting.ETF Country weighting. Price performance as a return, over different periods. Get the holdings for an individual ETF. \n",
      "\n",
      "equity: Get equity valuation multiples for a given company.Get the balance sheet for a given company. \n",
      "\n",
      "economy: Get Consumer Price Index (CPI).  Returns either the rescaled index value, or a rate of change (inflation).Get Market Risk Premium by country. \n",
      "\n",
      "equity: Get data about share float for a given company.\n",
      "\n",
      "\u001b[0m\n",
      "\u001b[92mFirst level answer: equity\u001b[0m\n",
      "\u001b[93mCurrent Trail: ['equity'] and level: 2\u001b[0m\n",
      "\u001b[91mSubsequent level 2 string to LLM: fundamental: Get equity valuation multiples for a given company. Get the balance sheet for a given company. \n",
      "\n",
      "market_snapshots: Get an updated equity market snapshot. This includes price data for thousands of stocks. \n",
      "\n",
      "price: Get the National Best Bid and Offer for a given stock.\n",
      "\n",
      "discovery: Get the top price gainers in the stock market. Get the top price losers in the stock market. \n",
      "\n",
      "ownership: Get data about major holders for a given company over time. Get data about institutional ownership for a given company over time. \n",
      "\n",
      "\u001b[0m\n",
      "\u001b[94mLLM Answer: Prediction(\n",
      "    rationale='produce the output. We are looking for the value of a portfolio, which falls under the concept of ownership.',\n",
      "    output='ownership'\n",
      ")\u001b[0m\n",
      "\u001b[93mCurrent Trail: ['equity-->ownership'] and level: 3\u001b[0m\n",
      "\u001b[91mSubsequent level 3 string to LLM: share_statistics: Get data about share float for a given company. \n",
      "\n",
      "major_holders: Get data about major holders for a given company over time. \n",
      "\n",
      "institutional: Get data about institutional ownership for a given company over time. \n",
      "\n",
      "form_13f: Get the form 13F.  The Securities and Exchange Commission's (SEC) Form 13F is a quarterly report that is required to be filed by all institutional investment managers with at least $100 million in assets under management. Managers are required to file Form 13F within 45 days after the last day of the calendar quarter. Most funds wait until the end of this period in order to conceal their investment strategy from competitors and the public.\n",
      "\n",
      "insider_trading: Get data about trading by a company's management team and board of directors. \n",
      "\n",
      "\u001b[0m\n",
      "\u001b[94mLLM Answer: Prediction(\n",
      "    rationale='produce the output. We can see that the relevant key for getting the portfolio value of a momentum portfolio would be institutional, as it provides data about institutional ownership for a given company over time.',\n",
      "    output='institutional'\n",
      ")\u001b[0m\n",
      "\u001b[93mCurrent Trail: ['equity-->ownership-->institutional'] and level: 4\u001b[0m\n"
     ]
    },
    {
     "name": "stderr",
     "output_type": "stream",
     "text": [
      "/home/athekunal/Function Calling/openbb-env/lib/python3.10/site-packages/langchain_core/_api/deprecation.py:119: LangChainDeprecationWarning: The class `ChatOpenAI` was deprecated in LangChain 0.0.10 and will be removed in 0.3.0. An updated version of the class exists in the langchain-openai package and should be used instead. To use it run `pip install -U langchain-openai` and import as `from langchain_openai import ChatOpenAI`.\n",
      "  warn_deprecated(\n"
     ]
    },
    {
     "data": {
      "text/plain": [
       "AIMessage(content='', additional_kwargs={'function_call': {'arguments': '{\"symbol\":\"momentum\",\"provider\":\"fmp\"}', 'name': 'obb_equity_ownership_institutional'}}, response_metadata={'token_usage': {'completion_tokens': 11, 'prompt_tokens': 182, 'total_tokens': 193}, 'model_name': 'gpt-3.5-turbo', 'system_fingerprint': None, 'finish_reason': 'stop', 'logprobs': None}, id='run-047a9869-82f6-49ff-8a0f-1b94a7697840-0')"
      ]
     },
     "execution_count": 5,
     "metadata": {},
     "output_type": "execute_result"
    }
   ],
   "source": [
    "from agent.function_call import run_function_calling\n",
    "\n",
    "question = \"I want the portfolio value of momentum portfolio?\"\n",
    "funcs,prompts = obb_chroma(question)\n",
    "run_function_calling(funcs,\"fmp\",question)"
   ]
  },
  {
   "cell_type": "code",
   "execution_count": 6,
   "metadata": {},
   "outputs": [],
   "source": [
    "from agent.function_call import format_function\n",
    "from langchain_experimental.utilities import PythonREPL\n",
    "def main_func(question:str,provider:str):\n",
    "    funcs,prompts = obb_chroma(question)\n",
    "    print(funcs)\n",
    "    function_resp = run_function_calling(funcs,provider,question)\n",
    "    return format_function(function_resp)"
   ]
  },
  {
   "cell_type": "code",
   "execution_count": 7,
   "metadata": {},
   "outputs": [
    {
     "name": "stdout",
     "output_type": "stream",
     "text": [
      "\u001b[92mFirst level string: equity: Get the National Best Bid and Offer for a given stock.\n",
      "\n",
      "equity: Get analyst price targets by company.Get historical analyst estimates for earnings and revenue. Get consensus price target and recommendation. \n",
      "\n",
      "equity: Get top small cap stocks based on earnings growth.Get top tech stocks based on revenue and earnings growth. \n",
      "\n",
      "fixedincome: Ameribor.  Ameribor (short for the American interbank offered rate) is a benchmark interest rate that reflects the true cost of short-term interbank borrowing. This rate is based on transactions in overnight unsecured loans conducted on the American Financial Exchange (AFX).\n",
      "\n",
      "equity: Search for specific analysts and get their forecast track record.Get forward sales estimates. Get forward EPS estimates. \n",
      "\n",
      "\u001b[0m\n",
      "\u001b[92mFirst level answer: equity\u001b[0m\n",
      "\u001b[93mCurrent Trail: ['equity'] and level: 2\u001b[0m\n",
      "\u001b[91mSubsequent level 2 string to LLM: price: Get the National Best Bid and Offer for a given stock.\n",
      "\n",
      "estimates: Get analyst price targets by company. Get historical analyst estimates for earnings and revenue. Get consensus price target and recommendation. \n",
      "\n",
      "discovery: Get top small cap stocks based on earnings growth.Get top tech stocks based on revenue and earnings growth. \n",
      "\n",
      "discovery: Get the most actively traded stocks based on volume.Get potentially undervalued large cap stocks. Get potentially undervalued growth stocks. \n",
      "\n",
      "discovery: Get the top price gainers in the stock market. Get the top price losers in the stock market. \n",
      "\n",
      "\u001b[0m\n",
      "\u001b[94mLLM Answer: Prediction(\n",
      "    rationale='produce the output. We are looking for the best bid offer of a specific stock, which falls under the category of price information.',\n",
      "    output='price'\n",
      ")\u001b[0m\n",
      "\u001b[93mCurrent Trail: ['equity-->price'] and level: 3\u001b[0m\n",
      "\u001b[91mSubsequent level 3 string to LLM: nbbo: Get the National Best Bid and Offer for a given stock. \n",
      "\n",
      "quote: Get the latest quote for a given stock. Quote includes price, volume, and other data. \n",
      "\n",
      "performance: Get price performance data for a given stock. This includes price changes for different time periods. \n",
      "\n",
      "\u001b[0m\n",
      "\u001b[94mLLM Answer: Prediction(\n",
      "    rationale='produce the output. We are looking for the best bid offer of a stock, which is provided by the National Best Bid and Offer (NBBO).',\n",
      "    output='nbbo'\n",
      ")\u001b[0m\n",
      "\u001b[93mCurrent Trail: ['equity-->price-->nbbo'] and level: 4\u001b[0m\n",
      "[{'ids': ['id347'], 'embeddings': None, 'metadatas': [{'function_call': '{\\'name\\': \\'obb_equity_price_nbbo_polygon\\', \\'description\\': \\'Get the National Best Bid and Offer for a given stock.\\', \\'parameters\\': {\\'type\\': \\'object\\', \\'properties\\': {\\'symbol\\': {\\'type\\': \\'string\\', \\'description\\': \\'Symbol to get data for.\\', \\'default\\': \\'\\'}, \\'provider\\': {\\'description\\': \"The provider to use for the query, by default None. If None, the provider specified in defaults is selected or \\'polygon\\' if there is no default.\", \\'default\\': \\'polygon\\', \\'type\\': \\'string\\', \\'enum\\': [\\'polygon\\']}, \\'limit\\': {\\'type\\': \\'integer\\', \\'description\\': \"The number of data entries to return. Up to ten million records will be returned. Pagination occurs in groups of 50,000. Remaining limit values will always return 50,000 more records unless it is the last page. High volume tickers will require multiple max requests for a single day\\'s NBBO records. Expect stocks, like SPY, to approach 1GB in size, per day, as a raw CSV. Splitting large requests into chunks is recommended for full-day requests of high-volume symbols.\", \\'default\\': 50000}, \\'date\\': {\\'type\\': \\'string\\', \\'description\\': \\'A specific date to get data for. Use bracketed the timestamp parameters to specify exact time ranges.\\', \\'default\\': None}, \\'timestamp_lt\\': {\\'type\\': \\'string\\', \\'description\\': \"Query by datetime, less than. Either a date with the format \\'YYYY-MM-DD\\' or a TZ-aware timestamp string, \\'YYYY-MM-DDTH:M:S.000000000-04:00\\'. Include all nanoseconds and the \\'T\\' between the day and hour.\", \\'default\\': None}, \\'timestamp_gt\\': {\\'type\\': \\'string\\', \\'description\\': \"Query by datetime, greater than. Either a date with the format \\'YYYY-MM-DD\\' or a TZ-aware timestamp string, \\'YYYY-MM-DDTH:M:S.000000000-04:00\\'. Include all nanoseconds and the \\'T\\' between the day and hour.\", \\'default\\': None}, \\'timestamp_lte\\': {\\'type\\': \\'string\\', \\'description\\': \"Query by datetime, less than or equal to. Either a date with the format \\'YYYY-MM-DD\\' or a TZ-aware timestamp string, \\'YYYY-MM-DDTH:M:S.000000000-04:00\\'. Include all nanoseconds and the \\'T\\' between the day and hour.\", \\'default\\': None}, \\'timestamp_gte\\': {\\'type\\': \\'string\\', \\'description\\': \"Query by datetime, greater than or equal to. Either a date with the format \\'YYYY-MM-DD\\' or a TZ-aware timestamp string, \\'YYYY-MM-DDTH:M:S.000000000-04:00\\'. Include all nanoseconds and the \\'T\\' between the day and hour.\", \\'default\\': None}}, \\'required\\': [\\'symbol\\', \\'provider\\']}}', 'node_name': 'obb_equity_price_nbbo_polygon', 'provider_source': 'polygon', 'trail': 'equity-->price-->nbbo', 'type': 'provider_function'}], 'documents': ['empty'], 'uris': None, 'data': None}]\n"
     ]
    }
   ],
   "source": [
    "question = \"What is best bid offer of AAPL?\"\n",
    "resp = main_func(question,\"polygon\")"
   ]
  },
  {
   "cell_type": "code",
   "execution_count": 8,
   "metadata": {},
   "outputs": [
    {
     "name": "stdout",
     "output_type": "stream",
     "text": [
      "from openbb import obb\n",
      "obb.equity.price_nbbo(symbol=AAPL,provider=polygon)\n"
     ]
    }
   ],
   "source": [
    "print(resp)"
   ]
  },
  {
   "cell_type": "code",
   "execution_count": 21,
   "metadata": {},
   "outputs": [
    {
     "ename": "AttributeError",
     "evalue": "'ROUTER_equity' object has no attribute 'ownership_institutional'",
     "output_type": "error",
     "traceback": [
      "\u001b[0;31m---------------------------------------------------------------------------\u001b[0m",
      "\u001b[0;31mAttributeError\u001b[0m                            Traceback (most recent call last)",
      "Cell \u001b[0;32mIn[21], line 2\u001b[0m\n\u001b[1;32m      1\u001b[0m \u001b[38;5;28;01mfrom\u001b[39;00m \u001b[38;5;21;01mopenbb\u001b[39;00m \u001b[38;5;28;01mimport\u001b[39;00m obb\n\u001b[0;32m----> 2\u001b[0m \u001b[43mobb\u001b[49m\u001b[38;5;241;43m.\u001b[39;49m\u001b[43mequity\u001b[49m\u001b[38;5;241;43m.\u001b[39;49m\u001b[43mownership_institutional\u001b[49m(symbol\u001b[38;5;241m=\u001b[39m\u001b[38;5;124m\"\u001b[39m\u001b[38;5;124mmomentum\u001b[39m\u001b[38;5;124m\"\u001b[39m,provider\u001b[38;5;241m=\u001b[39m\u001b[38;5;124m\"\u001b[39m\u001b[38;5;124mfmp\u001b[39m\u001b[38;5;124m\"\u001b[39m)\n",
      "\u001b[0;31mAttributeError\u001b[0m: 'ROUTER_equity' object has no attribute 'ownership_institutional'"
     ]
    }
   ],
   "source": [
    "from openbb import obb\n",
    "obb.equity.ownership_institutional(symbol=\"momentum\",provider=\"fmp\")"
   ]
  },
  {
   "cell_type": "code",
   "execution_count": 63,
   "metadata": {},
   "outputs": [
    {
     "data": {
      "text/plain": [
       "True"
      ]
     },
     "execution_count": 63,
     "metadata": {},
     "output_type": "execute_result"
    }
   ],
   "source": [
    "from openbb import obb\n",
    "from dotenv import load_dotenv,find_dotenv\n",
    "load_dotenv(find_dotenv(),override=True)"
   ]
  },
  {
   "cell_type": "code",
   "execution_count": 64,
   "metadata": {},
   "outputs": [
    {
     "ename": "OpenBBError",
     "evalue": "\n[Error] -> Missing credential 'fmp_api_key'. Check https://financialmodelingprep.com to get it.",
     "output_type": "error",
     "traceback": [
      "\u001b[0;31m---------------------------------------------------------------------------\u001b[0m",
      "\u001b[0;31mOpenBBError\u001b[0m                               Traceback (most recent call last)",
      "Cell \u001b[0;32mIn[64], line 3\u001b[0m\n\u001b[1;32m      1\u001b[0m \u001b[38;5;28;01mimport\u001b[39;00m \u001b[38;5;21;01mos\u001b[39;00m\n\u001b[1;32m      2\u001b[0m \u001b[38;5;66;03m# os.environ['FMP_API_KEY'] = \"FJYqiSUKjeXn3cnjutn2pplKcWqH2fN7\"\u001b[39;00m\n\u001b[0;32m----> 3\u001b[0m \u001b[43mobb\u001b[49m\u001b[38;5;241;43m.\u001b[39;49m\u001b[43mequity\u001b[49m\u001b[38;5;241;43m.\u001b[39;49m\u001b[43mownership\u001b[49m\u001b[38;5;241;43m.\u001b[39;49m\u001b[43minstitutional\u001b[49m\u001b[43m(\u001b[49m\u001b[43msymbol\u001b[49m\u001b[38;5;241;43m=\u001b[39;49m\u001b[38;5;124;43m\"\u001b[39;49m\u001b[38;5;124;43mAAPL\u001b[39;49m\u001b[38;5;124;43m\"\u001b[39;49m\u001b[43m,\u001b[49m\u001b[43mprovider\u001b[49m\u001b[38;5;241;43m=\u001b[39;49m\u001b[38;5;124;43m\"\u001b[39;49m\u001b[38;5;124;43mfmp\u001b[39;49m\u001b[38;5;124;43m\"\u001b[39;49m\u001b[43m)\u001b[49m\n",
      "File \u001b[0;32m~/Function Calling/openbb-env/lib/python3.10/site-packages/openbb_core/app/static/utils/decorators.py:80\u001b[0m, in \u001b[0;36mexception_handler.<locals>.wrapper\u001b[0;34m(*f_args, **f_kwargs)\u001b[0m\n\u001b[1;32m     76\u001b[0m     \u001b[38;5;28;01mraise\u001b[39;00m OpenBBError(\u001b[38;5;124mf\u001b[39m\u001b[38;5;124m\"\u001b[39m\u001b[38;5;130;01m\\n\u001b[39;00m\u001b[38;5;124m[Error] -> \u001b[39m\u001b[38;5;132;01m{\u001b[39;00merror_str\u001b[38;5;132;01m}\u001b[39;00m\u001b[38;5;124m\"\u001b[39m)\u001b[38;5;241m.\u001b[39mwith_traceback(\n\u001b[1;32m     77\u001b[0m         tb\n\u001b[1;32m     78\u001b[0m     ) \u001b[38;5;28;01mfrom\u001b[39;00m \u001b[38;5;28;01mNone\u001b[39;00m\n\u001b[1;32m     79\u001b[0m \u001b[38;5;28;01mif\u001b[39;00m \u001b[38;5;28misinstance\u001b[39m(e, OpenBBError):\n\u001b[0;32m---> 80\u001b[0m     \u001b[38;5;28;01mraise\u001b[39;00m OpenBBError(\u001b[38;5;124mf\u001b[39m\u001b[38;5;124m\"\u001b[39m\u001b[38;5;130;01m\\n\u001b[39;00m\u001b[38;5;124m[Error] -> \u001b[39m\u001b[38;5;132;01m{\u001b[39;00m\u001b[38;5;28mstr\u001b[39m(e)\u001b[38;5;132;01m}\u001b[39;00m\u001b[38;5;124m\"\u001b[39m)\u001b[38;5;241m.\u001b[39mwith_traceback(tb) \u001b[38;5;28;01mfrom\u001b[39;00m \u001b[38;5;28;01mNone\u001b[39;00m\n\u001b[1;32m     81\u001b[0m \u001b[38;5;28;01mraise\u001b[39;00m OpenBBError(\u001b[38;5;124m\"\u001b[39m\u001b[38;5;130;01m\\n\u001b[39;00m\u001b[38;5;124m[Error] -> Unexpected error.\u001b[39m\u001b[38;5;124m\"\u001b[39m)\u001b[38;5;241m.\u001b[39mwith_traceback(\n\u001b[1;32m     82\u001b[0m     tb\n\u001b[1;32m     83\u001b[0m ) \u001b[38;5;28;01mfrom\u001b[39;00m \u001b[38;5;28;01mNone\u001b[39;00m\n",
      "File \u001b[0;32m~/Function Calling/openbb-env/lib/python3.10/site-packages/openbb_core/provider/query_executor.py:58\u001b[0m, in \u001b[0;36mQueryExecutor.filter_credentials\u001b[0;34m(credentials, provider, require_credentials)\u001b[0m\n\u001b[1;32m     56\u001b[0m         website \u001b[38;5;241m=\u001b[39m provider\u001b[38;5;241m.\u001b[39mwebsite \u001b[38;5;129;01mor\u001b[39;00m \u001b[38;5;124m\"\u001b[39m\u001b[38;5;124m\"\u001b[39m\n\u001b[1;32m     57\u001b[0m         extra_msg \u001b[38;5;241m=\u001b[39m \u001b[38;5;124mf\u001b[39m\u001b[38;5;124m\"\u001b[39m\u001b[38;5;124m Check \u001b[39m\u001b[38;5;132;01m{\u001b[39;00mwebsite\u001b[38;5;132;01m}\u001b[39;00m\u001b[38;5;124m to get it.\u001b[39m\u001b[38;5;124m\"\u001b[39m \u001b[38;5;28;01mif\u001b[39;00m website \u001b[38;5;28;01melse\u001b[39;00m \u001b[38;5;124m\"\u001b[39m\u001b[38;5;124m\"\u001b[39m\n\u001b[0;32m---> 58\u001b[0m         \u001b[38;5;28;01mraise\u001b[39;00m OpenBBError(\u001b[38;5;124mf\u001b[39m\u001b[38;5;124m\"\u001b[39m\u001b[38;5;124mMissing credential \u001b[39m\u001b[38;5;124m'\u001b[39m\u001b[38;5;132;01m{\u001b[39;00mc\u001b[38;5;132;01m}\u001b[39;00m\u001b[38;5;124m'\u001b[39m\u001b[38;5;124m.\u001b[39m\u001b[38;5;132;01m{\u001b[39;00mextra_msg\u001b[38;5;132;01m}\u001b[39;00m\u001b[38;5;124m\"\u001b[39m)\n\u001b[1;32m     59\u001b[0m \u001b[38;5;28;01melse\u001b[39;00m:\n\u001b[1;32m     60\u001b[0m     filtered_credentials[c] \u001b[38;5;241m=\u001b[39m secret\n",
      "\u001b[0;31mOpenBBError\u001b[0m: \n[Error] -> Missing credential 'fmp_api_key'. Check https://financialmodelingprep.com to get it."
     ]
    }
   ],
   "source": [
    "import os\n",
    "obb.equity.ownership.institutional(symbol=\"AAPL\",provider=\"fmp\")"
   ]
  },
  {
   "cell_type": "code",
   "execution_count": 18,
   "metadata": {},
   "outputs": [
    {
     "data": {
      "text/html": [
       "<div>\n",
       "<style scoped>\n",
       "    .dataframe tbody tr th:only-of-type {\n",
       "        vertical-align: middle;\n",
       "    }\n",
       "\n",
       "    .dataframe tbody tr th {\n",
       "        vertical-align: top;\n",
       "    }\n",
       "\n",
       "    .dataframe thead th {\n",
       "        text-align: right;\n",
       "    }\n",
       "</style>\n",
       "<table border=\"1\" class=\"dataframe\">\n",
       "  <thead>\n",
       "    <tr style=\"text-align: right;\">\n",
       "      <th></th>\n",
       "      <th>open</th>\n",
       "      <th>high</th>\n",
       "      <th>low</th>\n",
       "      <th>close</th>\n",
       "      <th>volume</th>\n",
       "      <th>split_ratio</th>\n",
       "      <th>dividend</th>\n",
       "    </tr>\n",
       "    <tr>\n",
       "      <th>date</th>\n",
       "      <th></th>\n",
       "      <th></th>\n",
       "      <th></th>\n",
       "      <th></th>\n",
       "      <th></th>\n",
       "      <th></th>\n",
       "      <th></th>\n",
       "    </tr>\n",
       "  </thead>\n",
       "  <tbody>\n",
       "    <tr>\n",
       "      <th>2023-06-01</th>\n",
       "      <td>177.699997</td>\n",
       "      <td>180.119995</td>\n",
       "      <td>176.929993</td>\n",
       "      <td>180.089996</td>\n",
       "      <td>68901800</td>\n",
       "      <td>0.0</td>\n",
       "      <td>0.0</td>\n",
       "    </tr>\n",
       "    <tr>\n",
       "      <th>2023-06-02</th>\n",
       "      <td>181.029999</td>\n",
       "      <td>181.779999</td>\n",
       "      <td>179.259995</td>\n",
       "      <td>180.949997</td>\n",
       "      <td>61945900</td>\n",
       "      <td>0.0</td>\n",
       "      <td>0.0</td>\n",
       "    </tr>\n",
       "    <tr>\n",
       "      <th>2023-06-05</th>\n",
       "      <td>182.630005</td>\n",
       "      <td>184.949997</td>\n",
       "      <td>178.039993</td>\n",
       "      <td>179.580002</td>\n",
       "      <td>121946500</td>\n",
       "      <td>0.0</td>\n",
       "      <td>0.0</td>\n",
       "    </tr>\n",
       "    <tr>\n",
       "      <th>2023-06-06</th>\n",
       "      <td>179.970001</td>\n",
       "      <td>180.119995</td>\n",
       "      <td>177.429993</td>\n",
       "      <td>179.210007</td>\n",
       "      <td>64848400</td>\n",
       "      <td>0.0</td>\n",
       "      <td>0.0</td>\n",
       "    </tr>\n",
       "    <tr>\n",
       "      <th>2023-06-07</th>\n",
       "      <td>178.440002</td>\n",
       "      <td>181.210007</td>\n",
       "      <td>177.320007</td>\n",
       "      <td>177.820007</td>\n",
       "      <td>61944600</td>\n",
       "      <td>0.0</td>\n",
       "      <td>0.0</td>\n",
       "    </tr>\n",
       "    <tr>\n",
       "      <th>...</th>\n",
       "      <td>...</td>\n",
       "      <td>...</td>\n",
       "      <td>...</td>\n",
       "      <td>...</td>\n",
       "      <td>...</td>\n",
       "      <td>...</td>\n",
       "      <td>...</td>\n",
       "    </tr>\n",
       "    <tr>\n",
       "      <th>2024-05-24</th>\n",
       "      <td>188.820007</td>\n",
       "      <td>190.580002</td>\n",
       "      <td>188.039993</td>\n",
       "      <td>189.979996</td>\n",
       "      <td>36294600</td>\n",
       "      <td>0.0</td>\n",
       "      <td>0.0</td>\n",
       "    </tr>\n",
       "    <tr>\n",
       "      <th>2024-05-28</th>\n",
       "      <td>191.509995</td>\n",
       "      <td>193.000000</td>\n",
       "      <td>189.100006</td>\n",
       "      <td>189.990005</td>\n",
       "      <td>52280100</td>\n",
       "      <td>0.0</td>\n",
       "      <td>0.0</td>\n",
       "    </tr>\n",
       "    <tr>\n",
       "      <th>2024-05-29</th>\n",
       "      <td>189.610001</td>\n",
       "      <td>192.250000</td>\n",
       "      <td>189.509995</td>\n",
       "      <td>190.289993</td>\n",
       "      <td>53068000</td>\n",
       "      <td>0.0</td>\n",
       "      <td>0.0</td>\n",
       "    </tr>\n",
       "    <tr>\n",
       "      <th>2024-05-30</th>\n",
       "      <td>190.759995</td>\n",
       "      <td>192.179993</td>\n",
       "      <td>190.630005</td>\n",
       "      <td>191.289993</td>\n",
       "      <td>49947900</td>\n",
       "      <td>0.0</td>\n",
       "      <td>0.0</td>\n",
       "    </tr>\n",
       "    <tr>\n",
       "      <th>2024-05-31</th>\n",
       "      <td>191.440002</td>\n",
       "      <td>192.570007</td>\n",
       "      <td>189.910004</td>\n",
       "      <td>192.250000</td>\n",
       "      <td>75115100</td>\n",
       "      <td>0.0</td>\n",
       "      <td>0.0</td>\n",
       "    </tr>\n",
       "  </tbody>\n",
       "</table>\n",
       "<p>252 rows × 7 columns</p>\n",
       "</div>"
      ],
      "text/plain": [
       "                  open        high         low       close     volume  \\\n",
       "date                                                                    \n",
       "2023-06-01  177.699997  180.119995  176.929993  180.089996   68901800   \n",
       "2023-06-02  181.029999  181.779999  179.259995  180.949997   61945900   \n",
       "2023-06-05  182.630005  184.949997  178.039993  179.580002  121946500   \n",
       "2023-06-06  179.970001  180.119995  177.429993  179.210007   64848400   \n",
       "2023-06-07  178.440002  181.210007  177.320007  177.820007   61944600   \n",
       "...                ...         ...         ...         ...        ...   \n",
       "2024-05-24  188.820007  190.580002  188.039993  189.979996   36294600   \n",
       "2024-05-28  191.509995  193.000000  189.100006  189.990005   52280100   \n",
       "2024-05-29  189.610001  192.250000  189.509995  190.289993   53068000   \n",
       "2024-05-30  190.759995  192.179993  190.630005  191.289993   49947900   \n",
       "2024-05-31  191.440002  192.570007  189.910004  192.250000   75115100   \n",
       "\n",
       "            split_ratio  dividend  \n",
       "date                               \n",
       "2023-06-01          0.0       0.0  \n",
       "2023-06-02          0.0       0.0  \n",
       "2023-06-05          0.0       0.0  \n",
       "2023-06-06          0.0       0.0  \n",
       "2023-06-07          0.0       0.0  \n",
       "...                 ...       ...  \n",
       "2024-05-24          0.0       0.0  \n",
       "2024-05-28          0.0       0.0  \n",
       "2024-05-29          0.0       0.0  \n",
       "2024-05-30          0.0       0.0  \n",
       "2024-05-31          0.0       0.0  \n",
       "\n",
       "[252 rows x 7 columns]"
      ]
     },
     "execution_count": 18,
     "metadata": {},
     "output_type": "execute_result"
    }
   ],
   "source": [
    "from openbb import obb\n",
    "obb.equity.price.historical(symbol=\"AAPL\",provider=\"yfinance\").to_dataframe()"
   ]
  },
  {
   "cell_type": "markdown",
   "metadata": {},
   "source": [
    "## FUNCTION CALLING AGENT WITH OPENBB\n",
    "\n",
    "1. An autogen agent that takes in a question and passes to hierarchical function calling tool and get results from OpenBB\n",
    "2. Need to facilitate API keys for different vendor providers so that it can be used by the agent to get results"
   ]
  },
  {
   "cell_type": "code",
   "execution_count": 9,
   "metadata": {},
   "outputs": [
    {
     "data": {
      "text/plain": [
       "'FJYqiSUKjeXn3cnjutn2pplKcWqH2fN7'"
      ]
     },
     "execution_count": 9,
     "metadata": {},
     "output_type": "execute_result"
    }
   ],
   "source": [
    "import openbb_core.env\n",
    "openbb_core.env.dotenv.get_key(dotenv_path=\".env\",key_to_get=\"FMP_API_KEY\")"
   ]
  },
  {
   "cell_type": "code",
   "execution_count": 15,
   "metadata": {},
   "outputs": [],
   "source": [
    "import pandas as pd\n",
    "import plotly.graph_objects as go\n",
    "from openbb import obb\n",
    "\n",
    "data = pd.DataFrame()\n",
    "cols_dict = {\"GC\": \"Gold\", \"HG\": \"Copper\"}\n",
    "for symbol in [\"GC\", \"HG\"]:\n",
    "    data[symbol] = (\n",
    "        obb.derivatives.futures.historical(\n",
    "            symbol,\n",
    "            start_date=\"2000-01-01\",\n",
    "            interval=\"1m\",\n",
    "        ).to_df()[\"close\"].rename(symbol)\n",
    "    )\n",
    "data.columns = cols_dict.values()\n",
    "data.index = data.index.strftime(\"%Y-%m-%d\")"
   ]
  },
  {
   "cell_type": "code",
   "execution_count": 16,
   "metadata": {},
   "outputs": [
    {
     "data": {
      "text/html": [
       "<div>\n",
       "<style scoped>\n",
       "    .dataframe tbody tr th:only-of-type {\n",
       "        vertical-align: middle;\n",
       "    }\n",
       "\n",
       "    .dataframe tbody tr th {\n",
       "        vertical-align: top;\n",
       "    }\n",
       "\n",
       "    .dataframe thead th {\n",
       "        text-align: right;\n",
       "    }\n",
       "</style>\n",
       "<table border=\"1\" class=\"dataframe\">\n",
       "  <thead>\n",
       "    <tr style=\"text-align: right;\">\n",
       "      <th></th>\n",
       "      <th>Gold</th>\n",
       "      <th>Copper</th>\n",
       "    </tr>\n",
       "    <tr>\n",
       "      <th>date</th>\n",
       "      <th></th>\n",
       "      <th></th>\n",
       "    </tr>\n",
       "  </thead>\n",
       "  <tbody>\n",
       "    <tr>\n",
       "      <th>2024-05-29</th>\n",
       "      <td>2358.699951</td>\n",
       "      <td>4.8785</td>\n",
       "    </tr>\n",
       "    <tr>\n",
       "      <th>2024-05-29</th>\n",
       "      <td>2358.899902</td>\n",
       "      <td>4.8780</td>\n",
       "    </tr>\n",
       "  </tbody>\n",
       "</table>\n",
       "</div>"
      ],
      "text/plain": [
       "                   Gold  Copper\n",
       "date                           \n",
       "2024-05-29  2358.699951  4.8785\n",
       "2024-05-29  2358.899902  4.8780"
      ]
     },
     "execution_count": 16,
     "metadata": {},
     "output_type": "execute_result"
    }
   ],
   "source": [
    "data.head(2)"
   ]
  },
  {
   "cell_type": "code",
   "execution_count": 2,
   "metadata": {},
   "outputs": [],
   "source": [
    "from openbb import obb\n",
    "import os\n",
    "from dotenv import load_dotenv,find_dotenv\n",
    "\n",
    "load_dotenv(find_dotenv(),override=True)\n",
    "obb.account.login(pat=os.environ['OBB_PAT'])"
   ]
  },
  {
   "cell_type": "code",
   "execution_count": 3,
   "metadata": {},
   "outputs": [
    {
     "data": {
      "text/plain": [
       "Credentials\n",
       "\n",
       "alpha_vantage_api_key: None\n",
       "benzinga_api_key: None\n",
       "biztoc_api_key: None\n",
       "fmp_api_key: **********\n",
       "fred_api_key: **********\n",
       "intrinio_api_key: **********\n",
       "nasdaq_api_key: None\n",
       "polygon_api_key: **********\n",
       "tiingo_token: **********\n",
       "tradier_account_type: None\n",
       "tradier_api_key: None\n",
       "tradingeconomics_api_key: None"
      ]
     },
     "execution_count": 3,
     "metadata": {},
     "output_type": "execute_result"
    }
   ],
   "source": [
    "obb.user.credentials"
   ]
  },
  {
   "cell_type": "code",
   "execution_count": 8,
   "metadata": {},
   "outputs": [],
   "source": [
    "obb.user.preferences.output_type = \"dataframe\""
   ]
  },
  {
   "cell_type": "code",
   "execution_count": 10,
   "metadata": {},
   "outputs": [
    {
     "data": {
      "text/html": [
       "<div>\n",
       "<style scoped>\n",
       "    .dataframe tbody tr th:only-of-type {\n",
       "        vertical-align: middle;\n",
       "    }\n",
       "\n",
       "    .dataframe tbody tr th {\n",
       "        vertical-align: top;\n",
       "    }\n",
       "\n",
       "    .dataframe thead th {\n",
       "        text-align: right;\n",
       "    }\n",
       "</style>\n",
       "<table border=\"1\" class=\"dataframe\">\n",
       "  <thead>\n",
       "    <tr style=\"text-align: right;\">\n",
       "      <th></th>\n",
       "      <th>ex_dividend_date</th>\n",
       "      <th>symbol</th>\n",
       "      <th>amount</th>\n",
       "      <th>name</th>\n",
       "      <th>record_date</th>\n",
       "      <th>payment_date</th>\n",
       "      <th>declaration_date</th>\n",
       "      <th>annualized_amount</th>\n",
       "    </tr>\n",
       "  </thead>\n",
       "  <tbody>\n",
       "    <tr>\n",
       "      <th>0</th>\n",
       "      <td>2024-06-06</td>\n",
       "      <td>JACK</td>\n",
       "      <td>0.440000</td>\n",
       "      <td>Jack In The Box Inc. Common Stock</td>\n",
       "      <td>2024-06-06</td>\n",
       "      <td>2024-06-25</td>\n",
       "      <td>2024-05-10</td>\n",
       "      <td>1.760000</td>\n",
       "    </tr>\n",
       "    <tr>\n",
       "      <th>1</th>\n",
       "      <td>2024-06-06</td>\n",
       "      <td>NTES</td>\n",
       "      <td>0.495000</td>\n",
       "      <td>NetEase, Inc. American Depositary Shares</td>\n",
       "      <td>2024-06-06</td>\n",
       "      <td>2024-06-21</td>\n",
       "      <td>2024-05-23</td>\n",
       "      <td>4.319400</td>\n",
       "    </tr>\n",
       "    <tr>\n",
       "      <th>2</th>\n",
       "      <td>2024-06-06</td>\n",
       "      <td>NRIM</td>\n",
       "      <td>0.610000</td>\n",
       "      <td>Northrim BanCorp Inc Common Stock</td>\n",
       "      <td>2024-06-06</td>\n",
       "      <td>2024-06-14</td>\n",
       "      <td>2024-05-23</td>\n",
       "      <td>2.440000</td>\n",
       "    </tr>\n",
       "    <tr>\n",
       "      <th>3</th>\n",
       "      <td>2024-06-06</td>\n",
       "      <td>SLM</td>\n",
       "      <td>0.110000</td>\n",
       "      <td>SLM Corporation Common Stock</td>\n",
       "      <td>2024-06-06</td>\n",
       "      <td>2024-06-17</td>\n",
       "      <td>2024-04-22</td>\n",
       "      <td>0.440000</td>\n",
       "    </tr>\n",
       "    <tr>\n",
       "      <th>4</th>\n",
       "      <td>2024-06-06</td>\n",
       "      <td>SLMBP</td>\n",
       "      <td>1.903800</td>\n",
       "      <td>SLM Corporation Floating Rate Non-Cumulative P...</td>\n",
       "      <td>2024-06-06</td>\n",
       "      <td>2024-06-17</td>\n",
       "      <td>2024-04-22</td>\n",
       "      <td>7.420898</td>\n",
       "    </tr>\n",
       "    <tr>\n",
       "      <th>...</th>\n",
       "      <td>...</td>\n",
       "      <td>...</td>\n",
       "      <td>...</td>\n",
       "      <td>...</td>\n",
       "      <td>...</td>\n",
       "      <td>...</td>\n",
       "      <td>...</td>\n",
       "      <td>...</td>\n",
       "    </tr>\n",
       "    <tr>\n",
       "      <th>227</th>\n",
       "      <td>2024-06-03</td>\n",
       "      <td>WEN</td>\n",
       "      <td>0.250000</td>\n",
       "      <td>Wendy's Company (The) Common Stock</td>\n",
       "      <td>2024-06-03</td>\n",
       "      <td>2024-06-17</td>\n",
       "      <td>2024-05-02</td>\n",
       "      <td>1.000000</td>\n",
       "    </tr>\n",
       "    <tr>\n",
       "      <th>228</th>\n",
       "      <td>2024-06-03</td>\n",
       "      <td>WABF</td>\n",
       "      <td>0.141425</td>\n",
       "      <td>Western Asset Bond ETF</td>\n",
       "      <td>2024-06-03</td>\n",
       "      <td>2024-06-06</td>\n",
       "      <td>2024-05-31</td>\n",
       "      <td>1.561176</td>\n",
       "    </tr>\n",
       "    <tr>\n",
       "      <th>229</th>\n",
       "      <td>2024-06-03</td>\n",
       "      <td>WINC</td>\n",
       "      <td>0.104444</td>\n",
       "      <td>Western Asset Short Duration Income ETF</td>\n",
       "      <td>2024-06-03</td>\n",
       "      <td>2024-06-06</td>\n",
       "      <td>2024-05-31</td>\n",
       "      <td>1.200000</td>\n",
       "    </tr>\n",
       "    <tr>\n",
       "      <th>230</th>\n",
       "      <td>2024-06-03</td>\n",
       "      <td>WBND</td>\n",
       "      <td>0.039037</td>\n",
       "      <td>Western Asset Total Return ETF</td>\n",
       "      <td>2024-06-03</td>\n",
       "      <td>2024-06-06</td>\n",
       "      <td>2024-05-31</td>\n",
       "      <td>0.726312</td>\n",
       "    </tr>\n",
       "    <tr>\n",
       "      <th>231</th>\n",
       "      <td>2024-06-03</td>\n",
       "      <td>CA</td>\n",
       "      <td>0.065560</td>\n",
       "      <td>Xtrackers California Municipal Bonds ETF</td>\n",
       "      <td>2024-06-03</td>\n",
       "      <td>2024-06-10</td>\n",
       "      <td>2024-05-31</td>\n",
       "      <td>0.746640</td>\n",
       "    </tr>\n",
       "  </tbody>\n",
       "</table>\n",
       "<p>232 rows × 8 columns</p>\n",
       "</div>"
      ],
      "text/plain": [
       "    ex_dividend_date symbol    amount  \\\n",
       "0         2024-06-06   JACK  0.440000   \n",
       "1         2024-06-06   NTES  0.495000   \n",
       "2         2024-06-06   NRIM  0.610000   \n",
       "3         2024-06-06    SLM  0.110000   \n",
       "4         2024-06-06  SLMBP  1.903800   \n",
       "..               ...    ...       ...   \n",
       "227       2024-06-03    WEN  0.250000   \n",
       "228       2024-06-03   WABF  0.141425   \n",
       "229       2024-06-03   WINC  0.104444   \n",
       "230       2024-06-03   WBND  0.039037   \n",
       "231       2024-06-03     CA  0.065560   \n",
       "\n",
       "                                                  name record_date  \\\n",
       "0                    Jack In The Box Inc. Common Stock  2024-06-06   \n",
       "1             NetEase, Inc. American Depositary Shares  2024-06-06   \n",
       "2                    Northrim BanCorp Inc Common Stock  2024-06-06   \n",
       "3                         SLM Corporation Common Stock  2024-06-06   \n",
       "4    SLM Corporation Floating Rate Non-Cumulative P...  2024-06-06   \n",
       "..                                                 ...         ...   \n",
       "227                 Wendy's Company (The) Common Stock  2024-06-03   \n",
       "228                             Western Asset Bond ETF  2024-06-03   \n",
       "229            Western Asset Short Duration Income ETF  2024-06-03   \n",
       "230                     Western Asset Total Return ETF  2024-06-03   \n",
       "231           Xtrackers California Municipal Bonds ETF  2024-06-03   \n",
       "\n",
       "    payment_date declaration_date  annualized_amount  \n",
       "0     2024-06-25       2024-05-10           1.760000  \n",
       "1     2024-06-21       2024-05-23           4.319400  \n",
       "2     2024-06-14       2024-05-23           2.440000  \n",
       "3     2024-06-17       2024-04-22           0.440000  \n",
       "4     2024-06-17       2024-04-22           7.420898  \n",
       "..           ...              ...                ...  \n",
       "227   2024-06-17       2024-05-02           1.000000  \n",
       "228   2024-06-06       2024-05-31           1.561176  \n",
       "229   2024-06-06       2024-05-31           1.200000  \n",
       "230   2024-06-06       2024-05-31           0.726312  \n",
       "231   2024-06-10       2024-05-31           0.746640  \n",
       "\n",
       "[232 rows x 8 columns]"
      ]
     },
     "execution_count": 10,
     "metadata": {},
     "output_type": "execute_result"
    }
   ],
   "source": [
    "obb.equity.calendar.dividend(provider=\"nasdaq\")"
   ]
  },
  {
   "cell_type": "code",
   "execution_count": 12,
   "metadata": {},
   "outputs": [],
   "source": [
    "from agent.dspy_agent import OpenBBAgentChroma\n",
    "from agent.database import load_database\n",
    "\n",
    "openbb_collection = load_database(os.environ['OPENAI_API_KEY'])\n",
    "obb_chroma = OpenBBAgentChroma(openbb_collection)"
   ]
  },
  {
   "cell_type": "code",
   "execution_count": 13,
   "metadata": {},
   "outputs": [
    {
     "data": {
      "text/plain": [
       "Collection(name=obb_docsv2)"
      ]
     },
     "execution_count": 13,
     "metadata": {},
     "output_type": "execute_result"
    }
   ],
   "source": [
    "openbb_collection"
   ]
  },
  {
   "cell_type": "code",
   "execution_count": 14,
   "metadata": {},
   "outputs": [
    {
     "name": "stdout",
     "output_type": "stream",
     "text": [
      "\u001b[92mFirst level string: equity: Get historical and upcoming initial public offerings (IPOs). Get historical and upcoming dividend payments. Includes dividend amount, ex-dividend and payment dates. Get historical and upcoming stock split operations. Get historical and upcoming company earnings releases. Includes earnings per share (EPS) and revenue data. Get the closest peers for a given company.  Peers consist of companies trading on the same exchange, operating within the same sector and with comparable market capitalizations. Get analyst price targets by company. Get historical analyst estimates for earnings and revenue. Get consensus price target and recommendation. Search for specific analysts and get their forecast track record. Get forward sales estimates. Get forward EPS estimates. Get the top price gainers in the stock market. Get the top price losers in the stock market. Get the most actively traded stocks based on volume. Get potentially undervalued large cap stocks. Get potentially undervalued growth stocks. Get top small cap stocks based on earnings growth. Get top tech stocks based on revenue and earnings growth. Get the URLs to SEC filings reported to EDGAR database, such as 10-K, 10-Q, 8-K, and more.  SEC filings include Form 10-K, Form 10-Q, Form 8-K, the proxy statement, Forms 3, 4, and 5, Schedule 13, Form 114, Foreign Investment Disclosures and others. The annual 10-K report is required to be filed annually and includes the company's financial statements, management discussion and analysis, and audited financial statements. Get equity valuation multiples for a given company. Get the balance sheet for a given company. Get the growth of a company's balance sheet items over time. Get the cash flow statement for a given company. Get financial statements as reported by the company. Get the growth of a company's cash flow statement items over time. Get historical dividend data for a given company. Get historical earnings per share data for a given company. Get historical employee count data for a given company. Search Intrinio data tags to search in latest or historical attributes. Get the latest value of a data tag from Intrinio. Get the historical values of a data tag from Intrinio. Get the income statement for a given company. Get the growth of a company's income statement items over time. Get fundamental metrics for a given company. Get executive management team data for a given company. Get executive management team compensation for a given company over time. Get an extensive set of financial and accounting ratios for a given company over time. Get the revenue geographic breakdown for a given company over time. Get the revenue breakdown by business segment for a given company over time. Get historical stock splits for a given company. Get earnings call transcripts for a given company. Get the 1 year trailing dividend yield for a given company over time. Get data about major holders for a given company over time. Get data about institutional ownership for a given company over time. Get data about trading by a company's management team and board of directors. \n",
      "\n",
      "index: Historical Index Levels. Get Index Constituents. All indices available from a given provider. \n",
      "\n",
      "news: World News. Global news data. Company News. Get news for one or more companies. \n",
      "\n",
      "regulators: Map a ticker symbol to a CIK number. Search SEC-regulated institutions by name and return a list of results with CIK numbers. Use tool for navigating the directory of SEC XML schema files by year. Map a CIK number to a ticker symbol, leading 0s can be omitted or included. Get the RSS feed that provides links to litigation releases concerning civil lawsuits brought by the Commission in federal court. Search for Industry Titles, Reporting Office, and SIC Codes. An empty query string returns all results. \n",
      "\n",
      "etf: Search for ETFs.  An empty query returns the full list of ETFs from the provider. ETF Historical Market Price. ETF Information Overview. ETF Sector weighting. ETF Country weighting. Price performance as a return, over different periods. Get the holdings for an individual ETF. Use this function to get the holdings dates, if available. Get the recent price performance of each ticker held in the ETF. Get the exposure to ETFs for a specific stock. \n",
      "\n",
      "\u001b[0m\n",
      "\u001b[92mFirst level answer: equity\u001b[0m\n",
      "\u001b[93mCurrent Trail: ['equity'] and level: 2\u001b[0m\n",
      "\u001b[91mSubsequent level 2 string to LLM: calendar: Get historical and upcoming initial public offerings (IPOs). Get historical and upcoming dividend payments. Includes dividend amount, ex-dividend and payment dates. Get historical and upcoming stock split operations. Get historical and upcoming company earnings releases. Includes earnings per share (EPS) and revenue data. \n",
      "\n",
      "fundamental: Get equity valuation multiples for a given company. Get the balance sheet for a given company. Get the growth of a company's balance sheet items over time. Get the cash flow statement for a given company. Get financial statements as reported by the company. Get the growth of a company's cash flow statement items over time. Get historical dividend data for a given company. Get historical earnings per share data for a given company. Get historical employee count data for a given company. Search Intrinio data tags to search in latest or historical attributes. Get the latest value of a data tag from Intrinio. Get the historical values of a data tag from Intrinio. Get the income statement for a given company. Get the growth of a company's income statement items over time. Get fundamental metrics for a given company. Get executive management team data for a given company. Get executive management team compensation for a given company over time. Get an extensive set of financial and accounting ratios for a given company over time. Get the revenue geographic breakdown for a given company over time. Get the revenue breakdown by business segment for a given company over time. Get historical stock splits for a given company. Get earnings call transcripts for a given company. Get the 1 year trailing dividend yield for a given company over time. \n",
      "\n",
      "screener: Screen for companies meeting various criteria.  These criteria include market cap, price, beta, volume, and dividend yield. \n",
      "\n",
      "discovery: Get the top price gainers in the stock market. Get the top price losers in the stock market. Get the most actively traded stocks based on volume. Get potentially undervalued large cap stocks. Get potentially undervalued growth stocks. Get top small cap stocks based on earnings growth. Get top tech stocks based on revenue and earnings growth. Get the URLs to SEC filings reported to EDGAR database, such as 10-K, 10-Q, 8-K, and more.  SEC filings include Form 10-K, Form 10-Q, Form 8-K, the proxy statement, Forms 3, 4, and 5, Schedule 13, Form 114, Foreign Investment Disclosures and others. The annual 10-K report is required to be filed annually and includes the company's financial statements, management discussion and analysis, and audited financial statements. \n",
      "\n",
      "market_snapshots: Get an updated equity market snapshot. This includes price data for thousands of stocks. \n",
      "\n",
      "\u001b[0m\n",
      "\u001b[94mLLM Answer: Prediction(\n",
      "    rationale=\"produce the output. We are looking for historical dividend data for a given company starting from 2024. The relevant key for this query is the 'fundamental' key.\",\n",
      "    output='fundamental'\n",
      ")\u001b[0m\n",
      "\u001b[93mCurrent Trail: ['equity-->fundamental'] and level: 3\u001b[0m\n",
      "\u001b[91mSubsequent level 3 string to LLM: dividends: Get historical dividend data for a given company. \n",
      "\n",
      "trailing_dividend_yield: Get the 1 year trailing dividend yield for a given company over time. \n",
      "\n",
      "historical_splits: Get historical stock splits for a given company. \n",
      "\n",
      "cash: Get the cash flow statement for a given company. \n",
      "\n",
      "historical_eps: Get historical earnings per share data for a given company. \n",
      "\n",
      "\u001b[0m\n",
      "\u001b[94mLLM Answer: Prediction(\n",
      "    rationale='produce the output. We are looking for historical dividend data for multiple companies starting from a specific year. The key that is relevant to this query is dividends.',\n",
      "    output='dividends'\n",
      ")\u001b[0m\n",
      "\u001b[93mCurrent Trail: ['equity-->fundamental-->dividends'] and level: 4\u001b[0m\n"
     ]
    }
   ],
   "source": [
    "funcs,prompts = obb_chroma(\"I want to get dividends of all the companies starting from 2024\")"
   ]
  },
  {
   "cell_type": "code",
   "execution_count": 15,
   "metadata": {},
   "outputs": [
    {
     "data": {
      "text/plain": [
       "[{'ids': ['id216', 'id217', 'id218'],\n",
       "  'embeddings': None,\n",
       "  'metadatas': [{'function_call': '{\\'name\\': \\'obb-equity-fundamental-dividends_fmp\\', \\'description\\': \\'Get historical dividend data for a given company. Get it from provider fmp\\', \\'parameters\\': {\\'type\\': \\'object\\', \\'properties\\': {\\'symbol\\': {\\'type\\': \\'string\\', \\'description\\': \\'Symbol to get data for.\\', \\'default\\': \\'\\'}, \\'start_date\\': {\\'type\\': \\'string\\', \\'description\\': \\'Start date of the data, in YYYY-MM-DD format.\\', \\'default\\': None}, \\'end_date\\': {\\'type\\': \\'string\\', \\'description\\': \\'End date of the data, in YYYY-MM-DD format.\\', \\'default\\': None}, \\'provider\\': {\\'description\\': \"The provider to use for the query, by default None. If None, the provider specified in defaults is selected or \\'fmp\\' if there is no default.\", \\'default\\': \\'fmp\\', \\'type\\': \\'string\\', \\'enum\\': [\\'fmp\\']}}, \\'required\\': [\\'symbol\\', \\'provider\\']}}',\n",
       "    'node_name': 'obb-equity-fundamental-dividends_fmp',\n",
       "    'provider_source': 'fmp',\n",
       "    'trail': 'equity-->fundamental-->dividends',\n",
       "    'type': 'provider_function'},\n",
       "   {'function_call': '{\\'name\\': \\'obb-equity-fundamental-dividends_intrinio\\', \\'description\\': \\'Get historical dividend data for a given company. Get it from provider intrinio\\', \\'parameters\\': {\\'type\\': \\'object\\', \\'properties\\': {\\'symbol\\': {\\'type\\': \\'string\\', \\'description\\': \\'Symbol to get data for.\\', \\'default\\': \\'\\'}, \\'start_date\\': {\\'type\\': \\'string\\', \\'description\\': \\'Start date of the data, in YYYY-MM-DD format.\\', \\'default\\': None}, \\'end_date\\': {\\'type\\': \\'string\\', \\'description\\': \\'End date of the data, in YYYY-MM-DD format.\\', \\'default\\': None}, \\'provider\\': {\\'description\\': \"The provider to use for the query, by default None. If None, the provider specified in defaults is selected or \\'fmp\\' if there is no default.\", \\'default\\': \\'fmp\\', \\'type\\': \\'string\\', \\'enum\\': [\\'intrinio\\']}, \\'limit\\': {\\'name\\': \\'limit\\', \\'type\\': \\'integer\\', \\'description\\': \\'The number of data entries to return.\\', \\'default\\': 100, \\'optional\\': True}}, \\'required\\': [\\'symbol\\', \\'provider\\']}}',\n",
       "    'node_name': 'obb-equity-fundamental-dividends_intrinio',\n",
       "    'provider_source': 'intrinio',\n",
       "    'trail': 'equity-->fundamental-->dividends',\n",
       "    'type': 'provider_function'},\n",
       "   {'function_call': '{\\'name\\': \\'obb-equity-fundamental-dividends_yfinance\\', \\'description\\': \\'Get historical dividend data for a given company. Get it from provider yfinance\\', \\'parameters\\': {\\'type\\': \\'object\\', \\'properties\\': {\\'symbol\\': {\\'type\\': \\'string\\', \\'description\\': \\'Symbol to get data for.\\', \\'default\\': \\'\\'}, \\'start_date\\': {\\'type\\': \\'string\\', \\'description\\': \\'Start date of the data, in YYYY-MM-DD format.\\', \\'default\\': None}, \\'end_date\\': {\\'type\\': \\'string\\', \\'description\\': \\'End date of the data, in YYYY-MM-DD format.\\', \\'default\\': None}, \\'provider\\': {\\'description\\': \"The provider to use for the query, by default None. If None, the provider specified in defaults is selected or \\'fmp\\' if there is no default.\", \\'default\\': \\'fmp\\', \\'type\\': \\'string\\', \\'enum\\': [\\'yfinance\\']}}, \\'required\\': [\\'symbol\\', \\'provider\\']}}',\n",
       "    'node_name': 'obb-equity-fundamental-dividends_yfinance',\n",
       "    'provider_source': 'yfinance',\n",
       "    'trail': 'equity-->fundamental-->dividends',\n",
       "    'type': 'provider_function'}],\n",
       "  'documents': ['empty', 'empty', 'empty'],\n",
       "  'uris': None,\n",
       "  'data': None}]"
      ]
     },
     "execution_count": 15,
     "metadata": {},
     "output_type": "execute_result"
    }
   ],
   "source": [
    "funcs"
   ]
  },
  {
   "cell_type": "code",
   "execution_count": 22,
   "metadata": {},
   "outputs": [],
   "source": [
    "from agent.function_call import run_function_calling\n",
    "\n",
    "resp = run_function_calling(funcs,\"yfinance\",\"I want to get dividends of Apple starting from 2024\")"
   ]
  },
  {
   "cell_type": "code",
   "execution_count": 23,
   "metadata": {},
   "outputs": [
    {
     "data": {
      "text/plain": [
       "AIMessage(content='', additional_kwargs={'function_call': {'arguments': '{\"symbol\":\"AAPL\",\"start_date\":\"2024-01-01\",\"provider\":\"yfinance\"}', 'name': 'obb-equity-fundamental-dividends'}}, response_metadata={'token_usage': {'completion_tokens': 21, 'prompt_tokens': 196, 'total_tokens': 217}, 'model_name': 'gpt-3.5-turbo', 'system_fingerprint': None, 'finish_reason': 'stop', 'logprobs': None}, id='run-954a1138-27f2-4276-bbec-d8d89625aab8-0')"
      ]
     },
     "execution_count": 23,
     "metadata": {},
     "output_type": "execute_result"
    }
   ],
   "source": [
    "resp"
   ]
  },
  {
   "cell_type": "code",
   "execution_count": 24,
   "metadata": {},
   "outputs": [],
   "source": [
    "from agent.function_call import format_function\n",
    "\n",
    "final_func = format_function(resp)"
   ]
  },
  {
   "cell_type": "code",
   "execution_count": 34,
   "metadata": {},
   "outputs": [
    {
     "data": {
      "text/plain": [
       "'from openbb import obb\\nobb.equity.fundamental.dividends(symbol=AAPL,start_date=2024-01-01,provider=yfinance)'"
      ]
     },
     "execution_count": 34,
     "metadata": {},
     "output_type": "execute_result"
    }
   ],
   "source": [
    "final_func"
   ]
  },
  {
   "cell_type": "code",
   "execution_count": 26,
   "metadata": {},
   "outputs": [
    {
     "data": {
      "text/html": [
       "<div>\n",
       "<style scoped>\n",
       "    .dataframe tbody tr th:only-of-type {\n",
       "        vertical-align: middle;\n",
       "    }\n",
       "\n",
       "    .dataframe tbody tr th {\n",
       "        vertical-align: top;\n",
       "    }\n",
       "\n",
       "    .dataframe thead th {\n",
       "        text-align: right;\n",
       "    }\n",
       "</style>\n",
       "<table border=\"1\" class=\"dataframe\">\n",
       "  <thead>\n",
       "    <tr style=\"text-align: right;\">\n",
       "      <th></th>\n",
       "      <th>ex_dividend_date</th>\n",
       "      <th>amount</th>\n",
       "    </tr>\n",
       "  </thead>\n",
       "  <tbody>\n",
       "    <tr>\n",
       "      <th>0</th>\n",
       "      <td>2024-02-09</td>\n",
       "      <td>0.24</td>\n",
       "    </tr>\n",
       "    <tr>\n",
       "      <th>1</th>\n",
       "      <td>2024-05-10</td>\n",
       "      <td>0.25</td>\n",
       "    </tr>\n",
       "  </tbody>\n",
       "</table>\n",
       "</div>"
      ],
      "text/plain": [
       "  ex_dividend_date  amount\n",
       "0       2024-02-09    0.24\n",
       "1       2024-05-10    0.25"
      ]
     },
     "execution_count": 26,
     "metadata": {},
     "output_type": "execute_result"
    }
   ],
   "source": [
    "from openbb import obb\n",
    "obb.equity.fundamental.dividends(symbol=\"AAPL\",start_date=\"2024-01-01\",provider=\"yfinance\")"
   ]
  },
  {
   "cell_type": "code",
   "execution_count": 27,
   "metadata": {},
   "outputs": [
    {
     "data": {
      "text/plain": [
       "[{'ids': ['id216', 'id217', 'id218'],\n",
       "  'embeddings': None,\n",
       "  'metadatas': [{'function_call': '{\\'name\\': \\'obb-equity-fundamental-dividends_fmp\\', \\'description\\': \\'Get historical dividend data for a given company. Get it from provider fmp\\', \\'parameters\\': {\\'type\\': \\'object\\', \\'properties\\': {\\'symbol\\': {\\'type\\': \\'string\\', \\'description\\': \\'Symbol to get data for.\\', \\'default\\': \\'\\'}, \\'start_date\\': {\\'type\\': \\'string\\', \\'description\\': \\'Start date of the data, in YYYY-MM-DD format.\\', \\'default\\': None}, \\'end_date\\': {\\'type\\': \\'string\\', \\'description\\': \\'End date of the data, in YYYY-MM-DD format.\\', \\'default\\': None}, \\'provider\\': {\\'description\\': \"The provider to use for the query, by default None. If None, the provider specified in defaults is selected or \\'fmp\\' if there is no default.\", \\'default\\': \\'fmp\\', \\'type\\': \\'string\\', \\'enum\\': [\\'fmp\\']}}, \\'required\\': [\\'symbol\\', \\'provider\\']}}',\n",
       "    'node_name': 'obb-equity-fundamental-dividends_fmp',\n",
       "    'provider_source': 'fmp',\n",
       "    'trail': 'equity-->fundamental-->dividends',\n",
       "    'type': 'provider_function'},\n",
       "   {'function_call': '{\\'name\\': \\'obb-equity-fundamental-dividends_intrinio\\', \\'description\\': \\'Get historical dividend data for a given company. Get it from provider intrinio\\', \\'parameters\\': {\\'type\\': \\'object\\', \\'properties\\': {\\'symbol\\': {\\'type\\': \\'string\\', \\'description\\': \\'Symbol to get data for.\\', \\'default\\': \\'\\'}, \\'start_date\\': {\\'type\\': \\'string\\', \\'description\\': \\'Start date of the data, in YYYY-MM-DD format.\\', \\'default\\': None}, \\'end_date\\': {\\'type\\': \\'string\\', \\'description\\': \\'End date of the data, in YYYY-MM-DD format.\\', \\'default\\': None}, \\'provider\\': {\\'description\\': \"The provider to use for the query, by default None. If None, the provider specified in defaults is selected or \\'fmp\\' if there is no default.\", \\'default\\': \\'fmp\\', \\'type\\': \\'string\\', \\'enum\\': [\\'intrinio\\']}, \\'limit\\': {\\'name\\': \\'limit\\', \\'type\\': \\'integer\\', \\'description\\': \\'The number of data entries to return.\\', \\'default\\': 100, \\'optional\\': True}}, \\'required\\': [\\'symbol\\', \\'provider\\']}}',\n",
       "    'node_name': 'obb-equity-fundamental-dividends_intrinio',\n",
       "    'provider_source': 'intrinio',\n",
       "    'trail': 'equity-->fundamental-->dividends',\n",
       "    'type': 'provider_function'},\n",
       "   {'function_call': '{\\'name\\': \\'obb-equity-fundamental-dividends_yfinance\\', \\'description\\': \\'Get historical dividend data for a given company. Get it from provider yfinance\\', \\'parameters\\': {\\'type\\': \\'object\\', \\'properties\\': {\\'symbol\\': {\\'type\\': \\'string\\', \\'description\\': \\'Symbol to get data for.\\', \\'default\\': \\'\\'}, \\'start_date\\': {\\'type\\': \\'string\\', \\'description\\': \\'Start date of the data, in YYYY-MM-DD format.\\', \\'default\\': None}, \\'end_date\\': {\\'type\\': \\'string\\', \\'description\\': \\'End date of the data, in YYYY-MM-DD format.\\', \\'default\\': None}, \\'provider\\': {\\'description\\': \"The provider to use for the query, by default None. If None, the provider specified in defaults is selected or \\'fmp\\' if there is no default.\", \\'default\\': \\'fmp\\', \\'type\\': \\'string\\', \\'enum\\': [\\'yfinance\\']}}, \\'required\\': [\\'symbol\\', \\'provider\\']}}',\n",
       "    'node_name': 'obb-equity-fundamental-dividends_yfinance',\n",
       "    'provider_source': 'yfinance',\n",
       "    'trail': 'equity-->fundamental-->dividends',\n",
       "    'type': 'provider_function'}],\n",
       "  'documents': ['empty', 'empty', 'empty'],\n",
       "  'uris': None,\n",
       "  'data': None}]"
      ]
     },
     "execution_count": 27,
     "metadata": {},
     "output_type": "execute_result"
    }
   ],
   "source": [
    "funcs"
   ]
  },
  {
   "cell_type": "code",
   "execution_count": 31,
   "metadata": {},
   "outputs": [],
   "source": [
    "provider_sources = [fn['provider_source'] for fn in funcs[0]['metadatas']]"
   ]
  },
  {
   "cell_type": "code",
   "execution_count": 32,
   "metadata": {},
   "outputs": [
    {
     "data": {
      "text/plain": [
       "['fmp', 'intrinio', 'yfinance']"
      ]
     },
     "execution_count": 32,
     "metadata": {},
     "output_type": "execute_result"
    }
   ],
   "source": [
    "provider_sources"
   ]
  },
  {
   "cell_type": "code",
   "execution_count": 41,
   "metadata": {},
   "outputs": [],
   "source": [
    "from typing import List\n",
    "\n",
    "def run_main_function_callinng(question:str,provider_list:List[str]=[]):\n",
    "    funcs,prompts = obb_chroma(question)\n",
    "    print(funcs)\n",
    "    provider_sources = [fn['provider_source'] for fn in funcs[0]['metadatas']]\n",
    "    if provider_list != []:\n",
    "        valid_providers = [sources for sources in provider_sources if sources in provider_list]\n",
    "    else:\n",
    "        valid_providers = provider_sources\n",
    "    \n",
    "    \n",
    "    resp = run_function_calling(funcs,valid_providers[0],question)\n",
    "    print(resp)\n",
    "    final_func = format_function(resp)\n",
    "    return final_func"
   ]
  },
  {
   "cell_type": "code",
   "execution_count": 47,
   "metadata": {},
   "outputs": [
    {
     "name": "stdout",
     "output_type": "stream",
     "text": [
      "\u001b[92mFirst level string: derivatives: Get the complete options chain for a ticker. Historical futures prices. Futures Term Structure, current or historical. \n",
      "\n",
      "economy: Get Forecasted GDP Data. Get Nominal GDP Data. Get Real GDP Data. Get the upcoming, or historical, economic calendar of global events. Get Consumer Price Index (CPI).  Returns either the rescaled index value, or a rate of change (inflation). Get Market Risk Premium by country. Search for FRED series or economic releases by ID or string.  This does not return the observation values, only the metadata. Use this function to find series IDs for `fred_series()`. Get data by series ID from FRED. Get Money Measures (M1/M2 and components).  The Federal Reserve publishes as part of the H.6 Release. Get global unemployment data. Use the composite leading indicator (CLI).  It is designed to provide early signals of turning points in business cycles showing fluctuation of the economic activity around its long term potential level.  CLIs show short-term economic movements in qualitative rather than quantitative terms. Get Short-term interest rates.  They are the rates at which short-term borrowings are effected between financial institutions or the rate at which short-term government paper is issued or traded in the market.  Short-term interest rates are generally averages of daily rates, measured as a percentage. Short-term interest rates are based on three-month money market rates where available. Typical standardised names are \"money market rate\" and \"treasury bill rate\". Get Long-term interest rates that refer to government bonds maturing in ten years.  Rates are mainly determined by the price charged by the lender, the risk from the borrower and the fall in the capital value. Long-term interest rates are generally averages of daily rates, measured as a percentage. These interest rates are implied by the prices at which the government bonds are traded on financial markets, not the interest rates at which the loans were issued. In all cases, they refer to bonds whose capital repayment is guaranteed by governments. Long-term interest rates are one of the determinants of business investment. Low long-term interest rates encourage investment in new equipment and high interest rates discourage it. Investment is, in turn, a major source of economic growth. Query the Geo Fred API for regional economic data by series group.  The series group ID is found by using `fred_search` and the `series_id` parameter. \n",
      "\n",
      "currency: Currency Historical Price. Currency historical data.  Currency historical prices refer to the past exchange rates of one currency against another over a specific period. This data provides insight into the fluctuations and trends in the foreign exchange market, helping analysts, traders, and economists understand currency performance, evaluate economic health, and make predictions about future movements. Currency Search.  Search available currency pairs. Currency pairs are the national currencies from two countries coupled for trading on the foreign exchange (FX) marketplace. Both currencies will have exchange rates on which the trade will have its position basis. All trading within the forex market, whether selling, buying, or trading, will take place through currency pairs. (ref: Investopedia) Major currency pairs include pairs such as EUR/USD, USD/JPY, GBP/USD, etc. Snapshots of currency exchange rates from an indirect or direct perspective of a base currency. \n",
      "\n",
      "crypto: Get historical price data for cryptocurrency pair(s) within a provider. Search available cryptocurrency pairs within a provider. \n",
      "\n",
      "fixedincome: Treasury Constant Maturity.  Get data for 10-Year Treasury Constant Maturity Minus Selected Treasury Constant Maturity. Constant maturity is the theoretical value of a U.S. Treasury that is based on recent values of auctioned U.S. Treasuries. The value is obtained by the U.S. Treasury on a daily basis through interpolation of the Treasury yield curve which, in turn, is based on closing bid-yields of actively-traded Treasury securities.Select Treasury Constant Maturity.  Get data for Selected Treasury Constant Maturity Minus Federal Funds Rate Constant maturity is the theoretical value of a U.S. Treasury that is based on recent values of auctioned U.S. Treasuries. The value is obtained by the U.S. Treasury on a daily basis through interpolation of the Treasury yield curve which, in turn, is based on closing bid-yields of actively-traded Treasury securities. Select Treasury Bill.  Get Selected Treasury Bill Minus Federal Funds Rate. Constant maturity is the theoretical value of a U.S. Treasury that is based on recent values of auctioned U.S. Treasuries. The value is obtained by the U.S. Treasury on a daily basis through interpolation of the Treasury yield curve which, in turn, is based on closing bid-yields of actively-traded Treasury securities. US Yield Curve. Get United States yield curve. Government Treasury Rates. ICE BofA US Corporate Bond Indices.  The ICE BofA US Corporate Index tracks the performance of US dollar denominated investment grade corporate debt publicly issued in the US domestic market. Qualifying securities must have an investment grade rating (based on an average of Moody’s, S&P and Fitch), at least 18 months to final maturity at the time of issuance, at least one year remaining term to final maturity as of the rebalance date, a fixed coupon schedule and a minimum amount outstanding of $250 million. The ICE BofA US Corporate Index is a component of the US Corporate Master Index. Moody Corporate Bond Index.  Moody's Aaa and Baa are investment bonds that acts as an index of the performance of all bonds given an Aaa or Baa rating by Moody's Investors Service respectively. These corporate bonds often are used in macroeconomics as an alternative to the federal ten-year Treasury Bill as an indicator of the interest rate. High Quality Market Corporate Bond.  The HQM yield curve represents the high quality corporate bond market, i.e., corporate bonds rated AAA, AA, or A.  The HQM curve contains two regression terms. These terms are adjustment factors that blend AAA, AA, and A bonds into a single HQM yield curve that is the market-weighted average (MWA) quality of high quality bonds. Spot Rates.  The spot rates for any maturity is the yield on a bond that provides a single payment at that maturity. This is a zero coupon bond. Because each spot rate pertains to a single cashflow, it is the relevant interest rate concept for discounting a pension liability at the same maturity. \n",
      "\n",
      "\u001b[0m\n",
      "\u001b[92mFirst level answer: derivatives\u001b[0m\n",
      "\u001b[93mCurrent Trail: ['derivatives'] and level: 2\u001b[0m\n",
      "\u001b[91mSubsequent level 2 string to LLM: futures: Historical futures prices. Futures Term Structure, current or historical. \n",
      "\n",
      "options: Get the complete options chain for a ticker. \n",
      "\n",
      "\u001b[0m\n",
      "\u001b[94mLLM Answer: Prediction(\n",
      "    rationale='produce the output. We can see that the query is asking for the futures prices of Gold. The key \"futures\" is directly related to historical futures prices, so it is the relevant key in this case.',\n",
      "    output='futures'\n",
      ")\u001b[0m\n",
      "\u001b[93mCurrent Trail: ['derivatives-->futures'] and level: 3\u001b[0m\n",
      "\u001b[91mSubsequent level 3 string to LLM: historical: Historical futures prices. \n",
      "\n",
      "curve: Futures Term Structure, current or historical. \n",
      "\n",
      "\u001b[0m\n",
      "\u001b[94mLLM Answer: Prediction(\n",
      "    rationale='produce the output. We can see that the query is asking for the future prices of Gold, which falls under the category of futures prices.',\n",
      "    output='historical; curve'\n",
      ")\u001b[0m\n",
      "\u001b[93mCurrent Trail: ['derivatives-->futures-->curve', 'derivatives-->futures-->historical'] and level: 4\u001b[0m\n",
      "[{'ids': ['id163'], 'embeddings': None, 'metadatas': [{'function_call': '{\\'name\\': \\'obb-derivatives-futures-historical_yfinance\\', \\'description\\': \\'Historical futures prices.\\', \\'parameters\\': {\\'type\\': \\'object\\', \\'properties\\': {\\'symbol\\': {\\'type\\': \\'string\\', \\'description\\': \\'Symbol to get data for. Multiple items allowed for provider(s): yfinance.\\', \\'default\\': \\'\\'}, \\'start_date\\': {\\'type\\': \\'string\\', \\'description\\': \\'Start date of the data, in YYYY-MM-DD format.\\', \\'default\\': None}, \\'end_date\\': {\\'type\\': \\'string\\', \\'description\\': \\'End date of the data, in YYYY-MM-DD format.\\', \\'default\\': None}, \\'expiration\\': {\\'type\\': \\'string\\', \\'description\\': \\'Future expiry date with format YYYY-MM\\', \\'default\\': None}, \\'provider\\': {\\'description\\': \"The provider to use for the query, by default None. If None, the provider specified in defaults is selected or \\'yfinance\\' if there is no default.\", \\'default\\': \\'yfinance\\', \\'type\\': \\'string\\', \\'enum\\': [\\'yfinance\\']}, \\'interval\\': {\\'description\\': \\'Time interval of the data to return.\\', \\'default\\': \\'1d\\', \\'type\\': \\'string\\', \\'enum\\': [\\'1m\\', \\'2m\\', \\'5m\\', \\'15m\\', \\'30m\\', \\'60m\\', \\'90m\\', \\'1h\\', \\'1d\\', \\'5d\\', \\'1W\\', \\'1M\\', \\'1Q\\']}}, \\'required\\': [\\'symbol\\', \\'provider\\']}}', 'node_name': 'obb-derivatives-futures-historical_yfinance', 'provider_source': 'yfinance', 'trail': 'derivatives-->futures-->historical', 'type': 'provider_function'}], 'documents': ['empty'], 'uris': None, 'data': None}]\n",
      "content='' additional_kwargs={'function_call': {'arguments': '{\"symbol\":\"GC=F\",\"provider\":\"yfinance\"}', 'name': 'obb-derivatives-futures-historical'}} response_metadata={'token_usage': {'completion_tokens': 11, 'prompt_tokens': 286, 'total_tokens': 297}, 'model_name': 'gpt-3.5-turbo', 'system_fingerprint': None, 'finish_reason': 'stop', 'logprobs': None} id='run-fd572124-5c67-49b3-90d1-6187f247037b-0'\n"
     ]
    }
   ],
   "source": [
    "final_func = run_main_function_callinng(\"I want the futures Gold prices\")"
   ]
  },
  {
   "cell_type": "code",
   "execution_count": 48,
   "metadata": {},
   "outputs": [
    {
     "name": "stdout",
     "output_type": "stream",
     "text": [
      "\u001b[92mFirst level string: derivatives: Get the complete options chain for a ticker. Historical futures prices. Futures Term Structure, current or historical. \n",
      "\n",
      "economy: Get Forecasted GDP Data. Get Nominal GDP Data. Get Real GDP Data. Get the upcoming, or historical, economic calendar of global events. Get Consumer Price Index (CPI).  Returns either the rescaled index value, or a rate of change (inflation). Get Market Risk Premium by country. Search for FRED series or economic releases by ID or string.  This does not return the observation values, only the metadata. Use this function to find series IDs for `fred_series()`. Get data by series ID from FRED. Get Money Measures (M1/M2 and components).  The Federal Reserve publishes as part of the H.6 Release. Get global unemployment data. Use the composite leading indicator (CLI).  It is designed to provide early signals of turning points in business cycles showing fluctuation of the economic activity around its long term potential level.  CLIs show short-term economic movements in qualitative rather than quantitative terms. Get Short-term interest rates.  They are the rates at which short-term borrowings are effected between financial institutions or the rate at which short-term government paper is issued or traded in the market.  Short-term interest rates are generally averages of daily rates, measured as a percentage. Short-term interest rates are based on three-month money market rates where available. Typical standardised names are \"money market rate\" and \"treasury bill rate\". Get Long-term interest rates that refer to government bonds maturing in ten years.  Rates are mainly determined by the price charged by the lender, the risk from the borrower and the fall in the capital value. Long-term interest rates are generally averages of daily rates, measured as a percentage. These interest rates are implied by the prices at which the government bonds are traded on financial markets, not the interest rates at which the loans were issued. In all cases, they refer to bonds whose capital repayment is guaranteed by governments. Long-term interest rates are one of the determinants of business investment. Low long-term interest rates encourage investment in new equipment and high interest rates discourage it. Investment is, in turn, a major source of economic growth. Query the Geo Fred API for regional economic data by series group.  The series group ID is found by using `fred_search` and the `series_id` parameter. \n",
      "\n",
      "etf: Search for ETFs.  An empty query returns the full list of ETFs from the provider. ETF Historical Market Price. ETF Information Overview. ETF Sector weighting. ETF Country weighting. Price performance as a return, over different periods. Get the holdings for an individual ETF. Use this function to get the holdings dates, if available. Get the recent price performance of each ticker held in the ETF. Get the exposure to ETFs for a specific stock. \n",
      "\n",
      "crypto: Get historical price data for cryptocurrency pair(s) within a provider. Search available cryptocurrency pairs within a provider. \n",
      "\n",
      "currency: Currency Historical Price. Currency historical data.  Currency historical prices refer to the past exchange rates of one currency against another over a specific period. This data provides insight into the fluctuations and trends in the foreign exchange market, helping analysts, traders, and economists understand currency performance, evaluate economic health, and make predictions about future movements. Currency Search.  Search available currency pairs. Currency pairs are the national currencies from two countries coupled for trading on the foreign exchange (FX) marketplace. Both currencies will have exchange rates on which the trade will have its position basis. All trading within the forex market, whether selling, buying, or trading, will take place through currency pairs. (ref: Investopedia) Major currency pairs include pairs such as EUR/USD, USD/JPY, GBP/USD, etc. Snapshots of currency exchange rates from an indirect or direct perspective of a base currency. \n",
      "\n",
      "\u001b[0m\n",
      "\u001b[92mFirst level answer: derivatives\u001b[0m\n",
      "\u001b[93mCurrent Trail: ['derivatives'] and level: 2\u001b[0m\n",
      "\u001b[91mSubsequent level 2 string to LLM: futures: Historical futures prices. Futures Term Structure, current or historical. \n",
      "\n",
      "options: Get the complete options chain for a ticker. \n",
      "\n",
      "\u001b[0m\n",
      "\u001b[94mLLM Answer: Prediction(\n",
      "    rationale='produce the output. We are looking for historical prices of Gold futures, which falls under the category of futures.',\n",
      "    output='futures'\n",
      ")\u001b[0m\n",
      "\u001b[93mCurrent Trail: ['derivatives-->futures'] and level: 3\u001b[0m\n",
      "\u001b[91mSubsequent level 3 string to LLM: historical: Historical futures prices. \n",
      "\n",
      "curve: Futures Term Structure, current or historical. \n",
      "\n",
      "\u001b[0m\n",
      "\u001b[94mLLM Answer: Prediction(\n",
      "    rationale='produce the output. We are looking for the current or historical prices of Gold futures.',\n",
      "    output='curve'\n",
      ")\u001b[0m\n",
      "\u001b[93mCurrent Trail: ['derivatives-->futures-->curve'] and level: 4\u001b[0m\n",
      "[{'ids': ['id164'], 'embeddings': None, 'metadatas': [{'function_call': '{\\'name\\': \\'obb-derivatives-futures-curve_yfinance\\', \\'description\\': \\'Futures Term Structure, current or historical.\\', \\'parameters\\': {\\'type\\': \\'object\\', \\'properties\\': {\\'symbol\\': {\\'type\\': \\'string\\', \\'description\\': \\'Symbol to get data for.\\', \\'default\\': \\'\\'}, \\'date\\': {\\'type\\': \\'string\\', \\'description\\': \\'A specific date to get data for.\\', \\'default\\': None}, \\'provider\\': {\\'description\\': \"The provider to use for the query, by default None. If None, the provider specified in defaults is selected or \\'yfinance\\' if there is no default.\", \\'default\\': \\'yfinance\\', \\'type\\': \\'string\\', \\'enum\\': [\\'yfinance\\']}}, \\'required\\': [\\'symbol\\', \\'provider\\']}}', 'node_name': 'obb-derivatives-futures-curve_yfinance', 'provider_source': 'yfinance', 'trail': 'derivatives-->futures-->curve', 'type': 'provider_function'}], 'documents': ['empty'], 'uris': None, 'data': None}]\n",
      "content='' additional_kwargs={'function_call': {'arguments': '{\"symbol\":\"GC=F\",\"provider\":\"yfinance\"}', 'name': 'obb-derivatives-futures-curve'}} response_metadata={'token_usage': {'completion_tokens': 11, 'prompt_tokens': 152, 'total_tokens': 163}, 'model_name': 'gpt-3.5-turbo', 'system_fingerprint': None, 'finish_reason': 'stop', 'logprobs': None} id='run-5a516809-36b0-4ba0-8445-3d874117ca98-0'\n"
     ]
    }
   ],
   "source": [
    "final_func = run_main_function_callinng(\"I want the Gold futures prices\")"
   ]
  },
  {
   "cell_type": "markdown",
   "metadata": {},
   "source": [
    "## AUTOGEN AGENT"
   ]
  },
  {
   "cell_type": "code",
   "execution_count": 61,
   "metadata": {},
   "outputs": [],
   "source": [
    "import ast\n",
    "\n",
    "def function_tool_generator(funcs,req_provider):\n",
    "    for func in funcs:\n",
    "        if func!= []:\n",
    "            for meta in func[\"metadatas\"]:\n",
    "                if meta[\"provider_source\"] == req_provider:\n",
    "                    function_call = ast.literal_eval(meta[\"function_call\"])\n",
    "                    function_call[\"name\"] = function_call[\"name\"].rpartition(\"_\")[0]\n",
    "                    # function_call['name'] = \".\".join(function_call[\"name\"].split(\"-\"))\n",
    "                    break\n",
    "    return function_call\n",
    "def get_relevant_functions(question,provider_list:List[str]=[]):\n",
    "    funcs,prompts = obb_chroma(question)\n",
    "    print(funcs)\n",
    "    provider_sources = [fn['provider_source'] for fn in funcs[0]['metadatas']]\n",
    "    if provider_list != []:\n",
    "        valid_providers = [sources for sources in provider_sources if sources in provider_list]\n",
    "    else:\n",
    "        valid_providers = provider_sources\n",
    "    \n",
    "    function_calls = [function_tool_generator(funcs,vp) for vp in valid_providers]\n",
    "\n",
    "    return function_calls"
   ]
  },
  {
   "cell_type": "code",
   "execution_count": 62,
   "metadata": {},
   "outputs": [
    {
     "name": "stdout",
     "output_type": "stream",
     "text": [
      "\u001b[92mFirst level string: currency: Currency Historical Price. Currency historical data.  Currency historical prices refer to the past exchange rates of one currency against another over a specific period. This data provides insight into the fluctuations and trends in the foreign exchange market, helping analysts, traders, and economists understand currency performance, evaluate economic health, and make predictions about future movements. Currency Search.  Search available currency pairs. Currency pairs are the national currencies from two countries coupled for trading on the foreign exchange (FX) marketplace. Both currencies will have exchange rates on which the trade will have its position basis. All trading within the forex market, whether selling, buying, or trading, will take place through currency pairs. (ref: Investopedia) Major currency pairs include pairs such as EUR/USD, USD/JPY, GBP/USD, etc. Snapshots of currency exchange rates from an indirect or direct perspective of a base currency. \n",
      "\n",
      "crypto: Get historical price data for cryptocurrency pair(s) within a provider. Search available cryptocurrency pairs within a provider. \n",
      "\n",
      "derivatives: Get the complete options chain for a ticker. Historical futures prices. Futures Term Structure, current or historical. \n",
      "\n",
      "equity: Get historical and upcoming initial public offerings (IPOs). Get historical and upcoming dividend payments. Includes dividend amount, ex-dividend and payment dates. Get historical and upcoming stock split operations. Get historical and upcoming company earnings releases. Includes earnings per share (EPS) and revenue data. Get the closest peers for a given company.  Peers consist of companies trading on the same exchange, operating within the same sector and with comparable market capitalizations. Get analyst price targets by company. Get historical analyst estimates for earnings and revenue. Get consensus price target and recommendation. Search for specific analysts and get their forecast track record. Get forward sales estimates. Get forward EPS estimates. Get the top price gainers in the stock market. Get the top price losers in the stock market. Get the most actively traded stocks based on volume. Get potentially undervalued large cap stocks. Get potentially undervalued growth stocks. Get top small cap stocks based on earnings growth. Get top tech stocks based on revenue and earnings growth. Get the URLs to SEC filings reported to EDGAR database, such as 10-K, 10-Q, 8-K, and more.  SEC filings include Form 10-K, Form 10-Q, Form 8-K, the proxy statement, Forms 3, 4, and 5, Schedule 13, Form 114, Foreign Investment Disclosures and others. The annual 10-K report is required to be filed annually and includes the company's financial statements, management discussion and analysis, and audited financial statements. Get equity valuation multiples for a given company. Get the balance sheet for a given company. Get the growth of a company's balance sheet items over time. Get the cash flow statement for a given company. Get financial statements as reported by the company. Get the growth of a company's cash flow statement items over time. Get historical dividend data for a given company. Get historical earnings per share data for a given company. Get historical employee count data for a given company. Search Intrinio data tags to search in latest or historical attributes. Get the latest value of a data tag from Intrinio. Get the historical values of a data tag from Intrinio. Get the income statement for a given company. Get the growth of a company's income statement items over time. Get fundamental metrics for a given company. Get executive management team data for a given company. Get executive management team compensation for a given company over time. Get an extensive set of financial and accounting ratios for a given company over time. Get the revenue geographic breakdown for a given company over time. Get the revenue breakdown by business segment for a given company over time. Get historical stock splits for a given company. Get earnings call transcripts for a given company. Get the 1 year trailing dividend yield for a given company over time. Get data about major holders for a given company over time. Get data about institutional ownership for a given company over time. Get data about trading by a company's management team and board of directors. \n",
      "\n",
      "etf: Search for ETFs.  An empty query returns the full list of ETFs from the provider. ETF Historical Market Price. ETF Information Overview. ETF Sector weighting. ETF Country weighting. Price performance as a return, over different periods. Get the holdings for an individual ETF. Use this function to get the holdings dates, if available. Get the recent price performance of each ticker held in the ETF. Get the exposure to ETFs for a specific stock. \n",
      "\n",
      "\u001b[0m\n",
      "\u001b[92mFirst level answer: crypto\u001b[0m\n",
      "\u001b[93mCurrent Trail: ['crypto'] and level: 2\u001b[0m\n",
      "\u001b[91mSubsequent level 2 string to LLM: price: Get historical price data for cryptocurrency pair(s) within a provider. \n",
      "\n",
      "search: Search available cryptocurrency pairs within a provider. \n",
      "\n",
      "\u001b[0m\n",
      "\u001b[94mLLM Answer: Prediction(\n",
      "    rationale='produce the output. We are looking for historical price data, so the relevant key is \"price\".',\n",
      "    output='price'\n",
      ")\u001b[0m\n",
      "\u001b[93mCurrent Trail: ['crypto-->price'] and level: 3\u001b[0m\n",
      "[{'ids': ['id148', 'id149', 'id150', 'id151'], 'embeddings': None, 'metadatas': [{'function_call': '{\\'name\\': \\'obb-crypto-price-historical_fmp\\', \\'description\\': \\'Get historical price data for cryptocurrency pair(s) within a provider. Get it from provider fmp\\', \\'parameters\\': {\\'type\\': \\'object\\', \\'properties\\': {\\'symbol\\': {\\'type\\': \\'string\\', \\'description\\': \\'Symbol to get data for. Can use CURR1-CURR2 or CURR1CURR2 format. Multiple items allowed for provider(s): fmp, polygon, tiingo, yfinance.\\', \\'default\\': \\'\\'}, \\'start_date\\': {\\'type\\': \\'string\\', \\'description\\': \\'Start date of the data, in YYYY-MM-DD format.\\', \\'default\\': None}, \\'end_date\\': {\\'type\\': \\'string\\', \\'description\\': \\'End date of the data, in YYYY-MM-DD format.\\', \\'default\\': None}, \\'provider\\': {\\'description\\': \"The provider to use for the query, by default None. If None, the provider specified in defaults is selected or \\'fmp\\' if there is no default.\", \\'default\\': \\'fmp\\', \\'type\\': \\'string\\', \\'enum\\': [\\'fmp\\']}, \\'interval\\': {\\'name\\': \\'interval\\', \\'description\\': \\'Time interval of the data to return.\\', \\'default\\': \\'1d\\', \\'optional\\': True, \\'type\\': \\'string\\', \\'enum\\': [\\'1m\\', \\'5m\\', \\'15m\\', \\'30m\\', \\'1h\\', \\'4h\\', \\'1d\\']}}, \\'required\\': [\\'symbol\\', \\'provider\\']}}', 'node_name': 'obb-crypto-price-historical_fmp', 'provider_source': 'fmp', 'trail': 'crypto-->price-->historical', 'type': 'provider_function'}, {'function_call': '{\\'name\\': \\'obb-crypto-price-historical_polygon\\', \\'description\\': \\'Get historical price data for cryptocurrency pair(s) within a provider. Get it from provider polygon\\', \\'parameters\\': {\\'type\\': \\'object\\', \\'properties\\': {\\'symbol\\': {\\'type\\': \\'string\\', \\'description\\': \\'Symbol to get data for. Can use CURR1-CURR2 or CURR1CURR2 format. Multiple items allowed for provider(s): fmp, polygon, tiingo, yfinance.\\', \\'default\\': \\'\\'}, \\'start_date\\': {\\'type\\': \\'string\\', \\'description\\': \\'Start date of the data, in YYYY-MM-DD format.\\', \\'default\\': None}, \\'end_date\\': {\\'type\\': \\'string\\', \\'description\\': \\'End date of the data, in YYYY-MM-DD format.\\', \\'default\\': None}, \\'provider\\': {\\'description\\': \"The provider to use for the query, by default None. If None, the provider specified in defaults is selected or \\'fmp\\' if there is no default.\", \\'default\\': \\'fmp\\', \\'type\\': \\'string\\', \\'enum\\': [\\'polygon\\']}, \\'interval\\': {\\'name\\': \\'interval\\', \\'type\\': \\'string\\', \\'description\\': \\'Time interval of the data to return. The numeric portion of the interval can be any positive integer. The letter portion can be one of the following: s, m, h, d, W, M, Q, Y\\', \\'default\\': \\'1d\\', \\'optional\\': True}, \\'sort\\': {\\'name\\': \\'sort\\', \\'description\\': \"Sort order of the data. This impacts the results in combination with the \\'limit\\' parameter. The results are always returned in ascending order by date.\", \\'default\\': \\'asc\\', \\'optional\\': True, \\'type\\': \\'string\\', \\'enum\\': [\\'asc\\', \\'desc\\']}, \\'limit\\': {\\'name\\': \\'limit\\', \\'type\\': \\'integer\\', \\'description\\': \\'The number of data entries to return.\\', \\'default\\': 49999, \\'optional\\': True}}, \\'required\\': [\\'symbol\\', \\'provider\\']}}', 'node_name': 'obb-crypto-price-historical_polygon', 'provider_source': 'polygon', 'trail': 'crypto-->price-->historical', 'type': 'provider_function'}, {'function_call': '{\\'name\\': \\'obb-crypto-price-historical_tiingo\\', \\'description\\': \\'Get historical price data for cryptocurrency pair(s) within a provider. Get it from provider tiingo\\', \\'parameters\\': {\\'type\\': \\'object\\', \\'properties\\': {\\'symbol\\': {\\'type\\': \\'string\\', \\'description\\': \\'Symbol to get data for. Can use CURR1-CURR2 or CURR1CURR2 format. Multiple items allowed for provider(s): fmp, polygon, tiingo, yfinance.\\', \\'default\\': \\'\\'}, \\'start_date\\': {\\'type\\': \\'string\\', \\'description\\': \\'Start date of the data, in YYYY-MM-DD format.\\', \\'default\\': None}, \\'end_date\\': {\\'type\\': \\'string\\', \\'description\\': \\'End date of the data, in YYYY-MM-DD format.\\', \\'default\\': None}, \\'provider\\': {\\'description\\': \"The provider to use for the query, by default None. If None, the provider specified in defaults is selected or \\'fmp\\' if there is no default.\", \\'default\\': \\'fmp\\', \\'type\\': \\'string\\', \\'enum\\': [\\'tiingo\\']}, \\'interval\\': {\\'name\\': \\'interval\\', \\'description\\': \\'Time interval of the data to return.\\', \\'default\\': \\'1d\\', \\'optional\\': True, \\'type\\': \\'string\\', \\'enum\\': [\\'1m\\', \\'5m\\', \\'15m\\', \\'30m\\', \\'1h\\', \\'4h\\', \\'1d\\']}, \\'exchanges\\': {\\'name\\': \\'exchanges\\', \\'type\\': \\'string\\', \\'description\\': \"To limit the query to a subset of exchanges e.g. [\\'POLONIEX\\', \\'GDAX\\']\", \\'default\\': None, \\'optional\\': True}}, \\'required\\': [\\'symbol\\', \\'provider\\']}}', 'node_name': 'obb-crypto-price-historical_tiingo', 'provider_source': 'tiingo', 'trail': 'crypto-->price-->historical', 'type': 'provider_function'}, {'function_call': '{\\'name\\': \\'obb-crypto-price-historical_yfinance\\', \\'description\\': \\'Get historical price data for cryptocurrency pair(s) within a provider. Get it from provider yfinance\\', \\'parameters\\': {\\'type\\': \\'object\\', \\'properties\\': {\\'symbol\\': {\\'type\\': \\'string\\', \\'description\\': \\'Symbol to get data for. Can use CURR1-CURR2 or CURR1CURR2 format. Multiple items allowed for provider(s): fmp, polygon, tiingo, yfinance.\\', \\'default\\': \\'\\'}, \\'start_date\\': {\\'type\\': \\'string\\', \\'description\\': \\'Start date of the data, in YYYY-MM-DD format.\\', \\'default\\': None}, \\'end_date\\': {\\'type\\': \\'string\\', \\'description\\': \\'End date of the data, in YYYY-MM-DD format.\\', \\'default\\': None}, \\'provider\\': {\\'description\\': \"The provider to use for the query, by default None. If None, the provider specified in defaults is selected or \\'fmp\\' if there is no default.\", \\'default\\': \\'fmp\\', \\'type\\': \\'string\\', \\'enum\\': [\\'yfinance\\']}, \\'interval\\': {\\'name\\': \\'interval\\', \\'description\\': \\'Time interval of the data to return.\\', \\'default\\': \\'1d\\', \\'optional\\': True, \\'type\\': \\'string\\', \\'enum\\': [\\'1m\\', \\'2m\\', \\'5m\\', \\'15m\\', \\'30m\\', \\'60m\\', \\'90m\\', \\'1h\\', \\'1d\\', \\'5d\\', \\'1W\\', \\'1M\\', \\'1Q\\']}}, \\'required\\': [\\'symbol\\', \\'provider\\']}}', 'node_name': 'obb-crypto-price-historical_yfinance', 'provider_source': 'yfinance', 'trail': 'crypto-->price-->historical', 'type': 'provider_function'}], 'documents': ['empty', 'empty', 'empty', 'empty'], 'uris': None, 'data': None}]\n"
     ]
    }
   ],
   "source": [
    "fcalls = get_relevant_functions(\"I want the historical price of Bitcoin\")"
   ]
  },
  {
   "cell_type": "code",
   "execution_count": 63,
   "metadata": {},
   "outputs": [
    {
     "data": {
      "text/plain": [
       "{'name': 'obb-crypto-price-historical',\n",
       " 'description': 'Get historical price data for cryptocurrency pair(s) within a provider. Get it from provider fmp',\n",
       " 'parameters': {'type': 'object',\n",
       "  'properties': {'symbol': {'type': 'string',\n",
       "    'description': 'Symbol to get data for. Can use CURR1-CURR2 or CURR1CURR2 format. Multiple items allowed for provider(s): fmp, polygon, tiingo, yfinance.',\n",
       "    'default': ''},\n",
       "   'start_date': {'type': 'string',\n",
       "    'description': 'Start date of the data, in YYYY-MM-DD format.',\n",
       "    'default': None},\n",
       "   'end_date': {'type': 'string',\n",
       "    'description': 'End date of the data, in YYYY-MM-DD format.',\n",
       "    'default': None},\n",
       "   'provider': {'description': \"The provider to use for the query, by default None. If None, the provider specified in defaults is selected or 'fmp' if there is no default.\",\n",
       "    'default': 'fmp',\n",
       "    'type': 'string',\n",
       "    'enum': ['fmp']},\n",
       "   'interval': {'name': 'interval',\n",
       "    'description': 'Time interval of the data to return.',\n",
       "    'default': '1d',\n",
       "    'optional': True,\n",
       "    'type': 'string',\n",
       "    'enum': ['1m', '5m', '15m', '30m', '1h', '4h', '1d']}},\n",
       "  'required': ['symbol', 'provider']}}"
      ]
     },
     "execution_count": 63,
     "metadata": {},
     "output_type": "execute_result"
    }
   ],
   "source": [
    "fcalls[0]"
   ]
  },
  {
   "cell_type": "code",
   "execution_count": 64,
   "metadata": {},
   "outputs": [],
   "source": [
    "from langchain.chat_models import ChatOpenAI\n",
    "from langchain.prompts import ChatPromptTemplate\n",
    "\n",
    "question = \"I want the historical price of Bitcoin\"\n",
    "prompt = ChatPromptTemplate.from_messages([(\"human\", \"{input}\")])\n",
    "model = ChatOpenAI(temperature=0).bind(\n",
    "        functions=[fcalls[0]], function_call={\"name\": fcalls[0][\"name\"]}\n",
    "    )\n",
    "runnable = prompt | model\n",
    "resp = runnable.invoke({\"input\": question})"
   ]
  },
  {
   "cell_type": "code",
   "execution_count": 85,
   "metadata": {},
   "outputs": [],
   "source": [
    "resp.additional_kwargs['function_call']['name'] = \".\".join(resp.additional_kwargs['function_call']['name'].split(\"-\"))"
   ]
  },
  {
   "cell_type": "code",
   "execution_count": 91,
   "metadata": {},
   "outputs": [],
   "source": [
    "# \"obb.crypto.price.historical()\"\n",
    "f = \"\"\"\n",
    "obb.crypto.price.historical(\"symbol\":\"BTC-USD\",\"provider\":\"fmp\")\n",
    "\"\"\""
   ]
  },
  {
   "cell_type": "code",
   "execution_count": 72,
   "metadata": {},
   "outputs": [
    {
     "data": {
      "text/plain": [
       "{'symbol': 'BTC-USD', 'provider': 'fmp'}"
      ]
     },
     "execution_count": 72,
     "metadata": {},
     "output_type": "execute_result"
    }
   ],
   "source": [
    "ast.literal_eval(resp.additional_kwargs['function_call']['arguments'])"
   ]
  },
  {
   "cell_type": "code",
   "execution_count": 75,
   "metadata": {},
   "outputs": [
    {
     "data": {
      "text/plain": [
       "'obb_crypto_price_historical'"
      ]
     },
     "execution_count": 75,
     "metadata": {},
     "output_type": "execute_result"
    }
   ],
   "source": [
    "func = \"_\".join(fcalls[0]['name'].split(\"-\"))\n",
    "func"
   ]
  },
  {
   "cell_type": "code",
   "execution_count": 79,
   "metadata": {},
   "outputs": [
    {
     "data": {
      "text/plain": [
       "'obb_crypto_price_historical'"
      ]
     },
     "execution_count": 79,
     "metadata": {},
     "output_type": "execute_result"
    }
   ],
   "source": [
    "func"
   ]
  },
  {
   "cell_type": "code",
   "execution_count": 92,
   "metadata": {},
   "outputs": [
    {
     "data": {
      "text/plain": [
       "'SyntaxError(\\'invalid syntax\\', (\\'<string>\\', 2, 37, \\'obb.crypto.price.historical(\"symbol\":\"BTC-USD\",\"provider\":\"fmp\")\\\\n\\', 2, 38))'"
      ]
     },
     "execution_count": 92,
     "metadata": {},
     "output_type": "execute_result"
    }
   ],
   "source": [
    "from langchain.agents import Tool\n",
    "from langchain_experimental.utilities import PythonREPL\n",
    "python_repl = PythonREPL()\n",
    "\n",
    "python_repl.run(f)"
   ]
  },
  {
   "cell_type": "code",
   "execution_count": 97,
   "metadata": {},
   "outputs": [
    {
     "name": "stdout",
     "output_type": "stream",
     "text": [
      "\u001b[31m\n",
      ">>>>>>>> NO HUMAN INPUT RECEIVED.\u001b[0m\n",
      "\u001b[31m\n",
      ">>>>>>>> USING AUTO REPLY...\u001b[0m\n",
      "\u001b[31m\n",
      ">>>>>>>> EXECUTING CODE BLOCK (inferred language is python)...\u001b[0m\n",
      "exitcode: 124 (execution failed)\n",
      "Code output: \n",
      "Timeout\n"
     ]
    }
   ],
   "source": [
    "import tempfile\n",
    "\n",
    "from autogen import ConversableAgent\n",
    "from autogen.coding import LocalCommandLineCodeExecutor\n",
    "from autogen.coding.jupyter import JupyterCodeExecutor\n",
    "\n",
    "# Create a temporary directory to store the code files.\n",
    "temp_dir = tempfile.TemporaryDirectory()\n",
    "# Create a local command line code executor.\n",
    "executor = LocalCommandLineCodeExecutor(\n",
    "    timeout=10,  # Timeout for each code execution in seconds.\n",
    "    work_dir=temp_dir.name,  # Use the temporary directory to store the code files.\n",
    ")\n",
    "\n",
    "code_executor_agent = ConversableAgent(\n",
    "    \"code_executor_agent\",\n",
    "    llm_config=False,  # Turn off LLM for this agent.\n",
    "    code_execution_config={\"executor\": executor},  # Use the local command line code executor.\n",
    "    human_input_mode=\"NEVER\",  # Always take human input for this agent for safety.\n",
    ")\n",
    "\n",
    "message_with_code_block = \"\"\"\n",
    "```python\n",
    "from openbb import obb\n",
    "obb.crypto.price.historical(symbol=\"BTC-USD\",provider=\"fmp\")\n",
    "```\n",
    "\"\"\"\n",
    "\n",
    "reply = code_executor_agent.generate_reply(messages=[{\"role\": \"user\", \"content\": message_with_code_block}])\n",
    "print(reply)"
   ]
  },
  {
   "cell_type": "code",
   "execution_count": 96,
   "metadata": {},
   "outputs": [
    {
     "data": {
      "text/html": [
       "<div>\n",
       "<style scoped>\n",
       "    .dataframe tbody tr th:only-of-type {\n",
       "        vertical-align: middle;\n",
       "    }\n",
       "\n",
       "    .dataframe tbody tr th {\n",
       "        vertical-align: top;\n",
       "    }\n",
       "\n",
       "    .dataframe thead th {\n",
       "        text-align: right;\n",
       "    }\n",
       "</style>\n",
       "<table border=\"1\" class=\"dataframe\">\n",
       "  <thead>\n",
       "    <tr style=\"text-align: right;\">\n",
       "      <th></th>\n",
       "      <th>open</th>\n",
       "      <th>high</th>\n",
       "      <th>low</th>\n",
       "      <th>close</th>\n",
       "      <th>volume</th>\n",
       "      <th>vwap</th>\n",
       "      <th>adj_close</th>\n",
       "      <th>change</th>\n",
       "      <th>change_percent</th>\n",
       "    </tr>\n",
       "    <tr>\n",
       "      <th>date</th>\n",
       "      <th></th>\n",
       "      <th></th>\n",
       "      <th></th>\n",
       "      <th></th>\n",
       "      <th></th>\n",
       "      <th></th>\n",
       "      <th></th>\n",
       "      <th></th>\n",
       "      <th></th>\n",
       "    </tr>\n",
       "  </thead>\n",
       "  <tbody>\n",
       "    <tr>\n",
       "      <th>2023-06-03</th>\n",
       "      <td>27252.670</td>\n",
       "      <td>27344.60</td>\n",
       "      <td>26923.35</td>\n",
       "      <td>27077.60</td>\n",
       "      <td>8.385597e+09</td>\n",
       "      <td>27156.42</td>\n",
       "      <td>27075.12891</td>\n",
       "      <td>-175.07</td>\n",
       "      <td>-0.006424</td>\n",
       "    </tr>\n",
       "    <tr>\n",
       "      <th>2023-06-04</th>\n",
       "      <td>27078.270</td>\n",
       "      <td>27489.00</td>\n",
       "      <td>26958.98</td>\n",
       "      <td>27126.00</td>\n",
       "      <td>9.360912e+09</td>\n",
       "      <td>27196.38</td>\n",
       "      <td>27119.06641</td>\n",
       "      <td>47.73</td>\n",
       "      <td>0.001763</td>\n",
       "    </tr>\n",
       "    <tr>\n",
       "      <th>2023-06-05</th>\n",
       "      <td>27121.570</td>\n",
       "      <td>27137.75</td>\n",
       "      <td>25391.00</td>\n",
       "      <td>25740.44</td>\n",
       "      <td>2.151329e+10</td>\n",
       "      <td>26127.46</td>\n",
       "      <td>25760.09766</td>\n",
       "      <td>-1381.13</td>\n",
       "      <td>-0.050900</td>\n",
       "    </tr>\n",
       "    <tr>\n",
       "      <th>2023-06-06</th>\n",
       "      <td>25742.000</td>\n",
       "      <td>27368.67</td>\n",
       "      <td>25331.00</td>\n",
       "      <td>27243.63</td>\n",
       "      <td>2.192967e+10</td>\n",
       "      <td>26311.46</td>\n",
       "      <td>27238.78320</td>\n",
       "      <td>1501.63</td>\n",
       "      <td>0.058300</td>\n",
       "    </tr>\n",
       "    <tr>\n",
       "      <th>2023-06-07</th>\n",
       "      <td>27243.450</td>\n",
       "      <td>27402.79</td>\n",
       "      <td>26121.06</td>\n",
       "      <td>26346.41</td>\n",
       "      <td>1.953005e+10</td>\n",
       "      <td>26651.94</td>\n",
       "      <td>26345.99805</td>\n",
       "      <td>-897.04</td>\n",
       "      <td>-0.032900</td>\n",
       "    </tr>\n",
       "    <tr>\n",
       "      <th>...</th>\n",
       "      <td>...</td>\n",
       "      <td>...</td>\n",
       "      <td>...</td>\n",
       "      <td>...</td>\n",
       "      <td>...</td>\n",
       "      <td>...</td>\n",
       "      <td>...</td>\n",
       "      <td>...</td>\n",
       "      <td>...</td>\n",
       "    </tr>\n",
       "    <tr>\n",
       "      <th>2024-05-30</th>\n",
       "      <td>67575.400</td>\n",
       "      <td>69550.00</td>\n",
       "      <td>67092.91</td>\n",
       "      <td>68338.58</td>\n",
       "      <td>2.950971e+10</td>\n",
       "      <td>68433.29</td>\n",
       "      <td>68364.99219</td>\n",
       "      <td>763.18</td>\n",
       "      <td>0.011300</td>\n",
       "    </tr>\n",
       "    <tr>\n",
       "      <th>2024-05-31</th>\n",
       "      <td>68365.000</td>\n",
       "      <td>69028.00</td>\n",
       "      <td>66584.47</td>\n",
       "      <td>67472.41</td>\n",
       "      <td>2.738728e+10</td>\n",
       "      <td>67687.99</td>\n",
       "      <td>67491.41406</td>\n",
       "      <td>-892.59</td>\n",
       "      <td>-0.013100</td>\n",
       "    </tr>\n",
       "    <tr>\n",
       "      <th>2024-06-01</th>\n",
       "      <td>67498.100</td>\n",
       "      <td>67890.00</td>\n",
       "      <td>67371.28</td>\n",
       "      <td>67719.29</td>\n",
       "      <td>1.164150e+10</td>\n",
       "      <td>67659.79</td>\n",
       "      <td>67706.93750</td>\n",
       "      <td>221.19</td>\n",
       "      <td>0.003277</td>\n",
       "    </tr>\n",
       "    <tr>\n",
       "      <th>2024-06-02</th>\n",
       "      <td>67717.200</td>\n",
       "      <td>68444.00</td>\n",
       "      <td>67260.00</td>\n",
       "      <td>67700.00</td>\n",
       "      <td>1.663018e+10</td>\n",
       "      <td>67839.39</td>\n",
       "      <td>67764.38281</td>\n",
       "      <td>-17.20</td>\n",
       "      <td>-0.000254</td>\n",
       "    </tr>\n",
       "    <tr>\n",
       "      <th>2024-06-03</th>\n",
       "      <td>67731.766</td>\n",
       "      <td>70295.78</td>\n",
       "      <td>67568.00</td>\n",
       "      <td>69065.03</td>\n",
       "      <td>2.300578e+10</td>\n",
       "      <td>68976.27</td>\n",
       "      <td>69065.03000</td>\n",
       "      <td>1333.26</td>\n",
       "      <td>0.019685</td>\n",
       "    </tr>\n",
       "  </tbody>\n",
       "</table>\n",
       "<p>367 rows × 9 columns</p>\n",
       "</div>"
      ],
      "text/plain": [
       "                 open      high       low     close        volume      vwap  \\\n",
       "date                                                                          \n",
       "2023-06-03  27252.670  27344.60  26923.35  27077.60  8.385597e+09  27156.42   \n",
       "2023-06-04  27078.270  27489.00  26958.98  27126.00  9.360912e+09  27196.38   \n",
       "2023-06-05  27121.570  27137.75  25391.00  25740.44  2.151329e+10  26127.46   \n",
       "2023-06-06  25742.000  27368.67  25331.00  27243.63  2.192967e+10  26311.46   \n",
       "2023-06-07  27243.450  27402.79  26121.06  26346.41  1.953005e+10  26651.94   \n",
       "...               ...       ...       ...       ...           ...       ...   \n",
       "2024-05-30  67575.400  69550.00  67092.91  68338.58  2.950971e+10  68433.29   \n",
       "2024-05-31  68365.000  69028.00  66584.47  67472.41  2.738728e+10  67687.99   \n",
       "2024-06-01  67498.100  67890.00  67371.28  67719.29  1.164150e+10  67659.79   \n",
       "2024-06-02  67717.200  68444.00  67260.00  67700.00  1.663018e+10  67839.39   \n",
       "2024-06-03  67731.766  70295.78  67568.00  69065.03  2.300578e+10  68976.27   \n",
       "\n",
       "              adj_close   change  change_percent  \n",
       "date                                              \n",
       "2023-06-03  27075.12891  -175.07       -0.006424  \n",
       "2023-06-04  27119.06641    47.73        0.001763  \n",
       "2023-06-05  25760.09766 -1381.13       -0.050900  \n",
       "2023-06-06  27238.78320  1501.63        0.058300  \n",
       "2023-06-07  26345.99805  -897.04       -0.032900  \n",
       "...                 ...      ...             ...  \n",
       "2024-05-30  68364.99219   763.18        0.011300  \n",
       "2024-05-31  67491.41406  -892.59       -0.013100  \n",
       "2024-06-01  67706.93750   221.19        0.003277  \n",
       "2024-06-02  67764.38281   -17.20       -0.000254  \n",
       "2024-06-03  69065.03000  1333.26        0.019685  \n",
       "\n",
       "[367 rows x 9 columns]"
      ]
     },
     "execution_count": 96,
     "metadata": {},
     "output_type": "execute_result"
    }
   ],
   "source": [
    "from openbb import obb\n",
    "obb.crypto.price.historical(symbol=\"BTC-USD\",provider=\"fmp\")"
   ]
  },
  {
   "cell_type": "code",
   "execution_count": null,
   "metadata": {},
   "outputs": [],
   "source": []
  }
 ],
 "metadata": {
  "kernelspec": {
   "display_name": "openbb-env",
   "language": "python",
   "name": "python3"
  },
  "language_info": {
   "codemirror_mode": {
    "name": "ipython",
    "version": 3
   },
   "file_extension": ".py",
   "mimetype": "text/x-python",
   "name": "python",
   "nbconvert_exporter": "python",
   "pygments_lexer": "ipython3",
   "version": "3.10.12"
  }
 },
 "nbformat": 4,
 "nbformat_minor": 2
}
