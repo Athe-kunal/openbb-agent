{
 "cells": [
  {
   "cell_type": "code",
   "execution_count": null,
   "metadata": {},
   "outputs": [],
   "source": [
    "from langchain_core.utils.function_calling import convert_to_openai_function,convert_python_function_to_openai_function,convert_pydantic_to_openai_function"
   ]
  },
  {
   "cell_type": "code",
   "execution_count": null,
   "metadata": {},
   "outputs": [],
   "source": [
    "# https://github.com/OpenBB-finance/OpenBBTerminal/blob/develop/openbb_platform/openbb/assets/reference.json"
   ]
  },
  {
   "cell_type": "code",
   "execution_count": null,
   "metadata": {},
   "outputs": [],
   "source": [
    "from langchain.chains.openai_functions.openapi import openapi_spec_to_openai_fn\n",
    "from langchain.utilities.openapi import OpenAPISpec"
   ]
  },
  {
   "cell_type": "code",
   "execution_count": 1,
   "metadata": {},
   "outputs": [],
   "source": [
    "# from openapi_core import OpenAPI\n",
    "\n",
    "# openapi = OpenAPI.from_file_path(\"reference.json\")\n",
    "import json\n",
    "\n",
    "with open(\"reference.json\",\"r\") as file:\n",
    "    data = json.load(file)"
   ]
  },
  {
   "cell_type": "code",
   "execution_count": 2,
   "metadata": {},
   "outputs": [
    {
     "data": {
      "text/plain": [
       "dict_keys(['openbb', 'info', 'paths', 'routers'])"
      ]
     },
     "execution_count": 2,
     "metadata": {},
     "output_type": "execute_result"
    }
   ],
   "source": [
    "data.keys()"
   ]
  },
  {
   "cell_type": "code",
   "execution_count": 57,
   "metadata": {},
   "outputs": [],
   "source": [
    "openbb_functions = []\n",
    "\n",
    "for paths in data['paths']:\n",
    "    curr_func = {}\n",
    "    curr_func['name'] = \" \".join(paths.split(\"/\")[1:])\n",
    "    curr_func['description'] = data[\"paths\"][paths]['description']\n",
    "    curr_func['examples'] = data[\"paths\"][paths]['examples']\n",
    "    curr_func['parameters'] = {\"type\":\"object\",\"properties\":{},\"required\":[]}\n",
    "    params_dict = data[\"paths\"][paths]['parameters']\n",
    "    required_params = []\n",
    "    for params in params_dict:\n",
    "        for params_desc in params_dict[params]:\n",
    "            prop_name = params_desc['name']\n",
    "            curr_func['parameters']['properties'][prop_name] = params_desc\n",
    "            if \"optional\" in params_desc:\n",
    "                if not params_desc[\"optional\"]:\n",
    "                    required_params.append(params_desc[\"name\"])\n",
    "    curr_func['parameters']['required'] = required_params\n",
    "    openbb_functions.append(curr_func)\n",
    "    # break\n",
    "        \n",
    "    \n",
    "    # print(data['paths'][paths]['model'])\n",
    "    # print(data[\"paths\"][paths]['parameters'].keys())\n",
    "    # break"
   ]
  },
  {
   "cell_type": "code",
   "execution_count": 58,
   "metadata": {},
   "outputs": [
    {
     "data": {
      "text/plain": [
       "122"
      ]
     },
     "execution_count": 58,
     "metadata": {},
     "output_type": "execute_result"
    }
   ],
   "source": [
    "len(openbb_functions)"
   ]
  },
  {
   "cell_type": "code",
   "execution_count": 59,
   "metadata": {},
   "outputs": [
    {
     "data": {
      "text/plain": [
       "{'name': 'crypto search',\n",
       " 'description': 'Search available cryptocurrency pairs within a provider.',\n",
       " 'examples': \"\\nExamples\\n--------\\n\\n```python\\nfrom openbb import obb\\nobb.crypto.search(provider='fmp')\\nobb.crypto.search(query='BTCUSD', provider='fmp')\\n```\\n\\n\",\n",
       " 'parameters': {'type': 'object',\n",
       "  'properties': {'query': {'name': 'query',\n",
       "    'type': 'str',\n",
       "    'description': 'Search query.',\n",
       "    'default': None,\n",
       "    'optional': True},\n",
       "   'provider': {'name': 'provider',\n",
       "    'type': \"Literal['fmp']\",\n",
       "    'description': \"The provider to use for the query, by default None. If None, the provider specified in defaults is selected or 'fmp' if there is no default.\",\n",
       "    'default': 'fmp',\n",
       "    'optional': True}},\n",
       "  'required': []}}"
      ]
     },
     "execution_count": 59,
     "metadata": {},
     "output_type": "execute_result"
    }
   ],
   "source": [
    "openbb_functions[1]"
   ]
  },
  {
   "cell_type": "markdown",
   "metadata": {},
   "source": [
    "## STEPS\n",
    "1. separate by provider and it's arguments"
   ]
  },
  {
   "cell_type": "code",
   "execution_count": 19,
   "metadata": {},
   "outputs": [],
   "source": [
    "import re\n",
    "import json\n",
    "\n",
    "with open(\"reference.json\",\"r\") as file:\n",
    "    data = json.load(file)\n",
    "openbb_functions_enum = []\n",
    "\n",
    "for paths in data['paths']:\n",
    "    curr_func = {}\n",
    "    func_name = paths.split(\"/\")[1:]\n",
    "    func_name = \"obb_\" + \"_\".join(func_name)\n",
    "    curr_func['name'] = func_name\n",
    "    curr_func['description'] = data[\"paths\"][paths]['description']\n",
    "    # curr_func['examples'] = data[\"paths\"][paths]['examples']\n",
    "    curr_func['parameters'] = {\"type\":\"object\",\"properties\":{},\"required\":[]}\n",
    "    params_dict = data[\"paths\"][paths]['parameters']\n",
    "    required_params = []\n",
    "    # print(paths)\n",
    "    # Providers\n",
    "    function_options = list(params_dict.keys())\n",
    "\n",
    "    for params in params_dict:\n",
    "        # params can be standard or other options\n",
    "        for params_desc in params_dict[params]:\n",
    "            prop_name = params_desc['name']\n",
    "            \n",
    "            if \"type\" in params_desc:\n",
    "                if \"None\" in params_desc['type'] and \"Literal\" in params_desc['type']:\n",
    "                    result = re.findall(r\"Literal\\[(.*?)\\]\", params_desc['type'])[0].split(\", \")\n",
    "                    result = [value.strip('\"') if value.strip() != \"None\" else None for value in result]    \n",
    "                    result = [value.replace(\"'\", '') for value in result if value is not None]\n",
    "                    del params_desc['type']\n",
    "                    for res in result:\n",
    "                        if res in function_options:\n",
    "                            params_desc['optional'] = False\n",
    "                            break\n",
    "                    params_desc.update({\"type\":\"string\",\"enum\":result})\n",
    "                elif \"None\" not in params_desc['type'] and \"Literal\" in params_desc['type']:\n",
    "                    result = re.findall(r\"Literal\\[(.*?)\\]\", params_desc['type'])[0].split(\", \")\n",
    "                    result = [value.replace(\"'\", '') for value in result] \n",
    "                    for res in result:\n",
    "                        if res in function_options:\n",
    "                            params_desc['optional'] = False\n",
    "                            break\n",
    "                    del params_desc['type']\n",
    "                    params_desc.update({\"type\":\"string\",\"enum\":result})\n",
    "                elif \"int\" in params_desc['type']:\n",
    "                    params_desc['type'] = \"integer\"\n",
    "                elif (\"Union\" in params_desc['type'] or \"List\" in params_desc['type']) and \"str\" in params_desc['type']:\n",
    "                    params_desc['type'] = \"string\"\n",
    "                elif \"str\" in params_desc['type']:\n",
    "                    params_desc['type'] = \"string\"\n",
    "            curr_func['parameters']['properties'][prop_name] = params_desc\n",
    "            if \"optional\" in params_desc:\n",
    "                if not params_desc[\"optional\"] and prop_name not in required_params:\n",
    "                    required_params.append(prop_name)\n",
    "            del params_desc['name']\n",
    "    curr_func['parameters']['required'] = required_params\n",
    "    openbb_functions_enum.append(curr_func)\n",
    "    # break"
   ]
  },
  {
   "cell_type": "code",
   "execution_count": 21,
   "metadata": {},
   "outputs": [
    {
     "data": {
      "text/plain": [
       "122"
      ]
     },
     "execution_count": 21,
     "metadata": {},
     "output_type": "execute_result"
    }
   ],
   "source": [
    "len(openbb_functions_enum)"
   ]
  },
  {
   "cell_type": "markdown",
   "metadata": {},
   "source": [
    "## METHOD\n",
    "\n",
    "1. standard + one provider --> have one function only that has provider equal to the given one\n",
    "2. Standard + multiple provider --> have multiple functions, one for standard and other for each provider"
   ]
  },
  {
   "cell_type": "code",
   "execution_count": 9,
   "metadata": {},
   "outputs": [],
   "source": [
    "def process_params(params_desc):\n",
    "            \n",
    "    if \"type\" in params_desc:\n",
    "        if \"None\" in params_desc['type'] and \"Literal\" in params_desc['type']:\n",
    "            result = re.findall(r\"Literal\\[(.*?)\\]\", params_desc['type'])[0].split(\", \")\n",
    "            result = [value.strip('\"') if value.strip() != \"None\" else None for value in result]    \n",
    "            result = [value.replace(\"'\", '') for value in result if value is not None]\n",
    "            del params_desc['type']\n",
    "            # for res in result:\n",
    "                # if res in function_options:\n",
    "            #         params_desc['optional'] = False\n",
    "            #         break\n",
    "            params_desc.update({\"type\":\"string\",\"enum\":result})\n",
    "        elif \"None\" not in params_desc['type'] and \"Literal\" in params_desc['type']:\n",
    "            result = re.findall(r\"Literal\\[(.*?)\\]\", params_desc['type'])[0].split(\", \")\n",
    "            result = [value.replace(\"'\", '') for value in result] \n",
    "            # for res in result:\n",
    "            #     if res in function_options:\n",
    "            #         params_desc['optional'] = False\n",
    "            #         break\n",
    "            del params_desc['type']\n",
    "            params_desc.update({\"type\":\"string\",\"enum\":result})\n",
    "        elif \"int\" in params_desc['type']:\n",
    "            params_desc['type'] = \"integer\"\n",
    "        elif (\"Union\" in params_desc['type'] or \"List\" in params_desc['type']) and \"str\" in params_desc['type']:\n",
    "            params_desc['type'] = \"string\"\n",
    "        elif \"str\" in params_desc['type']:\n",
    "            params_desc['type'] = \"string\"\n",
    "    return params_desc\n",
    "def get_curr_func(data,paths,ignore_non_standard:bool=False):\n",
    "    curr_func = {}\n",
    "    func_name = paths.split(\"/\")[1:]\n",
    "    func_name = \"obb_\" + \"_\".join(func_name)\n",
    "    curr_func['name'] = func_name\n",
    "    curr_func['description'] = data[\"paths\"][paths]['description']\n",
    "    # curr_func['examples'] = data[\"paths\"][paths]['examples']\n",
    "    curr_func['parameters'] = {\"type\":\"object\",\"properties\":{},\"required\":[]}\n",
    "    required_params = []\n",
    "    # print(paths)\n",
    "    # Providers\n",
    "    for params in params_dict:\n",
    "    # params can be standard or other options\n",
    "        if ignore_non_standard and params!=\"standard\": break\n",
    "        for params_desc in params_dict[params]:\n",
    "            prop_name = params_desc['name']\n",
    "            params_desc = process_params(params_desc)\n",
    "            curr_func['parameters']['properties'][prop_name] = params_desc\n",
    "            if \"optional\" in params_desc:\n",
    "                if not params_desc[\"optional\"] and prop_name not in required_params:\n",
    "                    required_params.append(prop_name)\n",
    "                del params_desc[\"optional\"]\n",
    "            del params_desc['name']\n",
    "    curr_func['parameters']['required'] = required_params + ['provider']\n",
    "    return curr_func"
   ]
  },
  {
   "cell_type": "code",
   "execution_count": 13,
   "metadata": {},
   "outputs": [],
   "source": [
    "import re\n",
    "import json\n",
    "from copy import deepcopy\n",
    "\n",
    "with open(\"reference.json\",\"r\") as file:\n",
    "    data = json.load(file)\n",
    "openbb_functions_enum = []\n",
    "funcs = 0\n",
    "for paths in data['paths']:\n",
    "    params_dict = data[\"paths\"][paths]['parameters']\n",
    "    function_options = list(params_dict.keys())\n",
    "    if len(function_options) == 2 and function_options[0] == \"standard\":\n",
    "        curr_func = get_curr_func(data,paths)\n",
    "        curr_func['name'] += f\"_{function_options[1]}\"\n",
    "        openbb_functions_enum.append(curr_func)\n",
    "        funcs+=len(function_options)\n",
    "    elif len(function_options)>2:\n",
    "        # standard function extraction\n",
    "        standard_func = get_curr_func(data,paths,ignore_non_standard=True)\n",
    "        openbb_functions_enum.append(standard_func)\n",
    "        for fo in function_options[1:]:\n",
    "            curr_func = deepcopy(standard_func)\n",
    "            curr_func['name'] = curr_func['name'] + \"_\" + fo\n",
    "            curr_func['description'] = f\"{curr_func['description']} Get it from provider {fo}\"\n",
    "            provider_extra_params = params_dict[fo]\n",
    "            # print(provider_extra_params)\n",
    "            for params_desc in provider_extra_params:\n",
    "                prop_name = params_desc['name']\n",
    "                params_desc = process_params(params_desc)\n",
    "                curr_func['parameters']['properties'][prop_name] = params_desc\n",
    "            curr_func['parameters']['properties']['provider']['enum'] = [fo]\n",
    "            # curr_func['parameters']['required']\n",
    "            openbb_functions_enum.append(curr_func)\n",
    "        funcs+=len(function_options)"
   ]
  },
  {
   "cell_type": "code",
   "execution_count": 14,
   "metadata": {},
   "outputs": [
    {
     "data": {
      "text/plain": [
       "{'name': 'obb_regulators_sec_rss_litigation_sec',\n",
       " 'description': 'Get the RSS feed that provides links to litigation releases concerning civil lawsuits brought by the Commission in federal court.',\n",
       " 'parameters': {'type': 'object',\n",
       "  'properties': {'provider': {'description': \"The provider to use for the query, by default None. If None, the provider specified in defaults is selected or 'sec' if there is no default.\",\n",
       "    'default': 'sec',\n",
       "    'type': 'string',\n",
       "    'enum': ['sec']}},\n",
       "  'required': ['provider']}}"
      ]
     },
     "execution_count": 14,
     "metadata": {},
     "output_type": "execute_result"
    }
   ],
   "source": [
    "openbb_functions_enum[-2]"
   ]
  },
  {
   "cell_type": "code",
   "execution_count": null,
   "metadata": {},
   "outputs": [],
   "source": []
  },
  {
   "cell_type": "code",
   "execution_count": 15,
   "metadata": {},
   "outputs": [],
   "source": [
    "json_string = json.dumps(openbb_functions_enum)\n",
    "\n",
    "# Specify the file path where you want to save the JSON data\n",
    "file_path = \"openbb_functions_enum.json\"\n",
    "\n",
    "# Open the file in write mode\n",
    "with open(file_path, \"w\") as file:\n",
    "    # Write the JSON string to the file\n",
    "    file.write(json_string)"
   ]
  },
  {
   "cell_type": "code",
   "execution_count": 13,
   "metadata": {},
   "outputs": [
    {
     "data": {
      "text/plain": [
       "OBBject\n",
       "\n",
       "id: 0661df7c-80c3-76c9-8000-5abc414b389e\n",
       "results: [{'date': datetime.date(2023, 4, 16), 'open': 30315.9765625, 'high': 30555...\n",
       "provider: yfinance\n",
       "warnings: None\n",
       "chart: None\n",
       "extra: {'metadata': {'arguments': {'provider_choices': {'provider': 'yfinance'}, 's..."
      ]
     },
     "execution_count": 13,
     "metadata": {},
     "output_type": "execute_result"
    }
   ],
   "source": [
    "from openbb import obb\n",
    "obb.crypto.price.historical(\"BTCUSD\",provider=\"yfinance\")"
   ]
  },
  {
   "cell_type": "code",
   "execution_count": 70,
   "metadata": {},
   "outputs": [
    {
     "data": {
      "text/plain": [
       "{'name': 'obb_crypto_price_historical',\n",
       " 'description': 'Get historical price data for cryptocurrency pair(s) within a provider.',\n",
       " 'parameters': {'type': 'object',\n",
       "  'properties': {'symbol': {'type': 'string',\n",
       "    'description': 'Symbol to get data for. Can use CURR1-CURR2 or CURR1CURR2 format. Multiple items allowed for provider(s): fmp, polygon, tiingo, yfinance.',\n",
       "    'default': '',\n",
       "    'optional': False},\n",
       "   'start_date': {'type': 'string',\n",
       "    'description': 'Start date of the data, in YYYY-MM-DD format.',\n",
       "    'default': None,\n",
       "    'optional': True},\n",
       "   'end_date': {'type': 'string',\n",
       "    'description': 'End date of the data, in YYYY-MM-DD format.',\n",
       "    'default': None,\n",
       "    'optional': True},\n",
       "   'provider': {'description': \"The provider to use for the query, by default None. If None, the provider specified in defaults is selected or 'fmp' if there is no default.\",\n",
       "    'default': 'fmp',\n",
       "    'optional': False,\n",
       "    'type': 'string',\n",
       "    'enum': ['fmp', 'polygon', 'tiingo', 'yfinance']},\n",
       "   'interval': {'description': 'Time interval of the data to return.',\n",
       "    'default': '1d',\n",
       "    'optional': True,\n",
       "    'type': 'string',\n",
       "    'enum': ['1m',\n",
       "     '2m',\n",
       "     '5m',\n",
       "     '15m',\n",
       "     '30m',\n",
       "     '60m',\n",
       "     '90m',\n",
       "     '1h',\n",
       "     '1d',\n",
       "     '5d',\n",
       "     '1W',\n",
       "     '1M',\n",
       "     '1Q']},\n",
       "   'sort': {'description': \"Sort order of the data. This impacts the results in combination with the 'limit' parameter. The results are always returned in ascending order by date.\",\n",
       "    'default': 'asc',\n",
       "    'optional': True,\n",
       "    'type': 'string',\n",
       "    'enum': ['asc', 'desc']},\n",
       "   'limit': {'type': 'integer',\n",
       "    'description': 'The number of data entries to return.',\n",
       "    'default': 49999,\n",
       "    'optional': True},\n",
       "   'exchanges': {'type': 'string',\n",
       "    'description': \"To limit the query to a subset of exchanges e.g. ['POLONIEX', 'GDAX']\",\n",
       "    'default': None,\n",
       "    'optional': True}},\n",
       "  'required': ['symbol', 'provider']}}"
      ]
     },
     "execution_count": 70,
     "metadata": {},
     "output_type": "execute_result"
    }
   ],
   "source": [
    "openbb_functions_enum[0]"
   ]
  },
  {
   "cell_type": "code",
   "execution_count": 85,
   "metadata": {},
   "outputs": [],
   "source": [
    "# openbb_functions_enum[0]"
   ]
  },
  {
   "cell_type": "code",
   "execution_count": 8,
   "metadata": {},
   "outputs": [
    {
     "data": {
      "text/plain": [
       "{'name': 'CryptoSearch',\n",
       " 'description': 'Search available cryptocurrency pairs within a provider.',\n",
       " 'examples': \"\\nExamples\\n--------\\n\\n```python\\nfrom openbb import obb\\nobb.crypto.search(provider='fmp')\\nobb.crypto.search(query='BTCUSD', provider='fmp')\\n```\\n\\n\",\n",
       " 'parameters': {'type': 'object',\n",
       "  'properties': {'query': {'type': 'string',\n",
       "    'description': 'Search query.',\n",
       "    'default': None,\n",
       "    'optional': True},\n",
       "   'provider': {'description': \"The provider to use for the query, by default None. If None, the provider specified in defaults is selected or 'fmp' if there is no default.\",\n",
       "    'default': 'fmp',\n",
       "    'optional': True,\n",
       "    'type': 'string',\n",
       "    'enum': ['fmp']}},\n",
       "  'required': []}}"
      ]
     },
     "execution_count": 8,
     "metadata": {},
     "output_type": "execute_result"
    }
   ],
   "source": [
    "openbb_functions_enum[1]"
   ]
  },
  {
   "cell_type": "code",
   "execution_count": 66,
   "metadata": {},
   "outputs": [],
   "source": [
    "from langchain.chat_models import ChatOpenAI\n",
    "from dotenv import load_dotenv\n",
    "import openai\n",
    "import os\n",
    "\n",
    "load_dotenv(override=True)\n",
    "openai.api_key = os.environ[\"OPENAI_API_KEY\"]\n",
    "model = ChatOpenAI()"
   ]
  },
  {
   "cell_type": "code",
   "execution_count": 80,
   "metadata": {},
   "outputs": [
    {
     "data": {
      "text/plain": [
       "{'name': 'obb_crypto_price_historical',\n",
       " 'description': 'Get historical price data for cryptocurrency pair(s) within a provider.',\n",
       " 'parameters': {'type': 'object',\n",
       "  'properties': {'symbol': {'type': 'string',\n",
       "    'description': 'Symbol to get data for. Can use CURR1-CURR2 or CURR1CURR2 format. Multiple items allowed for provider(s): fmp, polygon, tiingo, yfinance.',\n",
       "    'default': '',\n",
       "    'optional': False},\n",
       "   'start_date': {'type': 'string',\n",
       "    'description': 'Start date of the data, in YYYY-MM-DD format.',\n",
       "    'default': None,\n",
       "    'optional': True},\n",
       "   'end_date': {'type': 'string',\n",
       "    'description': 'End date of the data, in YYYY-MM-DD format.',\n",
       "    'default': None,\n",
       "    'optional': True},\n",
       "   'provider': {'description': \"The provider to use for the query, by default None. If None, the provider specified in defaults is selected or 'fmp' if there is no default.\",\n",
       "    'default': 'fmp',\n",
       "    'optional': False,\n",
       "    'type': 'string',\n",
       "    'enum': ['fmp', 'polygon', 'tiingo', 'yfinance']},\n",
       "   'interval': {'description': 'Time interval of the data to return.',\n",
       "    'default': '1d',\n",
       "    'optional': True,\n",
       "    'type': 'string',\n",
       "    'enum': ['1m',\n",
       "     '2m',\n",
       "     '5m',\n",
       "     '15m',\n",
       "     '30m',\n",
       "     '60m',\n",
       "     '90m',\n",
       "     '1h',\n",
       "     '1d',\n",
       "     '5d',\n",
       "     '1W',\n",
       "     '1M',\n",
       "     '1Q']},\n",
       "   'sort': {'description': \"Sort order of the data. This impacts the results in combination with the 'limit' parameter. The results are always returned in ascending order by date.\",\n",
       "    'default': 'asc',\n",
       "    'optional': True,\n",
       "    'type': 'string',\n",
       "    'enum': ['asc', 'desc']},\n",
       "   'limit': {'type': 'integer',\n",
       "    'description': 'The number of data entries to return.',\n",
       "    'default': 49999,\n",
       "    'optional': True},\n",
       "   'exchanges': {'type': 'string',\n",
       "    'description': \"To limit the query to a subset of exchanges e.g. ['POLONIEX', 'GDAX']\",\n",
       "    'default': None,\n",
       "    'optional': True}},\n",
       "  'required': ['symbol', 'provider']}}"
      ]
     },
     "execution_count": 80,
     "metadata": {},
     "output_type": "execute_result"
    }
   ],
   "source": [
    "openbb_functions_enum[0]"
   ]
  },
  {
   "cell_type": "code",
   "execution_count": 91,
   "metadata": {},
   "outputs": [],
   "source": [
    "model_with_function = model.bind(functions=openbb_functions_enum[:1])\n",
    "\n",
    "val = model_with_function.invoke(\"Get the historical price of ETH for the month of January 2024 from yahoo finance?\")"
   ]
  },
  {
   "cell_type": "code",
   "execution_count": 92,
   "metadata": {},
   "outputs": [
    {
     "data": {
      "text/plain": [
       "AIMessage(content='', additional_kwargs={'function_call': {'arguments': '{\"symbol\":\"ETH-USD\",\"start_date\":\"2024-01-01\",\"end_date\":\"2024-01-31\",\"provider\":\"yfinance\",\"interval\":\"1d\"}', 'name': 'obb_crypto_price_historical'}}, response_metadata={'token_usage': {'completion_tokens': 50, 'prompt_tokens': 409, 'total_tokens': 459}, 'model_name': 'gpt-3.5-turbo', 'system_fingerprint': 'fp_c2295e73ad', 'finish_reason': 'function_call', 'logprobs': None}, id='run-93588af4-b5d9-48d7-af74-3a539410e077-0')"
      ]
     },
     "execution_count": 92,
     "metadata": {},
     "output_type": "execute_result"
    }
   ],
   "source": [
    "val"
   ]
  },
  {
   "cell_type": "code",
   "execution_count": 93,
   "metadata": {},
   "outputs": [],
   "source": [
    "import ast\n",
    "d = ast.literal_eval(val.additional_kwargs['function_call']['arguments'])\n",
    "# d['provider'] = 'yfinance'"
   ]
  },
  {
   "cell_type": "code",
   "execution_count": 94,
   "metadata": {},
   "outputs": [
    {
     "data": {
      "text/plain": [
       "{'symbol': 'ETH-USD',\n",
       " 'start_date': '2024-01-01',\n",
       " 'end_date': '2024-01-31',\n",
       " 'provider': 'yfinance',\n",
       " 'interval': '1d'}"
      ]
     },
     "execution_count": 94,
     "metadata": {},
     "output_type": "execute_result"
    }
   ],
   "source": [
    "d"
   ]
  },
  {
   "cell_type": "code",
   "execution_count": 43,
   "metadata": {},
   "outputs": [
    {
     "data": {
      "text/plain": [
       "OBBject\n",
       "\n",
       "id: 0661dfa8-933f-7041-8000-ce673e61d5ed\n",
       "results: [{'date': datetime.date(2021, 1, 1), 'open': 28994.009765625, 'high': 2960...\n",
       "provider: yfinance\n",
       "warnings: None\n",
       "chart: None\n",
       "extra: {'metadata': {'arguments': {'provider_choices': {'provider': 'yfinance'}, 's..."
      ]
     },
     "execution_count": 43,
     "metadata": {},
     "output_type": "execute_result"
    }
   ],
   "source": [
    "import ast\n",
    "\n",
    "obb.crypto.price.historical(**d)"
   ]
  },
  {
   "cell_type": "code",
   "execution_count": 36,
   "metadata": {},
   "outputs": [
    {
     "data": {
      "text/plain": [
       "AIMessage(content='', additional_kwargs={'function_call': {'arguments': '{\"symbol\":\"BTC-USD\",\"start_date\":\"2021-01-01\",\"end_date\":\"2022-01-01\",\"interval\":\"1d\",\"sort\":\"asc\"}', 'name': 'obb_crypto_price_historical'}}, response_metadata={'token_usage': {'completion_tokens': 49, 'prompt_tokens': 403, 'total_tokens': 452}, 'model_name': 'gpt-3.5-turbo', 'system_fingerprint': 'fp_c2295e73ad', 'finish_reason': 'function_call', 'logprobs': None}, id='run-b799983e-e3cc-405c-92b9-8dfa739ba25c-0')"
      ]
     },
     "execution_count": 36,
     "metadata": {},
     "output_type": "execute_result"
    }
   ],
   "source": [
    "val"
   ]
  },
  {
   "cell_type": "code",
   "execution_count": 30,
   "metadata": {},
   "outputs": [
    {
     "data": {
      "text/plain": [
       "{'name': 'obb_crypto_search',\n",
       " 'description': 'Search available cryptocurrency pairs within a provider.',\n",
       " 'examples': \"\\nExamples\\n--------\\n\\n```python\\nfrom openbb import obb\\nobb.crypto.search(provider='fmp')\\nobb.crypto.search(query='BTCUSD', provider='fmp')\\n```\\n\\n\",\n",
       " 'parameters': {'type': 'object',\n",
       "  'properties': {'query': {'type': 'string',\n",
       "    'description': 'Search query.',\n",
       "    'default': None,\n",
       "    'optional': True},\n",
       "   'provider': {'description': \"The provider to use for the query, by default None. If None, the provider specified in defaults is selected or 'fmp' if there is no default.\",\n",
       "    'default': 'fmp',\n",
       "    'optional': True,\n",
       "    'type': 'string',\n",
       "    'enum': ['fmp']}},\n",
       "  'required': []}}"
      ]
     },
     "execution_count": 30,
     "metadata": {},
     "output_type": "execute_result"
    }
   ],
   "source": [
    "openbb_functions_enum[1]"
   ]
  },
  {
   "cell_type": "code",
   "execution_count": 1,
   "metadata": {},
   "outputs": [],
   "source": [
    "import json\n",
    "\n",
    "with open(\"reference.json\",\"r\") as file:\n",
    "    data = json.load(file)"
   ]
  },
  {
   "cell_type": "code",
   "execution_count": 17,
   "metadata": {},
   "outputs": [
    {
     "ename": "IndexError",
     "evalue": "list index out of range",
     "output_type": "error",
     "traceback": [
      "\u001b[0;31m---------------------------------------------------------------------------\u001b[0m",
      "\u001b[0;31mIndexError\u001b[0m                                Traceback (most recent call last)",
      "Cell \u001b[0;32mIn[17], line 4\u001b[0m\n\u001b[1;32m      1\u001b[0m idx \u001b[38;5;241m=\u001b[39m \u001b[38;5;241m122\u001b[39m\n\u001b[1;32m      2\u001b[0m paths_list \u001b[38;5;241m=\u001b[39m \u001b[38;5;28mlist\u001b[39m(data[\u001b[38;5;124m'\u001b[39m\u001b[38;5;124mpaths\u001b[39m\u001b[38;5;124m'\u001b[39m]\u001b[38;5;241m.\u001b[39mkeys())\n\u001b[0;32m----> 4\u001b[0m path_values \u001b[38;5;241m=\u001b[39m data[\u001b[38;5;124m'\u001b[39m\u001b[38;5;124mpaths\u001b[39m\u001b[38;5;124m'\u001b[39m][\u001b[43mpaths_list\u001b[49m\u001b[43m[\u001b[49m\u001b[43midx\u001b[49m\u001b[43m]\u001b[49m]\n\u001b[1;32m      5\u001b[0m \u001b[38;5;28mprint\u001b[39m(\u001b[38;5;124m\"\u001b[39m\u001b[38;5;124mPath\u001b[39m\u001b[38;5;124m\"\u001b[39m)\n\u001b[1;32m      6\u001b[0m \u001b[38;5;28mprint\u001b[39m(paths_list[idx])\n",
      "\u001b[0;31mIndexError\u001b[0m: list index out of range"
     ]
    }
   ],
   "source": [
    "idx = 122\n",
    "paths_list = list(data['paths'].keys())\n",
    "\n",
    "path_values = data['paths'][paths_list[idx]]\n",
    "print(\"Path\")\n",
    "print(paths_list[idx])\n",
    "print()\n",
    "print(path_values['examples'])\n",
    "print(path_values['description'])"
   ]
  },
  {
   "cell_type": "code",
   "execution_count": 12,
   "metadata": {},
   "outputs": [
    {
     "ename": "AttributeError",
     "evalue": "'App' object has no attribute 'keys'",
     "output_type": "error",
     "traceback": [
      "\u001b[0;31m---------------------------------------------------------------------------\u001b[0m",
      "\u001b[0;31mAttributeError\u001b[0m                            Traceback (most recent call last)",
      "Cell \u001b[0;32mIn[12], line 2\u001b[0m\n\u001b[1;32m      1\u001b[0m \u001b[38;5;28;01mfrom\u001b[39;00m \u001b[38;5;21;01mopenbb\u001b[39;00m \u001b[38;5;28;01mimport\u001b[39;00m obb\n\u001b[0;32m----> 2\u001b[0m \u001b[43mobb\u001b[49m\u001b[38;5;241;43m.\u001b[39;49m\u001b[43mkeys\u001b[49m\u001b[38;5;241m.\u001b[39mmykeys(show \u001b[38;5;241m=\u001b[39m \u001b[38;5;28;01mTrue\u001b[39;00m)\n",
      "\u001b[0;31mAttributeError\u001b[0m: 'App' object has no attribute 'keys'"
     ]
    }
   ],
   "source": [
    "from openbb import obb\n",
    "obb.keys.mykeys(show = True)"
   ]
  },
  {
   "cell_type": "code",
   "execution_count": 9,
   "metadata": {},
   "outputs": [
    {
     "ename": "OpenBBError",
     "evalue": "\nType -> OpenBBError\n\nDetail -> Missing credential 'fred_api_key'. Check https://fred.stlouisfed.org/ to get it.",
     "output_type": "error",
     "traceback": [
      "\u001b[0;31m---------------------------------------------------------------------------\u001b[0m",
      "\u001b[0;31mOpenBBError\u001b[0m                               Traceback (most recent call last)",
      "Cell \u001b[0;32mIn[9], line 2\u001b[0m\n\u001b[1;32m      1\u001b[0m \u001b[38;5;28;01mfrom\u001b[39;00m \u001b[38;5;21;01mopenbb\u001b[39;00m \u001b[38;5;28;01mimport\u001b[39;00m obb\n\u001b[0;32m----> 2\u001b[0m \u001b[43mobb\u001b[49m\u001b[38;5;241;43m.\u001b[39;49m\u001b[43meconomy\u001b[49m\u001b[38;5;241;43m.\u001b[39;49m\u001b[43mfred_search\u001b[49m\u001b[43m(\u001b[49m\u001b[43mprovider\u001b[49m\u001b[38;5;241;43m=\u001b[39;49m\u001b[38;5;124;43m'\u001b[39;49m\u001b[38;5;124;43mfred\u001b[39;49m\u001b[38;5;124;43m'\u001b[39;49m\u001b[43m)\u001b[49m\n",
      "File \u001b[0;32m~/Function Calling/openbb-env/lib/python3.10/site-packages/openbb_core/app/static/utils/decorators.py:89\u001b[0m, in \u001b[0;36mexception_handler.<locals>.wrapper\u001b[0;34m(*f_args, **f_kwargs)\u001b[0m\n\u001b[1;32m     87\u001b[0m \u001b[38;5;66;03m# If the error is not a ValidationError, then it is a generic exception\u001b[39;00m\n\u001b[1;32m     88\u001b[0m error_type \u001b[38;5;241m=\u001b[39m \u001b[38;5;28mgetattr\u001b[39m(e, \u001b[38;5;124m\"\u001b[39m\u001b[38;5;124moriginal\u001b[39m\u001b[38;5;124m\"\u001b[39m, e)\u001b[38;5;241m.\u001b[39m\u001b[38;5;18m__class__\u001b[39m\u001b[38;5;241m.\u001b[39m\u001b[38;5;18m__name__\u001b[39m\n\u001b[0;32m---> 89\u001b[0m \u001b[38;5;28;01mraise\u001b[39;00m OpenBBError(\n\u001b[1;32m     90\u001b[0m     \u001b[38;5;124mf\u001b[39m\u001b[38;5;124m\"\u001b[39m\u001b[38;5;130;01m\\n\u001b[39;00m\u001b[38;5;124mType -> \u001b[39m\u001b[38;5;132;01m{\u001b[39;00merror_type\u001b[38;5;132;01m}\u001b[39;00m\u001b[38;5;130;01m\\n\u001b[39;00m\u001b[38;5;130;01m\\n\u001b[39;00m\u001b[38;5;124mDetail -> \u001b[39m\u001b[38;5;132;01m{\u001b[39;00m\u001b[38;5;28mstr\u001b[39m(e)\u001b[38;5;132;01m}\u001b[39;00m\u001b[38;5;124m\"\u001b[39m\n\u001b[1;32m     91\u001b[0m )\u001b[38;5;241m.\u001b[39mwith_traceback(tb) \u001b[38;5;28;01mfrom\u001b[39;00m \u001b[38;5;28;01mNone\u001b[39;00m\n",
      "File \u001b[0;32m~/Function Calling/openbb-env/lib/python3.10/site-packages/openbb_core/app/command_runner.py:356\u001b[0m, in \u001b[0;36mStaticCommandRunner._execute_func\u001b[0;34m(cls, route, args, execution_context, func, kwargs)\u001b[0m\n\u001b[1;32m    353\u001b[0m         \u001b[38;5;28mcls\u001b[39m\u001b[38;5;241m.\u001b[39m_chart(obbject, \u001b[38;5;241m*\u001b[39m\u001b[38;5;241m*\u001b[39mkwargs)\n\u001b[1;32m    355\u001b[0m \u001b[38;5;28;01mexcept\u001b[39;00m \u001b[38;5;167;01mException\u001b[39;00m \u001b[38;5;28;01mas\u001b[39;00m e:\n\u001b[0;32m--> 356\u001b[0m     \u001b[38;5;28;01mraise\u001b[39;00m OpenBBError(e) \u001b[38;5;28;01mfrom\u001b[39;00m \u001b[38;5;21;01me\u001b[39;00m\n\u001b[1;32m    357\u001b[0m \u001b[38;5;28;01mfinally\u001b[39;00m:\n\u001b[1;32m    358\u001b[0m     ls \u001b[38;5;241m=\u001b[39m LoggingService(system_settings, user_settings)\n",
      "\u001b[0;31mOpenBBError\u001b[0m: \nType -> OpenBBError\n\nDetail -> Missing credential 'fred_api_key'. Check https://fred.stlouisfed.org/ to get it."
     ]
    }
   ],
   "source": [
    "from openbb import obb\n",
    "obb.economy.fred_search(provider='fred')"
   ]
  },
  {
   "cell_type": "code",
   "execution_count": 22,
   "metadata": {},
   "outputs": [
    {
     "data": {
      "text/html": [
       "<div>\n",
       "<style scoped>\n",
       "    .dataframe tbody tr th:only-of-type {\n",
       "        vertical-align: middle;\n",
       "    }\n",
       "\n",
       "    .dataframe tbody tr th {\n",
       "        vertical-align: top;\n",
       "    }\n",
       "\n",
       "    .dataframe thead th {\n",
       "        text-align: right;\n",
       "    }\n",
       "</style>\n",
       "<table border=\"1\" class=\"dataframe\">\n",
       "  <thead>\n",
       "    <tr style=\"text-align: right;\">\n",
       "      <th></th>\n",
       "      <th>open</th>\n",
       "      <th>high</th>\n",
       "      <th>low</th>\n",
       "      <th>close</th>\n",
       "      <th>volume</th>\n",
       "    </tr>\n",
       "    <tr>\n",
       "      <th>date</th>\n",
       "      <th></th>\n",
       "      <th></th>\n",
       "      <th></th>\n",
       "      <th></th>\n",
       "      <th></th>\n",
       "    </tr>\n",
       "  </thead>\n",
       "  <tbody>\n",
       "    <tr>\n",
       "      <th>2023-07-01</th>\n",
       "      <td>18.896065</td>\n",
       "      <td>30.057695</td>\n",
       "      <td>17.461477</td>\n",
       "      <td>21.395147</td>\n",
       "      <td>3.746922e+10</td>\n",
       "    </tr>\n",
       "    <tr>\n",
       "      <th>2023-10-01</th>\n",
       "      <td>21.392059</td>\n",
       "      <td>125.193893</td>\n",
       "      <td>21.068972</td>\n",
       "      <td>101.505821</td>\n",
       "      <td>1.826848e+11</td>\n",
       "    </tr>\n",
       "    <tr>\n",
       "      <th>2024-01-01</th>\n",
       "      <td>101.512810</td>\n",
       "      <td>209.696060</td>\n",
       "      <td>79.066696</td>\n",
       "      <td>202.874130</td>\n",
       "      <td>3.314962e+11</td>\n",
       "    </tr>\n",
       "    <tr>\n",
       "      <th>2024-04-01</th>\n",
       "      <td>202.874435</td>\n",
       "      <td>204.179764</td>\n",
       "      <td>119.833344</td>\n",
       "      <td>137.111740</td>\n",
       "      <td>7.362490e+10</td>\n",
       "    </tr>\n",
       "  </tbody>\n",
       "</table>\n",
       "</div>"
      ],
      "text/plain": [
       "                  open        high         low       close        volume\n",
       "date                                                                    \n",
       "2023-07-01   18.896065   30.057695   17.461477   21.395147  3.746922e+10\n",
       "2023-10-01   21.392059  125.193893   21.068972  101.505821  1.826848e+11\n",
       "2024-01-01  101.512810  209.696060   79.066696  202.874130  3.314962e+11\n",
       "2024-04-01  202.874435  204.179764  119.833344  137.111740  7.362490e+10"
      ]
     },
     "execution_count": 22,
     "metadata": {},
     "output_type": "execute_result"
    }
   ],
   "source": [
    "obb.crypto.price.historical(symbol='SOL-USD',provider=\"yfinance\",interval=\"1Q\").to_dataframe()"
   ]
  },
  {
   "cell_type": "code",
   "execution_count": 32,
   "metadata": {},
   "outputs": [
    {
     "data": {
      "text/html": [
       "<div>\n",
       "<style scoped>\n",
       "    .dataframe tbody tr th:only-of-type {\n",
       "        vertical-align: middle;\n",
       "    }\n",
       "\n",
       "    .dataframe tbody tr th {\n",
       "        vertical-align: top;\n",
       "    }\n",
       "\n",
       "    .dataframe thead th {\n",
       "        text-align: right;\n",
       "    }\n",
       "</style>\n",
       "<table border=\"1\" class=\"dataframe\">\n",
       "  <thead>\n",
       "    <tr style=\"text-align: right;\">\n",
       "      <th></th>\n",
       "      <th>date</th>\n",
       "      <th>open</th>\n",
       "      <th>high</th>\n",
       "      <th>low</th>\n",
       "      <th>close</th>\n",
       "      <th>volume</th>\n",
       "    </tr>\n",
       "  </thead>\n",
       "  <tbody>\n",
       "    <tr>\n",
       "      <th>0</th>\n",
       "      <td>2023-04-17</td>\n",
       "      <td>0.007464</td>\n",
       "      <td>0.007479</td>\n",
       "      <td>0.007431</td>\n",
       "      <td>0.007464</td>\n",
       "      <td>0.0</td>\n",
       "    </tr>\n",
       "    <tr>\n",
       "      <th>1</th>\n",
       "      <td>2023-04-18</td>\n",
       "      <td>0.007439</td>\n",
       "      <td>0.007470</td>\n",
       "      <td>0.007424</td>\n",
       "      <td>0.007439</td>\n",
       "      <td>0.0</td>\n",
       "    </tr>\n",
       "    <tr>\n",
       "      <th>2</th>\n",
       "      <td>2023-04-19</td>\n",
       "      <td>0.007460</td>\n",
       "      <td>0.007465</td>\n",
       "      <td>0.007405</td>\n",
       "      <td>0.007460</td>\n",
       "      <td>0.0</td>\n",
       "    </tr>\n",
       "    <tr>\n",
       "      <th>3</th>\n",
       "      <td>2023-04-20</td>\n",
       "      <td>0.007424</td>\n",
       "      <td>0.007461</td>\n",
       "      <td>0.007410</td>\n",
       "      <td>0.007424</td>\n",
       "      <td>0.0</td>\n",
       "    </tr>\n",
       "    <tr>\n",
       "      <th>4</th>\n",
       "      <td>2023-04-21</td>\n",
       "      <td>0.007463</td>\n",
       "      <td>0.007488</td>\n",
       "      <td>0.007437</td>\n",
       "      <td>0.007463</td>\n",
       "      <td>0.0</td>\n",
       "    </tr>\n",
       "    <tr>\n",
       "      <th>...</th>\n",
       "      <td>...</td>\n",
       "      <td>...</td>\n",
       "      <td>...</td>\n",
       "      <td>...</td>\n",
       "      <td>...</td>\n",
       "      <td>...</td>\n",
       "    </tr>\n",
       "    <tr>\n",
       "      <th>257</th>\n",
       "      <td>2024-04-10</td>\n",
       "      <td>0.006589</td>\n",
       "      <td>0.006593</td>\n",
       "      <td>0.006539</td>\n",
       "      <td>0.006589</td>\n",
       "      <td>0.0</td>\n",
       "    </tr>\n",
       "    <tr>\n",
       "      <th>258</th>\n",
       "      <td>2024-04-11</td>\n",
       "      <td>0.006537</td>\n",
       "      <td>0.006546</td>\n",
       "      <td>0.006523</td>\n",
       "      <td>0.006537</td>\n",
       "      <td>0.0</td>\n",
       "    </tr>\n",
       "    <tr>\n",
       "      <th>259</th>\n",
       "      <td>2024-04-12</td>\n",
       "      <td>0.006528</td>\n",
       "      <td>0.006552</td>\n",
       "      <td>0.006520</td>\n",
       "      <td>0.006528</td>\n",
       "      <td>0.0</td>\n",
       "    </tr>\n",
       "    <tr>\n",
       "      <th>260</th>\n",
       "      <td>2024-04-15</td>\n",
       "      <td>0.006524</td>\n",
       "      <td>0.006524</td>\n",
       "      <td>0.006475</td>\n",
       "      <td>0.006524</td>\n",
       "      <td>0.0</td>\n",
       "    </tr>\n",
       "    <tr>\n",
       "      <th>261</th>\n",
       "      <td>2024-04-16</td>\n",
       "      <td>0.006485</td>\n",
       "      <td>0.006487</td>\n",
       "      <td>0.006462</td>\n",
       "      <td>0.006485</td>\n",
       "      <td>0.0</td>\n",
       "    </tr>\n",
       "  </tbody>\n",
       "</table>\n",
       "<p>262 rows × 6 columns</p>\n",
       "</div>"
      ],
      "text/plain": [
       "           date      open      high       low     close  volume\n",
       "0    2023-04-17  0.007464  0.007479  0.007431  0.007464     0.0\n",
       "1    2023-04-18  0.007439  0.007470  0.007424  0.007439     0.0\n",
       "2    2023-04-19  0.007460  0.007465  0.007405  0.007460     0.0\n",
       "3    2023-04-20  0.007424  0.007461  0.007410  0.007424     0.0\n",
       "4    2023-04-21  0.007463  0.007488  0.007437  0.007463     0.0\n",
       "..          ...       ...       ...       ...       ...     ...\n",
       "257  2024-04-10  0.006589  0.006593  0.006539  0.006589     0.0\n",
       "258  2024-04-11  0.006537  0.006546  0.006523  0.006537     0.0\n",
       "259  2024-04-12  0.006528  0.006552  0.006520  0.006528     0.0\n",
       "260  2024-04-15  0.006524  0.006524  0.006475  0.006524     0.0\n",
       "261  2024-04-16  0.006485  0.006487  0.006462  0.006485     0.0\n",
       "\n",
       "[262 rows x 6 columns]"
      ]
     },
     "execution_count": 32,
     "metadata": {},
     "output_type": "execute_result"
    }
   ],
   "source": [
    "obb.currency.price.historical(symbol='JPYUSD', provider='yfinance').to_dataframe(0)"
   ]
  },
  {
   "cell_type": "markdown",
   "metadata": {},
   "source": [
    "## RETRIEVER"
   ]
  },
  {
   "cell_type": "code",
   "execution_count": 9,
   "metadata": {},
   "outputs": [],
   "source": [
    "import re\n",
    "import json\n",
    "import ast\n",
    "from langchain.schema import Document\n",
    "\n",
    "with open(\"reference.json\",\"r\") as file:\n",
    "    data = json.load(file)\n",
    "retrieved_docs = []\n",
    "for paths in data['paths']:\n",
    "    curr_func = {}\n",
    "    func_name = paths.split(\"/\")[1:]\n",
    "    func_name = \"obb_\" + \"_\".join(func_name)\n",
    "    curr_func['name'] = func_name\n",
    "    curr_func['description'] = data[\"paths\"][paths]['description']\n",
    "    # curr_func['examples'] = data[\"paths\"][paths]['examples']\n",
    "    curr_examples = data[\"paths\"][paths]['examples']\n",
    "    \n",
    "    curr_func['parameters'] = {\"type\":\"object\",\"properties\":{},\"required\":[]}\n",
    "    params_dict = data[\"paths\"][paths]['parameters']\n",
    "    required_params = []\n",
    "    # print(paths)\n",
    "    function_options = list(params_dict.keys())\n",
    "    for params in params_dict:\n",
    "        # params can be standard or other options\n",
    "        for params_desc in params_dict[params]:\n",
    "            prop_name = params_desc['name']\n",
    "            \n",
    "            if \"type\" in params_desc:\n",
    "                if \"None\" in params_desc['type'] and \"Literal\" in params_desc['type']:\n",
    "                    result = re.findall(r\"Literal\\[(.*?)\\]\", params_desc['type'])[0].split(\", \")\n",
    "                    result = [value.strip('\"') if value.strip() != \"None\" else None for value in result]    \n",
    "                    result = [value.replace(\"'\", '') for value in result if value is not None]\n",
    "                    del params_desc['type']\n",
    "                    for res in result:\n",
    "                        if res in function_options:\n",
    "                            params_desc['optional'] = False\n",
    "                            break\n",
    "                    params_desc.update({\"type\":\"string\",\"enum\":result})\n",
    "                elif \"None\" not in params_desc['type'] and \"Literal\" in params_desc['type']:\n",
    "                    result = re.findall(r\"Literal\\[(.*?)\\]\", params_desc['type'])[0].split(\", \")\n",
    "                    result = [value.replace(\"'\", '') for value in result] \n",
    "                    for res in result:\n",
    "                        if res in function_options:\n",
    "                            params_desc['optional'] = False\n",
    "                            break\n",
    "                    del params_desc['type']\n",
    "                    params_desc.update({\"type\":\"string\",\"enum\":result})\n",
    "                elif \"int\" in params_desc['type']:\n",
    "                    params_desc['type'] = \"integer\"\n",
    "                elif (\"Union\" in params_desc['type'] or \"List\" in params_desc['type']) and \"str\" in params_desc['type']:\n",
    "                    params_desc['type'] = \"string\"\n",
    "                elif \"str\" in params_desc['type']:\n",
    "                    params_desc['type'] = \"string\"\n",
    "            curr_func['parameters']['properties'][prop_name] = params_desc\n",
    "            if \"optional\" in params_desc:\n",
    "                if not params_desc[\"optional\"] and prop_name not in required_params:\n",
    "                    required_params.append(prop_name)\n",
    "            del params_desc['name']\n",
    "    curr_func['parameters']['required'] = required_params\n",
    "    retrieved_docs.append(Document(page_content=data[\"paths\"][paths]['description'] + curr_examples,metadata={\"metadata\":str(curr_func)}))"
   ]
  },
  {
   "cell_type": "code",
   "execution_count": 10,
   "metadata": {},
   "outputs": [],
   "source": [
    "from dotenv import load_dotenv\n",
    "from langchain_chroma import Chroma\n",
    "# import chromadb.utils.embedding_functions as embedding_functions\n",
    "from langchain_community.embeddings.openai import OpenAIEmbeddings\n",
    "load_dotenv(override=True)\n",
    "import os\n",
    "import openai\n",
    "\n",
    "openai_ef = OpenAIEmbeddings(\n",
    "    model=\"text-embedding-3-small\",\n",
    "    api_key=os.environ['OPENAI_API_KEY']\n",
    ")\n",
    "# docs = [d.page_content for d in retrieved_docs]\n",
    "# metadata = [d.metadata for d in retrieved_docs]\n",
    "# db2 = Chroma.from_documents(retrieved_docs, openai_ef, persist_directory=\"JSON_OPENAI\")"
   ]
  },
  {
   "cell_type": "code",
   "execution_count": 12,
   "metadata": {},
   "outputs": [
    {
     "data": {
      "text/plain": [
       "[Document(page_content=\"Currency Historical Price. Currency historical data.\\n\\nCurrency historical prices refer to the past exchange rates of one currency against\\nanother over a specific period.\\nThis data provides insight into the fluctuations and trends in the foreign exchange market,\\nhelping analysts, traders, and economists understand currency performance,\\nevaluate economic health, and make predictions about future movements.\\nExamples\\n--------\\n\\n```python\\nfrom openbb import obb\\nobb.currency.price.historical(symbol='EURUSD', provider='fmp')\\n# Filter historical data with specific start and end date.\\nobb.currency.price.historical(symbol='EURUSD', start_date='2023-01-01', end_date='2023-12-31', provider='fmp')\\n# Get data with different granularity.\\nobb.currency.price.historical(symbol='EURUSD', provider='polygon', interval=15m)\\n```\\n\\n\", metadata={'metadata': '{\\'name\\': \\'obb_currency_price_historical\\', \\'description\\': \\'Currency Historical Price. Currency historical data.\\\\n\\\\nCurrency historical prices refer to the past exchange rates of one currency against\\\\nanother over a specific period.\\\\nThis data provides insight into the fluctuations and trends in the foreign exchange market,\\\\nhelping analysts, traders, and economists understand currency performance,\\\\nevaluate economic health, and make predictions about future movements.\\', \\'parameters\\': {\\'type\\': \\'object\\', \\'properties\\': {\\'symbol\\': {\\'type\\': \\'string\\', \\'description\\': \\'Symbol to get data for. Can use CURR1-CURR2 or CURR1CURR2 format. Multiple items allowed for provider(s): fmp, polygon, tiingo, yfinance.\\', \\'default\\': \\'\\', \\'optional\\': False}, \\'start_date\\': {\\'type\\': \\'string\\', \\'description\\': \\'Start date of the data, in YYYY-MM-DD format.\\', \\'default\\': None, \\'optional\\': True}, \\'end_date\\': {\\'type\\': \\'string\\', \\'description\\': \\'End date of the data, in YYYY-MM-DD format.\\', \\'default\\': None, \\'optional\\': True}, \\'provider\\': {\\'description\\': \"The provider to use for the query, by default None. If None, the provider specified in defaults is selected or \\'fmp\\' if there is no default.\", \\'default\\': \\'fmp\\', \\'optional\\': False, \\'type\\': \\'string\\', \\'enum\\': [\\'fmp\\', \\'polygon\\', \\'tiingo\\', \\'yfinance\\']}, \\'interval\\': {\\'description\\': \\'Time interval of the data to return.\\', \\'default\\': \\'1d\\', \\'optional\\': True, \\'type\\': \\'string\\', \\'enum\\': [\\'1m\\', \\'2m\\', \\'5m\\', \\'15m\\', \\'30m\\', \\'60m\\', \\'90m\\', \\'1h\\', \\'1d\\', \\'5d\\', \\'1W\\', \\'1M\\', \\'1Q\\']}, \\'sort\\': {\\'description\\': \"Sort order of the data. This impacts the results in combination with the \\'limit\\' parameter. The results are always returned in ascending order by date.\", \\'default\\': \\'asc\\', \\'optional\\': True, \\'type\\': \\'string\\', \\'enum\\': [\\'asc\\', \\'desc\\']}, \\'limit\\': {\\'type\\': \\'integer\\', \\'description\\': \\'The number of data entries to return.\\', \\'default\\': 49999, \\'optional\\': True}}, \\'required\\': [\\'symbol\\', \\'provider\\']}}'}),\n",
       " Document(page_content=\"Get historical price data for cryptocurrency pair(s) within a provider.\\nExamples\\n--------\\n\\n```python\\nfrom openbb import obb\\nobb.crypto.price.historical(symbol='BTCUSD', provider='fmp')\\nobb.crypto.price.historical(symbol='BTCUSD', start_date='2024-01-01', end_date='2024-01-31', provider='fmp')\\nobb.crypto.price.historical(symbol='BTCUSD,ETHUSD', start_date='2024-01-01', end_date='2024-01-31', provider='polygon')\\n# Get monthly historical prices from Yahoo Finance for Ethereum.\\nobb.crypto.price.historical(symbol='ETH-USD', interval=1m, start_date='2024-01-01', end_date='2024-12-31', provider='yfinance')\\n```\\n\\n\", metadata={'metadata': '{\\'name\\': \\'obb_crypto_price_historical\\', \\'description\\': \\'Get historical price data for cryptocurrency pair(s) within a provider.\\', \\'parameters\\': {\\'type\\': \\'object\\', \\'properties\\': {\\'symbol\\': {\\'type\\': \\'string\\', \\'description\\': \\'Symbol to get data for. Can use CURR1-CURR2 or CURR1CURR2 format. Multiple items allowed for provider(s): fmp, polygon, tiingo, yfinance.\\', \\'default\\': \\'\\', \\'optional\\': False}, \\'start_date\\': {\\'type\\': \\'string\\', \\'description\\': \\'Start date of the data, in YYYY-MM-DD format.\\', \\'default\\': None, \\'optional\\': True}, \\'end_date\\': {\\'type\\': \\'string\\', \\'description\\': \\'End date of the data, in YYYY-MM-DD format.\\', \\'default\\': None, \\'optional\\': True}, \\'provider\\': {\\'description\\': \"The provider to use for the query, by default None. If None, the provider specified in defaults is selected or \\'fmp\\' if there is no default.\", \\'default\\': \\'fmp\\', \\'optional\\': False, \\'type\\': \\'string\\', \\'enum\\': [\\'fmp\\', \\'polygon\\', \\'tiingo\\', \\'yfinance\\']}, \\'interval\\': {\\'description\\': \\'Time interval of the data to return.\\', \\'default\\': \\'1d\\', \\'optional\\': True, \\'type\\': \\'string\\', \\'enum\\': [\\'1m\\', \\'2m\\', \\'5m\\', \\'15m\\', \\'30m\\', \\'60m\\', \\'90m\\', \\'1h\\', \\'1d\\', \\'5d\\', \\'1W\\', \\'1M\\', \\'1Q\\']}, \\'sort\\': {\\'description\\': \"Sort order of the data. This impacts the results in combination with the \\'limit\\' parameter. The results are always returned in ascending order by date.\", \\'default\\': \\'asc\\', \\'optional\\': True, \\'type\\': \\'string\\', \\'enum\\': [\\'asc\\', \\'desc\\']}, \\'limit\\': {\\'type\\': \\'integer\\', \\'description\\': \\'The number of data entries to return.\\', \\'default\\': 49999, \\'optional\\': True}, \\'exchanges\\': {\\'type\\': \\'string\\', \\'description\\': \"To limit the query to a subset of exchanges e.g. [\\'POLONIEX\\', \\'GDAX\\']\", \\'default\\': None, \\'optional\\': True}}, \\'required\\': [\\'symbol\\', \\'provider\\']}}'}),\n",
       " Document(page_content=\"Get historical price data for a given stock. This includes open, high, low, close, and volume.\\nExamples\\n--------\\n\\n```python\\nfrom openbb import obb\\nobb.equity.price.historical(symbol='AAPL', provider='fmp')\\nobb.equity.price.historical(symbol='AAPL', interval='1d', provider='intrinio')\\n```\\n\\n\", metadata={'metadata': '{\\'name\\': \\'obb_equity_price_historical\\', \\'description\\': \\'Get historical price data for a given stock. This includes open, high, low, close, and volume.\\', \\'parameters\\': {\\'type\\': \\'object\\', \\'properties\\': {\\'symbol\\': {\\'type\\': \\'string\\', \\'description\\': \\'Symbol to get data for. Multiple items allowed for provider(s): fmp, polygon, tiingo, yfinance.\\', \\'default\\': \\'\\', \\'optional\\': False}, \\'interval\\': {\\'type\\': \\'string\\', \\'description\\': \\'Time interval of the data to return.\\', \\'default\\': \\'1d\\', \\'optional\\': True}, \\'start_date\\': {\\'type\\': \\'string\\', \\'description\\': \\'Start date of the data, in YYYY-MM-DD format.\\', \\'default\\': None, \\'optional\\': True}, \\'end_date\\': {\\'type\\': \\'string\\', \\'description\\': \\'End date of the data, in YYYY-MM-DD format.\\', \\'default\\': None, \\'optional\\': True}, \\'provider\\': {\\'description\\': \"The provider to use for the query, by default None. If None, the provider specified in defaults is selected or \\'fmp\\' if there is no default.\", \\'default\\': \\'fmp\\', \\'optional\\': False, \\'type\\': \\'string\\', \\'enum\\': [\\'fmp\\', \\'intrinio\\', \\'polygon\\', \\'tiingo\\', \\'yfinance\\']}, \\'start_time\\': {\\'type\\': \\'datetime.time\\', \\'description\\': \"Return intervals starting at the specified time on the `start_date` formatted as \\'HH:MM:SS\\'.\", \\'default\\': None, \\'optional\\': True}, \\'end_time\\': {\\'type\\': \\'datetime.time\\', \\'description\\': \"Return intervals stopping at the specified time on the `end_date` formatted as \\'HH:MM:SS\\'.\", \\'default\\': None, \\'optional\\': True}, \\'timezone\\': {\\'type\\': \\'string\\', \\'description\\': \\'Timezone of the data, in the IANA format (Continent/City).\\', \\'default\\': \\'America/New_York\\', \\'optional\\': True}, \\'source\\': {\\'description\\': \\'The source of the data.\\', \\'default\\': \\'realtime\\', \\'optional\\': True, \\'type\\': \\'string\\', \\'enum\\': [\\'realtime\\', \\'delayed\\', \\'nasdaq_basic\\']}, \\'adjustment\\': {\\'description\\': \\'The adjustment factor to apply. Default is splits only.\\', \\'default\\': \\'splits_only\\', \\'optional\\': True, \\'type\\': \\'string\\', \\'enum\\': [\\'splits_only\\', \\'splits_and_dividends\\']}, \\'extended_hours\\': {\\'type\\': \\'bool\\', \\'description\\': \\'Include Pre and Post market data.\\', \\'default\\': False, \\'optional\\': True}, \\'sort\\': {\\'description\\': \"Sort order of the data. This impacts the results in combination with the \\'limit\\' parameter. The results are always returned in ascending order by date.\", \\'default\\': \\'asc\\', \\'optional\\': True, \\'type\\': \\'string\\', \\'enum\\': [\\'asc\\', \\'desc\\']}, \\'limit\\': {\\'type\\': \\'integer\\', \\'description\\': \\'The number of data entries to return.\\', \\'default\\': 49999, \\'optional\\': True}, \\'include_actions\\': {\\'type\\': \\'bool\\', \\'description\\': \\'Include dividends and stock splits in results.\\', \\'default\\': True, \\'optional\\': True}, \\'adjusted\\': {\\'type\\': \\'bool\\', \\'description\\': \"This field is deprecated (4.1.5) and will be removed in a future version. Use \\'adjustment\\' set as \\'splits_and_dividends\\' instead.\", \\'default\\': False, \\'optional\\': True}, \\'prepost\\': {\\'type\\': \\'bool\\', \\'description\\': \"This field is deprecated (4.1.5) and will be removed in a future version. Use \\'extended_hours\\' as True instead.\", \\'default\\': False, \\'optional\\': True}}, \\'required\\': [\\'symbol\\', \\'provider\\']}}'}),\n",
       " Document(page_content=\"ETF Historical Market Price.\\nExamples\\n--------\\n\\n```python\\nfrom openbb import obb\\nobb.etf.historical(symbol='SPY', provider='fmp')\\nobb.etf.historical(symbol='SPY', provider='yfinance')\\n# This function accepts multiple tickers.\\nobb.etf.historical(symbol='SPY,IWM,QQQ,DJIA', provider='yfinance')\\n```\\n\\n\", metadata={'metadata': '{\\'name\\': \\'obb_etf_historical\\', \\'description\\': \\'ETF Historical Market Price.\\', \\'parameters\\': {\\'type\\': \\'object\\', \\'properties\\': {\\'symbol\\': {\\'type\\': \\'string\\', \\'description\\': \\'Symbol to get data for. Multiple items allowed for provider(s): fmp, polygon, tiingo, yfinance.\\', \\'default\\': \\'\\', \\'optional\\': False}, \\'interval\\': {\\'type\\': \\'string\\', \\'description\\': \\'Time interval of the data to return.\\', \\'default\\': \\'1d\\', \\'optional\\': True}, \\'start_date\\': {\\'type\\': \\'string\\', \\'description\\': \\'Start date of the data, in YYYY-MM-DD format.\\', \\'default\\': None, \\'optional\\': True}, \\'end_date\\': {\\'type\\': \\'string\\', \\'description\\': \\'End date of the data, in YYYY-MM-DD format.\\', \\'default\\': None, \\'optional\\': True}, \\'provider\\': {\\'description\\': \"The provider to use for the query, by default None. If None, the provider specified in defaults is selected or \\'fmp\\' if there is no default.\", \\'default\\': \\'fmp\\', \\'optional\\': False, \\'type\\': \\'string\\', \\'enum\\': [\\'fmp\\', \\'intrinio\\', \\'polygon\\', \\'tiingo\\', \\'yfinance\\']}, \\'start_time\\': {\\'type\\': \\'datetime.time\\', \\'description\\': \"Return intervals starting at the specified time on the `start_date` formatted as \\'HH:MM:SS\\'.\", \\'default\\': None, \\'optional\\': True}, \\'end_time\\': {\\'type\\': \\'datetime.time\\', \\'description\\': \"Return intervals stopping at the specified time on the `end_date` formatted as \\'HH:MM:SS\\'.\", \\'default\\': None, \\'optional\\': True}, \\'timezone\\': {\\'type\\': \\'string\\', \\'description\\': \\'Timezone of the data, in the IANA format (Continent/City).\\', \\'default\\': \\'America/New_York\\', \\'optional\\': True}, \\'source\\': {\\'description\\': \\'The source of the data.\\', \\'default\\': \\'realtime\\', \\'optional\\': True, \\'type\\': \\'string\\', \\'enum\\': [\\'realtime\\', \\'delayed\\', \\'nasdaq_basic\\']}, \\'adjustment\\': {\\'description\\': \\'The adjustment factor to apply. Default is splits only.\\', \\'default\\': \\'splits_only\\', \\'optional\\': True, \\'type\\': \\'string\\', \\'enum\\': [\\'splits_only\\', \\'splits_and_dividends\\']}, \\'extended_hours\\': {\\'type\\': \\'bool\\', \\'description\\': \\'Include Pre and Post market data.\\', \\'default\\': False, \\'optional\\': True}, \\'sort\\': {\\'description\\': \"Sort order of the data. This impacts the results in combination with the \\'limit\\' parameter. The results are always returned in ascending order by date.\", \\'default\\': \\'asc\\', \\'optional\\': True, \\'type\\': \\'string\\', \\'enum\\': [\\'asc\\', \\'desc\\']}, \\'limit\\': {\\'type\\': \\'integer\\', \\'description\\': \\'The number of data entries to return.\\', \\'default\\': 49999, \\'optional\\': True}, \\'include_actions\\': {\\'type\\': \\'bool\\', \\'description\\': \\'Include dividends and stock splits in results.\\', \\'default\\': True, \\'optional\\': True}, \\'adjusted\\': {\\'type\\': \\'bool\\', \\'description\\': \"This field is deprecated (4.1.5) and will be removed in a future version. Use \\'adjustment\\' set as \\'splits_and_dividends\\' instead.\", \\'default\\': False, \\'optional\\': True}, \\'prepost\\': {\\'type\\': \\'bool\\', \\'description\\': \"This field is deprecated (4.1.5) and will be removed in a future version. Use \\'extended_hours\\' as True instead.\", \\'default\\': False, \\'optional\\': True}}, \\'required\\': [\\'symbol\\', \\'provider\\']}}'})]"
      ]
     },
     "execution_count": 12,
     "metadata": {},
     "output_type": "execute_result"
    }
   ],
   "source": [
    "openai_ef = OpenAIEmbeddings(\n",
    "    model=\"text-embedding-3-small\",\n",
    "    api_key=os.environ['OPENAI_API_KEY']\n",
    ")\n",
    "db3 = Chroma(persist_directory=\"JSON_OPENAI\", embedding_function=openai_ef)\n",
    "\n",
    "db3.similarity_search(\"Give me the historical price of Bitcoin cryptocurrency\")"
   ]
  },
  {
   "cell_type": "code",
   "execution_count": null,
   "metadata": {},
   "outputs": [],
   "source": []
  }
 ],
 "metadata": {
  "kernelspec": {
   "display_name": "Python 3",
   "language": "python",
   "name": "python3"
  },
  "language_info": {
   "codemirror_mode": {
    "name": "ipython",
    "version": 3
   },
   "file_extension": ".py",
   "mimetype": "text/x-python",
   "name": "python",
   "nbconvert_exporter": "python",
   "pygments_lexer": "ipython3",
   "version": "3.10.12"
  }
 },
 "nbformat": 4,
 "nbformat_minor": 2
}
