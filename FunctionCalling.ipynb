{
 "cells": [
  {
   "cell_type": "code",
   "execution_count": 1,
   "metadata": {},
   "outputs": [
    {
     "data": {
      "text/plain": [
       "True"
      ]
     },
     "execution_count": 1,
     "metadata": {},
     "output_type": "execute_result"
    }
   ],
   "source": [
    "from dotenv import load_dotenv,find_dotenv\n",
    "import os\n",
    "load_dotenv(find_dotenv(),override=True)"
   ]
  },
  {
   "cell_type": "code",
   "execution_count": 3,
   "metadata": {},
   "outputs": [],
   "source": [
    "from agent.database import load_database\n",
    "openbb_collection = load_database(os.environ['OPENAI_API_KEY'])"
   ]
  },
  {
   "cell_type": "code",
   "execution_count": 4,
   "metadata": {},
   "outputs": [],
   "source": [
    "from agent.dspy_agent import OpenBBAgentBM25, OpenBBAgentChroma\n",
    "\n",
    "obb_chroma = OpenBBAgentChroma(openbb_collection)\n",
    "obb_bm25 = OpenBBAgentBM25(openbb_collection)"
   ]
  },
  {
   "cell_type": "code",
   "execution_count": 5,
   "metadata": {},
   "outputs": [
    {
     "name": "stdout",
     "output_type": "stream",
     "text": [
      "\u001b[92mFirst level string: equity: Get historical and upcoming initial public offerings (IPOs). Get historical and upcoming dividend payments. Includes dividend amount, ex-dividend and payment dates. Get historical and upcoming stock split operations. Get historical and upcoming company earnings releases. Includes earnings per share (EPS) and revenue data. Get the closest peers for a given company.  Peers consist of companies trading on the same exchange, operating within the same sector and with comparable market capitalizations. Get analyst price targets by company. Get historical analyst estimates for earnings and revenue. Get consensus price target and recommendation. Search for specific analysts and get their forecast track record. Get forward sales estimates. Get forward EPS estimates. Get the top price gainers in the stock market. Get the top price losers in the stock market. Get the most actively traded stocks based on volume. Get potentially undervalued large cap stocks. Get potentially undervalued growth stocks. Get top small cap stocks based on earnings growth. Get top tech stocks based on revenue and earnings growth. Get the URLs to SEC filings reported to EDGAR database, such as 10-K, 10-Q, 8-K, and more.  SEC filings include Form 10-K, Form 10-Q, Form 8-K, the proxy statement, Forms 3, 4, and 5, Schedule 13, Form 114, Foreign Investment Disclosures and others. The annual 10-K report is required to be filed annually and includes the company's financial statements, management discussion and analysis, and audited financial statements. Get equity valuation multiples for a given company. Get the balance sheet for a given company. Get the growth of a company's balance sheet items over time. Get the cash flow statement for a given company. Get financial statements as reported by the company. Get the growth of a company's cash flow statement items over time. Get historical dividend data for a given company. Get historical earnings per share data for a given company. Get historical employee count data for a given company. Search Intrinio data tags to search in latest or historical attributes. Get the latest value of a data tag from Intrinio. Get the historical values of a data tag from Intrinio. Get the income statement for a given company. Get the growth of a company's income statement items over time. Get fundamental metrics for a given company. Get executive management team data for a given company. Get executive management team compensation for a given company over time. Get an extensive set of financial and accounting ratios for a given company over time. Get the revenue geographic breakdown for a given company over time. Get the revenue breakdown by business segment for a given company over time. Get historical stock splits for a given company. Get earnings call transcripts for a given company. Get the 1 year trailing dividend yield for a given company over time. Get data about major holders for a given company over time. Get data about institutional ownership for a given company over time. Get data about trading by a company's management team and board of directors. \n",
      "\n",
      "etf: Search for ETFs.  An empty query returns the full list of ETFs from the provider. ETF Historical Market Price. ETF Information Overview. ETF Sector weighting. ETF Country weighting. Price performance as a return, over different periods. Get the holdings for an individual ETF. Use this function to get the holdings dates, if available. Get the recent price performance of each ticker held in the ETF. Get the exposure to ETFs for a specific stock. \n",
      "\n",
      "fixedincome: Treasury Constant Maturity.  Get data for 10-Year Treasury Constant Maturity Minus Selected Treasury Constant Maturity. Constant maturity is the theoretical value of a U.S. Treasury that is based on recent values of auctioned U.S. Treasuries. The value is obtained by the U.S. Treasury on a daily basis through interpolation of the Treasury yield curve which, in turn, is based on closing bid-yields of actively-traded Treasury securities.Select Treasury Constant Maturity.  Get data for Selected Treasury Constant Maturity Minus Federal Funds Rate Constant maturity is the theoretical value of a U.S. Treasury that is based on recent values of auctioned U.S. Treasuries. The value is obtained by the U.S. Treasury on a daily basis through interpolation of the Treasury yield curve which, in turn, is based on closing bid-yields of actively-traded Treasury securities. Select Treasury Bill.  Get Selected Treasury Bill Minus Federal Funds Rate. Constant maturity is the theoretical value of a U.S. Treasury that is based on recent values of auctioned U.S. Treasuries. The value is obtained by the U.S. Treasury on a daily basis through interpolation of the Treasury yield curve which, in turn, is based on closing bid-yields of actively-traded Treasury securities. US Yield Curve. Get United States yield curve. Government Treasury Rates. ICE BofA US Corporate Bond Indices.  The ICE BofA US Corporate Index tracks the performance of US dollar denominated investment grade corporate debt publicly issued in the US domestic market. Qualifying securities must have an investment grade rating (based on an average of Moody’s, S&P and Fitch), at least 18 months to final maturity at the time of issuance, at least one year remaining term to final maturity as of the rebalance date, a fixed coupon schedule and a minimum amount outstanding of $250 million. The ICE BofA US Corporate Index is a component of the US Corporate Master Index. Moody Corporate Bond Index.  Moody's Aaa and Baa are investment bonds that acts as an index of the performance of all bonds given an Aaa or Baa rating by Moody's Investors Service respectively. These corporate bonds often are used in macroeconomics as an alternative to the federal ten-year Treasury Bill as an indicator of the interest rate. High Quality Market Corporate Bond.  The HQM yield curve represents the high quality corporate bond market, i.e., corporate bonds rated AAA, AA, or A.  The HQM curve contains two regression terms. These terms are adjustment factors that blend AAA, AA, and A bonds into a single HQM yield curve that is the market-weighted average (MWA) quality of high quality bonds. Spot Rates.  The spot rates for any maturity is the yield on a bond that provides a single payment at that maturity. This is a zero coupon bond. Because each spot rate pertains to a single cashflow, it is the relevant interest rate concept for discounting a pension liability at the same maturity. \n",
      "\n",
      "derivatives: Get the complete options chain for a ticker. Historical futures prices. Futures Term Structure, current or historical. \n",
      "\n",
      "index: Historical Index Levels. Get Index Constituents. All indices available from a given provider. \n",
      "\n",
      "\u001b[0m\n",
      "\u001b[92mFirst level answer: equity\u001b[0m\n",
      "\u001b[93mCurrent Trail: ['equity'] and level: 2\u001b[0m\n",
      "\u001b[91mSubsequent level 2 string to LLM: market_snapshots: Get an updated equity market snapshot. This includes price data for thousands of stocks. \n",
      "\n",
      "ownership: Get data about major holders for a given company over time. Get data about institutional ownership for a given company over time. Get data about trading by a company's management team and board of directors. Get data about share float for a given company. Get the form 13F.  The Securities and Exchange Commission's (SEC) Form 13F is a quarterly report that is required to be filed by all institutional investment managers with at least $100 million in assets under management. Managers are required to file Form 13F within 45 days after the last day of the calendar quarter. Most funds wait until the end of this period in order to conceal their investment strategy from competitors and the public. \n",
      "\n",
      "discovery: Get the top price gainers in the stock market. Get the top price losers in the stock market. Get the most actively traded stocks based on volume. Get potentially undervalued large cap stocks. Get potentially undervalued growth stocks. Get top small cap stocks based on earnings growth. Get top tech stocks based on revenue and earnings growth. Get the URLs to SEC filings reported to EDGAR database, such as 10-K, 10-Q, 8-K, and more.  SEC filings include Form 10-K, Form 10-Q, Form 8-K, the proxy statement, Forms 3, 4, and 5, Schedule 13, Form 114, Foreign Investment Disclosures and others. The annual 10-K report is required to be filed annually and includes the company's financial statements, management discussion and analysis, and audited financial statements. \n",
      "\n",
      "fundamental: Get equity valuation multiples for a given company. Get the balance sheet for a given company. Get the growth of a company's balance sheet items over time. Get the cash flow statement for a given company. Get financial statements as reported by the company. Get the growth of a company's cash flow statement items over time. Get historical dividend data for a given company. Get historical earnings per share data for a given company. Get historical employee count data for a given company. Search Intrinio data tags to search in latest or historical attributes. Get the latest value of a data tag from Intrinio. Get the historical values of a data tag from Intrinio. Get the income statement for a given company. Get the growth of a company's income statement items over time. Get fundamental metrics for a given company. Get executive management team data for a given company. Get executive management team compensation for a given company over time. Get an extensive set of financial and accounting ratios for a given company over time. Get the revenue geographic breakdown for a given company over time. Get the revenue breakdown by business segment for a given company over time. Get historical stock splits for a given company. Get earnings call transcripts for a given company. Get the 1 year trailing dividend yield for a given company over time. \n",
      "\n",
      "price: Get the latest quote for a given stock. Quote includes price, volume, and other data. Get the National Best Bid and Offer for a given stock. Get price performance data for a given stock. This includes price changes for different time periods. \n",
      "\n",
      "\u001b[0m\n",
      "\u001b[94mLLM Answer: Prediction(\n",
      "    rationale='produce the output. We are looking for the value of a portfolio, which falls under the fundamental key as it involves equity valuation multiples, balance sheet, cash flow statement, financial statements, and other fundamental metrics.',\n",
      "    output='fundamental'\n",
      ")\u001b[0m\n",
      "\u001b[93mCurrent Trail: ['equity-->fundamental'] and level: 3\u001b[0m\n",
      "\u001b[91mSubsequent level 3 string to LLM: multiples: Get equity valuation multiples for a given company. \n",
      "\n",
      "balance_growth: Get the growth of a company's balance sheet items over time. \n",
      "\n",
      "metrics: Get fundamental metrics for a given company. \n",
      "\n",
      "balance: Get the balance sheet for a given company. \n",
      "\n",
      "latest_attributes: Get the latest value of a data tag from Intrinio. \n",
      "\n",
      "\u001b[0m\n",
      "\u001b[94mLLM Answer: Prediction(\n",
      "    rationale='produce the output. We are looking for the value of a portfolio, which falls under the category of metrics.',\n",
      "    output='metrics'\n",
      ")\u001b[0m\n",
      "\u001b[93mCurrent Trail: ['equity-->fundamental-->metrics'] and level: 4\u001b[0m\n"
     ]
    }
   ],
   "source": [
    "funcs,prompts = obb_chroma(\"I want the portfolio value of momentum portfolio?\")"
   ]
  },
  {
   "cell_type": "code",
   "execution_count": 6,
   "metadata": {},
   "outputs": [
    {
     "data": {
      "text/plain": [
       "'{\\'name\\': \\'obb-equity-fundamental-metrics_fmp\\', \\'description\\': \\'Get fundamental metrics for a given company. Get it from provider fmp\\', \\'parameters\\': {\\'type\\': \\'object\\', \\'properties\\': {\\'symbol\\': {\\'type\\': \\'string\\', \\'description\\': \\'Symbol to get data for. Multiple items allowed for provider(s): fmp, intrinio, yfinance.\\', \\'default\\': \\'\\'}, \\'period\\': {\\'description\\': \\'Time period of the data to return.\\', \\'default\\': \\'annual\\', \\'type\\': \\'string\\', \\'enum\\': [\\'annual\\', \\'quarter\\']}, \\'limit\\': {\\'type\\': \\'integer\\', \\'description\\': \\'The number of data entries to return.\\', \\'default\\': 100}, \\'provider\\': {\\'description\\': \"The provider to use for the query, by default None. If None, the provider specified in defaults is selected or \\'fmp\\' if there is no default.\", \\'default\\': \\'fmp\\', \\'type\\': \\'string\\', \\'enum\\': [\\'fmp\\']}, \\'with_ttm\\': {\\'name\\': \\'with_ttm\\', \\'type\\': \\'boolean\\', \\'description\\': \\'Include trailing twelve months (TTM) data.\\', \\'default\\': False, \\'optional\\': True, \\'enum\\': [\\'True\\', \\'False\\']}}, \\'required\\': [\\'symbol\\', \\'provider\\']}}'"
      ]
     },
     "execution_count": 6,
     "metadata": {},
     "output_type": "execute_result"
    }
   ],
   "source": [
    "funcs[0]['metadatas'][0]['function_call']"
   ]
  },
  {
   "cell_type": "code",
   "execution_count": 7,
   "metadata": {},
   "outputs": [
    {
     "data": {
      "text/plain": [
       "[{'ids': ['id229', 'id230', 'id231'],\n",
       "  'embeddings': None,\n",
       "  'metadatas': [{'function_call': '{\\'name\\': \\'obb-equity-fundamental-metrics_fmp\\', \\'description\\': \\'Get fundamental metrics for a given company. Get it from provider fmp\\', \\'parameters\\': {\\'type\\': \\'object\\', \\'properties\\': {\\'symbol\\': {\\'type\\': \\'string\\', \\'description\\': \\'Symbol to get data for. Multiple items allowed for provider(s): fmp, intrinio, yfinance.\\', \\'default\\': \\'\\'}, \\'period\\': {\\'description\\': \\'Time period of the data to return.\\', \\'default\\': \\'annual\\', \\'type\\': \\'string\\', \\'enum\\': [\\'annual\\', \\'quarter\\']}, \\'limit\\': {\\'type\\': \\'integer\\', \\'description\\': \\'The number of data entries to return.\\', \\'default\\': 100}, \\'provider\\': {\\'description\\': \"The provider to use for the query, by default None. If None, the provider specified in defaults is selected or \\'fmp\\' if there is no default.\", \\'default\\': \\'fmp\\', \\'type\\': \\'string\\', \\'enum\\': [\\'fmp\\']}, \\'with_ttm\\': {\\'name\\': \\'with_ttm\\', \\'type\\': \\'boolean\\', \\'description\\': \\'Include trailing twelve months (TTM) data.\\', \\'default\\': False, \\'optional\\': True, \\'enum\\': [\\'True\\', \\'False\\']}}, \\'required\\': [\\'symbol\\', \\'provider\\']}}',\n",
       "    'node_name': 'obb-equity-fundamental-metrics_fmp',\n",
       "    'provider_source': 'fmp',\n",
       "    'trail': 'equity-->fundamental-->metrics',\n",
       "    'type': 'provider_function'},\n",
       "   {'function_call': '{\\'name\\': \\'obb-equity-fundamental-metrics_intrinio\\', \\'description\\': \\'Get fundamental metrics for a given company. Get it from provider intrinio\\', \\'parameters\\': {\\'type\\': \\'object\\', \\'properties\\': {\\'symbol\\': {\\'type\\': \\'string\\', \\'description\\': \\'Symbol to get data for. Multiple items allowed for provider(s): fmp, intrinio, yfinance.\\', \\'default\\': \\'\\'}, \\'period\\': {\\'description\\': \\'Time period of the data to return.\\', \\'default\\': \\'annual\\', \\'type\\': \\'string\\', \\'enum\\': [\\'annual\\', \\'quarter\\']}, \\'limit\\': {\\'type\\': \\'integer\\', \\'description\\': \\'The number of data entries to return.\\', \\'default\\': 100}, \\'provider\\': {\\'description\\': \"The provider to use for the query, by default None. If None, the provider specified in defaults is selected or \\'fmp\\' if there is no default.\", \\'default\\': \\'fmp\\', \\'type\\': \\'string\\', \\'enum\\': [\\'intrinio\\']}}, \\'required\\': [\\'symbol\\', \\'provider\\']}}',\n",
       "    'node_name': 'obb-equity-fundamental-metrics_intrinio',\n",
       "    'provider_source': 'intrinio',\n",
       "    'trail': 'equity-->fundamental-->metrics',\n",
       "    'type': 'provider_function'},\n",
       "   {'function_call': '{\\'name\\': \\'obb-equity-fundamental-metrics_yfinance\\', \\'description\\': \\'Get fundamental metrics for a given company. Get it from provider yfinance\\', \\'parameters\\': {\\'type\\': \\'object\\', \\'properties\\': {\\'symbol\\': {\\'type\\': \\'string\\', \\'description\\': \\'Symbol to get data for. Multiple items allowed for provider(s): fmp, intrinio, yfinance.\\', \\'default\\': \\'\\'}, \\'period\\': {\\'description\\': \\'Time period of the data to return.\\', \\'default\\': \\'annual\\', \\'type\\': \\'string\\', \\'enum\\': [\\'annual\\', \\'quarter\\']}, \\'limit\\': {\\'type\\': \\'integer\\', \\'description\\': \\'The number of data entries to return.\\', \\'default\\': 100}, \\'provider\\': {\\'description\\': \"The provider to use for the query, by default None. If None, the provider specified in defaults is selected or \\'fmp\\' if there is no default.\", \\'default\\': \\'fmp\\', \\'type\\': \\'string\\', \\'enum\\': [\\'yfinance\\']}}, \\'required\\': [\\'symbol\\', \\'provider\\']}}',\n",
       "    'node_name': 'obb-equity-fundamental-metrics_yfinance',\n",
       "    'provider_source': 'yfinance',\n",
       "    'trail': 'equity-->fundamental-->metrics',\n",
       "    'type': 'provider_function'}],\n",
       "  'documents': ['empty', 'empty', 'empty'],\n",
       "  'uris': None,\n",
       "  'data': None}]"
      ]
     },
     "execution_count": 7,
     "metadata": {},
     "output_type": "execute_result"
    }
   ],
   "source": [
    "funcs"
   ]
  },
  {
   "cell_type": "code",
   "execution_count": 5,
   "metadata": {},
   "outputs": [
    {
     "name": "stdout",
     "output_type": "stream",
     "text": [
      "\u001b[92mFirst level string: etf: Use this function to get the holdings dates, if available.Get the recent price performance of each ticker held in the ETF. \n",
      "\n",
      "etf: ETF Sector weighting.ETF Country weighting. Price performance as a return, over different periods. Get the holdings for an individual ETF. \n",
      "\n",
      "equity: Get equity valuation multiples for a given company.Get the balance sheet for a given company. \n",
      "\n",
      "economy: Get Consumer Price Index (CPI).  Returns either the rescaled index value, or a rate of change (inflation).Get Market Risk Premium by country. \n",
      "\n",
      "equity: Get data about share float for a given company.\n",
      "\n",
      "\u001b[0m\n",
      "\u001b[92mFirst level answer: equity\u001b[0m\n",
      "\u001b[93mCurrent Trail: ['equity'] and level: 2\u001b[0m\n",
      "\u001b[91mSubsequent level 2 string to LLM: fundamental: Get equity valuation multiples for a given company. Get the balance sheet for a given company. \n",
      "\n",
      "market_snapshots: Get an updated equity market snapshot. This includes price data for thousands of stocks. \n",
      "\n",
      "price: Get the National Best Bid and Offer for a given stock.\n",
      "\n",
      "discovery: Get the top price gainers in the stock market. Get the top price losers in the stock market. \n",
      "\n",
      "ownership: Get data about major holders for a given company over time. Get data about institutional ownership for a given company over time. \n",
      "\n",
      "\u001b[0m\n",
      "\u001b[94mLLM Answer: Prediction(\n",
      "    rationale='produce the output. We are looking for the value of a portfolio, which falls under the concept of ownership.',\n",
      "    output='ownership'\n",
      ")\u001b[0m\n",
      "\u001b[93mCurrent Trail: ['equity-->ownership'] and level: 3\u001b[0m\n",
      "\u001b[91mSubsequent level 3 string to LLM: share_statistics: Get data about share float for a given company. \n",
      "\n",
      "major_holders: Get data about major holders for a given company over time. \n",
      "\n",
      "institutional: Get data about institutional ownership for a given company over time. \n",
      "\n",
      "form_13f: Get the form 13F.  The Securities and Exchange Commission's (SEC) Form 13F is a quarterly report that is required to be filed by all institutional investment managers with at least $100 million in assets under management. Managers are required to file Form 13F within 45 days after the last day of the calendar quarter. Most funds wait until the end of this period in order to conceal their investment strategy from competitors and the public.\n",
      "\n",
      "insider_trading: Get data about trading by a company's management team and board of directors. \n",
      "\n",
      "\u001b[0m\n",
      "\u001b[94mLLM Answer: Prediction(\n",
      "    rationale='produce the output. We can see that the relevant key for getting the portfolio value of a momentum portfolio would be institutional, as it provides data about institutional ownership for a given company over time.',\n",
      "    output='institutional'\n",
      ")\u001b[0m\n",
      "\u001b[93mCurrent Trail: ['equity-->ownership-->institutional'] and level: 4\u001b[0m\n"
     ]
    },
    {
     "name": "stderr",
     "output_type": "stream",
     "text": [
      "/home/athekunal/Function Calling/openbb-env/lib/python3.10/site-packages/langchain_core/_api/deprecation.py:119: LangChainDeprecationWarning: The class `ChatOpenAI` was deprecated in LangChain 0.0.10 and will be removed in 0.3.0. An updated version of the class exists in the langchain-openai package and should be used instead. To use it run `pip install -U langchain-openai` and import as `from langchain_openai import ChatOpenAI`.\n",
      "  warn_deprecated(\n"
     ]
    },
    {
     "data": {
      "text/plain": [
       "AIMessage(content='', additional_kwargs={'function_call': {'arguments': '{\"symbol\":\"momentum\",\"provider\":\"fmp\"}', 'name': 'obb_equity_ownership_institutional'}}, response_metadata={'token_usage': {'completion_tokens': 11, 'prompt_tokens': 182, 'total_tokens': 193}, 'model_name': 'gpt-3.5-turbo', 'system_fingerprint': None, 'finish_reason': 'stop', 'logprobs': None}, id='run-047a9869-82f6-49ff-8a0f-1b94a7697840-0')"
      ]
     },
     "execution_count": 5,
     "metadata": {},
     "output_type": "execute_result"
    }
   ],
   "source": [
    "from agent.function_call import run_function_calling\n",
    "\n",
    "question = \"I want the portfolio value of momentum portfolio?\"\n",
    "funcs,prompts = obb_chroma(question)\n",
    "run_function_calling(funcs,\"fmp\",question)"
   ]
  },
  {
   "cell_type": "code",
   "execution_count": 6,
   "metadata": {},
   "outputs": [],
   "source": [
    "from agent.function_call import format_function\n",
    "from langchain_experimental.utilities import PythonREPL\n",
    "def main_func(question:str,provider:str):\n",
    "    funcs,prompts = obb_chroma(question)\n",
    "    print(funcs)\n",
    "    function_resp = run_function_calling(funcs,provider,question)\n",
    "    return format_function(function_resp)"
   ]
  },
  {
   "cell_type": "code",
   "execution_count": 7,
   "metadata": {},
   "outputs": [
    {
     "name": "stdout",
     "output_type": "stream",
     "text": [
      "\u001b[92mFirst level string: equity: Get the National Best Bid and Offer for a given stock.\n",
      "\n",
      "equity: Get analyst price targets by company.Get historical analyst estimates for earnings and revenue. Get consensus price target and recommendation. \n",
      "\n",
      "equity: Get top small cap stocks based on earnings growth.Get top tech stocks based on revenue and earnings growth. \n",
      "\n",
      "fixedincome: Ameribor.  Ameribor (short for the American interbank offered rate) is a benchmark interest rate that reflects the true cost of short-term interbank borrowing. This rate is based on transactions in overnight unsecured loans conducted on the American Financial Exchange (AFX).\n",
      "\n",
      "equity: Search for specific analysts and get their forecast track record.Get forward sales estimates. Get forward EPS estimates. \n",
      "\n",
      "\u001b[0m\n",
      "\u001b[92mFirst level answer: equity\u001b[0m\n",
      "\u001b[93mCurrent Trail: ['equity'] and level: 2\u001b[0m\n",
      "\u001b[91mSubsequent level 2 string to LLM: price: Get the National Best Bid and Offer for a given stock.\n",
      "\n",
      "estimates: Get analyst price targets by company. Get historical analyst estimates for earnings and revenue. Get consensus price target and recommendation. \n",
      "\n",
      "discovery: Get top small cap stocks based on earnings growth.Get top tech stocks based on revenue and earnings growth. \n",
      "\n",
      "discovery: Get the most actively traded stocks based on volume.Get potentially undervalued large cap stocks. Get potentially undervalued growth stocks. \n",
      "\n",
      "discovery: Get the top price gainers in the stock market. Get the top price losers in the stock market. \n",
      "\n",
      "\u001b[0m\n",
      "\u001b[94mLLM Answer: Prediction(\n",
      "    rationale='produce the output. We are looking for the best bid offer of a specific stock, which falls under the category of price information.',\n",
      "    output='price'\n",
      ")\u001b[0m\n",
      "\u001b[93mCurrent Trail: ['equity-->price'] and level: 3\u001b[0m\n",
      "\u001b[91mSubsequent level 3 string to LLM: nbbo: Get the National Best Bid and Offer for a given stock. \n",
      "\n",
      "quote: Get the latest quote for a given stock. Quote includes price, volume, and other data. \n",
      "\n",
      "performance: Get price performance data for a given stock. This includes price changes for different time periods. \n",
      "\n",
      "\u001b[0m\n",
      "\u001b[94mLLM Answer: Prediction(\n",
      "    rationale='produce the output. We are looking for the best bid offer of a stock, which is provided by the National Best Bid and Offer (NBBO).',\n",
      "    output='nbbo'\n",
      ")\u001b[0m\n",
      "\u001b[93mCurrent Trail: ['equity-->price-->nbbo'] and level: 4\u001b[0m\n",
      "[{'ids': ['id347'], 'embeddings': None, 'metadatas': [{'function_call': '{\\'name\\': \\'obb_equity_price_nbbo_polygon\\', \\'description\\': \\'Get the National Best Bid and Offer for a given stock.\\', \\'parameters\\': {\\'type\\': \\'object\\', \\'properties\\': {\\'symbol\\': {\\'type\\': \\'string\\', \\'description\\': \\'Symbol to get data for.\\', \\'default\\': \\'\\'}, \\'provider\\': {\\'description\\': \"The provider to use for the query, by default None. If None, the provider specified in defaults is selected or \\'polygon\\' if there is no default.\", \\'default\\': \\'polygon\\', \\'type\\': \\'string\\', \\'enum\\': [\\'polygon\\']}, \\'limit\\': {\\'type\\': \\'integer\\', \\'description\\': \"The number of data entries to return. Up to ten million records will be returned. Pagination occurs in groups of 50,000. Remaining limit values will always return 50,000 more records unless it is the last page. High volume tickers will require multiple max requests for a single day\\'s NBBO records. Expect stocks, like SPY, to approach 1GB in size, per day, as a raw CSV. Splitting large requests into chunks is recommended for full-day requests of high-volume symbols.\", \\'default\\': 50000}, \\'date\\': {\\'type\\': \\'string\\', \\'description\\': \\'A specific date to get data for. Use bracketed the timestamp parameters to specify exact time ranges.\\', \\'default\\': None}, \\'timestamp_lt\\': {\\'type\\': \\'string\\', \\'description\\': \"Query by datetime, less than. Either a date with the format \\'YYYY-MM-DD\\' or a TZ-aware timestamp string, \\'YYYY-MM-DDTH:M:S.000000000-04:00\\'. Include all nanoseconds and the \\'T\\' between the day and hour.\", \\'default\\': None}, \\'timestamp_gt\\': {\\'type\\': \\'string\\', \\'description\\': \"Query by datetime, greater than. Either a date with the format \\'YYYY-MM-DD\\' or a TZ-aware timestamp string, \\'YYYY-MM-DDTH:M:S.000000000-04:00\\'. Include all nanoseconds and the \\'T\\' between the day and hour.\", \\'default\\': None}, \\'timestamp_lte\\': {\\'type\\': \\'string\\', \\'description\\': \"Query by datetime, less than or equal to. Either a date with the format \\'YYYY-MM-DD\\' or a TZ-aware timestamp string, \\'YYYY-MM-DDTH:M:S.000000000-04:00\\'. Include all nanoseconds and the \\'T\\' between the day and hour.\", \\'default\\': None}, \\'timestamp_gte\\': {\\'type\\': \\'string\\', \\'description\\': \"Query by datetime, greater than or equal to. Either a date with the format \\'YYYY-MM-DD\\' or a TZ-aware timestamp string, \\'YYYY-MM-DDTH:M:S.000000000-04:00\\'. Include all nanoseconds and the \\'T\\' between the day and hour.\", \\'default\\': None}}, \\'required\\': [\\'symbol\\', \\'provider\\']}}', 'node_name': 'obb_equity_price_nbbo_polygon', 'provider_source': 'polygon', 'trail': 'equity-->price-->nbbo', 'type': 'provider_function'}], 'documents': ['empty'], 'uris': None, 'data': None}]\n"
     ]
    }
   ],
   "source": [
    "question = \"What is best bid offer of AAPL?\"\n",
    "resp = main_func(question,\"polygon\")"
   ]
  },
  {
   "cell_type": "code",
   "execution_count": 8,
   "metadata": {},
   "outputs": [
    {
     "name": "stdout",
     "output_type": "stream",
     "text": [
      "from openbb import obb\n",
      "obb.equity.price_nbbo(symbol=AAPL,provider=polygon)\n"
     ]
    }
   ],
   "source": [
    "print(resp)"
   ]
  },
  {
   "cell_type": "code",
   "execution_count": 21,
   "metadata": {},
   "outputs": [
    {
     "ename": "AttributeError",
     "evalue": "'ROUTER_equity' object has no attribute 'ownership_institutional'",
     "output_type": "error",
     "traceback": [
      "\u001b[0;31m---------------------------------------------------------------------------\u001b[0m",
      "\u001b[0;31mAttributeError\u001b[0m                            Traceback (most recent call last)",
      "Cell \u001b[0;32mIn[21], line 2\u001b[0m\n\u001b[1;32m      1\u001b[0m \u001b[38;5;28;01mfrom\u001b[39;00m \u001b[38;5;21;01mopenbb\u001b[39;00m \u001b[38;5;28;01mimport\u001b[39;00m obb\n\u001b[0;32m----> 2\u001b[0m \u001b[43mobb\u001b[49m\u001b[38;5;241;43m.\u001b[39;49m\u001b[43mequity\u001b[49m\u001b[38;5;241;43m.\u001b[39;49m\u001b[43mownership_institutional\u001b[49m(symbol\u001b[38;5;241m=\u001b[39m\u001b[38;5;124m\"\u001b[39m\u001b[38;5;124mmomentum\u001b[39m\u001b[38;5;124m\"\u001b[39m,provider\u001b[38;5;241m=\u001b[39m\u001b[38;5;124m\"\u001b[39m\u001b[38;5;124mfmp\u001b[39m\u001b[38;5;124m\"\u001b[39m)\n",
      "\u001b[0;31mAttributeError\u001b[0m: 'ROUTER_equity' object has no attribute 'ownership_institutional'"
     ]
    }
   ],
   "source": [
    "from openbb import obb\n",
    "obb.equity.ownership_institutional(symbol=\"momentum\",provider=\"fmp\")"
   ]
  },
  {
   "cell_type": "code",
   "execution_count": 63,
   "metadata": {},
   "outputs": [
    {
     "data": {
      "text/plain": [
       "True"
      ]
     },
     "execution_count": 63,
     "metadata": {},
     "output_type": "execute_result"
    }
   ],
   "source": [
    "from openbb import obb\n",
    "from dotenv import load_dotenv,find_dotenv\n",
    "load_dotenv(find_dotenv(),override=True)"
   ]
  },
  {
   "cell_type": "code",
   "execution_count": 64,
   "metadata": {},
   "outputs": [
    {
     "ename": "OpenBBError",
     "evalue": "\n[Error] -> Missing credential 'fmp_api_key'. Check https://financialmodelingprep.com to get it.",
     "output_type": "error",
     "traceback": [
      "\u001b[0;31m---------------------------------------------------------------------------\u001b[0m",
      "\u001b[0;31mOpenBBError\u001b[0m                               Traceback (most recent call last)",
      "Cell \u001b[0;32mIn[64], line 3\u001b[0m\n\u001b[1;32m      1\u001b[0m \u001b[38;5;28;01mimport\u001b[39;00m \u001b[38;5;21;01mos\u001b[39;00m\n\u001b[1;32m      2\u001b[0m \u001b[38;5;66;03m# os.environ['FMP_API_KEY'] = \"FJYqiSUKjeXn3cnjutn2pplKcWqH2fN7\"\u001b[39;00m\n\u001b[0;32m----> 3\u001b[0m \u001b[43mobb\u001b[49m\u001b[38;5;241;43m.\u001b[39;49m\u001b[43mequity\u001b[49m\u001b[38;5;241;43m.\u001b[39;49m\u001b[43mownership\u001b[49m\u001b[38;5;241;43m.\u001b[39;49m\u001b[43minstitutional\u001b[49m\u001b[43m(\u001b[49m\u001b[43msymbol\u001b[49m\u001b[38;5;241;43m=\u001b[39;49m\u001b[38;5;124;43m\"\u001b[39;49m\u001b[38;5;124;43mAAPL\u001b[39;49m\u001b[38;5;124;43m\"\u001b[39;49m\u001b[43m,\u001b[49m\u001b[43mprovider\u001b[49m\u001b[38;5;241;43m=\u001b[39;49m\u001b[38;5;124;43m\"\u001b[39;49m\u001b[38;5;124;43mfmp\u001b[39;49m\u001b[38;5;124;43m\"\u001b[39;49m\u001b[43m)\u001b[49m\n",
      "File \u001b[0;32m~/Function Calling/openbb-env/lib/python3.10/site-packages/openbb_core/app/static/utils/decorators.py:80\u001b[0m, in \u001b[0;36mexception_handler.<locals>.wrapper\u001b[0;34m(*f_args, **f_kwargs)\u001b[0m\n\u001b[1;32m     76\u001b[0m     \u001b[38;5;28;01mraise\u001b[39;00m OpenBBError(\u001b[38;5;124mf\u001b[39m\u001b[38;5;124m\"\u001b[39m\u001b[38;5;130;01m\\n\u001b[39;00m\u001b[38;5;124m[Error] -> \u001b[39m\u001b[38;5;132;01m{\u001b[39;00merror_str\u001b[38;5;132;01m}\u001b[39;00m\u001b[38;5;124m\"\u001b[39m)\u001b[38;5;241m.\u001b[39mwith_traceback(\n\u001b[1;32m     77\u001b[0m         tb\n\u001b[1;32m     78\u001b[0m     ) \u001b[38;5;28;01mfrom\u001b[39;00m \u001b[38;5;28;01mNone\u001b[39;00m\n\u001b[1;32m     79\u001b[0m \u001b[38;5;28;01mif\u001b[39;00m \u001b[38;5;28misinstance\u001b[39m(e, OpenBBError):\n\u001b[0;32m---> 80\u001b[0m     \u001b[38;5;28;01mraise\u001b[39;00m OpenBBError(\u001b[38;5;124mf\u001b[39m\u001b[38;5;124m\"\u001b[39m\u001b[38;5;130;01m\\n\u001b[39;00m\u001b[38;5;124m[Error] -> \u001b[39m\u001b[38;5;132;01m{\u001b[39;00m\u001b[38;5;28mstr\u001b[39m(e)\u001b[38;5;132;01m}\u001b[39;00m\u001b[38;5;124m\"\u001b[39m)\u001b[38;5;241m.\u001b[39mwith_traceback(tb) \u001b[38;5;28;01mfrom\u001b[39;00m \u001b[38;5;28;01mNone\u001b[39;00m\n\u001b[1;32m     81\u001b[0m \u001b[38;5;28;01mraise\u001b[39;00m OpenBBError(\u001b[38;5;124m\"\u001b[39m\u001b[38;5;130;01m\\n\u001b[39;00m\u001b[38;5;124m[Error] -> Unexpected error.\u001b[39m\u001b[38;5;124m\"\u001b[39m)\u001b[38;5;241m.\u001b[39mwith_traceback(\n\u001b[1;32m     82\u001b[0m     tb\n\u001b[1;32m     83\u001b[0m ) \u001b[38;5;28;01mfrom\u001b[39;00m \u001b[38;5;28;01mNone\u001b[39;00m\n",
      "File \u001b[0;32m~/Function Calling/openbb-env/lib/python3.10/site-packages/openbb_core/provider/query_executor.py:58\u001b[0m, in \u001b[0;36mQueryExecutor.filter_credentials\u001b[0;34m(credentials, provider, require_credentials)\u001b[0m\n\u001b[1;32m     56\u001b[0m         website \u001b[38;5;241m=\u001b[39m provider\u001b[38;5;241m.\u001b[39mwebsite \u001b[38;5;129;01mor\u001b[39;00m \u001b[38;5;124m\"\u001b[39m\u001b[38;5;124m\"\u001b[39m\n\u001b[1;32m     57\u001b[0m         extra_msg \u001b[38;5;241m=\u001b[39m \u001b[38;5;124mf\u001b[39m\u001b[38;5;124m\"\u001b[39m\u001b[38;5;124m Check \u001b[39m\u001b[38;5;132;01m{\u001b[39;00mwebsite\u001b[38;5;132;01m}\u001b[39;00m\u001b[38;5;124m to get it.\u001b[39m\u001b[38;5;124m\"\u001b[39m \u001b[38;5;28;01mif\u001b[39;00m website \u001b[38;5;28;01melse\u001b[39;00m \u001b[38;5;124m\"\u001b[39m\u001b[38;5;124m\"\u001b[39m\n\u001b[0;32m---> 58\u001b[0m         \u001b[38;5;28;01mraise\u001b[39;00m OpenBBError(\u001b[38;5;124mf\u001b[39m\u001b[38;5;124m\"\u001b[39m\u001b[38;5;124mMissing credential \u001b[39m\u001b[38;5;124m'\u001b[39m\u001b[38;5;132;01m{\u001b[39;00mc\u001b[38;5;132;01m}\u001b[39;00m\u001b[38;5;124m'\u001b[39m\u001b[38;5;124m.\u001b[39m\u001b[38;5;132;01m{\u001b[39;00mextra_msg\u001b[38;5;132;01m}\u001b[39;00m\u001b[38;5;124m\"\u001b[39m)\n\u001b[1;32m     59\u001b[0m \u001b[38;5;28;01melse\u001b[39;00m:\n\u001b[1;32m     60\u001b[0m     filtered_credentials[c] \u001b[38;5;241m=\u001b[39m secret\n",
      "\u001b[0;31mOpenBBError\u001b[0m: \n[Error] -> Missing credential 'fmp_api_key'. Check https://financialmodelingprep.com to get it."
     ]
    }
   ],
   "source": [
    "import os\n",
    "obb.equity.ownership.institutional(symbol=\"AAPL\",provider=\"fmp\")"
   ]
  },
  {
   "cell_type": "code",
   "execution_count": 11,
   "metadata": {},
   "outputs": [
    {
     "data": {
      "text/plain": [
       "'FJYqiSUKjeXn3cnjutn2pplKcWqH2fN7'"
      ]
     },
     "execution_count": 11,
     "metadata": {},
     "output_type": "execute_result"
    }
   ],
   "source": [
    "import openbb_core.env\n",
    "openbb_core.env.dotenv.get_key(dotenv_path=\".env\",key_to_get=\"FMP_API_KEY\")"
   ]
  },
  {
   "cell_type": "code",
   "execution_count": 18,
   "metadata": {},
   "outputs": [
    {
     "data": {
      "text/html": [
       "<div>\n",
       "<style scoped>\n",
       "    .dataframe tbody tr th:only-of-type {\n",
       "        vertical-align: middle;\n",
       "    }\n",
       "\n",
       "    .dataframe tbody tr th {\n",
       "        vertical-align: top;\n",
       "    }\n",
       "\n",
       "    .dataframe thead th {\n",
       "        text-align: right;\n",
       "    }\n",
       "</style>\n",
       "<table border=\"1\" class=\"dataframe\">\n",
       "  <thead>\n",
       "    <tr style=\"text-align: right;\">\n",
       "      <th></th>\n",
       "      <th>open</th>\n",
       "      <th>high</th>\n",
       "      <th>low</th>\n",
       "      <th>close</th>\n",
       "      <th>volume</th>\n",
       "      <th>split_ratio</th>\n",
       "      <th>dividend</th>\n",
       "    </tr>\n",
       "    <tr>\n",
       "      <th>date</th>\n",
       "      <th></th>\n",
       "      <th></th>\n",
       "      <th></th>\n",
       "      <th></th>\n",
       "      <th></th>\n",
       "      <th></th>\n",
       "      <th></th>\n",
       "    </tr>\n",
       "  </thead>\n",
       "  <tbody>\n",
       "    <tr>\n",
       "      <th>2023-06-01</th>\n",
       "      <td>177.699997</td>\n",
       "      <td>180.119995</td>\n",
       "      <td>176.929993</td>\n",
       "      <td>180.089996</td>\n",
       "      <td>68901800</td>\n",
       "      <td>0.0</td>\n",
       "      <td>0.0</td>\n",
       "    </tr>\n",
       "    <tr>\n",
       "      <th>2023-06-02</th>\n",
       "      <td>181.029999</td>\n",
       "      <td>181.779999</td>\n",
       "      <td>179.259995</td>\n",
       "      <td>180.949997</td>\n",
       "      <td>61945900</td>\n",
       "      <td>0.0</td>\n",
       "      <td>0.0</td>\n",
       "    </tr>\n",
       "    <tr>\n",
       "      <th>2023-06-05</th>\n",
       "      <td>182.630005</td>\n",
       "      <td>184.949997</td>\n",
       "      <td>178.039993</td>\n",
       "      <td>179.580002</td>\n",
       "      <td>121946500</td>\n",
       "      <td>0.0</td>\n",
       "      <td>0.0</td>\n",
       "    </tr>\n",
       "    <tr>\n",
       "      <th>2023-06-06</th>\n",
       "      <td>179.970001</td>\n",
       "      <td>180.119995</td>\n",
       "      <td>177.429993</td>\n",
       "      <td>179.210007</td>\n",
       "      <td>64848400</td>\n",
       "      <td>0.0</td>\n",
       "      <td>0.0</td>\n",
       "    </tr>\n",
       "    <tr>\n",
       "      <th>2023-06-07</th>\n",
       "      <td>178.440002</td>\n",
       "      <td>181.210007</td>\n",
       "      <td>177.320007</td>\n",
       "      <td>177.820007</td>\n",
       "      <td>61944600</td>\n",
       "      <td>0.0</td>\n",
       "      <td>0.0</td>\n",
       "    </tr>\n",
       "    <tr>\n",
       "      <th>...</th>\n",
       "      <td>...</td>\n",
       "      <td>...</td>\n",
       "      <td>...</td>\n",
       "      <td>...</td>\n",
       "      <td>...</td>\n",
       "      <td>...</td>\n",
       "      <td>...</td>\n",
       "    </tr>\n",
       "    <tr>\n",
       "      <th>2024-05-24</th>\n",
       "      <td>188.820007</td>\n",
       "      <td>190.580002</td>\n",
       "      <td>188.039993</td>\n",
       "      <td>189.979996</td>\n",
       "      <td>36294600</td>\n",
       "      <td>0.0</td>\n",
       "      <td>0.0</td>\n",
       "    </tr>\n",
       "    <tr>\n",
       "      <th>2024-05-28</th>\n",
       "      <td>191.509995</td>\n",
       "      <td>193.000000</td>\n",
       "      <td>189.100006</td>\n",
       "      <td>189.990005</td>\n",
       "      <td>52280100</td>\n",
       "      <td>0.0</td>\n",
       "      <td>0.0</td>\n",
       "    </tr>\n",
       "    <tr>\n",
       "      <th>2024-05-29</th>\n",
       "      <td>189.610001</td>\n",
       "      <td>192.250000</td>\n",
       "      <td>189.509995</td>\n",
       "      <td>190.289993</td>\n",
       "      <td>53068000</td>\n",
       "      <td>0.0</td>\n",
       "      <td>0.0</td>\n",
       "    </tr>\n",
       "    <tr>\n",
       "      <th>2024-05-30</th>\n",
       "      <td>190.759995</td>\n",
       "      <td>192.179993</td>\n",
       "      <td>190.630005</td>\n",
       "      <td>191.289993</td>\n",
       "      <td>49947900</td>\n",
       "      <td>0.0</td>\n",
       "      <td>0.0</td>\n",
       "    </tr>\n",
       "    <tr>\n",
       "      <th>2024-05-31</th>\n",
       "      <td>191.440002</td>\n",
       "      <td>192.570007</td>\n",
       "      <td>189.910004</td>\n",
       "      <td>192.250000</td>\n",
       "      <td>75115100</td>\n",
       "      <td>0.0</td>\n",
       "      <td>0.0</td>\n",
       "    </tr>\n",
       "  </tbody>\n",
       "</table>\n",
       "<p>252 rows × 7 columns</p>\n",
       "</div>"
      ],
      "text/plain": [
       "                  open        high         low       close     volume  \\\n",
       "date                                                                    \n",
       "2023-06-01  177.699997  180.119995  176.929993  180.089996   68901800   \n",
       "2023-06-02  181.029999  181.779999  179.259995  180.949997   61945900   \n",
       "2023-06-05  182.630005  184.949997  178.039993  179.580002  121946500   \n",
       "2023-06-06  179.970001  180.119995  177.429993  179.210007   64848400   \n",
       "2023-06-07  178.440002  181.210007  177.320007  177.820007   61944600   \n",
       "...                ...         ...         ...         ...        ...   \n",
       "2024-05-24  188.820007  190.580002  188.039993  189.979996   36294600   \n",
       "2024-05-28  191.509995  193.000000  189.100006  189.990005   52280100   \n",
       "2024-05-29  189.610001  192.250000  189.509995  190.289993   53068000   \n",
       "2024-05-30  190.759995  192.179993  190.630005  191.289993   49947900   \n",
       "2024-05-31  191.440002  192.570007  189.910004  192.250000   75115100   \n",
       "\n",
       "            split_ratio  dividend  \n",
       "date                               \n",
       "2023-06-01          0.0       0.0  \n",
       "2023-06-02          0.0       0.0  \n",
       "2023-06-05          0.0       0.0  \n",
       "2023-06-06          0.0       0.0  \n",
       "2023-06-07          0.0       0.0  \n",
       "...                 ...       ...  \n",
       "2024-05-24          0.0       0.0  \n",
       "2024-05-28          0.0       0.0  \n",
       "2024-05-29          0.0       0.0  \n",
       "2024-05-30          0.0       0.0  \n",
       "2024-05-31          0.0       0.0  \n",
       "\n",
       "[252 rows x 7 columns]"
      ]
     },
     "execution_count": 18,
     "metadata": {},
     "output_type": "execute_result"
    }
   ],
   "source": [
    "from openbb import obb\n",
    "obb.equity.price.historical(symbol=\"AAPL\",provider=\"yfinance\").to_dataframe()"
   ]
  },
  {
   "cell_type": "code",
   "execution_count": null,
   "metadata": {},
   "outputs": [],
   "source": []
  }
 ],
 "metadata": {
  "kernelspec": {
   "display_name": "openbb-env",
   "language": "python",
   "name": "python3"
  },
  "language_info": {
   "codemirror_mode": {
    "name": "ipython",
    "version": 3
   },
   "file_extension": ".py",
   "mimetype": "text/x-python",
   "name": "python",
   "nbconvert_exporter": "python",
   "pygments_lexer": "ipython3",
   "version": "3.10.12"
  }
 },
 "nbformat": 4,
 "nbformat_minor": 2
}
